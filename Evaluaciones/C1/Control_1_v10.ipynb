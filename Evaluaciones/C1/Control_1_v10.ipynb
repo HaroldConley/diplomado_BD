{
  "nbformat": 4,
  "nbformat_minor": 0,
  "metadata": {
    "colab": {
      "name": "Control_1_v10.ipynb",
      "provenance": [],
      "collapsed_sections": [],
      "include_colab_link": true
    },
    "kernelspec": {
      "name": "ir",
      "display_name": "R"
    }
  },
  "cells": [
    {
      "cell_type": "markdown",
      "metadata": {
        "id": "view-in-github",
        "colab_type": "text"
      },
      "source": [
        "<a href=\"https://colab.research.google.com/github/HaroldConley/diplomado_BD/blob/main/Evaluaciones/C1/Control_1_v10.ipynb\" target=\"_parent\"><img src=\"https://colab.research.google.com/assets/colab-badge.svg\" alt=\"Open In Colab\"/></a>"
      ]
    },
    {
      "cell_type": "markdown",
      "metadata": {
        "id": "SvIjRoDOw-lT"
      },
      "source": [
        "# Control 1: Sintaxis básica y manipulación de objetos simples en R\n"
      ]
    },
    {
      "cell_type": "markdown",
      "metadata": {
        "trusted": true,
        "id": "wGflY0eCw-lT"
      },
      "source": [
        "Nombre 1: Harold Conley M.                                                                                                                                 <br> \n",
        "Nombre 2: _Puede incluir su nombre acá haciendo doble click_   \n",
        "\n",
        "# Instrucciones\n",
        "\n",
        "El siguiente test podrá desarrollarlo de manera individual o en pareja con otro(a) de sus compañeros(as).<br>\n",
        "\n",
        "Lea atentamente cada una de las preguntas propuestas y sea claro en los comentarios (si es que los incluye) de los desarrollos de sus respuestas. Para el desarrollo de las mismas, dispone de celdas de código después de cada pregunta. Sin embargo podrá agregar más celdas si así lo estima conveniente.<br>\n",
        "Las preguntas formuladas en este test pueden ser abordadas con las herramientas trabajadas en clases, sin embaro, usted podrá hacer uso de las funcionalidades y/o packages que estime convenientes, a menos que se indique explícitamente lo contrario.\n",
        "\n",
        "## Tiempo y entrega\n",
        "Dispondrán hasta el día lunes **15 de julio** hasta las 23:59 hrs para hacer envío de sus respuestas.\n",
        "Una vez finalizado el desarrollo del test, deberá entregarlo teniendo en cuenta las siguientes consideraciones :\n",
        "\n",
        " * Descargue el notebook en **formato `*.ipynb`** (uno por pareja), e indique en el nombre del archivo los nombres de los integrantes, `Control1_nombres_integrantes.ipynb`. \n",
        " \n",
        " * En caso de trabajar en Rstudio, deberá enviar el script de extensión `*.R` con el siguiente nombre: `Control1_nombres_integrantes.R` , **procurando indicar con comentarios claros, qué pregunta está respondiendo en cada caso**.\n",
        " * Envíe el archivo al correo rumorale1@gmail.com, con copia a majorquev@gmail.com con el asunto \"DBDC-R-C1: 'nombre y apellido de los integrantes' \"\n",
        " \n",
        "**NOTA**: \n",
        "   * Los correos cuyo asunto no comiencen con \"DBDC-R-C1\" no llegarán a destino y por ende no serán calificados.\n",
        "   * Los archivos que no contengan nombre serán calificados con la nota mínima 1.0.\n",
        "   * Los correos enviados posterior a la fecha y hora de entrega indicados tendrán una penalización de 1 punto por día (o fracción) de retraso en la entrega, por ejemplo, si usted envía sus respuestas a las 00:05 hrs del domingo 16 de julio, su nota máxima será un 6.0."
      ]
    },
    {
      "cell_type": "markdown",
      "metadata": {
        "id": "CRurl8ANw-lU"
      },
      "source": [
        "# Sección 1\n",
        "\n",
        "La siguiente línea de código permite cargar en memoria, un objeto de extensión *.rds que está almacenado en el disco de la máquina en la ruta actual de trabajo.\n",
        "\n",
        "Este archivo contiene la información de los contagios por COVID-19 en nuestsro país, según las cifras oficiales entregadas por el ministerio de salud para lo que del año 2022 hasta el 22 de abril. En el archivo encontrará, para cada mes, el total de casos diarios desglosados según:\n",
        "   * 'casos_nuevos_con_sintomas': casos nuevos con síntomas del día.\n",
        "   * 'casos_totales' : casos acumulados a la fecha.\n",
        "   * 'casos_recuperados': casos recuperados acumulados a la fecha.\n",
        "   * 'fallecidos': casos fallecidos acumulados.\n",
        "   * 'casos_activos': casos activos a la fecha.\n",
        "   * 'casos_nuevos_sin_sintomas': casos asintomáticos del día.\n",
        "   * 'casos_nuevos_totales': suma de  casos asintomáticos más casos con síntomas del día, más casos nuevos sin notificar.\n",
        " \n",
        " Si bien no será utilizados en este trabajo, también econtrán nuevos registros de acuerdo a los últimos cambios en la metodología de conteo. Para más info pueden referirse al siguiente link:\n",
        " https://github.com/MinCiencia/Datos-COVID19/tree/master/output/producto5\n",
        " \n",
        "   * 'casos_activos_por_fd'\n",
        "   * 'casos_activos_por_fis'\n",
        "   * 'casos_recuperados_por_fis'\n",
        "   * 'casos_recuperados_por_fd' \n",
        "   * 'casos_confirmados_recuperados'\n",
        "   * 'casos_activos_confirmados'\n",
        "   * 'casos_probables_acumulados'\n",
        "   * 'casos_activos_probables'\n",
        "\n"
      ]
    },
    {
      "cell_type": "code",
      "source": [
        "getwd()\n",
        "library(\"dplyr\")"
      ],
      "metadata": {
        "id": "YgXBZ4zMYvXD",
        "outputId": "d8306ea5-0046-4086-d475-2aeaabac8875",
        "colab": {
          "base_uri": "https://localhost:8080/",
          "height": 277
        }
      },
      "execution_count": 7,
      "outputs": [
        {
          "output_type": "display_data",
          "data": {
            "text/html": [
              "'/content'"
            ],
            "text/markdown": "'/content'",
            "text/latex": "'/content'",
            "text/plain": [
              "[1] \"/content\""
            ]
          },
          "metadata": {}
        },
        {
          "output_type": "stream",
          "name": "stderr",
          "text": [
            "\n",
            "Attaching package: ‘dplyr’\n",
            "\n",
            "\n",
            "The following objects are masked from ‘package:stats’:\n",
            "\n",
            "    filter, lag\n",
            "\n",
            "\n",
            "The following objects are masked from ‘package:base’:\n",
            "\n",
            "    intersect, setdiff, setequal, union\n",
            "\n",
            "\n"
          ]
        }
      ]
    },
    {
      "cell_type": "code",
      "metadata": {
        "trusted": true,
        "id": "UejLBfGIw-lV",
        "colab": {
          "base_uri": "https://localhost:8080/"
        },
        "outputId": "2000b821-b8a8-47e0-c07e-ee87a2105808"
      },
      "source": [
        "# Carga de casos\n",
        "casos <- readRDS(\"covid_2022.rds\") # Recuerde que el archivo de estar en su directorio de trabajo\n",
        "casos %>% str()"
      ],
      "execution_count": 17,
      "outputs": [
        {
          "output_type": "stream",
          "name": "stdout",
          "text": [
            "List of 4\n",
            " $ ene:List of 21\n",
            "  ..$ casos_activos                                   :'data.frame':\t31 obs. of  2 variables:\n",
            "  .. ..$ dia_del_mes: num [1:31] 1 2 3 4 5 6 7 8 9 10 ...\n",
            "  .. ..$ total      : num [1:31] 9489 10169 9995 9843 10677 ...\n",
            "  ..$ casos_activos_confirmados                       :'data.frame':\t31 obs. of  2 variables:\n",
            "  .. ..$ dia_del_mes: num [1:31] 1 2 3 4 5 6 7 8 9 10 ...\n",
            "  .. ..$ total      : num [1:31] 9489 10169 9995 9843 10677 ...\n",
            "  ..$ casos_activos_por_fd                            :'data.frame':\t31 obs. of  2 variables:\n",
            "  .. ..$ dia_del_mes: num [1:31] 1 2 3 4 5 6 7 8 9 10 ...\n",
            "  .. ..$ total      : num [1:31] 17874 18526 18395 18562 19438 ...\n",
            "  ..$ casos_activos_por_fis                           :'data.frame':\t31 obs. of  2 variables:\n",
            "  .. ..$ dia_del_mes: num [1:31] 1 2 3 4 5 6 7 8 9 10 ...\n",
            "  .. ..$ total      : num [1:31] 9489 10169 9995 9843 10677 ...\n",
            "  ..$ casos_activos_probables                         :'data.frame':\t31 obs. of  2 variables:\n",
            "  .. ..$ dia_del_mes: num [1:31] 1 2 3 4 5 6 7 8 9 10 ...\n",
            "  .. ..$ total      : num [1:31] 25 24 25 23 23 28 33 28 33 42 ...\n",
            "  ..$ casos_con_sospecha_de_reinfeccion               :'data.frame':\t31 obs. of  2 variables:\n",
            "  .. ..$ dia_del_mes: num [1:31] 1 2 3 4 5 6 7 8 9 10 ...\n",
            "  .. ..$ total      : num [1:31] 2257 2263 2275 2280 2295 ...\n",
            "  ..$ casos_confirmados_por_antigeno                  :'data.frame':\t31 obs. of  2 variables:\n",
            "  .. ..$ dia_del_mes: num [1:31] 1 2 3 4 5 6 7 8 9 10 ...\n",
            "  .. ..$ total      : num [1:31] 96684 96869 96995 97235 97696 ...\n",
            "  ..$ casos_confirmados_recuperados                   :'data.frame':\t31 obs. of  2 variables:\n",
            "  .. ..$ dia_del_mes: num [1:31] 1 2 3 4 5 6 7 8 9 10 ...\n",
            "  .. ..$ total      : num [1:31] 1754104 1755273 1756412 1757601 1758607 ...\n",
            "  ..$ casos_nuevos_con_sintomas                       :'data.frame':\t31 obs. of  2 variables:\n",
            "  .. ..$ dia_del_mes: num [1:31] 1 2 3 4 5 6 7 8 9 10 ...\n",
            "  .. ..$ total      : num [1:31] 1059 808 455 593 998 ...\n",
            "  ..$ casos_nuevos_confirmados_por_antigeno           :'data.frame':\t31 obs. of  2 variables:\n",
            "  .. ..$ dia_del_mes: num [1:31] 1 2 3 4 5 6 7 8 9 10 ...\n",
            "  .. ..$ total      : num [1:31] 341 198 135 248 478 641 680 735 665 646 ...\n",
            "  ..$ casos_nuevos_sin_notificar                      :'data.frame':\t31 obs. of  2 variables:\n",
            "  .. ..$ dia_del_mes: num [1:31] 1 2 3 4 5 6 7 8 9 10 ...\n",
            "  .. ..$ total      : num [1:31] 498 604 319 317 581 ...\n",
            "  ..$ casos_nuevos_sin_sintomas                       :'data.frame':\t31 obs. of  2 variables:\n",
            "  .. ..$ dia_del_mes: num [1:31] 1 2 3 4 5 6 7 8 9 10 ...\n",
            "  .. ..$ total      : num [1:31] 373 509 231 148 279 678 893 772 781 763 ...\n",
            "  ..$ casos_nuevos_totales                            :'data.frame':\t31 obs. of  2 variables:\n",
            "  .. ..$ dia_del_mes: num [1:31] 1 2 3 4 5 6 7 8 9 10 ...\n",
            "  .. ..$ total      : num [1:31] 1930 1921 1005 1058 1858 ...\n",
            "  ..$ casos_probables_acumulados                      :'data.frame':\t31 obs. of  2 variables:\n",
            "  .. ..$ dia_del_mes: num [1:31] 1 2 3 4 5 6 7 8 9 10 ...\n",
            "  .. ..$ total      : num [1:31] 353221 353197 353178 353169 353132 ...\n",
            "  ..$ casos_recuperados                               :'data.frame':\t31 obs. of  2 variables:\n",
            "  .. ..$ dia_del_mes: num [1:31] 1 2 3 4 5 6 7 8 9 10 ...\n",
            "  .. ..$ total      : num [1:31] NA NA NA NA NA NA NA NA NA NA ...\n",
            "  ..$ casos_recuperados_por_fd                        :'data.frame':\t31 obs. of  2 variables:\n",
            "  .. ..$ dia_del_mes: num [1:31] 1 2 3 4 5 6 7 8 9 10 ...\n",
            "  .. ..$ total      : num [1:31] 1751384 1752614 1753729 1754612 1755573 ...\n",
            "  ..$ casos_recuperados_por_fis                       :'data.frame':\t31 obs. of  2 variables:\n",
            "  .. ..$ dia_del_mes: num [1:31] 1 2 3 4 5 6 7 8 9 10 ...\n",
            "  .. ..$ total      : num [1:31] 1759769 1760971 1762129 1763331 1764334 ...\n",
            "  ..$ casos_totales                                   :'data.frame':\t31 obs. of  2 variables:\n",
            "  .. ..$ dia_del_mes: num [1:31] 1 2 3 4 5 6 7 8 9 10 ...\n",
            "  .. ..$ total      : num [1:31] 1808398 1810302 1811297 1812348 1814188 ...\n",
            "  ..$ fallecidos                                      :'data.frame':\t31 obs. of  2 variables:\n",
            "  .. ..$ dia_del_mes: num [1:31] 1 2 3 4 5 6 7 8 9 10 ...\n",
            "  .. ..$ total      : num [1:31] 39140 39162 39173 39174 39177 ...\n",
            "  ..$ fallecidos_confirmados_totales                  :'data.frame':\t31 obs. of  2 variables:\n",
            "  .. ..$ dia_del_mes: num [1:31] 1 2 3 4 5 6 7 8 9 10 ...\n",
            "  .. ..$ total      : num [1:31] NA NA NA NA NA NA NA NA NA NA ...\n",
            "  ..$ fallecidos_sospechosos_probables_u_otros_totales:'data.frame':\t31 obs. of  2 variables:\n",
            "  .. ..$ dia_del_mes: num [1:31] 1 2 3 4 5 6 7 8 9 10 ...\n",
            "  .. ..$ total      : num [1:31] NA NA NA NA NA NA NA NA NA NA ...\n",
            " $ feb:List of 21\n",
            "  ..$ casos_activos                                   :'data.frame':\t28 obs. of  2 variables:\n",
            "  .. ..$ dia_del_mes: num [1:28] 1 2 3 4 5 6 7 8 9 10 ...\n",
            "  .. ..$ total      : num [1:28] 113734 112804 118427 125857 131295 ...\n",
            "  ..$ casos_activos_confirmados                       :'data.frame':\t28 obs. of  2 variables:\n",
            "  .. ..$ dia_del_mes: num [1:28] 1 2 3 4 5 6 7 8 9 10 ...\n",
            "  .. ..$ total      : num [1:28] 113734 112804 118427 125857 131295 ...\n",
            "  ..$ casos_activos_por_fd                            :'data.frame':\t28 obs. of  2 variables:\n",
            "  .. ..$ dia_del_mes: num [1:28] 1 2 3 4 5 6 7 8 9 10 ...\n",
            "  .. ..$ total      : num [1:28] 297446 318619 341483 362508 385359 ...\n",
            "  ..$ casos_activos_por_fis                           :'data.frame':\t28 obs. of  2 variables:\n",
            "  .. ..$ dia_del_mes: num [1:28] 1 2 3 4 5 6 7 8 9 10 ...\n",
            "  .. ..$ total      : num [1:28] 113734 112804 118427 125857 131295 ...\n",
            "  ..$ casos_activos_probables                         :'data.frame':\t28 obs. of  2 variables:\n",
            "  .. ..$ dia_del_mes: num [1:28] 1 2 3 4 5 6 7 8 9 10 ...\n",
            "  .. ..$ total      : num [1:28] 64 64 67 49 50 58 54 51 47 32 ...\n",
            "  ..$ casos_con_sospecha_de_reinfeccion               :'data.frame':\t28 obs. of  2 variables:\n",
            "  .. ..$ dia_del_mes: num [1:28] 1 2 3 4 5 6 7 8 9 10 ...\n",
            "  .. ..$ total      : num [1:28] 6675 6944 7278 7614 7965 ...\n",
            "  ..$ casos_confirmados_por_antigeno                  :'data.frame':\t28 obs. of  2 variables:\n",
            "  .. ..$ dia_del_mes: num [1:28] 1 2 3 4 5 6 7 8 9 10 ...\n",
            "  .. ..$ total      : num [1:28] 180644 190765 201328 212462 223162 ...\n",
            "  ..$ casos_confirmados_recuperados                   :'data.frame':\t28 obs. of  2 variables:\n",
            "  .. ..$ dia_del_mes: num [1:28] 1 2 3 4 5 6 7 8 9 10 ...\n",
            "  .. ..$ total      : num [1:28] 2030468 2062092 2093059 2124250 2157039 ...\n",
            "  ..$ casos_nuevos_con_sintomas                       :'data.frame':\t28 obs. of  2 variables:\n",
            "  .. ..$ dia_del_mes: num [1:28] 1 2 3 4 5 6 7 8 9 10 ...\n",
            "  .. ..$ total      : num [1:28] 13374 19192 19439 21103 20700 ...\n",
            "  ..$ casos_nuevos_confirmados_por_antigeno           :'data.frame':\t28 obs. of  2 variables:\n",
            "  .. ..$ dia_del_mes: num [1:28] 1 2 3 4 5 6 7 8 9 10 ...\n",
            "  .. ..$ total      : num [1:28] 5927 10165 10610 11176 10744 ...\n",
            "  ..$ casos_nuevos_sin_notificar                      :'data.frame':\t28 obs. of  2 variables:\n",
            "  .. ..$ dia_del_mes: num [1:28] 1 2 3 4 5 6 7 8 9 10 ...\n",
            "  .. ..$ total      : num [1:28] 6532 7843 11272 11663 10744 ...\n",
            "  ..$ casos_nuevos_sin_sintomas                       :'data.frame':\t28 obs. of  2 variables:\n",
            "  .. ..$ dia_del_mes: num [1:28] 1 2 3 4 5 6 7 8 9 10 ...\n",
            "  .. ..$ total      : num [1:28] 2286 2809 4486 4702 4853 ...\n",
            "  ..$ casos_nuevos_totales                            :'data.frame':\t28 obs. of  2 variables:\n",
            "  .. ..$ dia_del_mes: num [1:28] 1 2 3 4 5 6 7 8 9 10 ...\n",
            "  .. ..$ total      : num [1:28] 22192 29844 35197 37468 36297 ...\n",
            "  ..$ casos_probables_acumulados                      :'data.frame':\t28 obs. of  2 variables:\n",
            "  .. ..$ dia_del_mes: num [1:28] 1 2 3 4 5 6 7 8 9 10 ...\n",
            "  .. ..$ total      : num [1:28] 354240 354244 354265 354251 354254 ...\n",
            "  ..$ casos_recuperados                               :'data.frame':\t28 obs. of  2 variables:\n",
            "  .. ..$ dia_del_mes: num [1:28] 1 2 3 4 5 6 7 8 9 10 ...\n",
            "  .. ..$ total      : num [1:28] NA NA NA NA NA NA NA NA NA NA ...\n",
            "  ..$ casos_recuperados_por_fd                        :'data.frame':\t28 obs. of  2 variables:\n",
            "  .. ..$ dia_del_mes: num [1:28] 1 2 3 4 5 6 7 8 9 10 ...\n",
            "  .. ..$ total      : num [1:28] 1853382 1862915 1876698 1894337 1909745 ...\n",
            "  ..$ casos_recuperados_por_fis                       :'data.frame':\t28 obs. of  2 variables:\n",
            "  .. ..$ dia_del_mes: num [1:28] 1 2 3 4 5 6 7 8 9 10 ...\n",
            "  .. ..$ total      : num [1:28] 2037094 2068730 2099754 2130988 2163809 ...\n",
            "  ..$ casos_totales                                   :'data.frame':\t28 obs. of  2 variables:\n",
            "  .. ..$ dia_del_mes: num [1:28] 1 2 3 4 5 6 7 8 9 10 ...\n",
            "  .. ..$ total      : num [1:28] 2190561 2221276 2258005 2296712 2335034 ...\n",
            "  ..$ fallecidos                                      :'data.frame':\t28 obs. of  2 variables:\n",
            "  .. ..$ dia_del_mes: num [1:28] 1 2 3 4 5 6 7 8 9 10 ...\n",
            "  .. ..$ total      : num [1:28] 39733 39742 39824 39867 39930 ...\n",
            "  ..$ fallecidos_confirmados_totales                  :'data.frame':\t28 obs. of  2 variables:\n",
            "  .. ..$ dia_del_mes: num [1:28] 1 2 3 4 5 6 7 8 9 10 ...\n",
            "  .. ..$ total      : num [1:28] NA NA NA NA NA NA NA NA NA NA ...\n",
            "  ..$ fallecidos_sospechosos_probables_u_otros_totales:'data.frame':\t28 obs. of  2 variables:\n",
            "  .. ..$ dia_del_mes: num [1:28] 1 2 3 4 5 6 7 8 9 10 ...\n",
            "  .. ..$ total      : num [1:28] NA NA NA NA NA NA NA NA NA NA ...\n",
            " $ mar:List of 21\n",
            "  ..$ casos_activos                                   :'data.frame':\t31 obs. of  2 variables:\n",
            "  .. ..$ dia_del_mes: num [1:31] 1 2 3 4 5 6 7 8 9 10 ...\n",
            "  .. ..$ total      : num [1:31] 98421 91717 91035 90479 88933 ...\n",
            "  ..$ casos_activos_confirmados                       :'data.frame':\t31 obs. of  2 variables:\n",
            "  .. ..$ dia_del_mes: num [1:31] 1 2 3 4 5 6 7 8 9 10 ...\n",
            "  .. ..$ total      : num [1:31] 98421 91717 91035 90479 88933 ...\n",
            "  ..$ casos_activos_por_fd                            :'data.frame':\t31 obs. of  2 variables:\n",
            "  .. ..$ dia_del_mes: num [1:31] 1 2 3 4 5 6 7 8 9 10 ...\n",
            "  .. ..$ total      : num [1:31] 398599 388256 375250 363976 349089 ...\n",
            "  ..$ casos_activos_por_fis                           :'data.frame':\t31 obs. of  2 variables:\n",
            "  .. ..$ dia_del_mes: num [1:31] 1 2 3 4 5 6 7 8 9 10 ...\n",
            "  .. ..$ total      : num [1:31] 98421 91717 91035 90479 88933 ...\n",
            "  ..$ casos_activos_probables                         :'data.frame':\t31 obs. of  2 variables:\n",
            "  .. ..$ dia_del_mes: num [1:31] 1 2 3 4 5 6 7 8 9 10 ...\n",
            "  .. ..$ total      : num [1:31] 30 33 27 32 26 24 23 23 22 21 ...\n",
            "  ..$ casos_con_sospecha_de_reinfeccion               :'data.frame':\t31 obs. of  2 variables:\n",
            "  .. ..$ dia_del_mes: num [1:31] 1 2 3 4 5 6 7 8 9 10 ...\n",
            "  .. ..$ total      : num [1:31] 14307 14793 15008 15231 15463 ...\n",
            "  ..$ casos_confirmados_por_antigeno                  :'data.frame':\t31 obs. of  2 variables:\n",
            "  .. ..$ dia_del_mes: num [1:31] 1 2 3 4 5 6 7 8 9 10 ...\n",
            "  .. ..$ total      : num [1:31] 428341 437844 445594 453136 460150 ...\n",
            "  ..$ casos_confirmados_recuperados                   :'data.frame':\t31 obs. of  2 variables:\n",
            "  .. ..$ dia_del_mes: num [1:31] 1 2 3 4 5 6 7 8 9 10 ...\n",
            "  .. ..$ total      : num [1:31] 2927793 2956270 2981315 3006337 3028599 ...\n",
            "  ..$ casos_nuevos_con_sintomas                       :'data.frame':\t31 obs. of  2 variables:\n",
            "  .. ..$ dia_del_mes: num [1:31] 1 2 3 4 5 6 7 8 9 10 ...\n",
            "  .. ..$ total      : num [1:31] 9239 13074 13531 13195 11882 ...\n",
            "  ..$ casos_nuevos_confirmados_por_antigeno           :'data.frame':\t31 obs. of  2 variables:\n",
            "  .. ..$ dia_del_mes: num [1:31] 1 2 3 4 5 6 7 8 9 10 ...\n",
            "  .. ..$ total      : num [1:31] 4583 9508 7754 7553 7018 ...\n",
            "  ..$ casos_nuevos_sin_notificar                      :'data.frame':\t31 obs. of  2 variables:\n",
            "  .. ..$ dia_del_mes: num [1:31] 1 2 3 4 5 6 7 8 9 10 ...\n",
            "  .. ..$ total      : num [1:31] 3517 4908 6258 6692 5774 ...\n",
            "  ..$ casos_nuevos_sin_sintomas                       :'data.frame':\t31 obs. of  2 variables:\n",
            "  .. ..$ dia_del_mes: num [1:31] 1 2 3 4 5 6 7 8 9 10 ...\n",
            "  .. ..$ total      : num [1:31] 1172 2418 3606 3245 2847 ...\n",
            "  ..$ casos_nuevos_totales                            :'data.frame':\t31 obs. of  2 variables:\n",
            "  .. ..$ dia_del_mes: num [1:31] 1 2 3 4 5 6 7 8 9 10 ...\n",
            "  .. ..$ total      : num [1:31] 13928 20400 23395 23132 20503 ...\n",
            "  ..$ casos_probables_acumulados                      :'data.frame':\t31 obs. of  2 variables:\n",
            "  .. ..$ dia_del_mes: num [1:31] 1 2 3 4 5 6 7 8 9 10 ...\n",
            "  .. ..$ total      : num [1:31] 354106 354110 354105 354099 354100 ...\n",
            "  ..$ casos_recuperados                               :'data.frame':\t31 obs. of  2 variables:\n",
            "  .. ..$ dia_del_mes: num [1:31] 1 2 3 4 5 6 7 8 9 10 ...\n",
            "  .. ..$ total      : num [1:31] NA NA NA NA NA NA NA NA NA NA ...\n",
            "  ..$ casos_recuperados_por_fd                        :'data.frame':\t31 obs. of  2 variables:\n",
            "  .. ..$ dia_del_mes: num [1:31] 1 2 3 4 5 6 7 8 9 10 ...\n",
            "  .. ..$ total      : num [1:31] 2635311 2667443 2704869 2740649 2776291 ...\n",
            "  ..$ casos_recuperados_por_fis                       :'data.frame':\t31 obs. of  2 variables:\n",
            "  .. ..$ dia_del_mes: num [1:31] 1 2 3 4 5 6 7 8 9 10 ...\n",
            "  .. ..$ total      : num [1:31] 2935489 2963982 2989084 3014146 3036447 ...\n",
            "  ..$ casos_totales                                   :'data.frame':\t31 obs. of  2 variables:\n",
            "  .. ..$ dia_del_mes: num [1:31] 1 2 3 4 5 6 7 8 9 10 ...\n",
            "  .. ..$ total      : num [1:31] 3076291 3098110 3122802 3147434 3168335 ...\n",
            "  ..$ fallecidos                                      :'data.frame':\t31 obs. of  2 variables:\n",
            "  .. ..$ dia_del_mes: num [1:31] 1 2 3 4 5 6 7 8 9 10 ...\n",
            "  .. ..$ total      : num [1:31] 42381 42411 42683 42809 42955 ...\n",
            "  ..$ fallecidos_confirmados_totales                  :'data.frame':\t31 obs. of  2 variables:\n",
            "  .. ..$ dia_del_mes: num [1:31] 1 2 3 4 5 6 7 8 9 10 ...\n",
            "  .. ..$ total      : num [1:31] NA NA NA NA NA NA NA NA NA NA ...\n",
            "  ..$ fallecidos_sospechosos_probables_u_otros_totales:'data.frame':\t31 obs. of  2 variables:\n",
            "  .. ..$ dia_del_mes: num [1:31] 1 2 3 4 5 6 7 8 9 10 ...\n",
            "  .. ..$ total      : num [1:31] NA NA NA NA NA NA NA NA NA NA ...\n",
            " $ abr:List of 21\n",
            "  ..$ casos_activos                                   :'data.frame':\t22 obs. of  2 variables:\n",
            "  .. ..$ dia_del_mes: num [1:22] 1 2 3 4 5 6 7 8 9 10 ...\n",
            "  .. ..$ total      : num [1:22] 23823 23031 22802 21830 17451 ...\n",
            "  ..$ casos_activos_confirmados                       :'data.frame':\t22 obs. of  2 variables:\n",
            "  .. ..$ dia_del_mes: num [1:22] 1 2 3 4 5 6 7 8 9 10 ...\n",
            "  .. ..$ total      : num [1:22] 23823 23031 22802 21830 17451 ...\n",
            "  ..$ casos_activos_por_fd                            :'data.frame':\t22 obs. of  2 variables:\n",
            "  .. ..$ dia_del_mes: num [1:22] 1 2 3 4 5 6 7 8 9 10 ...\n",
            "  .. ..$ total      : num [1:22] 108210 100494 93675 88768 85422 ...\n",
            "  ..$ casos_activos_por_fis                           :'data.frame':\t22 obs. of  2 variables:\n",
            "  .. ..$ dia_del_mes: num [1:22] 1 2 3 4 5 6 7 8 9 10 ...\n",
            "  .. ..$ total      : num [1:22] 23823 23031 22802 21830 17451 ...\n",
            "  ..$ casos_activos_probables                         :'data.frame':\t22 obs. of  2 variables:\n",
            "  .. ..$ dia_del_mes: num [1:22] 1 2 3 4 5 6 7 8 9 10 ...\n",
            "  .. ..$ total      : num [1:22] 44 24 18 22 25 20 18 15 13 11 ...\n",
            "  ..$ casos_con_sospecha_de_reinfeccion               :'data.frame':\t22 obs. of  2 variables:\n",
            "  .. ..$ dia_del_mes: num [1:22] 1 2 3 4 5 6 7 8 9 10 ...\n",
            "  .. ..$ total      : num [1:22] 18450 18489 18548 18589 18600 ...\n",
            "  ..$ casos_confirmados_por_antigeno                  :'data.frame':\t22 obs. of  2 variables:\n",
            "  .. ..$ dia_del_mes: num [1:22] 1 2 3 4 5 6 7 8 9 10 ...\n",
            "  .. ..$ total      : num [1:22] 566014 567516 568832 569567 570269 ...\n",
            "  ..$ casos_confirmados_recuperados                   :'data.frame':\t22 obs. of  2 variables:\n",
            "  .. ..$ dia_del_mes: num [1:22] 1 2 3 4 5 6 7 8 9 10 ...\n",
            "  .. ..$ total      : num [1:22] 3398749 3404695 3409277 3413395 3419823 ...\n",
            "  ..$ casos_nuevos_con_sintomas                       :'data.frame':\t22 obs. of  2 variables:\n",
            "  .. ..$ dia_del_mes: num [1:22] 1 2 3 4 5 6 7 8 9 10 ...\n",
            "  .. ..$ total      : num [1:22] 3157 2721 2499 1505 1309 ...\n",
            "  ..$ casos_nuevos_confirmados_por_antigeno           :'data.frame':\t22 obs. of  2 variables:\n",
            "  .. ..$ dia_del_mes: num [1:22] 1 2 3 4 5 6 7 8 9 10 ...\n",
            "  .. ..$ total      : num [1:22] 1723 1512 1313 736 703 ...\n",
            "  ..$ casos_nuevos_sin_notificar                      :'data.frame':\t22 obs. of  2 variables:\n",
            "  .. ..$ dia_del_mes: num [1:22] 1 2 3 4 5 6 7 8 9 10 ...\n",
            "  .. ..$ total      : num [1:22] 1539 1166 960 873 402 ...\n",
            "  ..$ casos_nuevos_sin_sintomas                       :'data.frame':\t22 obs. of  2 variables:\n",
            "  .. ..$ dia_del_mes: num [1:22] 1 2 3 4 5 6 7 8 9 10 ...\n",
            "  .. ..$ total      : num [1:22] 868 936 689 333 221 474 800 597 585 567 ...\n",
            "  ..$ casos_nuevos_totales                            :'data.frame':\t22 obs. of  2 variables:\n",
            "  .. ..$ dia_del_mes: num [1:22] 1 2 3 4 5 6 7 8 9 10 ...\n",
            "  .. ..$ total      : num [1:22] 5564 4823 4148 2711 1932 ...\n",
            "  ..$ casos_probables_acumulados                      :'data.frame':\t22 obs. of  2 variables:\n",
            "  .. ..$ dia_del_mes: num [1:22] 1 2 3 4 5 6 7 8 9 10 ...\n",
            "  .. ..$ total      : num [1:22] 353916 353888 353890 353898 353907 ...\n",
            "  ..$ casos_recuperados                               :'data.frame':\t22 obs. of  2 variables:\n",
            "  .. ..$ dia_del_mes: num [1:22] 1 2 3 4 5 6 7 8 9 10 ...\n",
            "  .. ..$ total      : num [1:22] NA NA NA NA NA NA NA NA NA NA ...\n",
            "  ..$ casos_recuperados_por_fd                        :'data.frame':\t22 obs. of  2 variables:\n",
            "  .. ..$ dia_del_mes: num [1:22] 1 2 3 4 5 6 7 8 9 10 ...\n",
            "  .. ..$ total      : num [1:22] 3312067 3324992 3336228 3344347 3349731 ...\n",
            "  ..$ casos_recuperados_por_fis                       :'data.frame':\t22 obs. of  2 variables:\n",
            "  .. ..$ dia_del_mes: num [1:22] 1 2 3 4 5 6 7 8 9 10 ...\n",
            "  .. ..$ total      : num [1:22] 3396454 3402455 3407101 3411285 3417702 ...\n",
            "  ..$ casos_totales                                   :'data.frame':\t22 obs. of  2 variables:\n",
            "  .. ..$ dia_del_mes: num [1:22] 1 2 3 4 5 6 7 8 9 10 ...\n",
            "  .. ..$ total      : num [1:22] 3476914 3482175 3486653 3489913 3491962 ...\n",
            "  ..$ fallecidos                                      :'data.frame':\t22 obs. of  2 variables:\n",
            "  .. ..$ dia_del_mes: num [1:22] 1 2 3 4 5 6 7 8 9 10 ...\n",
            "  .. ..$ total      : num [1:22] 56637 56689 56750 56798 56809 ...\n",
            "  ..$ fallecidos_confirmados_totales                  :'data.frame':\t22 obs. of  2 variables:\n",
            "  .. ..$ dia_del_mes: num [1:22] 1 2 3 4 5 6 7 8 9 10 ...\n",
            "  .. ..$ total      : num [1:22] 45254 45302 45363 45410 45420 ...\n",
            "  ..$ fallecidos_sospechosos_probables_u_otros_totales:'data.frame':\t22 obs. of  2 variables:\n",
            "  .. ..$ dia_del_mes: num [1:22] 1 2 3 4 5 6 7 8 9 10 ...\n",
            "  .. ..$ total      : num [1:22] 11383 11387 11387 11388 11389 ...\n"
          ]
        }
      ]
    },
    {
      "cell_type": "markdown",
      "metadata": {
        "id": "ftnV7vyIw-lY"
      },
      "source": [
        "## Pregunta 1.1\n",
        "\n",
        "**1a) (1pt)** ¿Qué clase de objetos es `casos`? <br>\n",
        "**1b) (1pt)** ¿Cuántos elementos posee este objeto?<br>\n",
        "**1c) (1pt)** ¿Cuáles son los nombres de este objeto?<br>\n",
        "**1d) (2pt)** ¿Qué clase de objeto está almacenado en sl _slot_ correspondiente al mes de marzo (\"mar\") y cuántos elementos posee?<br>\n",
        "**1e) (2pt)** Para el mes de marzo, ¿a qué clase de objeto corresponde `casos_totales` y cuántos elementos posee?\n",
        "\n",
        "\n"
      ]
    },
    {
      "cell_type": "code",
      "metadata": {
        "trusted": true,
        "scrolled": false,
        "id": "F73UhWWow-lY",
        "colab": {
          "base_uri": "https://localhost:8080/",
          "height": 139
        },
        "outputId": "2cb56b6a-b46d-40bd-bdda-e63569df55bb"
      },
      "source": [
        "# P1.1\n",
        "## Respuesta\n",
        "\n",
        "### 1a)\n",
        "casos %>% class() ## Clase \"list\"\n",
        "\n",
        "### 1b)\n",
        "casos %>% length() ## Son 4 elementos\n",
        "\n",
        "### 1c)\n",
        "casos %>% names() ## 'ene', 'feb', 'mar', 'abr'\n",
        "\n",
        "### 1d)\n",
        "casos$mar %>% class() ## 'list'\n",
        "casos$mar %>% length() ## 21 elementos\n",
        "\n",
        "### 1e)\n",
        "casos$mar$casos_totales %>% class() ## 'data.frame'\n",
        "casos$mar$casos_totales %>% length() ## 2 elementos"
      ],
      "execution_count": 24,
      "outputs": [
        {
          "output_type": "display_data",
          "data": {
            "text/html": [
              "'list'"
            ],
            "text/markdown": "'list'",
            "text/latex": "'list'",
            "text/plain": [
              "[1] \"list\""
            ]
          },
          "metadata": {}
        },
        {
          "output_type": "display_data",
          "data": {
            "text/html": [
              "4"
            ],
            "text/markdown": "4",
            "text/latex": "4",
            "text/plain": [
              "[1] 4"
            ]
          },
          "metadata": {}
        },
        {
          "output_type": "display_data",
          "data": {
            "text/html": [
              "<style>\n",
              ".list-inline {list-style: none; margin:0; padding: 0}\n",
              ".list-inline>li {display: inline-block}\n",
              ".list-inline>li:not(:last-child)::after {content: \"\\00b7\"; padding: 0 .5ex}\n",
              "</style>\n",
              "<ol class=list-inline><li>'ene'</li><li>'feb'</li><li>'mar'</li><li>'abr'</li></ol>\n"
            ],
            "text/markdown": "1. 'ene'\n2. 'feb'\n3. 'mar'\n4. 'abr'\n\n\n",
            "text/latex": "\\begin{enumerate*}\n\\item 'ene'\n\\item 'feb'\n\\item 'mar'\n\\item 'abr'\n\\end{enumerate*}\n",
            "text/plain": [
              "[1] \"ene\" \"feb\" \"mar\" \"abr\""
            ]
          },
          "metadata": {}
        },
        {
          "output_type": "display_data",
          "data": {
            "text/html": [
              "'list'"
            ],
            "text/markdown": "'list'",
            "text/latex": "'list'",
            "text/plain": [
              "[1] \"list\""
            ]
          },
          "metadata": {}
        },
        {
          "output_type": "display_data",
          "data": {
            "text/html": [
              "21"
            ],
            "text/markdown": "21",
            "text/latex": "21",
            "text/plain": [
              "[1] 21"
            ]
          },
          "metadata": {}
        },
        {
          "output_type": "display_data",
          "data": {
            "text/html": [
              "'data.frame'"
            ],
            "text/markdown": "'data.frame'",
            "text/latex": "'data.frame'",
            "text/plain": [
              "[1] \"data.frame\""
            ]
          },
          "metadata": {}
        },
        {
          "output_type": "display_data",
          "data": {
            "text/html": [
              "2"
            ],
            "text/markdown": "2",
            "text/latex": "2",
            "text/plain": [
              "[1] 2"
            ]
          },
          "metadata": {}
        }
      ]
    },
    {
      "cell_type": "markdown",
      "metadata": {
        "id": "y-VJ9lcnw-lb"
      },
      "source": [
        "## Pregunta 1.2\n",
        "\n",
        "**2a) (2pts)** ¿Cuántos casos activos existían al 25 de marzo? (indique claramente la expresión de R para obtener el valor solicitado) .<br>\n",
        "**2b) (1pts)** Genere cuatro nuevas variables llamadas `totales_enero`,`totales_febrero` , `totales_marzo` y `totales_abril`, que contengan los dataframes correspondientes al slot `casos_totales` del mes respectivo, (por ejemplo, la variable `totales_marzo` debe contener una dataframe de dimensión $31\\times2$.<br>\n",
        "**2c) (2pts)** Para cada dataframe del paso anterior, genere una nueva columna llamada `mes`, que repita el nombre del mes correspondiente por cada fila.<br>\n",
        "**2d) (3pts)** En cada data.frame, agregue una nueva columna llamada `casos_diarios` que contenga la información correspontiende al total de casos nuevos diarios(`casos_nuevos_totales`).\n",
        "**NOTA:** Note que el orden de los registros está dado por dia_del_mes por lo que no debe preocuparse de reordnar, sólo agregue el vector tal cual está.\n"
      ]
    },
    {
      "cell_type": "code",
      "metadata": {
        "trusted": true,
        "id": "tF3DCzGew-lc"
      },
      "source": [
        "# P1.2\n",
        "## Respusta \n",
        " "
      ],
      "execution_count": null,
      "outputs": []
    },
    {
      "cell_type": "markdown",
      "metadata": {
        "id": "PImL58HIw-le"
      },
      "source": [
        "## Pregunta 1.3\n",
        "\n",
        "**3a) (1pts)** Con la ayuda de la función rbind() (también puede usar bind_rows()) , una las filas de las 4 tablas generadas en la pregunta anterior y guarde la tabla resultante en una variable llamada `casos_hist`.<br>\n",
        "**3b) (1pt)** En promedio, ¿Cuántos casos hay diariamente desde el 01 de enero hasta el 22 de abril del 2022?<br>\n",
        "**3c) (2pts)** En promedio, ¿Cuántos casos hay diariamente **en cada mes** ?.<br>\n",
        "\n",
        "\n"
      ]
    },
    {
      "cell_type": "code",
      "metadata": {
        "trusted": true,
        "id": "TnNTW_oUw-le"
      },
      "source": [
        "# P1.3\n",
        "## Respusta \n"
      ],
      "execution_count": null,
      "outputs": []
    },
    {
      "cell_type": "markdown",
      "metadata": {
        "id": "NE8I2vkrw-lg"
      },
      "source": [
        "# Sección 2\n",
        "\n",
        "La siguiente celda de código permitirá cargar en su sesión de trabajo los siguientes vectores:\n",
        "* `temp_h`: Contiene el registro de la temperatura para una muestra de 650 hombres escogidos al azar.\n",
        "* `temp_m`: Contiene el registro de la temperatura para una muestra de 580 mujeres escogidas al azar.\n",
        "\n",
        "\n",
        "En ambos vectores, **los identificadores (id) de cada persona están contenidos en el atributo `names()`** del vector respectivo."
      ]
    },
    {
      "cell_type": "markdown",
      "metadata": {
        "id": "VsA3r8thw-lj"
      },
      "source": [
        "##  Pregunta 2.1\n",
        "\n",
        "**P1) (4pts)** A partir de los dos vectores cargados `temp_h` y `temp_m` ustred deberá crear un data.frame llamado **`casos`** con tres columnas y un total de 1230 filas. Las columnas deben ser las siguientes; una con el id del registro, otra con el género y otra con la temperatura registrada. A modo de ejemplo, a continuación se muestra como debería quedar el data.frame:\n",
        "\n",
        "\n",
        "|id | genero | temperatura|\n",
        "|---|---|---|\n",
        "| h_162 | hombre | 36.8 |\n",
        "| h_140 | hombre | 38.7 |\n",
        "| h_13  | hombre | 36.1 |\n",
        "| $\\vdots$| $\\vdots$ | $\\vdots$|\n",
        "| m_16  | mujer | 39.1 |\n",
        "| m_502 | mujer | 40.1 |\n",
        "| m_189 | mujer | 36.8 |"
      ]
    },
    {
      "cell_type": "code",
      "metadata": {
        "trusted": true,
        "id": "61hbP6XZw-lk"
      },
      "source": [
        "# P2.1. ---------------------------------------------------------------------\n",
        "## Respuesta:\n"
      ],
      "execution_count": null,
      "outputs": []
    },
    {
      "cell_type": "markdown",
      "metadata": {
        "id": "8E8M86XJw-lm"
      },
      "source": [
        "## Pregunta 2.2\n",
        "\n",
        "Adicionalmente, se cuenta con la información de síntomas presentados por cada presona registrada. Esta información se encuentra disponible en el archivo `sintomas.rds`.\n",
        "\n",
        "**2a) (1pt)** Cargue el archivo `sintomas.rds` en una variable llamada _sintomas_.<br>\n",
        "**2b) (1pt)** ¿Cuál es la clase de este objeto?.<br>\n",
        "**2c) (1pt)** Note que cada fila undica con un 1 si la persona presentó el respectivo síntoma y 0 si no. ¿Qué sintomas presentó la persona ubicada en el registro 450?.<br>\n",
        "**2d) (2pts)** ¿Qué síntomas y qué temperatura presentó la persona con id \"h_537\"?. Si es le es de utilidad puede utilizar la función `rownames()`, la cual permite obtener los nombres (id) de las filas de una matriz.<br>\n",
        "\n"
      ]
    },
    {
      "cell_type": "code",
      "metadata": {
        "trusted": true,
        "id": "k6PDfNW-w-ln"
      },
      "source": [
        "# P2 .2\n",
        "## Respuestas:\n"
      ],
      "execution_count": null,
      "outputs": []
    },
    {
      "cell_type": "markdown",
      "metadata": {
        "id": "D9wwbbDiw-lp"
      },
      "source": [
        "## Nota de utilidad\n",
        "\n",
        "Ya sea trabajando con un vector, matriz, data.frame o lista, es posible omitir la selección de alguna(s) de sus posiciones (filas/columnas o slots). Esto se puede llevar a cabo de diversas maneras, por ejemplo:"
      ]
    },
    {
      "cell_type": "code",
      "metadata": {
        "trusted": true,
        "id": "XMx7FDhuw-lp"
      },
      "source": [
        "# Primero creamos un vector, una matriz, un data.frame  y una lista \n",
        "\n",
        "vec <- c(v1 = 1, v2 = 2, v3 = 3,v4 = 4)\n",
        "mat <- cbind(c(1,1),c(2,2),c(3,3),c(4,4) ) ; rownames(mat) <- c(\"f1\",\"f2\"); colnames(mat) <- c(\"c1\",\"c2\",\"c3\",\"c4\")\n",
        "dat <- as.data.frame(mat)\n",
        "lis <- list(s1 = c(1,1), s2 = c(2,2), s3 = c(3,3) , s4 = c(4,4))\n"
      ],
      "execution_count": null,
      "outputs": []
    },
    {
      "cell_type": "markdown",
      "metadata": {
        "id": "3GKLXdU6w-lr"
      },
      "source": [
        "### Omisión por posición"
      ]
    },
    {
      "cell_type": "code",
      "metadata": {
        "trusted": true,
        "id": "TEdJr4A2w-lr"
      },
      "source": [
        "#Si queremos omitir el primer y tercer elmento del vector y la lista\n",
        "vec[-c(1,3)]\n",
        "lis[-c(1,3)]\n",
        "\n",
        "# Misma idea si queremos omitir columnas de una matriz (o data.frame)\n",
        "mat[,-c(1,3)]\n",
        "dat[,-c(1,3)]"
      ],
      "execution_count": null,
      "outputs": []
    },
    {
      "cell_type": "markdown",
      "metadata": {
        "id": "R1-ir6Utw-lt"
      },
      "source": [
        "### Omisión por nombres"
      ]
    },
    {
      "cell_type": "code",
      "metadata": {
        "trusted": true,
        "id": "5JOWR5Isw-lu"
      },
      "source": [
        "# Por ahora tendremos que ubicar las posiciones de los nombres deseados.\n",
        "\n",
        "pos_vec <- which(names(vec) %in% c(\"v1\",\"v3\"))\n",
        "pos_lis <- which(names(lis) %in% c(\"s1\",\"s3\"))\n",
        "pos_mat <- which(colnames(mat) %in% c(\"c1\",\"c3\"))\n",
        "pos_dat <- which(names(dat) %in% c(\"c1\",\"c3\"))\n",
        "\n",
        "vec[-pos_vec]\n",
        "lis[-pos_lis]\n",
        "\n",
        "# Misma idea si queremos omitir columnas de una matriz (o data.frame)\n",
        "mat[,-pos_mat]\n",
        "dat[,-pos_dat]"
      ],
      "execution_count": null,
      "outputs": []
    },
    {
      "cell_type": "markdown",
      "metadata": {
        "id": "yMUBRR53w-lw"
      },
      "source": [
        "Más adelante veremos otras alternivas, como por ejemplo, utilizando funciones del package `dplyr`.\n",
        "\n",
        "## Pregunta 2.3\n",
        "\n",
        "Con la ayuda de las funciones `rowSums()` y `colSums()`, identifique lo siguiente.\n",
        "\n",
        "  **3a) (3pt)** ¿Cuántos registros presentaron exactamente los 4 síntomas?<br>\n",
        "  **3b) (1pt)** ¿Cúantas personas presentaron tos? <br>\n",
        "  **3c) (2pt)** ¿Cuál es el síntoma más frecuente?<br>\n",
        "  "
      ]
    },
    {
      "cell_type": "code",
      "metadata": {
        "trusted": true,
        "id": "-2-rqq3mw-lw"
      },
      "source": [
        "# P3\n",
        "##Respuestas:\n"
      ],
      "execution_count": null,
      "outputs": []
    },
    {
      "cell_type": "markdown",
      "metadata": {
        "id": "faytFSoKw-ly"
      },
      "source": [
        "## Pregunta 2.4\n",
        "\n",
        "**4a) (1pt)** La función `as.data.frame()` permite coercionar un objeto de otra clase a `data.frame`.\n",
        "cree una variable llamada `sintomas_df` con la información  de sintomas pero como data.frame.<br>\n",
        "**4b) (1pts)**\n",
        "Se puede observar que los ids solo están disponibles en los nombres de las filas. Sin embargo esútil tener esta información como una columna más de la tabla. Para ello **cree una nueva columna en la tabla sintomas_df** llamada `id` que contenga los ids de cada registro. \n",
        "\n",
        "NOTA: El orden de las filas no ha variado por lo que podemos añadir la columna sin mayores precauciones.<br>\n",
        "**4c) (2pts)** ¿Cuántas personas **sólo** presentaron tos y dolor de cabeza?<br>\n",
        "**4d) (1pt)** Se sabe que una persona tiene fiebre cuando su temperatura es mayor o igual a los 37.2°. **Cree una nueva columna en la tabla sintomas_df** llamada `tiene_fiebre` que contenga `TRUE` cuando tiene fiebre y `FALSE` en caso contrario. \n",
        "\n"
      ]
    },
    {
      "cell_type": "code",
      "metadata": {
        "trusted": true,
        "id": "HKt66rfow-lz"
      },
      "source": [
        "# P4\n",
        "#Respuestas:\n"
      ],
      "execution_count": null,
      "outputs": []
    }
  ]
}
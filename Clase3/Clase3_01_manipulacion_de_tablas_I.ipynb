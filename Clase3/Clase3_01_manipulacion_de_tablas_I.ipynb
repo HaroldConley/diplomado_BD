{
  "nbformat": 4,
  "nbformat_minor": 0,
  "metadata": {
    "colab": {
      "name": "Clase3_01_manipulacion_de_tablas_I.ipynb",
      "provenance": [],
      "collapsed_sections": [],
      "include_colab_link": true
    },
    "kernelspec": {
      "name": "ir",
      "display_name": "R"
    }
  },
  "cells": [
    {
      "cell_type": "markdown",
      "metadata": {
        "id": "view-in-github",
        "colab_type": "text"
      },
      "source": [
        "<a href=\"https://colab.research.google.com/github/HaroldConley/diplomado_BD/blob/main/Clase3/Clase3_01_manipulacion_de_tablas_I.ipynb\" target=\"_parent\"><img src=\"https://colab.research.google.com/assets/colab-badge.svg\" alt=\"Open In Colab\"/></a>"
      ]
    },
    {
      "cell_type": "markdown",
      "metadata": {
        "trusted": true,
        "id": "ID-hRx0URPyD"
      },
      "source": [
        "# Parte 2: Manipulación de tablas en R (Parte I)\n",
        "\n",
        "\n",
        "**Autor:** Miguel Jorquera Viguera<br>\n",
        "**E-mail:** majorquev@gmail.com<br>\n",
        "**Ayudante:** Rodrigo Morales<br>\n",
        "**E-mail ayudante:** rumorale1@gmail.com\n",
        "\n",
        "## 1. Instalación de librerías\n",
        "\n",
        "En esta sección aprenderemos a realizar operaciones simples de manipulación de tablas en R. Para ello trabajaremos con la librería _dplyr_, la cual cuenta con una gran variedad de funciones para manipular tablas, entre otras.\n",
        "\n",
        "\n",
        "Una manera de instalar librerías en R es me diante la función `install.packages()`, la cual recibe como argunmento principal el nombre (enre comillas) de la librería que se desea cargar.\n",
        "\n",
        "Una vez instalada la librería la debemos cargar en la sesión de trbajao, para lo cual podemos utilizar la función `library()` la cual recibe como argumento el nombre de la librería que se quiere cargar.\n"
      ]
    },
    {
      "cell_type": "code",
      "metadata": {
        "id": "FPF3jDwbRnTs",
        "colab": {
          "base_uri": "https://localhost:8080/"
        },
        "outputId": "e9b654c5-7785-431a-9f68-db22fff9140b"
      },
      "source": [
        "install.packages(\"tidyr\")"
      ],
      "execution_count": 1,
      "outputs": [
        {
          "output_type": "stream",
          "name": "stderr",
          "text": [
            "Installing package into ‘/usr/local/lib/R/site-library’\n",
            "(as ‘lib’ is unspecified)\n",
            "\n"
          ]
        }
      ]
    },
    {
      "cell_type": "code",
      "metadata": {
        "trusted": true,
        "id": "jcbeiXarRPyE",
        "colab": {
          "base_uri": "https://localhost:8080/"
        },
        "outputId": "b6c72615-43ab-429f-b2db-8b99506f8beb"
      },
      "source": [
        "# 1. Instalación de package\n",
        "# install.packages(\"dplyr\") # No instalaremos la librería pues ya viene cargada en los notebooks de azure.Probablemente sea necesario hacerlo en su entorno local.\n",
        "# Para cargar la librería\n",
        "library(\"dplyr\") # sin comillas también funciona\n",
        "\n",
        "\n"
      ],
      "execution_count": 2,
      "outputs": [
        {
          "output_type": "stream",
          "name": "stderr",
          "text": [
            "\n",
            "Attaching package: ‘dplyr’\n",
            "\n",
            "\n",
            "The following objects are masked from ‘package:stats’:\n",
            "\n",
            "    filter, lag\n",
            "\n",
            "\n",
            "The following objects are masked from ‘package:base’:\n",
            "\n",
            "    intersect, setdiff, setequal, union\n",
            "\n",
            "\n"
          ]
        }
      ]
    },
    {
      "cell_type": "markdown",
      "metadata": {
        "trusted": true,
        "id": "97hMfOQQRPyI"
      },
      "source": [
        "## 2. Funciones básicas en dplyr\n",
        "\n",
        "En todo proyecto analítico es necesario procesar, limpar y unificar disntintas fuentes de información para poder generar los análisis requeridos. Para dichas tareas, en la librería _dplyr_ contamos con funciones que nos permitirán filtrar datos, crear columnas, agrupar tablas, y cruzar tablas.\n",
        "\n",
        "A continuación trabajaremos con la siguientes funciones:<br>\n",
        "\n",
        "   `filter()`                        : Para filtrar los datos (por filas).<br>\n",
        "   `arrange()`                       : Para ordenar un dataset.<br>\n",
        "   `select()`                        : Para seleccionar y renombrar columnas.<br>\n",
        "   `mutate()`                        : Para crear (o modificar) nuevas columnas basadas en columnas existentes.<br>\n",
        "   `group_by()`                     : Para agrupar tablas.<br>\n",
        "   `sample_n()` and `sample_frac()`  : Para generar muestras aleatorias<br>\n",
        "   \n",
        "   \n",
        "Para entender el funcionamiento de estas funciones trabjaremos con el set de datos _nycflights13_, el cual contiene la información de los vuelos con salida en los aeropuertos de Nueva York en el año 2013.\n",
        "\n",
        "## 3. Carga de datos\n",
        "\n",
        "En R es posible cargar datos provenientes de archivos de texto plano. Un ejemplo de ellos son los de extensión *.csv (comma separated values). Para cargar los datos a la sesión, lo podemos realizar a través de la función `read.csv()`, la cual recibe como argumento principal la ruta del archivo a cargar.\n",
        "\n",
        "   \n",
        "   \n",
        "   "
      ]
    },
    {
      "cell_type": "code",
      "metadata": {
        "trusted": true,
        "id": "gKV9NYMORPyI",
        "colab": {
          "base_uri": "https://localhost:8080/",
          "height": 34
        },
        "outputId": "d4bae899-a06b-480c-829f-56858cc0b03e"
      },
      "source": [
        "getwd()"
      ],
      "execution_count": 3,
      "outputs": [
        {
          "output_type": "display_data",
          "data": {
            "text/html": [
              "'/content'"
            ],
            "text/markdown": "'/content'",
            "text/latex": "'/content'",
            "text/plain": [
              "[1] \"/content\""
            ]
          },
          "metadata": {}
        }
      ]
    },
    {
      "cell_type": "code",
      "metadata": {
        "trusted": true,
        "id": "Ga1OFuNwRPyL",
        "colab": {
          "base_uri": "https://localhost:8080/",
          "height": 515
        },
        "outputId": "2ad44ef9-b701-4144-d7d9-aec4847195c2"
      },
      "source": [
        "# Carga de datos ------\n",
        "# Usaremos la función read.csv para cargar el archivo Datasets_flights.csv ubicado en \"./Datasets/\", y lo guardamos en una variable llamada vuelo.\n",
        "vuelos <- read.csv('https://raw.githubusercontent.com/majorquev/DBDC_202206_Programacion_en_R_para_ciencia_de_datos/main/Clase3/Datasets/flights.csv')\n",
        "head(vuelos)\n"
      ],
      "execution_count": 5,
      "outputs": [
        {
          "output_type": "display_data",
          "data": {
            "text/html": [
              "<table class=\"dataframe\">\n",
              "<caption>A data.frame: 6 × 19</caption>\n",
              "<thead>\n",
              "\t<tr><th></th><th scope=col>year</th><th scope=col>month</th><th scope=col>day</th><th scope=col>dep_time</th><th scope=col>sched_dep_time</th><th scope=col>dep_delay</th><th scope=col>arr_time</th><th scope=col>sched_arr_time</th><th scope=col>arr_delay</th><th scope=col>carrier</th><th scope=col>flight</th><th scope=col>tailnum</th><th scope=col>origin</th><th scope=col>dest</th><th scope=col>air_time</th><th scope=col>distance</th><th scope=col>hour</th><th scope=col>minute</th><th scope=col>time_hour</th></tr>\n",
              "\t<tr><th></th><th scope=col>&lt;int&gt;</th><th scope=col>&lt;int&gt;</th><th scope=col>&lt;int&gt;</th><th scope=col>&lt;int&gt;</th><th scope=col>&lt;int&gt;</th><th scope=col>&lt;int&gt;</th><th scope=col>&lt;int&gt;</th><th scope=col>&lt;int&gt;</th><th scope=col>&lt;int&gt;</th><th scope=col>&lt;chr&gt;</th><th scope=col>&lt;int&gt;</th><th scope=col>&lt;chr&gt;</th><th scope=col>&lt;chr&gt;</th><th scope=col>&lt;chr&gt;</th><th scope=col>&lt;int&gt;</th><th scope=col>&lt;int&gt;</th><th scope=col>&lt;int&gt;</th><th scope=col>&lt;int&gt;</th><th scope=col>&lt;chr&gt;</th></tr>\n",
              "</thead>\n",
              "<tbody>\n",
              "\t<tr><th scope=row>1</th><td>2013</td><td>1</td><td>1</td><td>517</td><td>515</td><td> 2</td><td> 830</td><td> 819</td><td> 11</td><td>UA</td><td>1545</td><td>N14228</td><td>EWR</td><td>IAH</td><td>227</td><td>1400</td><td>5</td><td>15</td><td>2013-01-01 05:00:00</td></tr>\n",
              "\t<tr><th scope=row>2</th><td>2013</td><td>1</td><td>1</td><td>533</td><td>529</td><td> 4</td><td> 850</td><td> 830</td><td> 20</td><td>UA</td><td>1714</td><td>N24211</td><td>LGA</td><td>IAH</td><td>227</td><td>1416</td><td>5</td><td>29</td><td>2013-01-01 05:00:00</td></tr>\n",
              "\t<tr><th scope=row>3</th><td>2013</td><td>1</td><td>1</td><td>542</td><td>540</td><td> 2</td><td> 923</td><td> 850</td><td> 33</td><td>AA</td><td>1141</td><td>N619AA</td><td>JFK</td><td>MIA</td><td>160</td><td>1089</td><td>5</td><td>40</td><td>2013-01-01 05:00:00</td></tr>\n",
              "\t<tr><th scope=row>4</th><td>2013</td><td>1</td><td>1</td><td>544</td><td>545</td><td>-1</td><td>1004</td><td>1022</td><td>-18</td><td>B6</td><td> 725</td><td>N804JB</td><td>JFK</td><td>BQN</td><td>183</td><td>1576</td><td>5</td><td>45</td><td>2013-01-01 05:00:00</td></tr>\n",
              "\t<tr><th scope=row>5</th><td>2013</td><td>1</td><td>1</td><td>554</td><td>600</td><td>-6</td><td> 812</td><td> 837</td><td>-25</td><td>DL</td><td> 461</td><td>N668DN</td><td>LGA</td><td>ATL</td><td>116</td><td> 762</td><td>6</td><td> 0</td><td>2013-01-01 06:00:00</td></tr>\n",
              "\t<tr><th scope=row>6</th><td>2013</td><td>1</td><td>1</td><td>554</td><td>558</td><td>-4</td><td> 740</td><td> 728</td><td> 12</td><td>UA</td><td>1696</td><td>N39463</td><td>EWR</td><td>ORD</td><td>150</td><td> 719</td><td>5</td><td>58</td><td>2013-01-01 05:00:00</td></tr>\n",
              "</tbody>\n",
              "</table>\n"
            ],
            "text/markdown": "\nA data.frame: 6 × 19\n\n| <!--/--> | year &lt;int&gt; | month &lt;int&gt; | day &lt;int&gt; | dep_time &lt;int&gt; | sched_dep_time &lt;int&gt; | dep_delay &lt;int&gt; | arr_time &lt;int&gt; | sched_arr_time &lt;int&gt; | arr_delay &lt;int&gt; | carrier &lt;chr&gt; | flight &lt;int&gt; | tailnum &lt;chr&gt; | origin &lt;chr&gt; | dest &lt;chr&gt; | air_time &lt;int&gt; | distance &lt;int&gt; | hour &lt;int&gt; | minute &lt;int&gt; | time_hour &lt;chr&gt; |\n|---|---|---|---|---|---|---|---|---|---|---|---|---|---|---|---|---|---|---|---|\n| 1 | 2013 | 1 | 1 | 517 | 515 |  2 |  830 |  819 |  11 | UA | 1545 | N14228 | EWR | IAH | 227 | 1400 | 5 | 15 | 2013-01-01 05:00:00 |\n| 2 | 2013 | 1 | 1 | 533 | 529 |  4 |  850 |  830 |  20 | UA | 1714 | N24211 | LGA | IAH | 227 | 1416 | 5 | 29 | 2013-01-01 05:00:00 |\n| 3 | 2013 | 1 | 1 | 542 | 540 |  2 |  923 |  850 |  33 | AA | 1141 | N619AA | JFK | MIA | 160 | 1089 | 5 | 40 | 2013-01-01 05:00:00 |\n| 4 | 2013 | 1 | 1 | 544 | 545 | -1 | 1004 | 1022 | -18 | B6 |  725 | N804JB | JFK | BQN | 183 | 1576 | 5 | 45 | 2013-01-01 05:00:00 |\n| 5 | 2013 | 1 | 1 | 554 | 600 | -6 |  812 |  837 | -25 | DL |  461 | N668DN | LGA | ATL | 116 |  762 | 6 |  0 | 2013-01-01 06:00:00 |\n| 6 | 2013 | 1 | 1 | 554 | 558 | -4 |  740 |  728 |  12 | UA | 1696 | N39463 | EWR | ORD | 150 |  719 | 5 | 58 | 2013-01-01 05:00:00 |\n\n",
            "text/latex": "A data.frame: 6 × 19\n\\begin{tabular}{r|lllllllllllllllllll}\n  & year & month & day & dep\\_time & sched\\_dep\\_time & dep\\_delay & arr\\_time & sched\\_arr\\_time & arr\\_delay & carrier & flight & tailnum & origin & dest & air\\_time & distance & hour & minute & time\\_hour\\\\\n  & <int> & <int> & <int> & <int> & <int> & <int> & <int> & <int> & <int> & <chr> & <int> & <chr> & <chr> & <chr> & <int> & <int> & <int> & <int> & <chr>\\\\\n\\hline\n\t1 & 2013 & 1 & 1 & 517 & 515 &  2 &  830 &  819 &  11 & UA & 1545 & N14228 & EWR & IAH & 227 & 1400 & 5 & 15 & 2013-01-01 05:00:00\\\\\n\t2 & 2013 & 1 & 1 & 533 & 529 &  4 &  850 &  830 &  20 & UA & 1714 & N24211 & LGA & IAH & 227 & 1416 & 5 & 29 & 2013-01-01 05:00:00\\\\\n\t3 & 2013 & 1 & 1 & 542 & 540 &  2 &  923 &  850 &  33 & AA & 1141 & N619AA & JFK & MIA & 160 & 1089 & 5 & 40 & 2013-01-01 05:00:00\\\\\n\t4 & 2013 & 1 & 1 & 544 & 545 & -1 & 1004 & 1022 & -18 & B6 &  725 & N804JB & JFK & BQN & 183 & 1576 & 5 & 45 & 2013-01-01 05:00:00\\\\\n\t5 & 2013 & 1 & 1 & 554 & 600 & -6 &  812 &  837 & -25 & DL &  461 & N668DN & LGA & ATL & 116 &  762 & 6 &  0 & 2013-01-01 06:00:00\\\\\n\t6 & 2013 & 1 & 1 & 554 & 558 & -4 &  740 &  728 &  12 & UA & 1696 & N39463 & EWR & ORD & 150 &  719 & 5 & 58 & 2013-01-01 05:00:00\\\\\n\\end{tabular}\n",
            "text/plain": [
              "  year month day dep_time sched_dep_time dep_delay arr_time sched_arr_time\n",
              "1 2013 1     1   517      515             2         830      819          \n",
              "2 2013 1     1   533      529             4         850      830          \n",
              "3 2013 1     1   542      540             2         923      850          \n",
              "4 2013 1     1   544      545            -1        1004     1022          \n",
              "5 2013 1     1   554      600            -6         812      837          \n",
              "6 2013 1     1   554      558            -4         740      728          \n",
              "  arr_delay carrier flight tailnum origin dest air_time distance hour minute\n",
              "1  11       UA      1545   N14228  EWR    IAH  227      1400     5    15    \n",
              "2  20       UA      1714   N24211  LGA    IAH  227      1416     5    29    \n",
              "3  33       AA      1141   N619AA  JFK    MIA  160      1089     5    40    \n",
              "4 -18       B6       725   N804JB  JFK    BQN  183      1576     5    45    \n",
              "5 -25       DL       461   N668DN  LGA    ATL  116       762     6     0    \n",
              "6  12       UA      1696   N39463  EWR    ORD  150       719     5    58    \n",
              "  time_hour          \n",
              "1 2013-01-01 05:00:00\n",
              "2 2013-01-01 05:00:00\n",
              "3 2013-01-01 05:00:00\n",
              "4 2013-01-01 05:00:00\n",
              "5 2013-01-01 06:00:00\n",
              "6 2013-01-01 05:00:00"
            ]
          },
          "metadata": {}
        }
      ]
    },
    {
      "cell_type": "code",
      "metadata": {
        "trusted": true,
        "id": "XH_T6QWVRPyN",
        "colab": {
          "base_uri": "https://localhost:8080/",
          "height": 34
        },
        "outputId": "2683187b-36c2-443c-ef2d-50520d66b2fd"
      },
      "source": [
        "# Podemos inspeccionar los datos cargados\n",
        "# Para ello son de utilidad las funciones head() y summary()\n",
        "# ¿Cuántos registros tienen las tablas?\n",
        "dim(vuelos)"
      ],
      "execution_count": 6,
      "outputs": [
        {
          "output_type": "display_data",
          "data": {
            "text/html": [
              "<style>\n",
              ".list-inline {list-style: none; margin:0; padding: 0}\n",
              ".list-inline>li {display: inline-block}\n",
              ".list-inline>li:not(:last-child)::after {content: \"\\00b7\"; padding: 0 .5ex}\n",
              "</style>\n",
              "<ol class=list-inline><li>336776</li><li>19</li></ol>\n"
            ],
            "text/markdown": "1. 336776\n2. 19\n\n\n",
            "text/latex": "\\begin{enumerate*}\n\\item 336776\n\\item 19\n\\end{enumerate*}\n",
            "text/plain": [
              "[1] 336776     19"
            ]
          },
          "metadata": {}
        }
      ]
    },
    {
      "cell_type": "code",
      "metadata": {
        "trusted": true,
        "id": "lnAkEF3NRPyQ",
        "colab": {
          "base_uri": "https://localhost:8080/",
          "height": 711
        },
        "outputId": "539d9089-4d12-4f26-cb5c-79bf8633fb5c"
      },
      "source": [
        "summary(vuelos)"
      ],
      "execution_count": 7,
      "outputs": [
        {
          "output_type": "display_data",
          "data": {
            "text/plain": [
              "      year          month             day           dep_time    sched_dep_time\n",
              " Min.   :2013   Min.   : 1.000   Min.   : 1.00   Min.   :   1   Min.   : 106  \n",
              " 1st Qu.:2013   1st Qu.: 4.000   1st Qu.: 8.00   1st Qu.: 907   1st Qu.: 906  \n",
              " Median :2013   Median : 7.000   Median :16.00   Median :1401   Median :1359  \n",
              " Mean   :2013   Mean   : 6.549   Mean   :15.71   Mean   :1349   Mean   :1344  \n",
              " 3rd Qu.:2013   3rd Qu.:10.000   3rd Qu.:23.00   3rd Qu.:1744   3rd Qu.:1729  \n",
              " Max.   :2013   Max.   :12.000   Max.   :31.00   Max.   :2400   Max.   :2359  \n",
              "                                                 NA's   :8255                 \n",
              "   dep_delay          arr_time    sched_arr_time   arr_delay       \n",
              " Min.   : -43.00   Min.   :   1   Min.   :   1   Min.   : -86.000  \n",
              " 1st Qu.:  -5.00   1st Qu.:1104   1st Qu.:1124   1st Qu.: -17.000  \n",
              " Median :  -2.00   Median :1535   Median :1556   Median :  -5.000  \n",
              " Mean   :  12.64   Mean   :1502   Mean   :1536   Mean   :   6.895  \n",
              " 3rd Qu.:  11.00   3rd Qu.:1940   3rd Qu.:1945   3rd Qu.:  14.000  \n",
              " Max.   :1301.00   Max.   :2400   Max.   :2359   Max.   :1272.000  \n",
              " NA's   :8255      NA's   :8713                  NA's   :9430      \n",
              "   carrier              flight       tailnum             origin         \n",
              " Length:336776      Min.   :   1   Length:336776      Length:336776     \n",
              " Class :character   1st Qu.: 553   Class :character   Class :character  \n",
              " Mode  :character   Median :1496   Mode  :character   Mode  :character  \n",
              "                    Mean   :1972                                        \n",
              "                    3rd Qu.:3465                                        \n",
              "                    Max.   :8500                                        \n",
              "                                                                        \n",
              "     dest              air_time        distance         hour      \n",
              " Length:336776      Min.   : 20.0   Min.   :  17   Min.   : 1.00  \n",
              " Class :character   1st Qu.: 82.0   1st Qu.: 502   1st Qu.: 9.00  \n",
              " Mode  :character   Median :129.0   Median : 872   Median :13.00  \n",
              "                    Mean   :150.7   Mean   :1040   Mean   :13.18  \n",
              "                    3rd Qu.:192.0   3rd Qu.:1389   3rd Qu.:17.00  \n",
              "                    Max.   :695.0   Max.   :4983   Max.   :23.00  \n",
              "                    NA's   :9430                                  \n",
              "     minute       time_hour        \n",
              " Min.   : 0.00   Length:336776     \n",
              " 1st Qu.: 8.00   Class :character  \n",
              " Median :29.00   Mode  :character  \n",
              " Mean   :26.23                     \n",
              " 3rd Qu.:44.00                     \n",
              " Max.   :59.00                     \n",
              "                                   "
            ]
          },
          "metadata": {}
        }
      ]
    },
    {
      "cell_type": "code",
      "metadata": {
        "trusted": true,
        "id": "OlWowRWVRPyS",
        "colab": {
          "base_uri": "https://localhost:8080/"
        },
        "outputId": "217e191c-24a1-472a-a1b2-658d9cc9ccc9"
      },
      "source": [
        "#glimpse() o str()\n",
        "str(vuelos)"
      ],
      "execution_count": 8,
      "outputs": [
        {
          "output_type": "stream",
          "name": "stdout",
          "text": [
            "'data.frame':\t336776 obs. of  19 variables:\n",
            " $ year          : int  2013 2013 2013 2013 2013 2013 2013 2013 2013 2013 ...\n",
            " $ month         : int  1 1 1 1 1 1 1 1 1 1 ...\n",
            " $ day           : int  1 1 1 1 1 1 1 1 1 1 ...\n",
            " $ dep_time      : int  517 533 542 544 554 554 555 557 557 558 ...\n",
            " $ sched_dep_time: int  515 529 540 545 600 558 600 600 600 600 ...\n",
            " $ dep_delay     : int  2 4 2 -1 -6 -4 -5 -3 -3 -2 ...\n",
            " $ arr_time      : int  830 850 923 1004 812 740 913 709 838 753 ...\n",
            " $ sched_arr_time: int  819 830 850 1022 837 728 854 723 846 745 ...\n",
            " $ arr_delay     : int  11 20 33 -18 -25 12 19 -14 -8 8 ...\n",
            " $ carrier       : chr  \"UA\" \"UA\" \"AA\" \"B6\" ...\n",
            " $ flight        : int  1545 1714 1141 725 461 1696 507 5708 79 301 ...\n",
            " $ tailnum       : chr  \"N14228\" \"N24211\" \"N619AA\" \"N804JB\" ...\n",
            " $ origin        : chr  \"EWR\" \"LGA\" \"JFK\" \"JFK\" ...\n",
            " $ dest          : chr  \"IAH\" \"IAH\" \"MIA\" \"BQN\" ...\n",
            " $ air_time      : int  227 227 160 183 116 150 158 53 140 138 ...\n",
            " $ distance      : int  1400 1416 1089 1576 762 719 1065 229 944 733 ...\n",
            " $ hour          : int  5 5 5 5 6 5 6 6 6 6 ...\n",
            " $ minute        : int  15 29 40 45 0 58 0 0 0 0 ...\n",
            " $ time_hour     : chr  \"2013-01-01 05:00:00\" \"2013-01-01 05:00:00\" \"2013-01-01 05:00:00\" \"2013-01-01 05:00:00\" ...\n"
          ]
        }
      ]
    },
    {
      "cell_type": "code",
      "source": [
        "glimpse(vuelos) #similar al str() pero entrega los datos en otro formato"
      ],
      "metadata": {
        "colab": {
          "base_uri": "https://localhost:8080/"
        },
        "id": "31gmEHLiLBK_",
        "outputId": "b9623903-d214-49fa-abae-bafaa2e1e059"
      },
      "execution_count": 10,
      "outputs": [
        {
          "output_type": "stream",
          "name": "stdout",
          "text": [
            "Rows: 336,776\n",
            "Columns: 19\n",
            "$ year           \u001b[3m\u001b[90m<int>\u001b[39m\u001b[23m 2013, 2013, 2013, 2013, 2013, 2013, 2013, 2013, 2013, 2…\n",
            "$ month          \u001b[3m\u001b[90m<int>\u001b[39m\u001b[23m 1, 1, 1, 1, 1, 1, 1, 1, 1, 1, 1, 1, 1, 1, 1, 1, 1, 1, 1…\n",
            "$ day            \u001b[3m\u001b[90m<int>\u001b[39m\u001b[23m 1, 1, 1, 1, 1, 1, 1, 1, 1, 1, 1, 1, 1, 1, 1, 1, 1, 1, 1…\n",
            "$ dep_time       \u001b[3m\u001b[90m<int>\u001b[39m\u001b[23m 517, 533, 542, 544, 554, 554, 555, 557, 557, 558, 558, …\n",
            "$ sched_dep_time \u001b[3m\u001b[90m<int>\u001b[39m\u001b[23m 515, 529, 540, 545, 600, 558, 600, 600, 600, 600, 600, …\n",
            "$ dep_delay      \u001b[3m\u001b[90m<int>\u001b[39m\u001b[23m 2, 4, 2, -1, -6, -4, -5, -3, -3, -2, -2, -2, -2, -2, -1…\n",
            "$ arr_time       \u001b[3m\u001b[90m<int>\u001b[39m\u001b[23m 830, 850, 923, 1004, 812, 740, 913, 709, 838, 753, 849,…\n",
            "$ sched_arr_time \u001b[3m\u001b[90m<int>\u001b[39m\u001b[23m 819, 830, 850, 1022, 837, 728, 854, 723, 846, 745, 851,…\n",
            "$ arr_delay      \u001b[3m\u001b[90m<int>\u001b[39m\u001b[23m 11, 20, 33, -18, -25, 12, 19, -14, -8, 8, -2, -3, 7, -1…\n",
            "$ carrier        \u001b[3m\u001b[90m<chr>\u001b[39m\u001b[23m \"UA\", \"UA\", \"AA\", \"B6\", \"DL\", \"UA\", \"B6\", \"EV\", \"B6\", \"…\n",
            "$ flight         \u001b[3m\u001b[90m<int>\u001b[39m\u001b[23m 1545, 1714, 1141, 725, 461, 1696, 507, 5708, 79, 301, 4…\n",
            "$ tailnum        \u001b[3m\u001b[90m<chr>\u001b[39m\u001b[23m \"N14228\", \"N24211\", \"N619AA\", \"N804JB\", \"N668DN\", \"N394…\n",
            "$ origin         \u001b[3m\u001b[90m<chr>\u001b[39m\u001b[23m \"EWR\", \"LGA\", \"JFK\", \"JFK\", \"LGA\", \"EWR\", \"EWR\", \"LGA\",…\n",
            "$ dest           \u001b[3m\u001b[90m<chr>\u001b[39m\u001b[23m \"IAH\", \"IAH\", \"MIA\", \"BQN\", \"ATL\", \"ORD\", \"FLL\", \"IAD\",…\n",
            "$ air_time       \u001b[3m\u001b[90m<int>\u001b[39m\u001b[23m 227, 227, 160, 183, 116, 150, 158, 53, 140, 138, 149, 1…\n",
            "$ distance       \u001b[3m\u001b[90m<int>\u001b[39m\u001b[23m 1400, 1416, 1089, 1576, 762, 719, 1065, 229, 944, 733, …\n",
            "$ hour           \u001b[3m\u001b[90m<int>\u001b[39m\u001b[23m 5, 5, 5, 5, 6, 5, 6, 6, 6, 6, 6, 6, 6, 6, 6, 5, 6, 6, 6…\n",
            "$ minute         \u001b[3m\u001b[90m<int>\u001b[39m\u001b[23m 15, 29, 40, 45, 0, 58, 0, 0, 0, 0, 0, 0, 0, 0, 0, 59, 0…\n",
            "$ time_hour      \u001b[3m\u001b[90m<chr>\u001b[39m\u001b[23m \"2013-01-01 05:00:00\", \"2013-01-01 05:00:00\", \"2013-01-…\n"
          ]
        }
      ]
    },
    {
      "cell_type": "markdown",
      "metadata": {
        "id": "jAHBUxNxRPyV"
      },
      "source": [
        "## 4. Funciones básicas de dplyr\n",
        "\n",
        "A continuación exploraremos los datos de vuelos utilizando la librería dplyr.\n",
        "\n",
        "### 4.1 Función filter()\n",
        "\n",
        "La función filter() de dplyr es el equivalente a la sentencia where de sql."
      ]
    },
    {
      "cell_type": "code",
      "metadata": {
        "trusted": true,
        "scrolled": true,
        "id": "mv1lhelWRPyV",
        "colab": {
          "base_uri": "https://localhost:8080/",
          "height": 992
        },
        "outputId": "83d3448f-faec-4159-f36b-0894c66f8f6e"
      },
      "source": [
        "# filter() # where de sql----------------------------------------------------------------\n",
        "# Registros que tengan fecha 31 de diciembre\n",
        "# Antes\n",
        "# Ahora\n",
        "head(vuelos[vuelos$month == 12 & vuelos$day == 31,])\n",
        "\n",
        "#pero se puede hacer más fácil con filter\n",
        "head(filter(vuelos, month==12 & day == 31))"
      ],
      "execution_count": 12,
      "outputs": [
        {
          "output_type": "display_data",
          "data": {
            "text/html": [
              "<table class=\"dataframe\">\n",
              "<caption>A data.frame: 6 × 19</caption>\n",
              "<thead>\n",
              "\t<tr><th></th><th scope=col>year</th><th scope=col>month</th><th scope=col>day</th><th scope=col>dep_time</th><th scope=col>sched_dep_time</th><th scope=col>dep_delay</th><th scope=col>arr_time</th><th scope=col>sched_arr_time</th><th scope=col>arr_delay</th><th scope=col>carrier</th><th scope=col>flight</th><th scope=col>tailnum</th><th scope=col>origin</th><th scope=col>dest</th><th scope=col>air_time</th><th scope=col>distance</th><th scope=col>hour</th><th scope=col>minute</th><th scope=col>time_hour</th></tr>\n",
              "\t<tr><th></th><th scope=col>&lt;int&gt;</th><th scope=col>&lt;int&gt;</th><th scope=col>&lt;int&gt;</th><th scope=col>&lt;int&gt;</th><th scope=col>&lt;int&gt;</th><th scope=col>&lt;int&gt;</th><th scope=col>&lt;int&gt;</th><th scope=col>&lt;int&gt;</th><th scope=col>&lt;int&gt;</th><th scope=col>&lt;chr&gt;</th><th scope=col>&lt;int&gt;</th><th scope=col>&lt;chr&gt;</th><th scope=col>&lt;chr&gt;</th><th scope=col>&lt;chr&gt;</th><th scope=col>&lt;int&gt;</th><th scope=col>&lt;int&gt;</th><th scope=col>&lt;int&gt;</th><th scope=col>&lt;int&gt;</th><th scope=col>&lt;chr&gt;</th></tr>\n",
              "</thead>\n",
              "<tbody>\n",
              "\t<tr><th scope=row>110521</th><td>2013</td><td>12</td><td>31</td><td> 13</td><td>2359</td><td> 14</td><td>439</td><td> 437</td><td> 2</td><td>B6</td><td> 839</td><td>N566JB</td><td>JFK</td><td>BQN</td><td>189</td><td>1576</td><td>23</td><td>59</td><td>2013-12-31 23:00:00</td></tr>\n",
              "\t<tr><th scope=row>110522</th><td>2013</td><td>12</td><td>31</td><td> 18</td><td>2359</td><td> 19</td><td>449</td><td> 444</td><td> 5</td><td>DL</td><td> 412</td><td>N713TW</td><td>JFK</td><td>SJU</td><td>192</td><td>1598</td><td>23</td><td>59</td><td>2013-12-31 23:00:00</td></tr>\n",
              "\t<tr><th scope=row>110523</th><td>2013</td><td>12</td><td>31</td><td> 26</td><td>2245</td><td>101</td><td>129</td><td>2353</td><td>96</td><td>B6</td><td> 108</td><td>N374JB</td><td>JFK</td><td>PWM</td><td> 50</td><td> 273</td><td>22</td><td>45</td><td>2013-12-31 22:00:00</td></tr>\n",
              "\t<tr><th scope=row>110524</th><td>2013</td><td>12</td><td>31</td><td>459</td><td> 500</td><td> -1</td><td>655</td><td> 651</td><td> 4</td><td>US</td><td>1895</td><td>N557UW</td><td>EWR</td><td>CLT</td><td> 95</td><td> 529</td><td> 5</td><td> 0</td><td>2013-12-31 05:00:00</td></tr>\n",
              "\t<tr><th scope=row>110525</th><td>2013</td><td>12</td><td>31</td><td>514</td><td> 515</td><td> -1</td><td>814</td><td> 812</td><td> 2</td><td>UA</td><td> 700</td><td>N470UA</td><td>EWR</td><td>IAH</td><td>223</td><td>1400</td><td> 5</td><td>15</td><td>2013-12-31 05:00:00</td></tr>\n",
              "\t<tr><th scope=row>110526</th><td>2013</td><td>12</td><td>31</td><td>549</td><td> 551</td><td> -2</td><td>925</td><td> 900</td><td>25</td><td>UA</td><td> 274</td><td>N577UA</td><td>EWR</td><td>LAX</td><td>346</td><td>2454</td><td> 5</td><td>51</td><td>2013-12-31 05:00:00</td></tr>\n",
              "</tbody>\n",
              "</table>\n"
            ],
            "text/markdown": "\nA data.frame: 6 × 19\n\n| <!--/--> | year &lt;int&gt; | month &lt;int&gt; | day &lt;int&gt; | dep_time &lt;int&gt; | sched_dep_time &lt;int&gt; | dep_delay &lt;int&gt; | arr_time &lt;int&gt; | sched_arr_time &lt;int&gt; | arr_delay &lt;int&gt; | carrier &lt;chr&gt; | flight &lt;int&gt; | tailnum &lt;chr&gt; | origin &lt;chr&gt; | dest &lt;chr&gt; | air_time &lt;int&gt; | distance &lt;int&gt; | hour &lt;int&gt; | minute &lt;int&gt; | time_hour &lt;chr&gt; |\n|---|---|---|---|---|---|---|---|---|---|---|---|---|---|---|---|---|---|---|---|\n| 110521 | 2013 | 12 | 31 |  13 | 2359 |  14 | 439 |  437 |  2 | B6 |  839 | N566JB | JFK | BQN | 189 | 1576 | 23 | 59 | 2013-12-31 23:00:00 |\n| 110522 | 2013 | 12 | 31 |  18 | 2359 |  19 | 449 |  444 |  5 | DL |  412 | N713TW | JFK | SJU | 192 | 1598 | 23 | 59 | 2013-12-31 23:00:00 |\n| 110523 | 2013 | 12 | 31 |  26 | 2245 | 101 | 129 | 2353 | 96 | B6 |  108 | N374JB | JFK | PWM |  50 |  273 | 22 | 45 | 2013-12-31 22:00:00 |\n| 110524 | 2013 | 12 | 31 | 459 |  500 |  -1 | 655 |  651 |  4 | US | 1895 | N557UW | EWR | CLT |  95 |  529 |  5 |  0 | 2013-12-31 05:00:00 |\n| 110525 | 2013 | 12 | 31 | 514 |  515 |  -1 | 814 |  812 |  2 | UA |  700 | N470UA | EWR | IAH | 223 | 1400 |  5 | 15 | 2013-12-31 05:00:00 |\n| 110526 | 2013 | 12 | 31 | 549 |  551 |  -2 | 925 |  900 | 25 | UA |  274 | N577UA | EWR | LAX | 346 | 2454 |  5 | 51 | 2013-12-31 05:00:00 |\n\n",
            "text/latex": "A data.frame: 6 × 19\n\\begin{tabular}{r|lllllllllllllllllll}\n  & year & month & day & dep\\_time & sched\\_dep\\_time & dep\\_delay & arr\\_time & sched\\_arr\\_time & arr\\_delay & carrier & flight & tailnum & origin & dest & air\\_time & distance & hour & minute & time\\_hour\\\\\n  & <int> & <int> & <int> & <int> & <int> & <int> & <int> & <int> & <int> & <chr> & <int> & <chr> & <chr> & <chr> & <int> & <int> & <int> & <int> & <chr>\\\\\n\\hline\n\t110521 & 2013 & 12 & 31 &  13 & 2359 &  14 & 439 &  437 &  2 & B6 &  839 & N566JB & JFK & BQN & 189 & 1576 & 23 & 59 & 2013-12-31 23:00:00\\\\\n\t110522 & 2013 & 12 & 31 &  18 & 2359 &  19 & 449 &  444 &  5 & DL &  412 & N713TW & JFK & SJU & 192 & 1598 & 23 & 59 & 2013-12-31 23:00:00\\\\\n\t110523 & 2013 & 12 & 31 &  26 & 2245 & 101 & 129 & 2353 & 96 & B6 &  108 & N374JB & JFK & PWM &  50 &  273 & 22 & 45 & 2013-12-31 22:00:00\\\\\n\t110524 & 2013 & 12 & 31 & 459 &  500 &  -1 & 655 &  651 &  4 & US & 1895 & N557UW & EWR & CLT &  95 &  529 &  5 &  0 & 2013-12-31 05:00:00\\\\\n\t110525 & 2013 & 12 & 31 & 514 &  515 &  -1 & 814 &  812 &  2 & UA &  700 & N470UA & EWR & IAH & 223 & 1400 &  5 & 15 & 2013-12-31 05:00:00\\\\\n\t110526 & 2013 & 12 & 31 & 549 &  551 &  -2 & 925 &  900 & 25 & UA &  274 & N577UA & EWR & LAX & 346 & 2454 &  5 & 51 & 2013-12-31 05:00:00\\\\\n\\end{tabular}\n",
            "text/plain": [
              "       year month day dep_time sched_dep_time dep_delay arr_time sched_arr_time\n",
              "110521 2013 12    31   13      2359            14       439       437          \n",
              "110522 2013 12    31   18      2359            19       449       444          \n",
              "110523 2013 12    31   26      2245           101       129      2353          \n",
              "110524 2013 12    31  459       500            -1       655       651          \n",
              "110525 2013 12    31  514       515            -1       814       812          \n",
              "110526 2013 12    31  549       551            -2       925       900          \n",
              "       arr_delay carrier flight tailnum origin dest air_time distance hour\n",
              "110521  2        B6       839   N566JB  JFK    BQN  189      1576     23  \n",
              "110522  5        DL       412   N713TW  JFK    SJU  192      1598     23  \n",
              "110523 96        B6       108   N374JB  JFK    PWM   50       273     22  \n",
              "110524  4        US      1895   N557UW  EWR    CLT   95       529      5  \n",
              "110525  2        UA       700   N470UA  EWR    IAH  223      1400      5  \n",
              "110526 25        UA       274   N577UA  EWR    LAX  346      2454      5  \n",
              "       minute time_hour          \n",
              "110521 59     2013-12-31 23:00:00\n",
              "110522 59     2013-12-31 23:00:00\n",
              "110523 45     2013-12-31 22:00:00\n",
              "110524  0     2013-12-31 05:00:00\n",
              "110525 15     2013-12-31 05:00:00\n",
              "110526 51     2013-12-31 05:00:00"
            ]
          },
          "metadata": {}
        },
        {
          "output_type": "display_data",
          "data": {
            "text/html": [
              "<table class=\"dataframe\">\n",
              "<caption>A data.frame: 6 × 19</caption>\n",
              "<thead>\n",
              "\t<tr><th></th><th scope=col>year</th><th scope=col>month</th><th scope=col>day</th><th scope=col>dep_time</th><th scope=col>sched_dep_time</th><th scope=col>dep_delay</th><th scope=col>arr_time</th><th scope=col>sched_arr_time</th><th scope=col>arr_delay</th><th scope=col>carrier</th><th scope=col>flight</th><th scope=col>tailnum</th><th scope=col>origin</th><th scope=col>dest</th><th scope=col>air_time</th><th scope=col>distance</th><th scope=col>hour</th><th scope=col>minute</th><th scope=col>time_hour</th></tr>\n",
              "\t<tr><th></th><th scope=col>&lt;int&gt;</th><th scope=col>&lt;int&gt;</th><th scope=col>&lt;int&gt;</th><th scope=col>&lt;int&gt;</th><th scope=col>&lt;int&gt;</th><th scope=col>&lt;int&gt;</th><th scope=col>&lt;int&gt;</th><th scope=col>&lt;int&gt;</th><th scope=col>&lt;int&gt;</th><th scope=col>&lt;chr&gt;</th><th scope=col>&lt;int&gt;</th><th scope=col>&lt;chr&gt;</th><th scope=col>&lt;chr&gt;</th><th scope=col>&lt;chr&gt;</th><th scope=col>&lt;int&gt;</th><th scope=col>&lt;int&gt;</th><th scope=col>&lt;int&gt;</th><th scope=col>&lt;int&gt;</th><th scope=col>&lt;chr&gt;</th></tr>\n",
              "</thead>\n",
              "<tbody>\n",
              "\t<tr><th scope=row>1</th><td>2013</td><td>12</td><td>31</td><td> 13</td><td>2359</td><td> 14</td><td>439</td><td> 437</td><td> 2</td><td>B6</td><td> 839</td><td>N566JB</td><td>JFK</td><td>BQN</td><td>189</td><td>1576</td><td>23</td><td>59</td><td>2013-12-31 23:00:00</td></tr>\n",
              "\t<tr><th scope=row>2</th><td>2013</td><td>12</td><td>31</td><td> 18</td><td>2359</td><td> 19</td><td>449</td><td> 444</td><td> 5</td><td>DL</td><td> 412</td><td>N713TW</td><td>JFK</td><td>SJU</td><td>192</td><td>1598</td><td>23</td><td>59</td><td>2013-12-31 23:00:00</td></tr>\n",
              "\t<tr><th scope=row>3</th><td>2013</td><td>12</td><td>31</td><td> 26</td><td>2245</td><td>101</td><td>129</td><td>2353</td><td>96</td><td>B6</td><td> 108</td><td>N374JB</td><td>JFK</td><td>PWM</td><td> 50</td><td> 273</td><td>22</td><td>45</td><td>2013-12-31 22:00:00</td></tr>\n",
              "\t<tr><th scope=row>4</th><td>2013</td><td>12</td><td>31</td><td>459</td><td> 500</td><td> -1</td><td>655</td><td> 651</td><td> 4</td><td>US</td><td>1895</td><td>N557UW</td><td>EWR</td><td>CLT</td><td> 95</td><td> 529</td><td> 5</td><td> 0</td><td>2013-12-31 05:00:00</td></tr>\n",
              "\t<tr><th scope=row>5</th><td>2013</td><td>12</td><td>31</td><td>514</td><td> 515</td><td> -1</td><td>814</td><td> 812</td><td> 2</td><td>UA</td><td> 700</td><td>N470UA</td><td>EWR</td><td>IAH</td><td>223</td><td>1400</td><td> 5</td><td>15</td><td>2013-12-31 05:00:00</td></tr>\n",
              "\t<tr><th scope=row>6</th><td>2013</td><td>12</td><td>31</td><td>549</td><td> 551</td><td> -2</td><td>925</td><td> 900</td><td>25</td><td>UA</td><td> 274</td><td>N577UA</td><td>EWR</td><td>LAX</td><td>346</td><td>2454</td><td> 5</td><td>51</td><td>2013-12-31 05:00:00</td></tr>\n",
              "</tbody>\n",
              "</table>\n"
            ],
            "text/markdown": "\nA data.frame: 6 × 19\n\n| <!--/--> | year &lt;int&gt; | month &lt;int&gt; | day &lt;int&gt; | dep_time &lt;int&gt; | sched_dep_time &lt;int&gt; | dep_delay &lt;int&gt; | arr_time &lt;int&gt; | sched_arr_time &lt;int&gt; | arr_delay &lt;int&gt; | carrier &lt;chr&gt; | flight &lt;int&gt; | tailnum &lt;chr&gt; | origin &lt;chr&gt; | dest &lt;chr&gt; | air_time &lt;int&gt; | distance &lt;int&gt; | hour &lt;int&gt; | minute &lt;int&gt; | time_hour &lt;chr&gt; |\n|---|---|---|---|---|---|---|---|---|---|---|---|---|---|---|---|---|---|---|---|\n| 1 | 2013 | 12 | 31 |  13 | 2359 |  14 | 439 |  437 |  2 | B6 |  839 | N566JB | JFK | BQN | 189 | 1576 | 23 | 59 | 2013-12-31 23:00:00 |\n| 2 | 2013 | 12 | 31 |  18 | 2359 |  19 | 449 |  444 |  5 | DL |  412 | N713TW | JFK | SJU | 192 | 1598 | 23 | 59 | 2013-12-31 23:00:00 |\n| 3 | 2013 | 12 | 31 |  26 | 2245 | 101 | 129 | 2353 | 96 | B6 |  108 | N374JB | JFK | PWM |  50 |  273 | 22 | 45 | 2013-12-31 22:00:00 |\n| 4 | 2013 | 12 | 31 | 459 |  500 |  -1 | 655 |  651 |  4 | US | 1895 | N557UW | EWR | CLT |  95 |  529 |  5 |  0 | 2013-12-31 05:00:00 |\n| 5 | 2013 | 12 | 31 | 514 |  515 |  -1 | 814 |  812 |  2 | UA |  700 | N470UA | EWR | IAH | 223 | 1400 |  5 | 15 | 2013-12-31 05:00:00 |\n| 6 | 2013 | 12 | 31 | 549 |  551 |  -2 | 925 |  900 | 25 | UA |  274 | N577UA | EWR | LAX | 346 | 2454 |  5 | 51 | 2013-12-31 05:00:00 |\n\n",
            "text/latex": "A data.frame: 6 × 19\n\\begin{tabular}{r|lllllllllllllllllll}\n  & year & month & day & dep\\_time & sched\\_dep\\_time & dep\\_delay & arr\\_time & sched\\_arr\\_time & arr\\_delay & carrier & flight & tailnum & origin & dest & air\\_time & distance & hour & minute & time\\_hour\\\\\n  & <int> & <int> & <int> & <int> & <int> & <int> & <int> & <int> & <int> & <chr> & <int> & <chr> & <chr> & <chr> & <int> & <int> & <int> & <int> & <chr>\\\\\n\\hline\n\t1 & 2013 & 12 & 31 &  13 & 2359 &  14 & 439 &  437 &  2 & B6 &  839 & N566JB & JFK & BQN & 189 & 1576 & 23 & 59 & 2013-12-31 23:00:00\\\\\n\t2 & 2013 & 12 & 31 &  18 & 2359 &  19 & 449 &  444 &  5 & DL &  412 & N713TW & JFK & SJU & 192 & 1598 & 23 & 59 & 2013-12-31 23:00:00\\\\\n\t3 & 2013 & 12 & 31 &  26 & 2245 & 101 & 129 & 2353 & 96 & B6 &  108 & N374JB & JFK & PWM &  50 &  273 & 22 & 45 & 2013-12-31 22:00:00\\\\\n\t4 & 2013 & 12 & 31 & 459 &  500 &  -1 & 655 &  651 &  4 & US & 1895 & N557UW & EWR & CLT &  95 &  529 &  5 &  0 & 2013-12-31 05:00:00\\\\\n\t5 & 2013 & 12 & 31 & 514 &  515 &  -1 & 814 &  812 &  2 & UA &  700 & N470UA & EWR & IAH & 223 & 1400 &  5 & 15 & 2013-12-31 05:00:00\\\\\n\t6 & 2013 & 12 & 31 & 549 &  551 &  -2 & 925 &  900 & 25 & UA &  274 & N577UA & EWR & LAX & 346 & 2454 &  5 & 51 & 2013-12-31 05:00:00\\\\\n\\end{tabular}\n",
            "text/plain": [
              "  year month day dep_time sched_dep_time dep_delay arr_time sched_arr_time\n",
              "1 2013 12    31   13      2359            14       439       437          \n",
              "2 2013 12    31   18      2359            19       449       444          \n",
              "3 2013 12    31   26      2245           101       129      2353          \n",
              "4 2013 12    31  459       500            -1       655       651          \n",
              "5 2013 12    31  514       515            -1       814       812          \n",
              "6 2013 12    31  549       551            -2       925       900          \n",
              "  arr_delay carrier flight tailnum origin dest air_time distance hour minute\n",
              "1  2        B6       839   N566JB  JFK    BQN  189      1576     23   59    \n",
              "2  5        DL       412   N713TW  JFK    SJU  192      1598     23   59    \n",
              "3 96        B6       108   N374JB  JFK    PWM   50       273     22   45    \n",
              "4  4        US      1895   N557UW  EWR    CLT   95       529      5    0    \n",
              "5  2        UA       700   N470UA  EWR    IAH  223      1400      5   15    \n",
              "6 25        UA       274   N577UA  EWR    LAX  346      2454      5   51    \n",
              "  time_hour          \n",
              "1 2013-12-31 23:00:00\n",
              "2 2013-12-31 23:00:00\n",
              "3 2013-12-31 22:00:00\n",
              "4 2013-12-31 05:00:00\n",
              "5 2013-12-31 05:00:00\n",
              "6 2013-12-31 05:00:00"
            ]
          },
          "metadata": {}
        }
      ]
    },
    {
      "cell_type": "markdown",
      "metadata": {
        "id": "H4FP6WNIRPyY"
      },
      "source": [
        "### 4.2 Función count()\n",
        "\n",
        "Como su nombre lo indica, esta función nos permite contar registros de una tabla. Es de suma utilidad cuando se utiliza dentro de agrupaciones de tablas. Estas últimas las veremos más adelante. \n",
        "\n",
        "Alternativamente, en la librería _dplyr_, contamos con la función `N()` la cual también retorna el conteo de registros."
      ]
    },
    {
      "cell_type": "code",
      "metadata": {
        "trusted": true,
        "id": "LmMG115pRPyY",
        "colab": {
          "base_uri": "https://localhost:8080/",
          "height": 1000
        },
        "outputId": "237bd436-097c-4b76-f1d1-1a200e1d32e0"
      },
      "source": [
        "# count() y N() ----------------------------------------------------------------\n",
        "count(vuelos, month, day)\n",
        "\n",
        "# ¿Cuántos vuelos hay registrados para el 25 de dic?¿y el primero de enero?\n",
        "filter(count(vuelos, month, day), month == 12, day == 25)\n"
      ],
      "execution_count": 14,
      "outputs": [
        {
          "output_type": "display_data",
          "data": {
            "text/html": [
              "<table class=\"dataframe\">\n",
              "<caption>A data.frame: 365 × 3</caption>\n",
              "<thead>\n",
              "\t<tr><th scope=col>month</th><th scope=col>day</th><th scope=col>n</th></tr>\n",
              "\t<tr><th scope=col>&lt;int&gt;</th><th scope=col>&lt;int&gt;</th><th scope=col>&lt;int&gt;</th></tr>\n",
              "</thead>\n",
              "<tbody>\n",
              "\t<tr><td>1</td><td> 1</td><td>842</td></tr>\n",
              "\t<tr><td>1</td><td> 2</td><td>943</td></tr>\n",
              "\t<tr><td>1</td><td> 3</td><td>914</td></tr>\n",
              "\t<tr><td>1</td><td> 4</td><td>915</td></tr>\n",
              "\t<tr><td>1</td><td> 5</td><td>720</td></tr>\n",
              "\t<tr><td>1</td><td> 6</td><td>832</td></tr>\n",
              "\t<tr><td>1</td><td> 7</td><td>933</td></tr>\n",
              "\t<tr><td>1</td><td> 8</td><td>899</td></tr>\n",
              "\t<tr><td>1</td><td> 9</td><td>902</td></tr>\n",
              "\t<tr><td>1</td><td>10</td><td>932</td></tr>\n",
              "\t<tr><td>1</td><td>11</td><td>930</td></tr>\n",
              "\t<tr><td>1</td><td>12</td><td>690</td></tr>\n",
              "\t<tr><td>1</td><td>13</td><td>828</td></tr>\n",
              "\t<tr><td>1</td><td>14</td><td>928</td></tr>\n",
              "\t<tr><td>1</td><td>15</td><td>894</td></tr>\n",
              "\t<tr><td>1</td><td>16</td><td>901</td></tr>\n",
              "\t<tr><td>1</td><td>17</td><td>927</td></tr>\n",
              "\t<tr><td>1</td><td>18</td><td>924</td></tr>\n",
              "\t<tr><td>1</td><td>19</td><td>674</td></tr>\n",
              "\t<tr><td>1</td><td>20</td><td>786</td></tr>\n",
              "\t<tr><td>1</td><td>21</td><td>912</td></tr>\n",
              "\t<tr><td>1</td><td>22</td><td>890</td></tr>\n",
              "\t<tr><td>1</td><td>23</td><td>897</td></tr>\n",
              "\t<tr><td>1</td><td>24</td><td>925</td></tr>\n",
              "\t<tr><td>1</td><td>25</td><td>922</td></tr>\n",
              "\t<tr><td>1</td><td>26</td><td>680</td></tr>\n",
              "\t<tr><td>1</td><td>27</td><td>823</td></tr>\n",
              "\t<tr><td>1</td><td>28</td><td>923</td></tr>\n",
              "\t<tr><td>1</td><td>29</td><td>890</td></tr>\n",
              "\t<tr><td>1</td><td>30</td><td>900</td></tr>\n",
              "\t<tr><td>⋮</td><td>⋮</td><td>⋮</td></tr>\n",
              "\t<tr><td>12</td><td> 2</td><td>1004</td></tr>\n",
              "\t<tr><td>12</td><td> 3</td><td> 973</td></tr>\n",
              "\t<tr><td>12</td><td> 4</td><td> 958</td></tr>\n",
              "\t<tr><td>12</td><td> 5</td><td> 969</td></tr>\n",
              "\t<tr><td>12</td><td> 6</td><td> 970</td></tr>\n",
              "\t<tr><td>12</td><td> 7</td><td> 691</td></tr>\n",
              "\t<tr><td>12</td><td> 8</td><td> 875</td></tr>\n",
              "\t<tr><td>12</td><td> 9</td><td> 962</td></tr>\n",
              "\t<tr><td>12</td><td>10</td><td> 943</td></tr>\n",
              "\t<tr><td>12</td><td>11</td><td> 954</td></tr>\n",
              "\t<tr><td>12</td><td>12</td><td> 968</td></tr>\n",
              "\t<tr><td>12</td><td>13</td><td> 970</td></tr>\n",
              "\t<tr><td>12</td><td>14</td><td> 692</td></tr>\n",
              "\t<tr><td>12</td><td>15</td><td> 880</td></tr>\n",
              "\t<tr><td>12</td><td>16</td><td> 964</td></tr>\n",
              "\t<tr><td>12</td><td>17</td><td> 949</td></tr>\n",
              "\t<tr><td>12</td><td>18</td><td> 956</td></tr>\n",
              "\t<tr><td>12</td><td>19</td><td> 974</td></tr>\n",
              "\t<tr><td>12</td><td>20</td><td> 980</td></tr>\n",
              "\t<tr><td>12</td><td>21</td><td> 811</td></tr>\n",
              "\t<tr><td>12</td><td>22</td><td> 895</td></tr>\n",
              "\t<tr><td>12</td><td>23</td><td> 985</td></tr>\n",
              "\t<tr><td>12</td><td>24</td><td> 761</td></tr>\n",
              "\t<tr><td>12</td><td>25</td><td> 719</td></tr>\n",
              "\t<tr><td>12</td><td>26</td><td> 936</td></tr>\n",
              "\t<tr><td>12</td><td>27</td><td> 963</td></tr>\n",
              "\t<tr><td>12</td><td>28</td><td> 814</td></tr>\n",
              "\t<tr><td>12</td><td>29</td><td> 888</td></tr>\n",
              "\t<tr><td>12</td><td>30</td><td> 968</td></tr>\n",
              "\t<tr><td>12</td><td>31</td><td> 776</td></tr>\n",
              "</tbody>\n",
              "</table>\n"
            ],
            "text/markdown": "\nA data.frame: 365 × 3\n\n| month &lt;int&gt; | day &lt;int&gt; | n &lt;int&gt; |\n|---|---|---|\n| 1 |  1 | 842 |\n| 1 |  2 | 943 |\n| 1 |  3 | 914 |\n| 1 |  4 | 915 |\n| 1 |  5 | 720 |\n| 1 |  6 | 832 |\n| 1 |  7 | 933 |\n| 1 |  8 | 899 |\n| 1 |  9 | 902 |\n| 1 | 10 | 932 |\n| 1 | 11 | 930 |\n| 1 | 12 | 690 |\n| 1 | 13 | 828 |\n| 1 | 14 | 928 |\n| 1 | 15 | 894 |\n| 1 | 16 | 901 |\n| 1 | 17 | 927 |\n| 1 | 18 | 924 |\n| 1 | 19 | 674 |\n| 1 | 20 | 786 |\n| 1 | 21 | 912 |\n| 1 | 22 | 890 |\n| 1 | 23 | 897 |\n| 1 | 24 | 925 |\n| 1 | 25 | 922 |\n| 1 | 26 | 680 |\n| 1 | 27 | 823 |\n| 1 | 28 | 923 |\n| 1 | 29 | 890 |\n| 1 | 30 | 900 |\n| ⋮ | ⋮ | ⋮ |\n| 12 |  2 | 1004 |\n| 12 |  3 |  973 |\n| 12 |  4 |  958 |\n| 12 |  5 |  969 |\n| 12 |  6 |  970 |\n| 12 |  7 |  691 |\n| 12 |  8 |  875 |\n| 12 |  9 |  962 |\n| 12 | 10 |  943 |\n| 12 | 11 |  954 |\n| 12 | 12 |  968 |\n| 12 | 13 |  970 |\n| 12 | 14 |  692 |\n| 12 | 15 |  880 |\n| 12 | 16 |  964 |\n| 12 | 17 |  949 |\n| 12 | 18 |  956 |\n| 12 | 19 |  974 |\n| 12 | 20 |  980 |\n| 12 | 21 |  811 |\n| 12 | 22 |  895 |\n| 12 | 23 |  985 |\n| 12 | 24 |  761 |\n| 12 | 25 |  719 |\n| 12 | 26 |  936 |\n| 12 | 27 |  963 |\n| 12 | 28 |  814 |\n| 12 | 29 |  888 |\n| 12 | 30 |  968 |\n| 12 | 31 |  776 |\n\n",
            "text/latex": "A data.frame: 365 × 3\n\\begin{tabular}{lll}\n month & day & n\\\\\n <int> & <int> & <int>\\\\\n\\hline\n\t 1 &  1 & 842\\\\\n\t 1 &  2 & 943\\\\\n\t 1 &  3 & 914\\\\\n\t 1 &  4 & 915\\\\\n\t 1 &  5 & 720\\\\\n\t 1 &  6 & 832\\\\\n\t 1 &  7 & 933\\\\\n\t 1 &  8 & 899\\\\\n\t 1 &  9 & 902\\\\\n\t 1 & 10 & 932\\\\\n\t 1 & 11 & 930\\\\\n\t 1 & 12 & 690\\\\\n\t 1 & 13 & 828\\\\\n\t 1 & 14 & 928\\\\\n\t 1 & 15 & 894\\\\\n\t 1 & 16 & 901\\\\\n\t 1 & 17 & 927\\\\\n\t 1 & 18 & 924\\\\\n\t 1 & 19 & 674\\\\\n\t 1 & 20 & 786\\\\\n\t 1 & 21 & 912\\\\\n\t 1 & 22 & 890\\\\\n\t 1 & 23 & 897\\\\\n\t 1 & 24 & 925\\\\\n\t 1 & 25 & 922\\\\\n\t 1 & 26 & 680\\\\\n\t 1 & 27 & 823\\\\\n\t 1 & 28 & 923\\\\\n\t 1 & 29 & 890\\\\\n\t 1 & 30 & 900\\\\\n\t ⋮ & ⋮ & ⋮\\\\\n\t 12 &  2 & 1004\\\\\n\t 12 &  3 &  973\\\\\n\t 12 &  4 &  958\\\\\n\t 12 &  5 &  969\\\\\n\t 12 &  6 &  970\\\\\n\t 12 &  7 &  691\\\\\n\t 12 &  8 &  875\\\\\n\t 12 &  9 &  962\\\\\n\t 12 & 10 &  943\\\\\n\t 12 & 11 &  954\\\\\n\t 12 & 12 &  968\\\\\n\t 12 & 13 &  970\\\\\n\t 12 & 14 &  692\\\\\n\t 12 & 15 &  880\\\\\n\t 12 & 16 &  964\\\\\n\t 12 & 17 &  949\\\\\n\t 12 & 18 &  956\\\\\n\t 12 & 19 &  974\\\\\n\t 12 & 20 &  980\\\\\n\t 12 & 21 &  811\\\\\n\t 12 & 22 &  895\\\\\n\t 12 & 23 &  985\\\\\n\t 12 & 24 &  761\\\\\n\t 12 & 25 &  719\\\\\n\t 12 & 26 &  936\\\\\n\t 12 & 27 &  963\\\\\n\t 12 & 28 &  814\\\\\n\t 12 & 29 &  888\\\\\n\t 12 & 30 &  968\\\\\n\t 12 & 31 &  776\\\\\n\\end{tabular}\n",
            "text/plain": [
              "    month day n   \n",
              "1   1      1  842 \n",
              "2   1      2  943 \n",
              "3   1      3  914 \n",
              "4   1      4  915 \n",
              "5   1      5  720 \n",
              "6   1      6  832 \n",
              "7   1      7  933 \n",
              "8   1      8  899 \n",
              "9   1      9  902 \n",
              "10  1     10  932 \n",
              "11  1     11  930 \n",
              "12  1     12  690 \n",
              "13  1     13  828 \n",
              "14  1     14  928 \n",
              "15  1     15  894 \n",
              "16  1     16  901 \n",
              "17  1     17  927 \n",
              "18  1     18  924 \n",
              "19  1     19  674 \n",
              "20  1     20  786 \n",
              "21  1     21  912 \n",
              "22  1     22  890 \n",
              "23  1     23  897 \n",
              "24  1     24  925 \n",
              "25  1     25  922 \n",
              "26  1     26  680 \n",
              "27  1     27  823 \n",
              "28  1     28  923 \n",
              "29  1     29  890 \n",
              "30  1     30  900 \n",
              "⋮   ⋮     ⋮   ⋮   \n",
              "336 12     2  1004\n",
              "337 12     3   973\n",
              "338 12     4   958\n",
              "339 12     5   969\n",
              "340 12     6   970\n",
              "341 12     7   691\n",
              "342 12     8   875\n",
              "343 12     9   962\n",
              "344 12    10   943\n",
              "345 12    11   954\n",
              "346 12    12   968\n",
              "347 12    13   970\n",
              "348 12    14   692\n",
              "349 12    15   880\n",
              "350 12    16   964\n",
              "351 12    17   949\n",
              "352 12    18   956\n",
              "353 12    19   974\n",
              "354 12    20   980\n",
              "355 12    21   811\n",
              "356 12    22   895\n",
              "357 12    23   985\n",
              "358 12    24   761\n",
              "359 12    25   719\n",
              "360 12    26   936\n",
              "361 12    27   963\n",
              "362 12    28   814\n",
              "363 12    29   888\n",
              "364 12    30   968\n",
              "365 12    31   776"
            ]
          },
          "metadata": {}
        },
        {
          "output_type": "display_data",
          "data": {
            "text/html": [
              "<table class=\"dataframe\">\n",
              "<caption>A data.frame: 1 × 3</caption>\n",
              "<thead>\n",
              "\t<tr><th scope=col>month</th><th scope=col>day</th><th scope=col>n</th></tr>\n",
              "\t<tr><th scope=col>&lt;int&gt;</th><th scope=col>&lt;int&gt;</th><th scope=col>&lt;int&gt;</th></tr>\n",
              "</thead>\n",
              "<tbody>\n",
              "\t<tr><td>12</td><td>25</td><td>719</td></tr>\n",
              "</tbody>\n",
              "</table>\n"
            ],
            "text/markdown": "\nA data.frame: 1 × 3\n\n| month &lt;int&gt; | day &lt;int&gt; | n &lt;int&gt; |\n|---|---|---|\n| 12 | 25 | 719 |\n\n",
            "text/latex": "A data.frame: 1 × 3\n\\begin{tabular}{lll}\n month & day & n\\\\\n <int> & <int> & <int>\\\\\n\\hline\n\t 12 & 25 & 719\\\\\n\\end{tabular}\n",
            "text/plain": [
              "  month day n  \n",
              "1 12    25  719"
            ]
          },
          "metadata": {}
        }
      ]
    },
    {
      "cell_type": "code",
      "metadata": {
        "trusted": true,
        "id": "pvkqzxk3RPyf"
      },
      "source": [
        "#si quisiéramos guardar resgidtros en el disco, una manera es usando write.csv()\n",
        "aux <- count(vuelos, month, day)\n",
        "write.csv(aux, \"vuelos_dia.csv\")\n"
      ],
      "execution_count": 15,
      "outputs": []
    },
    {
      "cell_type": "code",
      "metadata": {
        "trusted": true,
        "id": "SIuMwcy8RPyh"
      },
      "source": [
        "# ¿Cuántos vuelos hay registrados entre noviembre y diciembre?¿A qué porcentaje del total corresponde?\n"
      ],
      "execution_count": null,
      "outputs": []
    },
    {
      "cell_type": "code",
      "metadata": {
        "trusted": true,
        "id": "3XFpG_fYRPyj",
        "colab": {
          "base_uri": "https://localhost:8080/",
          "height": 34
        },
        "outputId": "cde5ad76-5d00-425a-e7a5-41156e994b60"
      },
      "source": [
        "# ¿Qué porcentaje de vuelos tienen un retraso  (de salida o llegada) mayor a una hora?\n",
        "nrow(filter(vuelos, dep_delay > 60 | arr_delay > 60)) / nrow(vuelos) *100\n",
        "#columnas arr_delay o dep_delay\n"
      ],
      "execution_count": 20,
      "outputs": [
        {
          "output_type": "display_data",
          "data": {
            "text/html": [
              "9.41426942537473"
            ],
            "text/markdown": "9.41426942537473",
            "text/latex": "9.41426942537473",
            "text/plain": [
              "[1] 9.414269"
            ]
          },
          "metadata": {}
        }
      ]
    },
    {
      "cell_type": "code",
      "metadata": {
        "trusted": true,
        "id": "qnB-hTU-RPyl"
      },
      "source": [
        "# ¿Cuántos vuelos llegaron con al menos dos horas de retraso pero no se retrasaron al partir?\n"
      ],
      "execution_count": null,
      "outputs": []
    },
    {
      "cell_type": "markdown",
      "metadata": {
        "id": "zr5FIczKRPym"
      },
      "source": [
        "### 4.3 Función arrange()\n",
        "\n",
        "Esta función nos permite ordernar registros basándose en la indexación de alguna columna. Es el equivalente a la sentencia `order by` en sql. \n",
        "Esta función recibe como argumento principal un dataset a ordenar, y los nombres de las columnas por las cuales se quiere ordenar. Para más información consultar la ayuda de esta función (?arrange)\n"
      ]
    },
    {
      "cell_type": "code",
      "metadata": {
        "trusted": true,
        "id": "aGK8DaZVRPyn",
        "colab": {
          "base_uri": "https://localhost:8080/",
          "height": 1000
        },
        "outputId": "4fc047c0-1573-4d23-c02d-8ded499174af"
      },
      "source": [
        "# arrange() ----------------------------------------------------------------\n",
        "# Ejemplo, podemos ordenar la data flights por mes y arr_delay\n",
        "arrange(vuelos, month, arr_delay)\n"
      ],
      "execution_count": 21,
      "outputs": [
        {
          "output_type": "display_data",
          "data": {
            "text/html": [
              "<table class=\"dataframe\">\n",
              "<caption>A data.frame: 336776 × 19</caption>\n",
              "<thead>\n",
              "\t<tr><th scope=col>year</th><th scope=col>month</th><th scope=col>day</th><th scope=col>dep_time</th><th scope=col>sched_dep_time</th><th scope=col>dep_delay</th><th scope=col>arr_time</th><th scope=col>sched_arr_time</th><th scope=col>arr_delay</th><th scope=col>carrier</th><th scope=col>flight</th><th scope=col>tailnum</th><th scope=col>origin</th><th scope=col>dest</th><th scope=col>air_time</th><th scope=col>distance</th><th scope=col>hour</th><th scope=col>minute</th><th scope=col>time_hour</th></tr>\n",
              "\t<tr><th scope=col>&lt;int&gt;</th><th scope=col>&lt;int&gt;</th><th scope=col>&lt;int&gt;</th><th scope=col>&lt;int&gt;</th><th scope=col>&lt;int&gt;</th><th scope=col>&lt;int&gt;</th><th scope=col>&lt;int&gt;</th><th scope=col>&lt;int&gt;</th><th scope=col>&lt;int&gt;</th><th scope=col>&lt;chr&gt;</th><th scope=col>&lt;int&gt;</th><th scope=col>&lt;chr&gt;</th><th scope=col>&lt;chr&gt;</th><th scope=col>&lt;chr&gt;</th><th scope=col>&lt;int&gt;</th><th scope=col>&lt;int&gt;</th><th scope=col>&lt;int&gt;</th><th scope=col>&lt;int&gt;</th><th scope=col>&lt;chr&gt;</th></tr>\n",
              "</thead>\n",
              "<tbody>\n",
              "\t<tr><td>2013</td><td>1</td><td> 4</td><td>1026</td><td>1030</td><td> -4</td><td>1305</td><td>1415</td><td>-70</td><td>VX</td><td>  23</td><td>N855VA</td><td>JFK</td><td>SFO</td><td>324</td><td>2586</td><td>10</td><td>30</td><td>2013-01-04 10:00:00</td></tr>\n",
              "\t<tr><td>2013</td><td>1</td><td> 3</td><td> 941</td><td> 945</td><td> -4</td><td>1153</td><td>1258</td><td>-65</td><td>B6</td><td> 679</td><td>N789JB</td><td>JFK</td><td>LAX</td><td>297</td><td>2475</td><td> 9</td><td>45</td><td>2013-01-03 09:00:00</td></tr>\n",
              "\t<tr><td>2013</td><td>1</td><td>14</td><td>1840</td><td>1845</td><td> -5</td><td>2117</td><td>2221</td><td>-64</td><td>DL</td><td>2190</td><td>N324US</td><td>JFK</td><td>MIA</td><td>146</td><td>1089</td><td>18</td><td>45</td><td>2013-01-14 18:00:00</td></tr>\n",
              "\t<tr><td>2013</td><td>1</td><td> 3</td><td>1153</td><td>1200</td><td> -7</td><td>1442</td><td>1545</td><td>-63</td><td>VX</td><td>  25</td><td>N847VA</td><td>JFK</td><td>SFO</td><td>333</td><td>2586</td><td>12</td><td> 0</td><td>2013-01-03 12:00:00</td></tr>\n",
              "\t<tr><td>2013</td><td>1</td><td> 3</td><td>1228</td><td>1235</td><td> -7</td><td>1503</td><td>1606</td><td>-63</td><td>DL</td><td>2174</td><td>N389DA</td><td>JFK</td><td>SLC</td><td>260</td><td>1990</td><td>12</td><td>35</td><td>2013-01-03 12:00:00</td></tr>\n",
              "\t<tr><td>2013</td><td>1</td><td>27</td><td>1845</td><td>1850</td><td> -5</td><td>2110</td><td>2212</td><td>-62</td><td>DL</td><td>2159</td><td>N398DA</td><td>JFK</td><td>MCO</td><td>127</td><td> 944</td><td>18</td><td>50</td><td>2013-01-27 18:00:00</td></tr>\n",
              "\t<tr><td>2013</td><td>1</td><td> 3</td><td>1605</td><td>1610</td><td> -5</td><td>1816</td><td>1917</td><td>-61</td><td>DL</td><td>  91</td><td>N3740C</td><td>JFK</td><td>LAS</td><td>282</td><td>2248</td><td>16</td><td>10</td><td>2013-01-03 16:00:00</td></tr>\n",
              "\t<tr><td>2013</td><td>1</td><td> 3</td><td>1857</td><td>1900</td><td> -3</td><td>2200</td><td>2301</td><td>-61</td><td>DL</td><td>1465</td><td>N722TW</td><td>JFK</td><td>SFO</td><td>329</td><td>2586</td><td>19</td><td> 0</td><td>2013-01-03 19:00:00</td></tr>\n",
              "\t<tr><td>2013</td><td>1</td><td> 4</td><td>1219</td><td>1221</td><td> -2</td><td>1454</td><td>1555</td><td>-61</td><td>UA</td><td> 551</td><td>N830UA</td><td>EWR</td><td>SFO</td><td>313</td><td>2565</td><td>12</td><td>21</td><td>2013-01-04 12:00:00</td></tr>\n",
              "\t<tr><td>2013</td><td>1</td><td> 6</td><td> 812</td><td> 819</td><td> -7</td><td>1102</td><td>1203</td><td>-61</td><td>UA</td><td> 665</td><td>N805UA</td><td>EWR</td><td>SFO</td><td>336</td><td>2565</td><td> 8</td><td>19</td><td>2013-01-06 08:00:00</td></tr>\n",
              "\t<tr><td>2013</td><td>1</td><td>12</td><td> 913</td><td> 920</td><td> -7</td><td>1347</td><td>1448</td><td>-61</td><td>DL</td><td> 675</td><td>N711ZX</td><td>JFK</td><td>STT</td><td>181</td><td>1623</td><td> 9</td><td>20</td><td>2013-01-12 09:00:00</td></tr>\n",
              "\t<tr><td>2013</td><td>1</td><td> 3</td><td>1920</td><td>1920</td><td>  0</td><td>2158</td><td>2258</td><td>-60</td><td>DL</td><td>   6</td><td>N3768 </td><td>JFK</td><td>SLC</td><td>250</td><td>1990</td><td>19</td><td>20</td><td>2013-01-03 19:00:00</td></tr>\n",
              "\t<tr><td>2013</td><td>1</td><td> 2</td><td> 654</td><td> 700</td><td> -6</td><td> 946</td><td>1045</td><td>-59</td><td>DL</td><td>1865</td><td>N711ZX</td><td>JFK</td><td>SFO</td><td>323</td><td>2586</td><td> 7</td><td> 0</td><td>2013-01-02 07:00:00</td></tr>\n",
              "\t<tr><td>2013</td><td>1</td><td> 3</td><td>1626</td><td>1630</td><td> -4</td><td>1853</td><td>1952</td><td>-59</td><td>B6</td><td> 675</td><td>N652JB</td><td>JFK</td><td>LAX</td><td>301</td><td>2475</td><td>16</td><td>30</td><td>2013-01-03 16:00:00</td></tr>\n",
              "\t<tr><td>2013</td><td>1</td><td>27</td><td>1839</td><td>1845</td><td> -6</td><td>2038</td><td>2137</td><td>-59</td><td>9E</td><td>3369</td><td>N919XJ</td><td>JFK</td><td>MSY</td><td>166</td><td>1182</td><td>18</td><td>45</td><td>2013-01-27 18:00:00</td></tr>\n",
              "\t<tr><td>2013</td><td>1</td><td>26</td><td>1651</td><td>1659</td><td> -8</td><td>1946</td><td>2044</td><td>-58</td><td>9E</td><td>3375</td><td>N930XJ</td><td>JFK</td><td>SAT</td><td>214</td><td>1587</td><td>16</td><td>59</td><td>2013-01-26 16:00:00</td></tr>\n",
              "\t<tr><td>2013</td><td>1</td><td> 2</td><td> 857</td><td> 900</td><td> -3</td><td>1130</td><td>1227</td><td>-57</td><td>DL</td><td> 120</td><td>N710TW</td><td>JFK</td><td>LAX</td><td>310</td><td>2475</td><td> 9</td><td> 0</td><td>2013-01-02 09:00:00</td></tr>\n",
              "\t<tr><td>2013</td><td>1</td><td> 3</td><td>1957</td><td>1945</td><td> 12</td><td>2232</td><td>2329</td><td>-57</td><td>B6</td><td> 645</td><td>N793JB</td><td>JFK</td><td>SFO</td><td>315</td><td>2586</td><td>19</td><td>45</td><td>2013-01-03 19:00:00</td></tr>\n",
              "\t<tr><td>2013</td><td>1</td><td> 4</td><td> 650</td><td> 655</td><td> -5</td><td> 933</td><td>1030</td><td>-57</td><td>DL</td><td>1415</td><td>N397DA</td><td>JFK</td><td>SLC</td><td>265</td><td>1990</td><td> 6</td><td>55</td><td>2013-01-04 06:00:00</td></tr>\n",
              "\t<tr><td>2013</td><td>1</td><td> 4</td><td> 829</td><td> 830</td><td> -1</td><td>1113</td><td>1210</td><td>-57</td><td>UA</td><td>1480</td><td>N36207</td><td>EWR</td><td>SFO</td><td>326</td><td>2565</td><td> 8</td><td>30</td><td>2013-01-04 08:00:00</td></tr>\n",
              "\t<tr><td>2013</td><td>1</td><td> 4</td><td>1657</td><td>1700</td><td> -3</td><td>1952</td><td>2049</td><td>-57</td><td>DL</td><td>  31</td><td>N722TW</td><td>JFK</td><td>SFO</td><td>326</td><td>2586</td><td>17</td><td> 0</td><td>2013-01-04 17:00:00</td></tr>\n",
              "\t<tr><td>2013</td><td>1</td><td>30</td><td>1915</td><td>1915</td><td>  0</td><td>2133</td><td>2230</td><td>-57</td><td>DL</td><td>1729</td><td>N3754A</td><td>JFK</td><td>LAS</td><td>294</td><td>2248</td><td>19</td><td>15</td><td>2013-01-30 19:00:00</td></tr>\n",
              "\t<tr><td>2013</td><td>1</td><td> 3</td><td>1806</td><td>1810</td><td> -4</td><td>2036</td><td>2132</td><td>-56</td><td>B6</td><td> 217</td><td>N559JB</td><td>JFK</td><td>LGB</td><td>293</td><td>2465</td><td>18</td><td>10</td><td>2013-01-03 18:00:00</td></tr>\n",
              "\t<tr><td>2013</td><td>1</td><td> 3</td><td>1919</td><td>1920</td><td> -1</td><td>2219</td><td>2315</td><td>-56</td><td>DL</td><td>1345</td><td>N3769L</td><td>JFK</td><td>PHX</td><td>273</td><td>2153</td><td>19</td><td>20</td><td>2013-01-03 19:00:00</td></tr>\n",
              "\t<tr><td>2013</td><td>1</td><td>14</td><td>1838</td><td>1850</td><td>-12</td><td>2116</td><td>2212</td><td>-56</td><td>DL</td><td>2159</td><td>N384DA</td><td>JFK</td><td>MCO</td><td>135</td><td> 944</td><td>18</td><td>50</td><td>2013-01-14 18:00:00</td></tr>\n",
              "\t<tr><td>2013</td><td>1</td><td> 2</td><td>1240</td><td>1245</td><td> -5</td><td>1521</td><td>1616</td><td>-55</td><td>DL</td><td>2174</td><td>N3751B</td><td>JFK</td><td>SLC</td><td>264</td><td>1990</td><td>12</td><td>45</td><td>2013-01-02 12:00:00</td></tr>\n",
              "\t<tr><td>2013</td><td>1</td><td> 4</td><td>1118</td><td>1130</td><td>-12</td><td>1350</td><td>1445</td><td>-55</td><td>UA</td><td> 703</td><td>N512UA</td><td>JFK</td><td>LAX</td><td>309</td><td>2475</td><td>11</td><td>30</td><td>2013-01-04 11:00:00</td></tr>\n",
              "\t<tr><td>2013</td><td>1</td><td> 8</td><td>1847</td><td>1850</td><td> -3</td><td>2117</td><td>2212</td><td>-55</td><td>DL</td><td>2159</td><td>N386DA</td><td>JFK</td><td>MCO</td><td>132</td><td> 944</td><td>18</td><td>50</td><td>2013-01-08 18:00:00</td></tr>\n",
              "\t<tr><td>2013</td><td>1</td><td>11</td><td>1845</td><td>1850</td><td> -5</td><td>2117</td><td>2212</td><td>-55</td><td>DL</td><td>2159</td><td>N3768 </td><td>JFK</td><td>MCO</td><td>125</td><td> 944</td><td>18</td><td>50</td><td>2013-01-11 18:00:00</td></tr>\n",
              "\t<tr><td>2013</td><td>1</td><td>13</td><td> 723</td><td> 730</td><td> -7</td><td>1020</td><td>1115</td><td>-55</td><td>VX</td><td>  11</td><td>N841VA</td><td>JFK</td><td>SFO</td><td>339</td><td>2586</td><td> 7</td><td>30</td><td>2013-01-13 07:00:00</td></tr>\n",
              "\t<tr><td>⋮</td><td>⋮</td><td>⋮</td><td>⋮</td><td>⋮</td><td>⋮</td><td>⋮</td><td>⋮</td><td>⋮</td><td>⋮</td><td>⋮</td><td>⋮</td><td>⋮</td><td>⋮</td><td>⋮</td><td>⋮</td><td>⋮</td><td>⋮</td><td>⋮</td></tr>\n",
              "\t<tr><td>2013</td><td>12</td><td>30</td><td>  NA</td><td>1635</td><td>NA</td><td> NA</td><td>1825</td><td>NA</td><td>AA</td><td> 343</td><td>N4XVAA</td><td>LGA</td><td>ORD</td><td>NA</td><td> 733</td><td>16</td><td>35</td><td>2013-12-30 16:00:00</td></tr>\n",
              "\t<tr><td>2013</td><td>12</td><td>30</td><td>  NA</td><td> 600</td><td>NA</td><td> NA</td><td> 855</td><td>NA</td><td>B6</td><td> 605</td><td>N708JB</td><td>EWR</td><td>FLL</td><td>NA</td><td>1065</td><td> 6</td><td> 0</td><td>2013-12-30 06:00:00</td></tr>\n",
              "\t<tr><td>2013</td><td>12</td><td>30</td><td>  NA</td><td>1430</td><td>NA</td><td> NA</td><td>1626</td><td>NA</td><td>EV</td><td>4261</td><td>N27200</td><td>LGA</td><td>CLE</td><td>NA</td><td> 419</td><td>14</td><td>30</td><td>2013-12-30 14:00:00</td></tr>\n",
              "\t<tr><td>2013</td><td>12</td><td>30</td><td>  NA</td><td>1350</td><td>NA</td><td> NA</td><td>1602</td><td>NA</td><td>EV</td><td>4193</td><td>N36915</td><td>EWR</td><td>MSP</td><td>NA</td><td>1008</td><td>13</td><td>50</td><td>2013-12-30 13:00:00</td></tr>\n",
              "\t<tr><td>2013</td><td>12</td><td>30</td><td>  NA</td><td>1452</td><td>NA</td><td> NA</td><td>1559</td><td>NA</td><td>EV</td><td>4372</td><td>N14573</td><td>EWR</td><td>DCA</td><td>NA</td><td> 199</td><td>14</td><td>52</td><td>2013-12-30 14:00:00</td></tr>\n",
              "\t<tr><td>2013</td><td>12</td><td>30</td><td>  NA</td><td>1935</td><td>NA</td><td> NA</td><td>2055</td><td>NA</td><td>EV</td><td>5714</td><td>N832AS</td><td>JFK</td><td>IAD</td><td>NA</td><td> 228</td><td>19</td><td>35</td><td>2013-12-30 19:00:00</td></tr>\n",
              "\t<tr><td>2013</td><td>12</td><td>30</td><td>  NA</td><td>1011</td><td>NA</td><td> NA</td><td>1134</td><td>NA</td><td>EV</td><td>6054</td><td>N16919</td><td>EWR</td><td>IAD</td><td>NA</td><td> 212</td><td>10</td><td>11</td><td>2013-12-30 10:00:00</td></tr>\n",
              "\t<tr><td>2013</td><td>12</td><td>30</td><td>  NA</td><td> 605</td><td>NA</td><td> NA</td><td> 723</td><td>NA</td><td>EV</td><td>6177</td><td>N13553</td><td>EWR</td><td>IAD</td><td>NA</td><td> 212</td><td> 6</td><td> 5</td><td>2013-12-30 06:00:00</td></tr>\n",
              "\t<tr><td>2013</td><td>12</td><td>30</td><td>  NA</td><td>1505</td><td>NA</td><td> NA</td><td>1759</td><td>NA</td><td>UA</td><td> 321</td><td>NA    </td><td>EWR</td><td>MCO</td><td>NA</td><td> 937</td><td>15</td><td> 5</td><td>2013-12-30 15:00:00</td></tr>\n",
              "\t<tr><td>2013</td><td>12</td><td>30</td><td>  NA</td><td>1355</td><td>NA</td><td> NA</td><td>1535</td><td>NA</td><td>MQ</td><td>3305</td><td>N821MQ</td><td>LGA</td><td>RDU</td><td>NA</td><td> 431</td><td>13</td><td>55</td><td>2013-12-30 13:00:00</td></tr>\n",
              "\t<tr><td>2013</td><td>12</td><td>30</td><td>  NA</td><td>2100</td><td>NA</td><td> NA</td><td>  48</td><td>NA</td><td>UA</td><td>1081</td><td>NA    </td><td>EWR</td><td>SFO</td><td>NA</td><td>2565</td><td>21</td><td> 0</td><td>2013-12-30 21:00:00</td></tr>\n",
              "\t<tr><td>2013</td><td>12</td><td>30</td><td>  NA</td><td>1221</td><td>NA</td><td> NA</td><td>1545</td><td>NA</td><td>UA</td><td>1297</td><td>NA    </td><td>EWR</td><td>SNA</td><td>NA</td><td>2434</td><td>12</td><td>21</td><td>2013-12-30 12:00:00</td></tr>\n",
              "\t<tr><td>2013</td><td>12</td><td>30</td><td>  NA</td><td> 855</td><td>NA</td><td> NA</td><td>1142</td><td>NA</td><td>UA</td><td>1506</td><td>NA    </td><td>EWR</td><td>JAC</td><td>NA</td><td>1874</td><td> 8</td><td>55</td><td>2013-12-30 08:00:00</td></tr>\n",
              "\t<tr><td>2013</td><td>12</td><td>31</td><td>2155</td><td>2039</td><td>76</td><td>253</td><td>2355</td><td>NA</td><td>B6</td><td>1205</td><td>N627JB</td><td>JFK</td><td>PDX</td><td>NA</td><td>2454</td><td>20</td><td>39</td><td>2013-12-31 20:00:00</td></tr>\n",
              "\t<tr><td>2013</td><td>12</td><td>31</td><td>  NA</td><td>1520</td><td>NA</td><td> NA</td><td>1705</td><td>NA</td><td>AA</td><td> 341</td><td>N568AA</td><td>LGA</td><td>ORD</td><td>NA</td><td> 733</td><td>15</td><td>20</td><td>2013-12-31 15:00:00</td></tr>\n",
              "\t<tr><td>2013</td><td>12</td><td>31</td><td>  NA</td><td>2025</td><td>NA</td><td> NA</td><td>2205</td><td>NA</td><td>AA</td><td> 371</td><td>N482AA</td><td>LGA</td><td>ORD</td><td>NA</td><td> 733</td><td>20</td><td>25</td><td>2013-12-31 20:00:00</td></tr>\n",
              "\t<tr><td>2013</td><td>12</td><td>31</td><td>  NA</td><td>1932</td><td>NA</td><td> NA</td><td>2305</td><td>NA</td><td>B6</td><td> 161</td><td>N516JB</td><td>JFK</td><td>SMF</td><td>NA</td><td>2521</td><td>19</td><td>32</td><td>2013-12-31 19:00:00</td></tr>\n",
              "\t<tr><td>2013</td><td>12</td><td>31</td><td>  NA</td><td>1505</td><td>NA</td><td> NA</td><td>1725</td><td>NA</td><td>EV</td><td>4181</td><td>N24103</td><td>EWR</td><td>MCI</td><td>NA</td><td>1092</td><td>15</td><td> 5</td><td>2013-12-31 15:00:00</td></tr>\n",
              "\t<tr><td>2013</td><td>12</td><td>31</td><td>  NA</td><td>1000</td><td>NA</td><td> NA</td><td>1252</td><td>NA</td><td>UA</td><td>1124</td><td>NA    </td><td>EWR</td><td>EGE</td><td>NA</td><td>1725</td><td>10</td><td> 0</td><td>2013-12-31 10:00:00</td></tr>\n",
              "\t<tr><td>2013</td><td>12</td><td>31</td><td>  NA</td><td> 840</td><td>NA</td><td> NA</td><td>1205</td><td>NA</td><td>UA</td><td>1151</td><td>NA    </td><td>EWR</td><td>SEA</td><td>NA</td><td>2402</td><td> 8</td><td>40</td><td>2013-12-31 08:00:00</td></tr>\n",
              "\t<tr><td>2013</td><td>12</td><td>31</td><td>  NA</td><td> 754</td><td>NA</td><td> NA</td><td>1118</td><td>NA</td><td>UA</td><td>1455</td><td>NA    </td><td>EWR</td><td>LAX</td><td>NA</td><td>2454</td><td> 7</td><td>54</td><td>2013-12-31 07:00:00</td></tr>\n",
              "\t<tr><td>2013</td><td>12</td><td>31</td><td>  NA</td><td>2000</td><td>NA</td><td> NA</td><td>2146</td><td>NA</td><td>UA</td><td>1482</td><td>NA    </td><td>EWR</td><td>ORD</td><td>NA</td><td> 719</td><td>20</td><td> 0</td><td>2013-12-31 20:00:00</td></tr>\n",
              "\t<tr><td>2013</td><td>12</td><td>31</td><td>  NA</td><td>1500</td><td>NA</td><td> NA</td><td>1817</td><td>NA</td><td>UA</td><td>1483</td><td>NA    </td><td>EWR</td><td>AUS</td><td>NA</td><td>1504</td><td>15</td><td> 0</td><td>2013-12-31 15:00:00</td></tr>\n",
              "\t<tr><td>2013</td><td>12</td><td>31</td><td>  NA</td><td>1430</td><td>NA</td><td> NA</td><td>1750</td><td>NA</td><td>UA</td><td>1493</td><td>NA    </td><td>EWR</td><td>LAX</td><td>NA</td><td>2454</td><td>14</td><td>30</td><td>2013-12-31 14:00:00</td></tr>\n",
              "\t<tr><td>2013</td><td>12</td><td>31</td><td>  NA</td><td> 855</td><td>NA</td><td> NA</td><td>1142</td><td>NA</td><td>UA</td><td>1506</td><td>NA    </td><td>EWR</td><td>JAC</td><td>NA</td><td>1874</td><td> 8</td><td>55</td><td>2013-12-31 08:00:00</td></tr>\n",
              "\t<tr><td>2013</td><td>12</td><td>31</td><td>  NA</td><td> 705</td><td>NA</td><td> NA</td><td> 931</td><td>NA</td><td>UA</td><td>1729</td><td>NA    </td><td>EWR</td><td>DEN</td><td>NA</td><td>1605</td><td> 7</td><td> 5</td><td>2013-12-31 07:00:00</td></tr>\n",
              "\t<tr><td>2013</td><td>12</td><td>31</td><td>  NA</td><td> 825</td><td>NA</td><td> NA</td><td>1029</td><td>NA</td><td>US</td><td>1831</td><td>NA    </td><td>JFK</td><td>CLT</td><td>NA</td><td> 541</td><td> 8</td><td>25</td><td>2013-12-31 08:00:00</td></tr>\n",
              "\t<tr><td>2013</td><td>12</td><td>31</td><td>  NA</td><td>1615</td><td>NA</td><td> NA</td><td>1800</td><td>NA</td><td>MQ</td><td>3301</td><td>N844MQ</td><td>LGA</td><td>RDU</td><td>NA</td><td> 431</td><td>16</td><td>15</td><td>2013-12-31 16:00:00</td></tr>\n",
              "\t<tr><td>2013</td><td>12</td><td>31</td><td>  NA</td><td> 600</td><td>NA</td><td> NA</td><td> 735</td><td>NA</td><td>UA</td><td> 219</td><td>NA    </td><td>EWR</td><td>ORD</td><td>NA</td><td> 719</td><td> 6</td><td> 0</td><td>2013-12-31 06:00:00</td></tr>\n",
              "\t<tr><td>2013</td><td>12</td><td>31</td><td>  NA</td><td> 830</td><td>NA</td><td> NA</td><td>1154</td><td>NA</td><td>UA</td><td> 443</td><td>NA    </td><td>JFK</td><td>LAX</td><td>NA</td><td>2475</td><td> 8</td><td>30</td><td>2013-12-31 08:00:00</td></tr>\n",
              "</tbody>\n",
              "</table>\n"
            ],
            "text/markdown": "\nA data.frame: 336776 × 19\n\n| year &lt;int&gt; | month &lt;int&gt; | day &lt;int&gt; | dep_time &lt;int&gt; | sched_dep_time &lt;int&gt; | dep_delay &lt;int&gt; | arr_time &lt;int&gt; | sched_arr_time &lt;int&gt; | arr_delay &lt;int&gt; | carrier &lt;chr&gt; | flight &lt;int&gt; | tailnum &lt;chr&gt; | origin &lt;chr&gt; | dest &lt;chr&gt; | air_time &lt;int&gt; | distance &lt;int&gt; | hour &lt;int&gt; | minute &lt;int&gt; | time_hour &lt;chr&gt; |\n|---|---|---|---|---|---|---|---|---|---|---|---|---|---|---|---|---|---|---|\n| 2013 | 1 |  4 | 1026 | 1030 |  -4 | 1305 | 1415 | -70 | VX |   23 | N855VA | JFK | SFO | 324 | 2586 | 10 | 30 | 2013-01-04 10:00:00 |\n| 2013 | 1 |  3 |  941 |  945 |  -4 | 1153 | 1258 | -65 | B6 |  679 | N789JB | JFK | LAX | 297 | 2475 |  9 | 45 | 2013-01-03 09:00:00 |\n| 2013 | 1 | 14 | 1840 | 1845 |  -5 | 2117 | 2221 | -64 | DL | 2190 | N324US | JFK | MIA | 146 | 1089 | 18 | 45 | 2013-01-14 18:00:00 |\n| 2013 | 1 |  3 | 1153 | 1200 |  -7 | 1442 | 1545 | -63 | VX |   25 | N847VA | JFK | SFO | 333 | 2586 | 12 |  0 | 2013-01-03 12:00:00 |\n| 2013 | 1 |  3 | 1228 | 1235 |  -7 | 1503 | 1606 | -63 | DL | 2174 | N389DA | JFK | SLC | 260 | 1990 | 12 | 35 | 2013-01-03 12:00:00 |\n| 2013 | 1 | 27 | 1845 | 1850 |  -5 | 2110 | 2212 | -62 | DL | 2159 | N398DA | JFK | MCO | 127 |  944 | 18 | 50 | 2013-01-27 18:00:00 |\n| 2013 | 1 |  3 | 1605 | 1610 |  -5 | 1816 | 1917 | -61 | DL |   91 | N3740C | JFK | LAS | 282 | 2248 | 16 | 10 | 2013-01-03 16:00:00 |\n| 2013 | 1 |  3 | 1857 | 1900 |  -3 | 2200 | 2301 | -61 | DL | 1465 | N722TW | JFK | SFO | 329 | 2586 | 19 |  0 | 2013-01-03 19:00:00 |\n| 2013 | 1 |  4 | 1219 | 1221 |  -2 | 1454 | 1555 | -61 | UA |  551 | N830UA | EWR | SFO | 313 | 2565 | 12 | 21 | 2013-01-04 12:00:00 |\n| 2013 | 1 |  6 |  812 |  819 |  -7 | 1102 | 1203 | -61 | UA |  665 | N805UA | EWR | SFO | 336 | 2565 |  8 | 19 | 2013-01-06 08:00:00 |\n| 2013 | 1 | 12 |  913 |  920 |  -7 | 1347 | 1448 | -61 | DL |  675 | N711ZX | JFK | STT | 181 | 1623 |  9 | 20 | 2013-01-12 09:00:00 |\n| 2013 | 1 |  3 | 1920 | 1920 |   0 | 2158 | 2258 | -60 | DL |    6 | N3768  | JFK | SLC | 250 | 1990 | 19 | 20 | 2013-01-03 19:00:00 |\n| 2013 | 1 |  2 |  654 |  700 |  -6 |  946 | 1045 | -59 | DL | 1865 | N711ZX | JFK | SFO | 323 | 2586 |  7 |  0 | 2013-01-02 07:00:00 |\n| 2013 | 1 |  3 | 1626 | 1630 |  -4 | 1853 | 1952 | -59 | B6 |  675 | N652JB | JFK | LAX | 301 | 2475 | 16 | 30 | 2013-01-03 16:00:00 |\n| 2013 | 1 | 27 | 1839 | 1845 |  -6 | 2038 | 2137 | -59 | 9E | 3369 | N919XJ | JFK | MSY | 166 | 1182 | 18 | 45 | 2013-01-27 18:00:00 |\n| 2013 | 1 | 26 | 1651 | 1659 |  -8 | 1946 | 2044 | -58 | 9E | 3375 | N930XJ | JFK | SAT | 214 | 1587 | 16 | 59 | 2013-01-26 16:00:00 |\n| 2013 | 1 |  2 |  857 |  900 |  -3 | 1130 | 1227 | -57 | DL |  120 | N710TW | JFK | LAX | 310 | 2475 |  9 |  0 | 2013-01-02 09:00:00 |\n| 2013 | 1 |  3 | 1957 | 1945 |  12 | 2232 | 2329 | -57 | B6 |  645 | N793JB | JFK | SFO | 315 | 2586 | 19 | 45 | 2013-01-03 19:00:00 |\n| 2013 | 1 |  4 |  650 |  655 |  -5 |  933 | 1030 | -57 | DL | 1415 | N397DA | JFK | SLC | 265 | 1990 |  6 | 55 | 2013-01-04 06:00:00 |\n| 2013 | 1 |  4 |  829 |  830 |  -1 | 1113 | 1210 | -57 | UA | 1480 | N36207 | EWR | SFO | 326 | 2565 |  8 | 30 | 2013-01-04 08:00:00 |\n| 2013 | 1 |  4 | 1657 | 1700 |  -3 | 1952 | 2049 | -57 | DL |   31 | N722TW | JFK | SFO | 326 | 2586 | 17 |  0 | 2013-01-04 17:00:00 |\n| 2013 | 1 | 30 | 1915 | 1915 |   0 | 2133 | 2230 | -57 | DL | 1729 | N3754A | JFK | LAS | 294 | 2248 | 19 | 15 | 2013-01-30 19:00:00 |\n| 2013 | 1 |  3 | 1806 | 1810 |  -4 | 2036 | 2132 | -56 | B6 |  217 | N559JB | JFK | LGB | 293 | 2465 | 18 | 10 | 2013-01-03 18:00:00 |\n| 2013 | 1 |  3 | 1919 | 1920 |  -1 | 2219 | 2315 | -56 | DL | 1345 | N3769L | JFK | PHX | 273 | 2153 | 19 | 20 | 2013-01-03 19:00:00 |\n| 2013 | 1 | 14 | 1838 | 1850 | -12 | 2116 | 2212 | -56 | DL | 2159 | N384DA | JFK | MCO | 135 |  944 | 18 | 50 | 2013-01-14 18:00:00 |\n| 2013 | 1 |  2 | 1240 | 1245 |  -5 | 1521 | 1616 | -55 | DL | 2174 | N3751B | JFK | SLC | 264 | 1990 | 12 | 45 | 2013-01-02 12:00:00 |\n| 2013 | 1 |  4 | 1118 | 1130 | -12 | 1350 | 1445 | -55 | UA |  703 | N512UA | JFK | LAX | 309 | 2475 | 11 | 30 | 2013-01-04 11:00:00 |\n| 2013 | 1 |  8 | 1847 | 1850 |  -3 | 2117 | 2212 | -55 | DL | 2159 | N386DA | JFK | MCO | 132 |  944 | 18 | 50 | 2013-01-08 18:00:00 |\n| 2013 | 1 | 11 | 1845 | 1850 |  -5 | 2117 | 2212 | -55 | DL | 2159 | N3768  | JFK | MCO | 125 |  944 | 18 | 50 | 2013-01-11 18:00:00 |\n| 2013 | 1 | 13 |  723 |  730 |  -7 | 1020 | 1115 | -55 | VX |   11 | N841VA | JFK | SFO | 339 | 2586 |  7 | 30 | 2013-01-13 07:00:00 |\n| ⋮ | ⋮ | ⋮ | ⋮ | ⋮ | ⋮ | ⋮ | ⋮ | ⋮ | ⋮ | ⋮ | ⋮ | ⋮ | ⋮ | ⋮ | ⋮ | ⋮ | ⋮ | ⋮ |\n| 2013 | 12 | 30 |   NA | 1635 | NA |  NA | 1825 | NA | AA |  343 | N4XVAA | LGA | ORD | NA |  733 | 16 | 35 | 2013-12-30 16:00:00 |\n| 2013 | 12 | 30 |   NA |  600 | NA |  NA |  855 | NA | B6 |  605 | N708JB | EWR | FLL | NA | 1065 |  6 |  0 | 2013-12-30 06:00:00 |\n| 2013 | 12 | 30 |   NA | 1430 | NA |  NA | 1626 | NA | EV | 4261 | N27200 | LGA | CLE | NA |  419 | 14 | 30 | 2013-12-30 14:00:00 |\n| 2013 | 12 | 30 |   NA | 1350 | NA |  NA | 1602 | NA | EV | 4193 | N36915 | EWR | MSP | NA | 1008 | 13 | 50 | 2013-12-30 13:00:00 |\n| 2013 | 12 | 30 |   NA | 1452 | NA |  NA | 1559 | NA | EV | 4372 | N14573 | EWR | DCA | NA |  199 | 14 | 52 | 2013-12-30 14:00:00 |\n| 2013 | 12 | 30 |   NA | 1935 | NA |  NA | 2055 | NA | EV | 5714 | N832AS | JFK | IAD | NA |  228 | 19 | 35 | 2013-12-30 19:00:00 |\n| 2013 | 12 | 30 |   NA | 1011 | NA |  NA | 1134 | NA | EV | 6054 | N16919 | EWR | IAD | NA |  212 | 10 | 11 | 2013-12-30 10:00:00 |\n| 2013 | 12 | 30 |   NA |  605 | NA |  NA |  723 | NA | EV | 6177 | N13553 | EWR | IAD | NA |  212 |  6 |  5 | 2013-12-30 06:00:00 |\n| 2013 | 12 | 30 |   NA | 1505 | NA |  NA | 1759 | NA | UA |  321 | NA     | EWR | MCO | NA |  937 | 15 |  5 | 2013-12-30 15:00:00 |\n| 2013 | 12 | 30 |   NA | 1355 | NA |  NA | 1535 | NA | MQ | 3305 | N821MQ | LGA | RDU | NA |  431 | 13 | 55 | 2013-12-30 13:00:00 |\n| 2013 | 12 | 30 |   NA | 2100 | NA |  NA |   48 | NA | UA | 1081 | NA     | EWR | SFO | NA | 2565 | 21 |  0 | 2013-12-30 21:00:00 |\n| 2013 | 12 | 30 |   NA | 1221 | NA |  NA | 1545 | NA | UA | 1297 | NA     | EWR | SNA | NA | 2434 | 12 | 21 | 2013-12-30 12:00:00 |\n| 2013 | 12 | 30 |   NA |  855 | NA |  NA | 1142 | NA | UA | 1506 | NA     | EWR | JAC | NA | 1874 |  8 | 55 | 2013-12-30 08:00:00 |\n| 2013 | 12 | 31 | 2155 | 2039 | 76 | 253 | 2355 | NA | B6 | 1205 | N627JB | JFK | PDX | NA | 2454 | 20 | 39 | 2013-12-31 20:00:00 |\n| 2013 | 12 | 31 |   NA | 1520 | NA |  NA | 1705 | NA | AA |  341 | N568AA | LGA | ORD | NA |  733 | 15 | 20 | 2013-12-31 15:00:00 |\n| 2013 | 12 | 31 |   NA | 2025 | NA |  NA | 2205 | NA | AA |  371 | N482AA | LGA | ORD | NA |  733 | 20 | 25 | 2013-12-31 20:00:00 |\n| 2013 | 12 | 31 |   NA | 1932 | NA |  NA | 2305 | NA | B6 |  161 | N516JB | JFK | SMF | NA | 2521 | 19 | 32 | 2013-12-31 19:00:00 |\n| 2013 | 12 | 31 |   NA | 1505 | NA |  NA | 1725 | NA | EV | 4181 | N24103 | EWR | MCI | NA | 1092 | 15 |  5 | 2013-12-31 15:00:00 |\n| 2013 | 12 | 31 |   NA | 1000 | NA |  NA | 1252 | NA | UA | 1124 | NA     | EWR | EGE | NA | 1725 | 10 |  0 | 2013-12-31 10:00:00 |\n| 2013 | 12 | 31 |   NA |  840 | NA |  NA | 1205 | NA | UA | 1151 | NA     | EWR | SEA | NA | 2402 |  8 | 40 | 2013-12-31 08:00:00 |\n| 2013 | 12 | 31 |   NA |  754 | NA |  NA | 1118 | NA | UA | 1455 | NA     | EWR | LAX | NA | 2454 |  7 | 54 | 2013-12-31 07:00:00 |\n| 2013 | 12 | 31 |   NA | 2000 | NA |  NA | 2146 | NA | UA | 1482 | NA     | EWR | ORD | NA |  719 | 20 |  0 | 2013-12-31 20:00:00 |\n| 2013 | 12 | 31 |   NA | 1500 | NA |  NA | 1817 | NA | UA | 1483 | NA     | EWR | AUS | NA | 1504 | 15 |  0 | 2013-12-31 15:00:00 |\n| 2013 | 12 | 31 |   NA | 1430 | NA |  NA | 1750 | NA | UA | 1493 | NA     | EWR | LAX | NA | 2454 | 14 | 30 | 2013-12-31 14:00:00 |\n| 2013 | 12 | 31 |   NA |  855 | NA |  NA | 1142 | NA | UA | 1506 | NA     | EWR | JAC | NA | 1874 |  8 | 55 | 2013-12-31 08:00:00 |\n| 2013 | 12 | 31 |   NA |  705 | NA |  NA |  931 | NA | UA | 1729 | NA     | EWR | DEN | NA | 1605 |  7 |  5 | 2013-12-31 07:00:00 |\n| 2013 | 12 | 31 |   NA |  825 | NA |  NA | 1029 | NA | US | 1831 | NA     | JFK | CLT | NA |  541 |  8 | 25 | 2013-12-31 08:00:00 |\n| 2013 | 12 | 31 |   NA | 1615 | NA |  NA | 1800 | NA | MQ | 3301 | N844MQ | LGA | RDU | NA |  431 | 16 | 15 | 2013-12-31 16:00:00 |\n| 2013 | 12 | 31 |   NA |  600 | NA |  NA |  735 | NA | UA |  219 | NA     | EWR | ORD | NA |  719 |  6 |  0 | 2013-12-31 06:00:00 |\n| 2013 | 12 | 31 |   NA |  830 | NA |  NA | 1154 | NA | UA |  443 | NA     | JFK | LAX | NA | 2475 |  8 | 30 | 2013-12-31 08:00:00 |\n\n",
            "text/latex": "A data.frame: 336776 × 19\n\\begin{tabular}{lllllllllllllllllll}\n year & month & day & dep\\_time & sched\\_dep\\_time & dep\\_delay & arr\\_time & sched\\_arr\\_time & arr\\_delay & carrier & flight & tailnum & origin & dest & air\\_time & distance & hour & minute & time\\_hour\\\\\n <int> & <int> & <int> & <int> & <int> & <int> & <int> & <int> & <int> & <chr> & <int> & <chr> & <chr> & <chr> & <int> & <int> & <int> & <int> & <chr>\\\\\n\\hline\n\t 2013 & 1 &  4 & 1026 & 1030 &  -4 & 1305 & 1415 & -70 & VX &   23 & N855VA & JFK & SFO & 324 & 2586 & 10 & 30 & 2013-01-04 10:00:00\\\\\n\t 2013 & 1 &  3 &  941 &  945 &  -4 & 1153 & 1258 & -65 & B6 &  679 & N789JB & JFK & LAX & 297 & 2475 &  9 & 45 & 2013-01-03 09:00:00\\\\\n\t 2013 & 1 & 14 & 1840 & 1845 &  -5 & 2117 & 2221 & -64 & DL & 2190 & N324US & JFK & MIA & 146 & 1089 & 18 & 45 & 2013-01-14 18:00:00\\\\\n\t 2013 & 1 &  3 & 1153 & 1200 &  -7 & 1442 & 1545 & -63 & VX &   25 & N847VA & JFK & SFO & 333 & 2586 & 12 &  0 & 2013-01-03 12:00:00\\\\\n\t 2013 & 1 &  3 & 1228 & 1235 &  -7 & 1503 & 1606 & -63 & DL & 2174 & N389DA & JFK & SLC & 260 & 1990 & 12 & 35 & 2013-01-03 12:00:00\\\\\n\t 2013 & 1 & 27 & 1845 & 1850 &  -5 & 2110 & 2212 & -62 & DL & 2159 & N398DA & JFK & MCO & 127 &  944 & 18 & 50 & 2013-01-27 18:00:00\\\\\n\t 2013 & 1 &  3 & 1605 & 1610 &  -5 & 1816 & 1917 & -61 & DL &   91 & N3740C & JFK & LAS & 282 & 2248 & 16 & 10 & 2013-01-03 16:00:00\\\\\n\t 2013 & 1 &  3 & 1857 & 1900 &  -3 & 2200 & 2301 & -61 & DL & 1465 & N722TW & JFK & SFO & 329 & 2586 & 19 &  0 & 2013-01-03 19:00:00\\\\\n\t 2013 & 1 &  4 & 1219 & 1221 &  -2 & 1454 & 1555 & -61 & UA &  551 & N830UA & EWR & SFO & 313 & 2565 & 12 & 21 & 2013-01-04 12:00:00\\\\\n\t 2013 & 1 &  6 &  812 &  819 &  -7 & 1102 & 1203 & -61 & UA &  665 & N805UA & EWR & SFO & 336 & 2565 &  8 & 19 & 2013-01-06 08:00:00\\\\\n\t 2013 & 1 & 12 &  913 &  920 &  -7 & 1347 & 1448 & -61 & DL &  675 & N711ZX & JFK & STT & 181 & 1623 &  9 & 20 & 2013-01-12 09:00:00\\\\\n\t 2013 & 1 &  3 & 1920 & 1920 &   0 & 2158 & 2258 & -60 & DL &    6 & N3768  & JFK & SLC & 250 & 1990 & 19 & 20 & 2013-01-03 19:00:00\\\\\n\t 2013 & 1 &  2 &  654 &  700 &  -6 &  946 & 1045 & -59 & DL & 1865 & N711ZX & JFK & SFO & 323 & 2586 &  7 &  0 & 2013-01-02 07:00:00\\\\\n\t 2013 & 1 &  3 & 1626 & 1630 &  -4 & 1853 & 1952 & -59 & B6 &  675 & N652JB & JFK & LAX & 301 & 2475 & 16 & 30 & 2013-01-03 16:00:00\\\\\n\t 2013 & 1 & 27 & 1839 & 1845 &  -6 & 2038 & 2137 & -59 & 9E & 3369 & N919XJ & JFK & MSY & 166 & 1182 & 18 & 45 & 2013-01-27 18:00:00\\\\\n\t 2013 & 1 & 26 & 1651 & 1659 &  -8 & 1946 & 2044 & -58 & 9E & 3375 & N930XJ & JFK & SAT & 214 & 1587 & 16 & 59 & 2013-01-26 16:00:00\\\\\n\t 2013 & 1 &  2 &  857 &  900 &  -3 & 1130 & 1227 & -57 & DL &  120 & N710TW & JFK & LAX & 310 & 2475 &  9 &  0 & 2013-01-02 09:00:00\\\\\n\t 2013 & 1 &  3 & 1957 & 1945 &  12 & 2232 & 2329 & -57 & B6 &  645 & N793JB & JFK & SFO & 315 & 2586 & 19 & 45 & 2013-01-03 19:00:00\\\\\n\t 2013 & 1 &  4 &  650 &  655 &  -5 &  933 & 1030 & -57 & DL & 1415 & N397DA & JFK & SLC & 265 & 1990 &  6 & 55 & 2013-01-04 06:00:00\\\\\n\t 2013 & 1 &  4 &  829 &  830 &  -1 & 1113 & 1210 & -57 & UA & 1480 & N36207 & EWR & SFO & 326 & 2565 &  8 & 30 & 2013-01-04 08:00:00\\\\\n\t 2013 & 1 &  4 & 1657 & 1700 &  -3 & 1952 & 2049 & -57 & DL &   31 & N722TW & JFK & SFO & 326 & 2586 & 17 &  0 & 2013-01-04 17:00:00\\\\\n\t 2013 & 1 & 30 & 1915 & 1915 &   0 & 2133 & 2230 & -57 & DL & 1729 & N3754A & JFK & LAS & 294 & 2248 & 19 & 15 & 2013-01-30 19:00:00\\\\\n\t 2013 & 1 &  3 & 1806 & 1810 &  -4 & 2036 & 2132 & -56 & B6 &  217 & N559JB & JFK & LGB & 293 & 2465 & 18 & 10 & 2013-01-03 18:00:00\\\\\n\t 2013 & 1 &  3 & 1919 & 1920 &  -1 & 2219 & 2315 & -56 & DL & 1345 & N3769L & JFK & PHX & 273 & 2153 & 19 & 20 & 2013-01-03 19:00:00\\\\\n\t 2013 & 1 & 14 & 1838 & 1850 & -12 & 2116 & 2212 & -56 & DL & 2159 & N384DA & JFK & MCO & 135 &  944 & 18 & 50 & 2013-01-14 18:00:00\\\\\n\t 2013 & 1 &  2 & 1240 & 1245 &  -5 & 1521 & 1616 & -55 & DL & 2174 & N3751B & JFK & SLC & 264 & 1990 & 12 & 45 & 2013-01-02 12:00:00\\\\\n\t 2013 & 1 &  4 & 1118 & 1130 & -12 & 1350 & 1445 & -55 & UA &  703 & N512UA & JFK & LAX & 309 & 2475 & 11 & 30 & 2013-01-04 11:00:00\\\\\n\t 2013 & 1 &  8 & 1847 & 1850 &  -3 & 2117 & 2212 & -55 & DL & 2159 & N386DA & JFK & MCO & 132 &  944 & 18 & 50 & 2013-01-08 18:00:00\\\\\n\t 2013 & 1 & 11 & 1845 & 1850 &  -5 & 2117 & 2212 & -55 & DL & 2159 & N3768  & JFK & MCO & 125 &  944 & 18 & 50 & 2013-01-11 18:00:00\\\\\n\t 2013 & 1 & 13 &  723 &  730 &  -7 & 1020 & 1115 & -55 & VX &   11 & N841VA & JFK & SFO & 339 & 2586 &  7 & 30 & 2013-01-13 07:00:00\\\\\n\t ⋮ & ⋮ & ⋮ & ⋮ & ⋮ & ⋮ & ⋮ & ⋮ & ⋮ & ⋮ & ⋮ & ⋮ & ⋮ & ⋮ & ⋮ & ⋮ & ⋮ & ⋮ & ⋮\\\\\n\t 2013 & 12 & 30 &   NA & 1635 & NA &  NA & 1825 & NA & AA &  343 & N4XVAA & LGA & ORD & NA &  733 & 16 & 35 & 2013-12-30 16:00:00\\\\\n\t 2013 & 12 & 30 &   NA &  600 & NA &  NA &  855 & NA & B6 &  605 & N708JB & EWR & FLL & NA & 1065 &  6 &  0 & 2013-12-30 06:00:00\\\\\n\t 2013 & 12 & 30 &   NA & 1430 & NA &  NA & 1626 & NA & EV & 4261 & N27200 & LGA & CLE & NA &  419 & 14 & 30 & 2013-12-30 14:00:00\\\\\n\t 2013 & 12 & 30 &   NA & 1350 & NA &  NA & 1602 & NA & EV & 4193 & N36915 & EWR & MSP & NA & 1008 & 13 & 50 & 2013-12-30 13:00:00\\\\\n\t 2013 & 12 & 30 &   NA & 1452 & NA &  NA & 1559 & NA & EV & 4372 & N14573 & EWR & DCA & NA &  199 & 14 & 52 & 2013-12-30 14:00:00\\\\\n\t 2013 & 12 & 30 &   NA & 1935 & NA &  NA & 2055 & NA & EV & 5714 & N832AS & JFK & IAD & NA &  228 & 19 & 35 & 2013-12-30 19:00:00\\\\\n\t 2013 & 12 & 30 &   NA & 1011 & NA &  NA & 1134 & NA & EV & 6054 & N16919 & EWR & IAD & NA &  212 & 10 & 11 & 2013-12-30 10:00:00\\\\\n\t 2013 & 12 & 30 &   NA &  605 & NA &  NA &  723 & NA & EV & 6177 & N13553 & EWR & IAD & NA &  212 &  6 &  5 & 2013-12-30 06:00:00\\\\\n\t 2013 & 12 & 30 &   NA & 1505 & NA &  NA & 1759 & NA & UA &  321 & NA     & EWR & MCO & NA &  937 & 15 &  5 & 2013-12-30 15:00:00\\\\\n\t 2013 & 12 & 30 &   NA & 1355 & NA &  NA & 1535 & NA & MQ & 3305 & N821MQ & LGA & RDU & NA &  431 & 13 & 55 & 2013-12-30 13:00:00\\\\\n\t 2013 & 12 & 30 &   NA & 2100 & NA &  NA &   48 & NA & UA & 1081 & NA     & EWR & SFO & NA & 2565 & 21 &  0 & 2013-12-30 21:00:00\\\\\n\t 2013 & 12 & 30 &   NA & 1221 & NA &  NA & 1545 & NA & UA & 1297 & NA     & EWR & SNA & NA & 2434 & 12 & 21 & 2013-12-30 12:00:00\\\\\n\t 2013 & 12 & 30 &   NA &  855 & NA &  NA & 1142 & NA & UA & 1506 & NA     & EWR & JAC & NA & 1874 &  8 & 55 & 2013-12-30 08:00:00\\\\\n\t 2013 & 12 & 31 & 2155 & 2039 & 76 & 253 & 2355 & NA & B6 & 1205 & N627JB & JFK & PDX & NA & 2454 & 20 & 39 & 2013-12-31 20:00:00\\\\\n\t 2013 & 12 & 31 &   NA & 1520 & NA &  NA & 1705 & NA & AA &  341 & N568AA & LGA & ORD & NA &  733 & 15 & 20 & 2013-12-31 15:00:00\\\\\n\t 2013 & 12 & 31 &   NA & 2025 & NA &  NA & 2205 & NA & AA &  371 & N482AA & LGA & ORD & NA &  733 & 20 & 25 & 2013-12-31 20:00:00\\\\\n\t 2013 & 12 & 31 &   NA & 1932 & NA &  NA & 2305 & NA & B6 &  161 & N516JB & JFK & SMF & NA & 2521 & 19 & 32 & 2013-12-31 19:00:00\\\\\n\t 2013 & 12 & 31 &   NA & 1505 & NA &  NA & 1725 & NA & EV & 4181 & N24103 & EWR & MCI & NA & 1092 & 15 &  5 & 2013-12-31 15:00:00\\\\\n\t 2013 & 12 & 31 &   NA & 1000 & NA &  NA & 1252 & NA & UA & 1124 & NA     & EWR & EGE & NA & 1725 & 10 &  0 & 2013-12-31 10:00:00\\\\\n\t 2013 & 12 & 31 &   NA &  840 & NA &  NA & 1205 & NA & UA & 1151 & NA     & EWR & SEA & NA & 2402 &  8 & 40 & 2013-12-31 08:00:00\\\\\n\t 2013 & 12 & 31 &   NA &  754 & NA &  NA & 1118 & NA & UA & 1455 & NA     & EWR & LAX & NA & 2454 &  7 & 54 & 2013-12-31 07:00:00\\\\\n\t 2013 & 12 & 31 &   NA & 2000 & NA &  NA & 2146 & NA & UA & 1482 & NA     & EWR & ORD & NA &  719 & 20 &  0 & 2013-12-31 20:00:00\\\\\n\t 2013 & 12 & 31 &   NA & 1500 & NA &  NA & 1817 & NA & UA & 1483 & NA     & EWR & AUS & NA & 1504 & 15 &  0 & 2013-12-31 15:00:00\\\\\n\t 2013 & 12 & 31 &   NA & 1430 & NA &  NA & 1750 & NA & UA & 1493 & NA     & EWR & LAX & NA & 2454 & 14 & 30 & 2013-12-31 14:00:00\\\\\n\t 2013 & 12 & 31 &   NA &  855 & NA &  NA & 1142 & NA & UA & 1506 & NA     & EWR & JAC & NA & 1874 &  8 & 55 & 2013-12-31 08:00:00\\\\\n\t 2013 & 12 & 31 &   NA &  705 & NA &  NA &  931 & NA & UA & 1729 & NA     & EWR & DEN & NA & 1605 &  7 &  5 & 2013-12-31 07:00:00\\\\\n\t 2013 & 12 & 31 &   NA &  825 & NA &  NA & 1029 & NA & US & 1831 & NA     & JFK & CLT & NA &  541 &  8 & 25 & 2013-12-31 08:00:00\\\\\n\t 2013 & 12 & 31 &   NA & 1615 & NA &  NA & 1800 & NA & MQ & 3301 & N844MQ & LGA & RDU & NA &  431 & 16 & 15 & 2013-12-31 16:00:00\\\\\n\t 2013 & 12 & 31 &   NA &  600 & NA &  NA &  735 & NA & UA &  219 & NA     & EWR & ORD & NA &  719 &  6 &  0 & 2013-12-31 06:00:00\\\\\n\t 2013 & 12 & 31 &   NA &  830 & NA &  NA & 1154 & NA & UA &  443 & NA     & JFK & LAX & NA & 2475 &  8 & 30 & 2013-12-31 08:00:00\\\\\n\\end{tabular}\n",
            "text/plain": [
              "       year month day dep_time sched_dep_time dep_delay arr_time sched_arr_time\n",
              "1      2013 1      4  1026     1030            -4       1305     1415          \n",
              "2      2013 1      3   941      945            -4       1153     1258          \n",
              "3      2013 1     14  1840     1845            -5       2117     2221          \n",
              "4      2013 1      3  1153     1200            -7       1442     1545          \n",
              "5      2013 1      3  1228     1235            -7       1503     1606          \n",
              "6      2013 1     27  1845     1850            -5       2110     2212          \n",
              "7      2013 1      3  1605     1610            -5       1816     1917          \n",
              "8      2013 1      3  1857     1900            -3       2200     2301          \n",
              "9      2013 1      4  1219     1221            -2       1454     1555          \n",
              "10     2013 1      6   812      819            -7       1102     1203          \n",
              "11     2013 1     12   913      920            -7       1347     1448          \n",
              "12     2013 1      3  1920     1920             0       2158     2258          \n",
              "13     2013 1      2   654      700            -6        946     1045          \n",
              "14     2013 1      3  1626     1630            -4       1853     1952          \n",
              "15     2013 1     27  1839     1845            -6       2038     2137          \n",
              "16     2013 1     26  1651     1659            -8       1946     2044          \n",
              "17     2013 1      2   857      900            -3       1130     1227          \n",
              "18     2013 1      3  1957     1945            12       2232     2329          \n",
              "19     2013 1      4   650      655            -5        933     1030          \n",
              "20     2013 1      4   829      830            -1       1113     1210          \n",
              "21     2013 1      4  1657     1700            -3       1952     2049          \n",
              "22     2013 1     30  1915     1915             0       2133     2230          \n",
              "23     2013 1      3  1806     1810            -4       2036     2132          \n",
              "24     2013 1      3  1919     1920            -1       2219     2315          \n",
              "25     2013 1     14  1838     1850           -12       2116     2212          \n",
              "26     2013 1      2  1240     1245            -5       1521     1616          \n",
              "27     2013 1      4  1118     1130           -12       1350     1445          \n",
              "28     2013 1      8  1847     1850            -3       2117     2212          \n",
              "29     2013 1     11  1845     1850            -5       2117     2212          \n",
              "30     2013 1     13   723      730            -7       1020     1115          \n",
              "⋮      ⋮    ⋮     ⋮   ⋮        ⋮              ⋮         ⋮        ⋮             \n",
              "336747 2013 12    30    NA     1635           NA         NA      1825          \n",
              "336748 2013 12    30    NA      600           NA         NA       855          \n",
              "336749 2013 12    30    NA     1430           NA         NA      1626          \n",
              "336750 2013 12    30    NA     1350           NA         NA      1602          \n",
              "336751 2013 12    30    NA     1452           NA         NA      1559          \n",
              "336752 2013 12    30    NA     1935           NA         NA      2055          \n",
              "336753 2013 12    30    NA     1011           NA         NA      1134          \n",
              "336754 2013 12    30    NA      605           NA         NA       723          \n",
              "336755 2013 12    30    NA     1505           NA         NA      1759          \n",
              "336756 2013 12    30    NA     1355           NA         NA      1535          \n",
              "336757 2013 12    30    NA     2100           NA         NA        48          \n",
              "336758 2013 12    30    NA     1221           NA         NA      1545          \n",
              "336759 2013 12    30    NA      855           NA         NA      1142          \n",
              "336760 2013 12    31  2155     2039           76        253      2355          \n",
              "336761 2013 12    31    NA     1520           NA         NA      1705          \n",
              "336762 2013 12    31    NA     2025           NA         NA      2205          \n",
              "336763 2013 12    31    NA     1932           NA         NA      2305          \n",
              "336764 2013 12    31    NA     1505           NA         NA      1725          \n",
              "336765 2013 12    31    NA     1000           NA         NA      1252          \n",
              "336766 2013 12    31    NA      840           NA         NA      1205          \n",
              "336767 2013 12    31    NA      754           NA         NA      1118          \n",
              "336768 2013 12    31    NA     2000           NA         NA      2146          \n",
              "336769 2013 12    31    NA     1500           NA         NA      1817          \n",
              "336770 2013 12    31    NA     1430           NA         NA      1750          \n",
              "336771 2013 12    31    NA      855           NA         NA      1142          \n",
              "336772 2013 12    31    NA      705           NA         NA       931          \n",
              "336773 2013 12    31    NA      825           NA         NA      1029          \n",
              "336774 2013 12    31    NA     1615           NA         NA      1800          \n",
              "336775 2013 12    31    NA      600           NA         NA       735          \n",
              "336776 2013 12    31    NA      830           NA         NA      1154          \n",
              "       arr_delay carrier flight tailnum origin dest air_time distance hour\n",
              "1      -70       VX        23   N855VA  JFK    SFO  324      2586     10  \n",
              "2      -65       B6       679   N789JB  JFK    LAX  297      2475      9  \n",
              "3      -64       DL      2190   N324US  JFK    MIA  146      1089     18  \n",
              "4      -63       VX        25   N847VA  JFK    SFO  333      2586     12  \n",
              "5      -63       DL      2174   N389DA  JFK    SLC  260      1990     12  \n",
              "6      -62       DL      2159   N398DA  JFK    MCO  127       944     18  \n",
              "7      -61       DL        91   N3740C  JFK    LAS  282      2248     16  \n",
              "8      -61       DL      1465   N722TW  JFK    SFO  329      2586     19  \n",
              "9      -61       UA       551   N830UA  EWR    SFO  313      2565     12  \n",
              "10     -61       UA       665   N805UA  EWR    SFO  336      2565      8  \n",
              "11     -61       DL       675   N711ZX  JFK    STT  181      1623      9  \n",
              "12     -60       DL         6   N3768   JFK    SLC  250      1990     19  \n",
              "13     -59       DL      1865   N711ZX  JFK    SFO  323      2586      7  \n",
              "14     -59       B6       675   N652JB  JFK    LAX  301      2475     16  \n",
              "15     -59       9E      3369   N919XJ  JFK    MSY  166      1182     18  \n",
              "16     -58       9E      3375   N930XJ  JFK    SAT  214      1587     16  \n",
              "17     -57       DL       120   N710TW  JFK    LAX  310      2475      9  \n",
              "18     -57       B6       645   N793JB  JFK    SFO  315      2586     19  \n",
              "19     -57       DL      1415   N397DA  JFK    SLC  265      1990      6  \n",
              "20     -57       UA      1480   N36207  EWR    SFO  326      2565      8  \n",
              "21     -57       DL        31   N722TW  JFK    SFO  326      2586     17  \n",
              "22     -57       DL      1729   N3754A  JFK    LAS  294      2248     19  \n",
              "23     -56       B6       217   N559JB  JFK    LGB  293      2465     18  \n",
              "24     -56       DL      1345   N3769L  JFK    PHX  273      2153     19  \n",
              "25     -56       DL      2159   N384DA  JFK    MCO  135       944     18  \n",
              "26     -55       DL      2174   N3751B  JFK    SLC  264      1990     12  \n",
              "27     -55       UA       703   N512UA  JFK    LAX  309      2475     11  \n",
              "28     -55       DL      2159   N386DA  JFK    MCO  132       944     18  \n",
              "29     -55       DL      2159   N3768   JFK    MCO  125       944     18  \n",
              "30     -55       VX        11   N841VA  JFK    SFO  339      2586      7  \n",
              "⋮      ⋮         ⋮       ⋮      ⋮       ⋮      ⋮    ⋮        ⋮        ⋮   \n",
              "336747 NA        AA       343   N4XVAA  LGA    ORD  NA        733     16  \n",
              "336748 NA        B6       605   N708JB  EWR    FLL  NA       1065      6  \n",
              "336749 NA        EV      4261   N27200  LGA    CLE  NA        419     14  \n",
              "336750 NA        EV      4193   N36915  EWR    MSP  NA       1008     13  \n",
              "336751 NA        EV      4372   N14573  EWR    DCA  NA        199     14  \n",
              "336752 NA        EV      5714   N832AS  JFK    IAD  NA        228     19  \n",
              "336753 NA        EV      6054   N16919  EWR    IAD  NA        212     10  \n",
              "336754 NA        EV      6177   N13553  EWR    IAD  NA        212      6  \n",
              "336755 NA        UA       321   NA      EWR    MCO  NA        937     15  \n",
              "336756 NA        MQ      3305   N821MQ  LGA    RDU  NA        431     13  \n",
              "336757 NA        UA      1081   NA      EWR    SFO  NA       2565     21  \n",
              "336758 NA        UA      1297   NA      EWR    SNA  NA       2434     12  \n",
              "336759 NA        UA      1506   NA      EWR    JAC  NA       1874      8  \n",
              "336760 NA        B6      1205   N627JB  JFK    PDX  NA       2454     20  \n",
              "336761 NA        AA       341   N568AA  LGA    ORD  NA        733     15  \n",
              "336762 NA        AA       371   N482AA  LGA    ORD  NA        733     20  \n",
              "336763 NA        B6       161   N516JB  JFK    SMF  NA       2521     19  \n",
              "336764 NA        EV      4181   N24103  EWR    MCI  NA       1092     15  \n",
              "336765 NA        UA      1124   NA      EWR    EGE  NA       1725     10  \n",
              "336766 NA        UA      1151   NA      EWR    SEA  NA       2402      8  \n",
              "336767 NA        UA      1455   NA      EWR    LAX  NA       2454      7  \n",
              "336768 NA        UA      1482   NA      EWR    ORD  NA        719     20  \n",
              "336769 NA        UA      1483   NA      EWR    AUS  NA       1504     15  \n",
              "336770 NA        UA      1493   NA      EWR    LAX  NA       2454     14  \n",
              "336771 NA        UA      1506   NA      EWR    JAC  NA       1874      8  \n",
              "336772 NA        UA      1729   NA      EWR    DEN  NA       1605      7  \n",
              "336773 NA        US      1831   NA      JFK    CLT  NA        541      8  \n",
              "336774 NA        MQ      3301   N844MQ  LGA    RDU  NA        431     16  \n",
              "336775 NA        UA       219   NA      EWR    ORD  NA        719      6  \n",
              "336776 NA        UA       443   NA      JFK    LAX  NA       2475      8  \n",
              "       minute time_hour          \n",
              "1      30     2013-01-04 10:00:00\n",
              "2      45     2013-01-03 09:00:00\n",
              "3      45     2013-01-14 18:00:00\n",
              "4       0     2013-01-03 12:00:00\n",
              "5      35     2013-01-03 12:00:00\n",
              "6      50     2013-01-27 18:00:00\n",
              "7      10     2013-01-03 16:00:00\n",
              "8       0     2013-01-03 19:00:00\n",
              "9      21     2013-01-04 12:00:00\n",
              "10     19     2013-01-06 08:00:00\n",
              "11     20     2013-01-12 09:00:00\n",
              "12     20     2013-01-03 19:00:00\n",
              "13      0     2013-01-02 07:00:00\n",
              "14     30     2013-01-03 16:00:00\n",
              "15     45     2013-01-27 18:00:00\n",
              "16     59     2013-01-26 16:00:00\n",
              "17      0     2013-01-02 09:00:00\n",
              "18     45     2013-01-03 19:00:00\n",
              "19     55     2013-01-04 06:00:00\n",
              "20     30     2013-01-04 08:00:00\n",
              "21      0     2013-01-04 17:00:00\n",
              "22     15     2013-01-30 19:00:00\n",
              "23     10     2013-01-03 18:00:00\n",
              "24     20     2013-01-03 19:00:00\n",
              "25     50     2013-01-14 18:00:00\n",
              "26     45     2013-01-02 12:00:00\n",
              "27     30     2013-01-04 11:00:00\n",
              "28     50     2013-01-08 18:00:00\n",
              "29     50     2013-01-11 18:00:00\n",
              "30     30     2013-01-13 07:00:00\n",
              "⋮      ⋮      ⋮                  \n",
              "336747 35     2013-12-30 16:00:00\n",
              "336748  0     2013-12-30 06:00:00\n",
              "336749 30     2013-12-30 14:00:00\n",
              "336750 50     2013-12-30 13:00:00\n",
              "336751 52     2013-12-30 14:00:00\n",
              "336752 35     2013-12-30 19:00:00\n",
              "336753 11     2013-12-30 10:00:00\n",
              "336754  5     2013-12-30 06:00:00\n",
              "336755  5     2013-12-30 15:00:00\n",
              "336756 55     2013-12-30 13:00:00\n",
              "336757  0     2013-12-30 21:00:00\n",
              "336758 21     2013-12-30 12:00:00\n",
              "336759 55     2013-12-30 08:00:00\n",
              "336760 39     2013-12-31 20:00:00\n",
              "336761 20     2013-12-31 15:00:00\n",
              "336762 25     2013-12-31 20:00:00\n",
              "336763 32     2013-12-31 19:00:00\n",
              "336764  5     2013-12-31 15:00:00\n",
              "336765  0     2013-12-31 10:00:00\n",
              "336766 40     2013-12-31 08:00:00\n",
              "336767 54     2013-12-31 07:00:00\n",
              "336768  0     2013-12-31 20:00:00\n",
              "336769  0     2013-12-31 15:00:00\n",
              "336770 30     2013-12-31 14:00:00\n",
              "336771 55     2013-12-31 08:00:00\n",
              "336772  5     2013-12-31 07:00:00\n",
              "336773 25     2013-12-31 08:00:00\n",
              "336774 15     2013-12-31 16:00:00\n",
              "336775  0     2013-12-31 06:00:00\n",
              "336776 30     2013-12-31 08:00:00"
            ]
          },
          "metadata": {}
        }
      ]
    },
    {
      "cell_type": "markdown",
      "metadata": {
        "id": "7HrxhqMGRPyp"
      },
      "source": [
        "### 4.3 Funciones select() y rename()\n",
        "\n",
        "La con la función `select` podemos seleccionar un subconjunto de columas de la tabla original. A difernecia de SQL en esta sentencia no podremos crear nuevas columnas, sólo renombrarlas en algunos casos. Notar que (obviamente) no se mantienen las columnas que no ingresan como argumento a la función.\n",
        "\n",
        "La función rename() permite renombrar columnas existentes, manteniendo las columnas que no se están renombrando."
      ]
    },
    {
      "cell_type": "code",
      "metadata": {
        "trusted": true,
        "id": "he9R_3AURPyp",
        "colab": {
          "base_uri": "https://localhost:8080/",
          "height": 286
        },
        "outputId": "8d2848bb-5423-4d98-ae2b-a2084290e9d4"
      },
      "source": [
        "# select() y rename() ----------------------------------------------------------------\n",
        "# Ejemplo: Podemos seleccionar las columnas year, month, day, origin, dest\n",
        "head(select(vuelos, year, month))\n",
        "# Cómo lo haríamos con la sintaxis básica? (recorr como acceder a través del nombre a un vector, matrix, lista, o data.frame)\n",
        "\n",
        "\n"
      ],
      "execution_count": 27,
      "outputs": [
        {
          "output_type": "display_data",
          "data": {
            "text/html": [
              "<table class=\"dataframe\">\n",
              "<caption>A data.frame: 6 × 2</caption>\n",
              "<thead>\n",
              "\t<tr><th></th><th scope=col>year</th><th scope=col>month</th></tr>\n",
              "\t<tr><th></th><th scope=col>&lt;int&gt;</th><th scope=col>&lt;int&gt;</th></tr>\n",
              "</thead>\n",
              "<tbody>\n",
              "\t<tr><th scope=row>1</th><td>2013</td><td>1</td></tr>\n",
              "\t<tr><th scope=row>2</th><td>2013</td><td>1</td></tr>\n",
              "\t<tr><th scope=row>3</th><td>2013</td><td>1</td></tr>\n",
              "\t<tr><th scope=row>4</th><td>2013</td><td>1</td></tr>\n",
              "\t<tr><th scope=row>5</th><td>2013</td><td>1</td></tr>\n",
              "\t<tr><th scope=row>6</th><td>2013</td><td>1</td></tr>\n",
              "</tbody>\n",
              "</table>\n"
            ],
            "text/markdown": "\nA data.frame: 6 × 2\n\n| <!--/--> | year &lt;int&gt; | month &lt;int&gt; |\n|---|---|---|\n| 1 | 2013 | 1 |\n| 2 | 2013 | 1 |\n| 3 | 2013 | 1 |\n| 4 | 2013 | 1 |\n| 5 | 2013 | 1 |\n| 6 | 2013 | 1 |\n\n",
            "text/latex": "A data.frame: 6 × 2\n\\begin{tabular}{r|ll}\n  & year & month\\\\\n  & <int> & <int>\\\\\n\\hline\n\t1 & 2013 & 1\\\\\n\t2 & 2013 & 1\\\\\n\t3 & 2013 & 1\\\\\n\t4 & 2013 & 1\\\\\n\t5 & 2013 & 1\\\\\n\t6 & 2013 & 1\\\\\n\\end{tabular}\n",
            "text/plain": [
              "  year month\n",
              "1 2013 1    \n",
              "2 2013 1    \n",
              "3 2013 1    \n",
              "4 2013 1    \n",
              "5 2013 1    \n",
              "6 2013 1    "
            ]
          },
          "metadata": {}
        }
      ]
    },
    {
      "cell_type": "code",
      "metadata": {
        "trusted": true,
        "scrolled": false,
        "id": "HFlJeLmMRPyr",
        "colab": {
          "base_uri": "https://localhost:8080/",
          "height": 515
        },
        "outputId": "4a728429-9083-4fe0-d34e-1c6973776d6f"
      },
      "source": [
        "# podemos renombrar la columna year\n",
        "head(rename(vuelos, anho = year))\n",
        "\n",
        "# NOTA: esto no modifica el dataset original\n"
      ],
      "execution_count": 34,
      "outputs": [
        {
          "output_type": "display_data",
          "data": {
            "text/html": [
              "<table class=\"dataframe\">\n",
              "<caption>A data.frame: 6 × 20</caption>\n",
              "<thead>\n",
              "\t<tr><th></th><th scope=col>anho</th><th scope=col>month</th><th scope=col>day</th><th scope=col>dep_time</th><th scope=col>sched_dep_time</th><th scope=col>dep_delay</th><th scope=col>arr_time</th><th scope=col>sched_arr_time</th><th scope=col>arr_delay</th><th scope=col>carrier</th><th scope=col>flight</th><th scope=col>tailnum</th><th scope=col>origin</th><th scope=col>dest</th><th scope=col>air_time</th><th scope=col>distance</th><th scope=col>hour</th><th scope=col>minute</th><th scope=col>time_hour</th><th scope=col>retraso_neto</th></tr>\n",
              "\t<tr><th></th><th scope=col>&lt;int&gt;</th><th scope=col>&lt;int&gt;</th><th scope=col>&lt;int&gt;</th><th scope=col>&lt;int&gt;</th><th scope=col>&lt;int&gt;</th><th scope=col>&lt;int&gt;</th><th scope=col>&lt;int&gt;</th><th scope=col>&lt;int&gt;</th><th scope=col>&lt;int&gt;</th><th scope=col>&lt;chr&gt;</th><th scope=col>&lt;int&gt;</th><th scope=col>&lt;chr&gt;</th><th scope=col>&lt;chr&gt;</th><th scope=col>&lt;chr&gt;</th><th scope=col>&lt;int&gt;</th><th scope=col>&lt;int&gt;</th><th scope=col>&lt;int&gt;</th><th scope=col>&lt;int&gt;</th><th scope=col>&lt;chr&gt;</th><th scope=col>&lt;int&gt;</th></tr>\n",
              "</thead>\n",
              "<tbody>\n",
              "\t<tr><th scope=row>1</th><td>2013</td><td>1</td><td>1</td><td>517</td><td>515</td><td> 2</td><td> 830</td><td> 819</td><td> 11</td><td>UA</td><td>1545</td><td>N14228</td><td>EWR</td><td>IAH</td><td>227</td><td>1400</td><td>5</td><td>15</td><td>2013-01-01 05:00:00</td><td> 13</td></tr>\n",
              "\t<tr><th scope=row>2</th><td>2013</td><td>1</td><td>1</td><td>533</td><td>529</td><td> 4</td><td> 850</td><td> 830</td><td> 20</td><td>UA</td><td>1714</td><td>N24211</td><td>LGA</td><td>IAH</td><td>227</td><td>1416</td><td>5</td><td>29</td><td>2013-01-01 05:00:00</td><td> 24</td></tr>\n",
              "\t<tr><th scope=row>3</th><td>2013</td><td>1</td><td>1</td><td>542</td><td>540</td><td> 2</td><td> 923</td><td> 850</td><td> 33</td><td>AA</td><td>1141</td><td>N619AA</td><td>JFK</td><td>MIA</td><td>160</td><td>1089</td><td>5</td><td>40</td><td>2013-01-01 05:00:00</td><td> 35</td></tr>\n",
              "\t<tr><th scope=row>4</th><td>2013</td><td>1</td><td>1</td><td>544</td><td>545</td><td>-1</td><td>1004</td><td>1022</td><td>-18</td><td>B6</td><td> 725</td><td>N804JB</td><td>JFK</td><td>BQN</td><td>183</td><td>1576</td><td>5</td><td>45</td><td>2013-01-01 05:00:00</td><td>-19</td></tr>\n",
              "\t<tr><th scope=row>5</th><td>2013</td><td>1</td><td>1</td><td>554</td><td>600</td><td>-6</td><td> 812</td><td> 837</td><td>-25</td><td>DL</td><td> 461</td><td>N668DN</td><td>LGA</td><td>ATL</td><td>116</td><td> 762</td><td>6</td><td> 0</td><td>2013-01-01 06:00:00</td><td>-31</td></tr>\n",
              "\t<tr><th scope=row>6</th><td>2013</td><td>1</td><td>1</td><td>554</td><td>558</td><td>-4</td><td> 740</td><td> 728</td><td> 12</td><td>UA</td><td>1696</td><td>N39463</td><td>EWR</td><td>ORD</td><td>150</td><td> 719</td><td>5</td><td>58</td><td>2013-01-01 05:00:00</td><td>  8</td></tr>\n",
              "</tbody>\n",
              "</table>\n"
            ],
            "text/markdown": "\nA data.frame: 6 × 20\n\n| <!--/--> | anho &lt;int&gt; | month &lt;int&gt; | day &lt;int&gt; | dep_time &lt;int&gt; | sched_dep_time &lt;int&gt; | dep_delay &lt;int&gt; | arr_time &lt;int&gt; | sched_arr_time &lt;int&gt; | arr_delay &lt;int&gt; | carrier &lt;chr&gt; | flight &lt;int&gt; | tailnum &lt;chr&gt; | origin &lt;chr&gt; | dest &lt;chr&gt; | air_time &lt;int&gt; | distance &lt;int&gt; | hour &lt;int&gt; | minute &lt;int&gt; | time_hour &lt;chr&gt; | retraso_neto &lt;int&gt; |\n|---|---|---|---|---|---|---|---|---|---|---|---|---|---|---|---|---|---|---|---|---|\n| 1 | 2013 | 1 | 1 | 517 | 515 |  2 |  830 |  819 |  11 | UA | 1545 | N14228 | EWR | IAH | 227 | 1400 | 5 | 15 | 2013-01-01 05:00:00 |  13 |\n| 2 | 2013 | 1 | 1 | 533 | 529 |  4 |  850 |  830 |  20 | UA | 1714 | N24211 | LGA | IAH | 227 | 1416 | 5 | 29 | 2013-01-01 05:00:00 |  24 |\n| 3 | 2013 | 1 | 1 | 542 | 540 |  2 |  923 |  850 |  33 | AA | 1141 | N619AA | JFK | MIA | 160 | 1089 | 5 | 40 | 2013-01-01 05:00:00 |  35 |\n| 4 | 2013 | 1 | 1 | 544 | 545 | -1 | 1004 | 1022 | -18 | B6 |  725 | N804JB | JFK | BQN | 183 | 1576 | 5 | 45 | 2013-01-01 05:00:00 | -19 |\n| 5 | 2013 | 1 | 1 | 554 | 600 | -6 |  812 |  837 | -25 | DL |  461 | N668DN | LGA | ATL | 116 |  762 | 6 |  0 | 2013-01-01 06:00:00 | -31 |\n| 6 | 2013 | 1 | 1 | 554 | 558 | -4 |  740 |  728 |  12 | UA | 1696 | N39463 | EWR | ORD | 150 |  719 | 5 | 58 | 2013-01-01 05:00:00 |   8 |\n\n",
            "text/latex": "A data.frame: 6 × 20\n\\begin{tabular}{r|llllllllllllllllllll}\n  & anho & month & day & dep\\_time & sched\\_dep\\_time & dep\\_delay & arr\\_time & sched\\_arr\\_time & arr\\_delay & carrier & flight & tailnum & origin & dest & air\\_time & distance & hour & minute & time\\_hour & retraso\\_neto\\\\\n  & <int> & <int> & <int> & <int> & <int> & <int> & <int> & <int> & <int> & <chr> & <int> & <chr> & <chr> & <chr> & <int> & <int> & <int> & <int> & <chr> & <int>\\\\\n\\hline\n\t1 & 2013 & 1 & 1 & 517 & 515 &  2 &  830 &  819 &  11 & UA & 1545 & N14228 & EWR & IAH & 227 & 1400 & 5 & 15 & 2013-01-01 05:00:00 &  13\\\\\n\t2 & 2013 & 1 & 1 & 533 & 529 &  4 &  850 &  830 &  20 & UA & 1714 & N24211 & LGA & IAH & 227 & 1416 & 5 & 29 & 2013-01-01 05:00:00 &  24\\\\\n\t3 & 2013 & 1 & 1 & 542 & 540 &  2 &  923 &  850 &  33 & AA & 1141 & N619AA & JFK & MIA & 160 & 1089 & 5 & 40 & 2013-01-01 05:00:00 &  35\\\\\n\t4 & 2013 & 1 & 1 & 544 & 545 & -1 & 1004 & 1022 & -18 & B6 &  725 & N804JB & JFK & BQN & 183 & 1576 & 5 & 45 & 2013-01-01 05:00:00 & -19\\\\\n\t5 & 2013 & 1 & 1 & 554 & 600 & -6 &  812 &  837 & -25 & DL &  461 & N668DN & LGA & ATL & 116 &  762 & 6 &  0 & 2013-01-01 06:00:00 & -31\\\\\n\t6 & 2013 & 1 & 1 & 554 & 558 & -4 &  740 &  728 &  12 & UA & 1696 & N39463 & EWR & ORD & 150 &  719 & 5 & 58 & 2013-01-01 05:00:00 &   8\\\\\n\\end{tabular}\n",
            "text/plain": [
              "  anho month day dep_time sched_dep_time dep_delay arr_time sched_arr_time\n",
              "1 2013 1     1   517      515             2         830      819          \n",
              "2 2013 1     1   533      529             4         850      830          \n",
              "3 2013 1     1   542      540             2         923      850          \n",
              "4 2013 1     1   544      545            -1        1004     1022          \n",
              "5 2013 1     1   554      600            -6         812      837          \n",
              "6 2013 1     1   554      558            -4         740      728          \n",
              "  arr_delay carrier flight tailnum origin dest air_time distance hour minute\n",
              "1  11       UA      1545   N14228  EWR    IAH  227      1400     5    15    \n",
              "2  20       UA      1714   N24211  LGA    IAH  227      1416     5    29    \n",
              "3  33       AA      1141   N619AA  JFK    MIA  160      1089     5    40    \n",
              "4 -18       B6       725   N804JB  JFK    BQN  183      1576     5    45    \n",
              "5 -25       DL       461   N668DN  LGA    ATL  116       762     6     0    \n",
              "6  12       UA      1696   N39463  EWR    ORD  150       719     5    58    \n",
              "  time_hour           retraso_neto\n",
              "1 2013-01-01 05:00:00  13         \n",
              "2 2013-01-01 05:00:00  24         \n",
              "3 2013-01-01 05:00:00  35         \n",
              "4 2013-01-01 05:00:00 -19         \n",
              "5 2013-01-01 06:00:00 -31         \n",
              "6 2013-01-01 05:00:00   8         "
            ]
          },
          "metadata": {}
        }
      ]
    },
    {
      "cell_type": "code",
      "metadata": {
        "trusted": true,
        "id": "Hg-abspERPyw"
      },
      "source": [
        "#Existe gran variedad (pueden consultar la documentación respectiva)  de otras funciones dentro del package dplyr, por ejemplo: Seleccionar solo las variables que comiencen con \"d\"\n",
        "# para su estudio\n",
        "\n"
      ],
      "execution_count": null,
      "outputs": []
    },
    {
      "cell_type": "code",
      "metadata": {
        "trusted": true,
        "id": "hBiqCaokRPyy"
      },
      "source": [
        ""
      ],
      "execution_count": null,
      "outputs": []
    },
    {
      "cell_type": "markdown",
      "metadata": {
        "id": "6k5I_iHZRPy0"
      },
      "source": [
        "### 4.4 Función mutate()\n",
        "\n",
        "Una de las funciones más útiles de dplyr es la función mutate(), la cual permite crear nuevas columnas, o modificar las existentes. "
      ]
    },
    {
      "cell_type": "code",
      "metadata": {
        "trusted": true,
        "scrolled": false,
        "id": "id5cyTJ2RPy0",
        "colab": {
          "base_uri": "https://localhost:8080/",
          "height": 992
        },
        "outputId": "36d72e81-6025-4c9c-ef75-63887aebe321"
      },
      "source": [
        "# mutate() ----------------------------------------------------------------\n",
        "# Crear una nueva columna llamada retraso_neto, que contenga la suma de arr_delay y dep_delay\n",
        "\n",
        "#antes\n",
        "vuelos[['retraso_neto']] <- vuelos$arr_delay + vuelos$dep_delay\n",
        "head(vuelos)\n",
        "#ahora\n",
        "head(mutate(vuelos, retraso_neto2 = arr_delay + dep_delay))\n",
        "# Recordar que esta nueva columna solo existe en la ejecución y no se ha modificado el dataset original.\n"
      ],
      "execution_count": 25,
      "outputs": [
        {
          "output_type": "display_data",
          "data": {
            "text/html": [
              "<table class=\"dataframe\">\n",
              "<caption>A data.frame: 6 × 20</caption>\n",
              "<thead>\n",
              "\t<tr><th></th><th scope=col>year</th><th scope=col>month</th><th scope=col>day</th><th scope=col>dep_time</th><th scope=col>sched_dep_time</th><th scope=col>dep_delay</th><th scope=col>arr_time</th><th scope=col>sched_arr_time</th><th scope=col>arr_delay</th><th scope=col>carrier</th><th scope=col>flight</th><th scope=col>tailnum</th><th scope=col>origin</th><th scope=col>dest</th><th scope=col>air_time</th><th scope=col>distance</th><th scope=col>hour</th><th scope=col>minute</th><th scope=col>time_hour</th><th scope=col>retraso_neto</th></tr>\n",
              "\t<tr><th></th><th scope=col>&lt;int&gt;</th><th scope=col>&lt;int&gt;</th><th scope=col>&lt;int&gt;</th><th scope=col>&lt;int&gt;</th><th scope=col>&lt;int&gt;</th><th scope=col>&lt;int&gt;</th><th scope=col>&lt;int&gt;</th><th scope=col>&lt;int&gt;</th><th scope=col>&lt;int&gt;</th><th scope=col>&lt;chr&gt;</th><th scope=col>&lt;int&gt;</th><th scope=col>&lt;chr&gt;</th><th scope=col>&lt;chr&gt;</th><th scope=col>&lt;chr&gt;</th><th scope=col>&lt;int&gt;</th><th scope=col>&lt;int&gt;</th><th scope=col>&lt;int&gt;</th><th scope=col>&lt;int&gt;</th><th scope=col>&lt;chr&gt;</th><th scope=col>&lt;int&gt;</th></tr>\n",
              "</thead>\n",
              "<tbody>\n",
              "\t<tr><th scope=row>1</th><td>2013</td><td>1</td><td>1</td><td>517</td><td>515</td><td> 2</td><td> 830</td><td> 819</td><td> 11</td><td>UA</td><td>1545</td><td>N14228</td><td>EWR</td><td>IAH</td><td>227</td><td>1400</td><td>5</td><td>15</td><td>2013-01-01 05:00:00</td><td> 13</td></tr>\n",
              "\t<tr><th scope=row>2</th><td>2013</td><td>1</td><td>1</td><td>533</td><td>529</td><td> 4</td><td> 850</td><td> 830</td><td> 20</td><td>UA</td><td>1714</td><td>N24211</td><td>LGA</td><td>IAH</td><td>227</td><td>1416</td><td>5</td><td>29</td><td>2013-01-01 05:00:00</td><td> 24</td></tr>\n",
              "\t<tr><th scope=row>3</th><td>2013</td><td>1</td><td>1</td><td>542</td><td>540</td><td> 2</td><td> 923</td><td> 850</td><td> 33</td><td>AA</td><td>1141</td><td>N619AA</td><td>JFK</td><td>MIA</td><td>160</td><td>1089</td><td>5</td><td>40</td><td>2013-01-01 05:00:00</td><td> 35</td></tr>\n",
              "\t<tr><th scope=row>4</th><td>2013</td><td>1</td><td>1</td><td>544</td><td>545</td><td>-1</td><td>1004</td><td>1022</td><td>-18</td><td>B6</td><td> 725</td><td>N804JB</td><td>JFK</td><td>BQN</td><td>183</td><td>1576</td><td>5</td><td>45</td><td>2013-01-01 05:00:00</td><td>-19</td></tr>\n",
              "\t<tr><th scope=row>5</th><td>2013</td><td>1</td><td>1</td><td>554</td><td>600</td><td>-6</td><td> 812</td><td> 837</td><td>-25</td><td>DL</td><td> 461</td><td>N668DN</td><td>LGA</td><td>ATL</td><td>116</td><td> 762</td><td>6</td><td> 0</td><td>2013-01-01 06:00:00</td><td>-31</td></tr>\n",
              "\t<tr><th scope=row>6</th><td>2013</td><td>1</td><td>1</td><td>554</td><td>558</td><td>-4</td><td> 740</td><td> 728</td><td> 12</td><td>UA</td><td>1696</td><td>N39463</td><td>EWR</td><td>ORD</td><td>150</td><td> 719</td><td>5</td><td>58</td><td>2013-01-01 05:00:00</td><td>  8</td></tr>\n",
              "</tbody>\n",
              "</table>\n"
            ],
            "text/markdown": "\nA data.frame: 6 × 20\n\n| <!--/--> | year &lt;int&gt; | month &lt;int&gt; | day &lt;int&gt; | dep_time &lt;int&gt; | sched_dep_time &lt;int&gt; | dep_delay &lt;int&gt; | arr_time &lt;int&gt; | sched_arr_time &lt;int&gt; | arr_delay &lt;int&gt; | carrier &lt;chr&gt; | flight &lt;int&gt; | tailnum &lt;chr&gt; | origin &lt;chr&gt; | dest &lt;chr&gt; | air_time &lt;int&gt; | distance &lt;int&gt; | hour &lt;int&gt; | minute &lt;int&gt; | time_hour &lt;chr&gt; | retraso_neto &lt;int&gt; |\n|---|---|---|---|---|---|---|---|---|---|---|---|---|---|---|---|---|---|---|---|---|\n| 1 | 2013 | 1 | 1 | 517 | 515 |  2 |  830 |  819 |  11 | UA | 1545 | N14228 | EWR | IAH | 227 | 1400 | 5 | 15 | 2013-01-01 05:00:00 |  13 |\n| 2 | 2013 | 1 | 1 | 533 | 529 |  4 |  850 |  830 |  20 | UA | 1714 | N24211 | LGA | IAH | 227 | 1416 | 5 | 29 | 2013-01-01 05:00:00 |  24 |\n| 3 | 2013 | 1 | 1 | 542 | 540 |  2 |  923 |  850 |  33 | AA | 1141 | N619AA | JFK | MIA | 160 | 1089 | 5 | 40 | 2013-01-01 05:00:00 |  35 |\n| 4 | 2013 | 1 | 1 | 544 | 545 | -1 | 1004 | 1022 | -18 | B6 |  725 | N804JB | JFK | BQN | 183 | 1576 | 5 | 45 | 2013-01-01 05:00:00 | -19 |\n| 5 | 2013 | 1 | 1 | 554 | 600 | -6 |  812 |  837 | -25 | DL |  461 | N668DN | LGA | ATL | 116 |  762 | 6 |  0 | 2013-01-01 06:00:00 | -31 |\n| 6 | 2013 | 1 | 1 | 554 | 558 | -4 |  740 |  728 |  12 | UA | 1696 | N39463 | EWR | ORD | 150 |  719 | 5 | 58 | 2013-01-01 05:00:00 |   8 |\n\n",
            "text/latex": "A data.frame: 6 × 20\n\\begin{tabular}{r|llllllllllllllllllll}\n  & year & month & day & dep\\_time & sched\\_dep\\_time & dep\\_delay & arr\\_time & sched\\_arr\\_time & arr\\_delay & carrier & flight & tailnum & origin & dest & air\\_time & distance & hour & minute & time\\_hour & retraso\\_neto\\\\\n  & <int> & <int> & <int> & <int> & <int> & <int> & <int> & <int> & <int> & <chr> & <int> & <chr> & <chr> & <chr> & <int> & <int> & <int> & <int> & <chr> & <int>\\\\\n\\hline\n\t1 & 2013 & 1 & 1 & 517 & 515 &  2 &  830 &  819 &  11 & UA & 1545 & N14228 & EWR & IAH & 227 & 1400 & 5 & 15 & 2013-01-01 05:00:00 &  13\\\\\n\t2 & 2013 & 1 & 1 & 533 & 529 &  4 &  850 &  830 &  20 & UA & 1714 & N24211 & LGA & IAH & 227 & 1416 & 5 & 29 & 2013-01-01 05:00:00 &  24\\\\\n\t3 & 2013 & 1 & 1 & 542 & 540 &  2 &  923 &  850 &  33 & AA & 1141 & N619AA & JFK & MIA & 160 & 1089 & 5 & 40 & 2013-01-01 05:00:00 &  35\\\\\n\t4 & 2013 & 1 & 1 & 544 & 545 & -1 & 1004 & 1022 & -18 & B6 &  725 & N804JB & JFK & BQN & 183 & 1576 & 5 & 45 & 2013-01-01 05:00:00 & -19\\\\\n\t5 & 2013 & 1 & 1 & 554 & 600 & -6 &  812 &  837 & -25 & DL &  461 & N668DN & LGA & ATL & 116 &  762 & 6 &  0 & 2013-01-01 06:00:00 & -31\\\\\n\t6 & 2013 & 1 & 1 & 554 & 558 & -4 &  740 &  728 &  12 & UA & 1696 & N39463 & EWR & ORD & 150 &  719 & 5 & 58 & 2013-01-01 05:00:00 &   8\\\\\n\\end{tabular}\n",
            "text/plain": [
              "  year month day dep_time sched_dep_time dep_delay arr_time sched_arr_time\n",
              "1 2013 1     1   517      515             2         830      819          \n",
              "2 2013 1     1   533      529             4         850      830          \n",
              "3 2013 1     1   542      540             2         923      850          \n",
              "4 2013 1     1   544      545            -1        1004     1022          \n",
              "5 2013 1     1   554      600            -6         812      837          \n",
              "6 2013 1     1   554      558            -4         740      728          \n",
              "  arr_delay carrier flight tailnum origin dest air_time distance hour minute\n",
              "1  11       UA      1545   N14228  EWR    IAH  227      1400     5    15    \n",
              "2  20       UA      1714   N24211  LGA    IAH  227      1416     5    29    \n",
              "3  33       AA      1141   N619AA  JFK    MIA  160      1089     5    40    \n",
              "4 -18       B6       725   N804JB  JFK    BQN  183      1576     5    45    \n",
              "5 -25       DL       461   N668DN  LGA    ATL  116       762     6     0    \n",
              "6  12       UA      1696   N39463  EWR    ORD  150       719     5    58    \n",
              "  time_hour           retraso_neto\n",
              "1 2013-01-01 05:00:00  13         \n",
              "2 2013-01-01 05:00:00  24         \n",
              "3 2013-01-01 05:00:00  35         \n",
              "4 2013-01-01 05:00:00 -19         \n",
              "5 2013-01-01 06:00:00 -31         \n",
              "6 2013-01-01 05:00:00   8         "
            ]
          },
          "metadata": {}
        },
        {
          "output_type": "display_data",
          "data": {
            "text/html": [
              "<table class=\"dataframe\">\n",
              "<caption>A data.frame: 6 × 21</caption>\n",
              "<thead>\n",
              "\t<tr><th></th><th scope=col>year</th><th scope=col>month</th><th scope=col>day</th><th scope=col>dep_time</th><th scope=col>sched_dep_time</th><th scope=col>dep_delay</th><th scope=col>arr_time</th><th scope=col>sched_arr_time</th><th scope=col>arr_delay</th><th scope=col>carrier</th><th scope=col>⋯</th><th scope=col>tailnum</th><th scope=col>origin</th><th scope=col>dest</th><th scope=col>air_time</th><th scope=col>distance</th><th scope=col>hour</th><th scope=col>minute</th><th scope=col>time_hour</th><th scope=col>retraso_neto</th><th scope=col>retraso_neto2</th></tr>\n",
              "\t<tr><th></th><th scope=col>&lt;int&gt;</th><th scope=col>&lt;int&gt;</th><th scope=col>&lt;int&gt;</th><th scope=col>&lt;int&gt;</th><th scope=col>&lt;int&gt;</th><th scope=col>&lt;int&gt;</th><th scope=col>&lt;int&gt;</th><th scope=col>&lt;int&gt;</th><th scope=col>&lt;int&gt;</th><th scope=col>&lt;chr&gt;</th><th scope=col>⋯</th><th scope=col>&lt;chr&gt;</th><th scope=col>&lt;chr&gt;</th><th scope=col>&lt;chr&gt;</th><th scope=col>&lt;int&gt;</th><th scope=col>&lt;int&gt;</th><th scope=col>&lt;int&gt;</th><th scope=col>&lt;int&gt;</th><th scope=col>&lt;chr&gt;</th><th scope=col>&lt;int&gt;</th><th scope=col>&lt;int&gt;</th></tr>\n",
              "</thead>\n",
              "<tbody>\n",
              "\t<tr><th scope=row>1</th><td>2013</td><td>1</td><td>1</td><td>517</td><td>515</td><td> 2</td><td> 830</td><td> 819</td><td> 11</td><td>UA</td><td>⋯</td><td>N14228</td><td>EWR</td><td>IAH</td><td>227</td><td>1400</td><td>5</td><td>15</td><td>2013-01-01 05:00:00</td><td> 13</td><td> 13</td></tr>\n",
              "\t<tr><th scope=row>2</th><td>2013</td><td>1</td><td>1</td><td>533</td><td>529</td><td> 4</td><td> 850</td><td> 830</td><td> 20</td><td>UA</td><td>⋯</td><td>N24211</td><td>LGA</td><td>IAH</td><td>227</td><td>1416</td><td>5</td><td>29</td><td>2013-01-01 05:00:00</td><td> 24</td><td> 24</td></tr>\n",
              "\t<tr><th scope=row>3</th><td>2013</td><td>1</td><td>1</td><td>542</td><td>540</td><td> 2</td><td> 923</td><td> 850</td><td> 33</td><td>AA</td><td>⋯</td><td>N619AA</td><td>JFK</td><td>MIA</td><td>160</td><td>1089</td><td>5</td><td>40</td><td>2013-01-01 05:00:00</td><td> 35</td><td> 35</td></tr>\n",
              "\t<tr><th scope=row>4</th><td>2013</td><td>1</td><td>1</td><td>544</td><td>545</td><td>-1</td><td>1004</td><td>1022</td><td>-18</td><td>B6</td><td>⋯</td><td>N804JB</td><td>JFK</td><td>BQN</td><td>183</td><td>1576</td><td>5</td><td>45</td><td>2013-01-01 05:00:00</td><td>-19</td><td>-19</td></tr>\n",
              "\t<tr><th scope=row>5</th><td>2013</td><td>1</td><td>1</td><td>554</td><td>600</td><td>-6</td><td> 812</td><td> 837</td><td>-25</td><td>DL</td><td>⋯</td><td>N668DN</td><td>LGA</td><td>ATL</td><td>116</td><td> 762</td><td>6</td><td> 0</td><td>2013-01-01 06:00:00</td><td>-31</td><td>-31</td></tr>\n",
              "\t<tr><th scope=row>6</th><td>2013</td><td>1</td><td>1</td><td>554</td><td>558</td><td>-4</td><td> 740</td><td> 728</td><td> 12</td><td>UA</td><td>⋯</td><td>N39463</td><td>EWR</td><td>ORD</td><td>150</td><td> 719</td><td>5</td><td>58</td><td>2013-01-01 05:00:00</td><td>  8</td><td>  8</td></tr>\n",
              "</tbody>\n",
              "</table>\n"
            ],
            "text/markdown": "\nA data.frame: 6 × 21\n\n| <!--/--> | year &lt;int&gt; | month &lt;int&gt; | day &lt;int&gt; | dep_time &lt;int&gt; | sched_dep_time &lt;int&gt; | dep_delay &lt;int&gt; | arr_time &lt;int&gt; | sched_arr_time &lt;int&gt; | arr_delay &lt;int&gt; | carrier &lt;chr&gt; | ⋯ ⋯ | tailnum &lt;chr&gt; | origin &lt;chr&gt; | dest &lt;chr&gt; | air_time &lt;int&gt; | distance &lt;int&gt; | hour &lt;int&gt; | minute &lt;int&gt; | time_hour &lt;chr&gt; | retraso_neto &lt;int&gt; | retraso_neto2 &lt;int&gt; |\n|---|---|---|---|---|---|---|---|---|---|---|---|---|---|---|---|---|---|---|---|---|---|\n| 1 | 2013 | 1 | 1 | 517 | 515 |  2 |  830 |  819 |  11 | UA | ⋯ | N14228 | EWR | IAH | 227 | 1400 | 5 | 15 | 2013-01-01 05:00:00 |  13 |  13 |\n| 2 | 2013 | 1 | 1 | 533 | 529 |  4 |  850 |  830 |  20 | UA | ⋯ | N24211 | LGA | IAH | 227 | 1416 | 5 | 29 | 2013-01-01 05:00:00 |  24 |  24 |\n| 3 | 2013 | 1 | 1 | 542 | 540 |  2 |  923 |  850 |  33 | AA | ⋯ | N619AA | JFK | MIA | 160 | 1089 | 5 | 40 | 2013-01-01 05:00:00 |  35 |  35 |\n| 4 | 2013 | 1 | 1 | 544 | 545 | -1 | 1004 | 1022 | -18 | B6 | ⋯ | N804JB | JFK | BQN | 183 | 1576 | 5 | 45 | 2013-01-01 05:00:00 | -19 | -19 |\n| 5 | 2013 | 1 | 1 | 554 | 600 | -6 |  812 |  837 | -25 | DL | ⋯ | N668DN | LGA | ATL | 116 |  762 | 6 |  0 | 2013-01-01 06:00:00 | -31 | -31 |\n| 6 | 2013 | 1 | 1 | 554 | 558 | -4 |  740 |  728 |  12 | UA | ⋯ | N39463 | EWR | ORD | 150 |  719 | 5 | 58 | 2013-01-01 05:00:00 |   8 |   8 |\n\n",
            "text/latex": "A data.frame: 6 × 21\n\\begin{tabular}{r|lllllllllllllllllllll}\n  & year & month & day & dep\\_time & sched\\_dep\\_time & dep\\_delay & arr\\_time & sched\\_arr\\_time & arr\\_delay & carrier & ⋯ & tailnum & origin & dest & air\\_time & distance & hour & minute & time\\_hour & retraso\\_neto & retraso\\_neto2\\\\\n  & <int> & <int> & <int> & <int> & <int> & <int> & <int> & <int> & <int> & <chr> & ⋯ & <chr> & <chr> & <chr> & <int> & <int> & <int> & <int> & <chr> & <int> & <int>\\\\\n\\hline\n\t1 & 2013 & 1 & 1 & 517 & 515 &  2 &  830 &  819 &  11 & UA & ⋯ & N14228 & EWR & IAH & 227 & 1400 & 5 & 15 & 2013-01-01 05:00:00 &  13 &  13\\\\\n\t2 & 2013 & 1 & 1 & 533 & 529 &  4 &  850 &  830 &  20 & UA & ⋯ & N24211 & LGA & IAH & 227 & 1416 & 5 & 29 & 2013-01-01 05:00:00 &  24 &  24\\\\\n\t3 & 2013 & 1 & 1 & 542 & 540 &  2 &  923 &  850 &  33 & AA & ⋯ & N619AA & JFK & MIA & 160 & 1089 & 5 & 40 & 2013-01-01 05:00:00 &  35 &  35\\\\\n\t4 & 2013 & 1 & 1 & 544 & 545 & -1 & 1004 & 1022 & -18 & B6 & ⋯ & N804JB & JFK & BQN & 183 & 1576 & 5 & 45 & 2013-01-01 05:00:00 & -19 & -19\\\\\n\t5 & 2013 & 1 & 1 & 554 & 600 & -6 &  812 &  837 & -25 & DL & ⋯ & N668DN & LGA & ATL & 116 &  762 & 6 &  0 & 2013-01-01 06:00:00 & -31 & -31\\\\\n\t6 & 2013 & 1 & 1 & 554 & 558 & -4 &  740 &  728 &  12 & UA & ⋯ & N39463 & EWR & ORD & 150 &  719 & 5 & 58 & 2013-01-01 05:00:00 &   8 &   8\\\\\n\\end{tabular}\n",
            "text/plain": [
              "  year month day dep_time sched_dep_time dep_delay arr_time sched_arr_time\n",
              "1 2013 1     1   517      515             2         830      819          \n",
              "2 2013 1     1   533      529             4         850      830          \n",
              "3 2013 1     1   542      540             2         923      850          \n",
              "4 2013 1     1   544      545            -1        1004     1022          \n",
              "5 2013 1     1   554      600            -6         812      837          \n",
              "6 2013 1     1   554      558            -4         740      728          \n",
              "  arr_delay carrier ⋯ tailnum origin dest air_time distance hour minute\n",
              "1  11       UA      ⋯ N14228  EWR    IAH  227      1400     5    15    \n",
              "2  20       UA      ⋯ N24211  LGA    IAH  227      1416     5    29    \n",
              "3  33       AA      ⋯ N619AA  JFK    MIA  160      1089     5    40    \n",
              "4 -18       B6      ⋯ N804JB  JFK    BQN  183      1576     5    45    \n",
              "5 -25       DL      ⋯ N668DN  LGA    ATL  116       762     6     0    \n",
              "6  12       UA      ⋯ N39463  EWR    ORD  150       719     5    58    \n",
              "  time_hour           retraso_neto retraso_neto2\n",
              "1 2013-01-01 05:00:00  13           13          \n",
              "2 2013-01-01 05:00:00  24           24          \n",
              "3 2013-01-01 05:00:00  35           35          \n",
              "4 2013-01-01 05:00:00 -19          -19          \n",
              "5 2013-01-01 06:00:00 -31          -31          \n",
              "6 2013-01-01 05:00:00   8            8          "
            ]
          },
          "metadata": {}
        }
      ]
    },
    {
      "cell_type": "code",
      "metadata": {
        "trusted": true,
        "id": "jwsvIq-eRPy2"
      },
      "source": [
        "# Primero defina una nueva data llamada muestra_fl que contenga la fecha, los retrasos, la distancia, y el tiempo de vuelo\n",
        "# Cree una columna llamada gain que contenga la diferenecia entre arr_delay y dep_delay, y otra llamada speed que mida la velocidad en horas (distancia / tiempo de vuelo * 60)\n"
      ],
      "execution_count": null,
      "outputs": []
    },
    {
      "cell_type": "markdown",
      "metadata": {
        "id": "wk8Qt1ICRPy4"
      },
      "source": [
        "### Operador %>% \n",
        "\n",
        "El operador estrella de dplyr. Funciona como una composición de funciones, y nos permite generar _pipe-lines_, permitiendo  que la generación  del código sea más ordenada, y con ello, su lectura más sencilla.\n",
        "\n",
        "Este operdaor actua de la sifuiente manera, <br>\n",
        "\n",
        "    x %>% f(y) , es equivalente a,  f(x,y)\n",
        "\n"
      ]
    },
    {
      "cell_type": "code",
      "metadata": {
        "trusted": true,
        "id": "8s1tOO0RRPy4",
        "colab": {
          "base_uri": "https://localhost:8080/",
          "height": 728
        },
        "outputId": "b0982fef-d834-40c2-b8d3-8112845e1caf"
      },
      "source": [
        "# Operador %>% ----------------------------------------------------------------\n",
        "# Ejemplo sencillo \n",
        "\n",
        "\n",
        "# head(vuelos)\n",
        "head(vuelos, 4)\n",
        "\n",
        "# Utilizando %>%\n",
        "vuelos %>% head(4)\n",
        "\n"
      ],
      "execution_count": 36,
      "outputs": [
        {
          "output_type": "display_data",
          "data": {
            "text/html": [
              "<table class=\"dataframe\">\n",
              "<caption>A data.frame: 4 × 20</caption>\n",
              "<thead>\n",
              "\t<tr><th></th><th scope=col>year</th><th scope=col>month</th><th scope=col>day</th><th scope=col>dep_time</th><th scope=col>sched_dep_time</th><th scope=col>dep_delay</th><th scope=col>arr_time</th><th scope=col>sched_arr_time</th><th scope=col>arr_delay</th><th scope=col>carrier</th><th scope=col>flight</th><th scope=col>tailnum</th><th scope=col>origin</th><th scope=col>dest</th><th scope=col>air_time</th><th scope=col>distance</th><th scope=col>hour</th><th scope=col>minute</th><th scope=col>time_hour</th><th scope=col>retraso_neto</th></tr>\n",
              "\t<tr><th></th><th scope=col>&lt;int&gt;</th><th scope=col>&lt;int&gt;</th><th scope=col>&lt;int&gt;</th><th scope=col>&lt;int&gt;</th><th scope=col>&lt;int&gt;</th><th scope=col>&lt;int&gt;</th><th scope=col>&lt;int&gt;</th><th scope=col>&lt;int&gt;</th><th scope=col>&lt;int&gt;</th><th scope=col>&lt;chr&gt;</th><th scope=col>&lt;int&gt;</th><th scope=col>&lt;chr&gt;</th><th scope=col>&lt;chr&gt;</th><th scope=col>&lt;chr&gt;</th><th scope=col>&lt;int&gt;</th><th scope=col>&lt;int&gt;</th><th scope=col>&lt;int&gt;</th><th scope=col>&lt;int&gt;</th><th scope=col>&lt;chr&gt;</th><th scope=col>&lt;int&gt;</th></tr>\n",
              "</thead>\n",
              "<tbody>\n",
              "\t<tr><th scope=row>1</th><td>2013</td><td>1</td><td>1</td><td>517</td><td>515</td><td> 2</td><td> 830</td><td> 819</td><td> 11</td><td>UA</td><td>1545</td><td>N14228</td><td>EWR</td><td>IAH</td><td>227</td><td>1400</td><td>5</td><td>15</td><td>2013-01-01 05:00:00</td><td> 13</td></tr>\n",
              "\t<tr><th scope=row>2</th><td>2013</td><td>1</td><td>1</td><td>533</td><td>529</td><td> 4</td><td> 850</td><td> 830</td><td> 20</td><td>UA</td><td>1714</td><td>N24211</td><td>LGA</td><td>IAH</td><td>227</td><td>1416</td><td>5</td><td>29</td><td>2013-01-01 05:00:00</td><td> 24</td></tr>\n",
              "\t<tr><th scope=row>3</th><td>2013</td><td>1</td><td>1</td><td>542</td><td>540</td><td> 2</td><td> 923</td><td> 850</td><td> 33</td><td>AA</td><td>1141</td><td>N619AA</td><td>JFK</td><td>MIA</td><td>160</td><td>1089</td><td>5</td><td>40</td><td>2013-01-01 05:00:00</td><td> 35</td></tr>\n",
              "\t<tr><th scope=row>4</th><td>2013</td><td>1</td><td>1</td><td>544</td><td>545</td><td>-1</td><td>1004</td><td>1022</td><td>-18</td><td>B6</td><td> 725</td><td>N804JB</td><td>JFK</td><td>BQN</td><td>183</td><td>1576</td><td>5</td><td>45</td><td>2013-01-01 05:00:00</td><td>-19</td></tr>\n",
              "</tbody>\n",
              "</table>\n"
            ],
            "text/markdown": "\nA data.frame: 4 × 20\n\n| <!--/--> | year &lt;int&gt; | month &lt;int&gt; | day &lt;int&gt; | dep_time &lt;int&gt; | sched_dep_time &lt;int&gt; | dep_delay &lt;int&gt; | arr_time &lt;int&gt; | sched_arr_time &lt;int&gt; | arr_delay &lt;int&gt; | carrier &lt;chr&gt; | flight &lt;int&gt; | tailnum &lt;chr&gt; | origin &lt;chr&gt; | dest &lt;chr&gt; | air_time &lt;int&gt; | distance &lt;int&gt; | hour &lt;int&gt; | minute &lt;int&gt; | time_hour &lt;chr&gt; | retraso_neto &lt;int&gt; |\n|---|---|---|---|---|---|---|---|---|---|---|---|---|---|---|---|---|---|---|---|---|\n| 1 | 2013 | 1 | 1 | 517 | 515 |  2 |  830 |  819 |  11 | UA | 1545 | N14228 | EWR | IAH | 227 | 1400 | 5 | 15 | 2013-01-01 05:00:00 |  13 |\n| 2 | 2013 | 1 | 1 | 533 | 529 |  4 |  850 |  830 |  20 | UA | 1714 | N24211 | LGA | IAH | 227 | 1416 | 5 | 29 | 2013-01-01 05:00:00 |  24 |\n| 3 | 2013 | 1 | 1 | 542 | 540 |  2 |  923 |  850 |  33 | AA | 1141 | N619AA | JFK | MIA | 160 | 1089 | 5 | 40 | 2013-01-01 05:00:00 |  35 |\n| 4 | 2013 | 1 | 1 | 544 | 545 | -1 | 1004 | 1022 | -18 | B6 |  725 | N804JB | JFK | BQN | 183 | 1576 | 5 | 45 | 2013-01-01 05:00:00 | -19 |\n\n",
            "text/latex": "A data.frame: 4 × 20\n\\begin{tabular}{r|llllllllllllllllllll}\n  & year & month & day & dep\\_time & sched\\_dep\\_time & dep\\_delay & arr\\_time & sched\\_arr\\_time & arr\\_delay & carrier & flight & tailnum & origin & dest & air\\_time & distance & hour & minute & time\\_hour & retraso\\_neto\\\\\n  & <int> & <int> & <int> & <int> & <int> & <int> & <int> & <int> & <int> & <chr> & <int> & <chr> & <chr> & <chr> & <int> & <int> & <int> & <int> & <chr> & <int>\\\\\n\\hline\n\t1 & 2013 & 1 & 1 & 517 & 515 &  2 &  830 &  819 &  11 & UA & 1545 & N14228 & EWR & IAH & 227 & 1400 & 5 & 15 & 2013-01-01 05:00:00 &  13\\\\\n\t2 & 2013 & 1 & 1 & 533 & 529 &  4 &  850 &  830 &  20 & UA & 1714 & N24211 & LGA & IAH & 227 & 1416 & 5 & 29 & 2013-01-01 05:00:00 &  24\\\\\n\t3 & 2013 & 1 & 1 & 542 & 540 &  2 &  923 &  850 &  33 & AA & 1141 & N619AA & JFK & MIA & 160 & 1089 & 5 & 40 & 2013-01-01 05:00:00 &  35\\\\\n\t4 & 2013 & 1 & 1 & 544 & 545 & -1 & 1004 & 1022 & -18 & B6 &  725 & N804JB & JFK & BQN & 183 & 1576 & 5 & 45 & 2013-01-01 05:00:00 & -19\\\\\n\\end{tabular}\n",
            "text/plain": [
              "  year month day dep_time sched_dep_time dep_delay arr_time sched_arr_time\n",
              "1 2013 1     1   517      515             2         830      819          \n",
              "2 2013 1     1   533      529             4         850      830          \n",
              "3 2013 1     1   542      540             2         923      850          \n",
              "4 2013 1     1   544      545            -1        1004     1022          \n",
              "  arr_delay carrier flight tailnum origin dest air_time distance hour minute\n",
              "1  11       UA      1545   N14228  EWR    IAH  227      1400     5    15    \n",
              "2  20       UA      1714   N24211  LGA    IAH  227      1416     5    29    \n",
              "3  33       AA      1141   N619AA  JFK    MIA  160      1089     5    40    \n",
              "4 -18       B6       725   N804JB  JFK    BQN  183      1576     5    45    \n",
              "  time_hour           retraso_neto\n",
              "1 2013-01-01 05:00:00  13         \n",
              "2 2013-01-01 05:00:00  24         \n",
              "3 2013-01-01 05:00:00  35         \n",
              "4 2013-01-01 05:00:00 -19         "
            ]
          },
          "metadata": {}
        },
        {
          "output_type": "display_data",
          "data": {
            "text/html": [
              "<table class=\"dataframe\">\n",
              "<caption>A data.frame: 4 × 20</caption>\n",
              "<thead>\n",
              "\t<tr><th></th><th scope=col>year</th><th scope=col>month</th><th scope=col>day</th><th scope=col>dep_time</th><th scope=col>sched_dep_time</th><th scope=col>dep_delay</th><th scope=col>arr_time</th><th scope=col>sched_arr_time</th><th scope=col>arr_delay</th><th scope=col>carrier</th><th scope=col>flight</th><th scope=col>tailnum</th><th scope=col>origin</th><th scope=col>dest</th><th scope=col>air_time</th><th scope=col>distance</th><th scope=col>hour</th><th scope=col>minute</th><th scope=col>time_hour</th><th scope=col>retraso_neto</th></tr>\n",
              "\t<tr><th></th><th scope=col>&lt;int&gt;</th><th scope=col>&lt;int&gt;</th><th scope=col>&lt;int&gt;</th><th scope=col>&lt;int&gt;</th><th scope=col>&lt;int&gt;</th><th scope=col>&lt;int&gt;</th><th scope=col>&lt;int&gt;</th><th scope=col>&lt;int&gt;</th><th scope=col>&lt;int&gt;</th><th scope=col>&lt;chr&gt;</th><th scope=col>&lt;int&gt;</th><th scope=col>&lt;chr&gt;</th><th scope=col>&lt;chr&gt;</th><th scope=col>&lt;chr&gt;</th><th scope=col>&lt;int&gt;</th><th scope=col>&lt;int&gt;</th><th scope=col>&lt;int&gt;</th><th scope=col>&lt;int&gt;</th><th scope=col>&lt;chr&gt;</th><th scope=col>&lt;int&gt;</th></tr>\n",
              "</thead>\n",
              "<tbody>\n",
              "\t<tr><th scope=row>1</th><td>2013</td><td>1</td><td>1</td><td>517</td><td>515</td><td> 2</td><td> 830</td><td> 819</td><td> 11</td><td>UA</td><td>1545</td><td>N14228</td><td>EWR</td><td>IAH</td><td>227</td><td>1400</td><td>5</td><td>15</td><td>2013-01-01 05:00:00</td><td> 13</td></tr>\n",
              "\t<tr><th scope=row>2</th><td>2013</td><td>1</td><td>1</td><td>533</td><td>529</td><td> 4</td><td> 850</td><td> 830</td><td> 20</td><td>UA</td><td>1714</td><td>N24211</td><td>LGA</td><td>IAH</td><td>227</td><td>1416</td><td>5</td><td>29</td><td>2013-01-01 05:00:00</td><td> 24</td></tr>\n",
              "\t<tr><th scope=row>3</th><td>2013</td><td>1</td><td>1</td><td>542</td><td>540</td><td> 2</td><td> 923</td><td> 850</td><td> 33</td><td>AA</td><td>1141</td><td>N619AA</td><td>JFK</td><td>MIA</td><td>160</td><td>1089</td><td>5</td><td>40</td><td>2013-01-01 05:00:00</td><td> 35</td></tr>\n",
              "\t<tr><th scope=row>4</th><td>2013</td><td>1</td><td>1</td><td>544</td><td>545</td><td>-1</td><td>1004</td><td>1022</td><td>-18</td><td>B6</td><td> 725</td><td>N804JB</td><td>JFK</td><td>BQN</td><td>183</td><td>1576</td><td>5</td><td>45</td><td>2013-01-01 05:00:00</td><td>-19</td></tr>\n",
              "</tbody>\n",
              "</table>\n"
            ],
            "text/markdown": "\nA data.frame: 4 × 20\n\n| <!--/--> | year &lt;int&gt; | month &lt;int&gt; | day &lt;int&gt; | dep_time &lt;int&gt; | sched_dep_time &lt;int&gt; | dep_delay &lt;int&gt; | arr_time &lt;int&gt; | sched_arr_time &lt;int&gt; | arr_delay &lt;int&gt; | carrier &lt;chr&gt; | flight &lt;int&gt; | tailnum &lt;chr&gt; | origin &lt;chr&gt; | dest &lt;chr&gt; | air_time &lt;int&gt; | distance &lt;int&gt; | hour &lt;int&gt; | minute &lt;int&gt; | time_hour &lt;chr&gt; | retraso_neto &lt;int&gt; |\n|---|---|---|---|---|---|---|---|---|---|---|---|---|---|---|---|---|---|---|---|---|\n| 1 | 2013 | 1 | 1 | 517 | 515 |  2 |  830 |  819 |  11 | UA | 1545 | N14228 | EWR | IAH | 227 | 1400 | 5 | 15 | 2013-01-01 05:00:00 |  13 |\n| 2 | 2013 | 1 | 1 | 533 | 529 |  4 |  850 |  830 |  20 | UA | 1714 | N24211 | LGA | IAH | 227 | 1416 | 5 | 29 | 2013-01-01 05:00:00 |  24 |\n| 3 | 2013 | 1 | 1 | 542 | 540 |  2 |  923 |  850 |  33 | AA | 1141 | N619AA | JFK | MIA | 160 | 1089 | 5 | 40 | 2013-01-01 05:00:00 |  35 |\n| 4 | 2013 | 1 | 1 | 544 | 545 | -1 | 1004 | 1022 | -18 | B6 |  725 | N804JB | JFK | BQN | 183 | 1576 | 5 | 45 | 2013-01-01 05:00:00 | -19 |\n\n",
            "text/latex": "A data.frame: 4 × 20\n\\begin{tabular}{r|llllllllllllllllllll}\n  & year & month & day & dep\\_time & sched\\_dep\\_time & dep\\_delay & arr\\_time & sched\\_arr\\_time & arr\\_delay & carrier & flight & tailnum & origin & dest & air\\_time & distance & hour & minute & time\\_hour & retraso\\_neto\\\\\n  & <int> & <int> & <int> & <int> & <int> & <int> & <int> & <int> & <int> & <chr> & <int> & <chr> & <chr> & <chr> & <int> & <int> & <int> & <int> & <chr> & <int>\\\\\n\\hline\n\t1 & 2013 & 1 & 1 & 517 & 515 &  2 &  830 &  819 &  11 & UA & 1545 & N14228 & EWR & IAH & 227 & 1400 & 5 & 15 & 2013-01-01 05:00:00 &  13\\\\\n\t2 & 2013 & 1 & 1 & 533 & 529 &  4 &  850 &  830 &  20 & UA & 1714 & N24211 & LGA & IAH & 227 & 1416 & 5 & 29 & 2013-01-01 05:00:00 &  24\\\\\n\t3 & 2013 & 1 & 1 & 542 & 540 &  2 &  923 &  850 &  33 & AA & 1141 & N619AA & JFK & MIA & 160 & 1089 & 5 & 40 & 2013-01-01 05:00:00 &  35\\\\\n\t4 & 2013 & 1 & 1 & 544 & 545 & -1 & 1004 & 1022 & -18 & B6 &  725 & N804JB & JFK & BQN & 183 & 1576 & 5 & 45 & 2013-01-01 05:00:00 & -19\\\\\n\\end{tabular}\n",
            "text/plain": [
              "  year month day dep_time sched_dep_time dep_delay arr_time sched_arr_time\n",
              "1 2013 1     1   517      515             2         830      819          \n",
              "2 2013 1     1   533      529             4         850      830          \n",
              "3 2013 1     1   542      540             2         923      850          \n",
              "4 2013 1     1   544      545            -1        1004     1022          \n",
              "  arr_delay carrier flight tailnum origin dest air_time distance hour minute\n",
              "1  11       UA      1545   N14228  EWR    IAH  227      1400     5    15    \n",
              "2  20       UA      1714   N24211  LGA    IAH  227      1416     5    29    \n",
              "3  33       AA      1141   N619AA  JFK    MIA  160      1089     5    40    \n",
              "4 -18       B6       725   N804JB  JFK    BQN  183      1576     5    45    \n",
              "  time_hour           retraso_neto\n",
              "1 2013-01-01 05:00:00  13         \n",
              "2 2013-01-01 05:00:00  24         \n",
              "3 2013-01-01 05:00:00  35         \n",
              "4 2013-01-01 05:00:00 -19         "
            ]
          },
          "metadata": {}
        }
      ]
    },
    {
      "cell_type": "code",
      "metadata": {
        "trusted": true,
        "id": "6nBWGFwsRPy6",
        "colab": {
          "base_uri": "https://localhost:8080/",
          "height": 286
        },
        "outputId": "b83a19cf-b3f5-4bdd-bdec-0cdef6c57a19"
      },
      "source": [
        "# Genere el conteo de vuelos por mes y día,\n",
        "# luego filtre por aquellos registros donde el día es 1,\n",
        "# ordene de manera descendiente por n,\n",
        "# finalmente muestra la cabecera del dataset resultante.\n",
        "\n",
        "## ANTES\n",
        "head(arrange(filter(count(vuelos, month, day), day == 1), desc(n)))"
      ],
      "execution_count": 38,
      "outputs": [
        {
          "output_type": "display_data",
          "data": {
            "text/html": [
              "<table class=\"dataframe\">\n",
              "<caption>A data.frame: 6 × 3</caption>\n",
              "<thead>\n",
              "\t<tr><th></th><th scope=col>month</th><th scope=col>day</th><th scope=col>n</th></tr>\n",
              "\t<tr><th></th><th scope=col>&lt;int&gt;</th><th scope=col>&lt;int&gt;</th><th scope=col>&lt;int&gt;</th></tr>\n",
              "</thead>\n",
              "<tbody>\n",
              "\t<tr><th scope=row>1</th><td> 8</td><td>1</td><td>1000</td></tr>\n",
              "\t<tr><th scope=row>2</th><td>12</td><td>1</td><td> 987</td></tr>\n",
              "\t<tr><th scope=row>3</th><td>11</td><td>1</td><td> 986</td></tr>\n",
              "\t<tr><th scope=row>4</th><td> 4</td><td>1</td><td> 970</td></tr>\n",
              "\t<tr><th scope=row>5</th><td> 7</td><td>1</td><td> 966</td></tr>\n",
              "\t<tr><th scope=row>6</th><td>10</td><td>1</td><td> 965</td></tr>\n",
              "</tbody>\n",
              "</table>\n"
            ],
            "text/markdown": "\nA data.frame: 6 × 3\n\n| <!--/--> | month &lt;int&gt; | day &lt;int&gt; | n &lt;int&gt; |\n|---|---|---|---|\n| 1 |  8 | 1 | 1000 |\n| 2 | 12 | 1 |  987 |\n| 3 | 11 | 1 |  986 |\n| 4 |  4 | 1 |  970 |\n| 5 |  7 | 1 |  966 |\n| 6 | 10 | 1 |  965 |\n\n",
            "text/latex": "A data.frame: 6 × 3\n\\begin{tabular}{r|lll}\n  & month & day & n\\\\\n  & <int> & <int> & <int>\\\\\n\\hline\n\t1 &  8 & 1 & 1000\\\\\n\t2 & 12 & 1 &  987\\\\\n\t3 & 11 & 1 &  986\\\\\n\t4 &  4 & 1 &  970\\\\\n\t5 &  7 & 1 &  966\\\\\n\t6 & 10 & 1 &  965\\\\\n\\end{tabular}\n",
            "text/plain": [
              "  month day n   \n",
              "1  8    1   1000\n",
              "2 12    1    987\n",
              "3 11    1    986\n",
              "4  4    1    970\n",
              "5  7    1    966\n",
              "6 10    1    965"
            ]
          },
          "metadata": {}
        }
      ]
    },
    {
      "cell_type": "code",
      "metadata": {
        "trusted": true,
        "id": "Hckg9wkGRPy8",
        "colab": {
          "base_uri": "https://localhost:8080/",
          "height": 286
        },
        "outputId": "89fed465-0c64-443b-a020-72a3e138989f"
      },
      "source": [
        "# Genere el conteo de vuelos por mes y día,\n",
        "# luego filtre por aquellos registros donde el día es 1,\n",
        "# ordene de manera descendiente por n,\n",
        "# finalmente muestra la cabecera del dataset resultante.\n",
        "\n",
        "## AHORA\n",
        "vuelos %>% \n",
        "  count(month, day) %>% \n",
        "  filter(day == 1) %>% \n",
        "  arrange(desc(n)) %>% \n",
        "  head()\n"
      ],
      "execution_count": 40,
      "outputs": [
        {
          "output_type": "display_data",
          "data": {
            "text/html": [
              "<table class=\"dataframe\">\n",
              "<caption>A data.frame: 6 × 3</caption>\n",
              "<thead>\n",
              "\t<tr><th></th><th scope=col>month</th><th scope=col>day</th><th scope=col>n</th></tr>\n",
              "\t<tr><th></th><th scope=col>&lt;int&gt;</th><th scope=col>&lt;int&gt;</th><th scope=col>&lt;int&gt;</th></tr>\n",
              "</thead>\n",
              "<tbody>\n",
              "\t<tr><th scope=row>1</th><td> 8</td><td>1</td><td>1000</td></tr>\n",
              "\t<tr><th scope=row>2</th><td>12</td><td>1</td><td> 987</td></tr>\n",
              "\t<tr><th scope=row>3</th><td>11</td><td>1</td><td> 986</td></tr>\n",
              "\t<tr><th scope=row>4</th><td> 4</td><td>1</td><td> 970</td></tr>\n",
              "\t<tr><th scope=row>5</th><td> 7</td><td>1</td><td> 966</td></tr>\n",
              "\t<tr><th scope=row>6</th><td>10</td><td>1</td><td> 965</td></tr>\n",
              "</tbody>\n",
              "</table>\n"
            ],
            "text/markdown": "\nA data.frame: 6 × 3\n\n| <!--/--> | month &lt;int&gt; | day &lt;int&gt; | n &lt;int&gt; |\n|---|---|---|---|\n| 1 |  8 | 1 | 1000 |\n| 2 | 12 | 1 |  987 |\n| 3 | 11 | 1 |  986 |\n| 4 |  4 | 1 |  970 |\n| 5 |  7 | 1 |  966 |\n| 6 | 10 | 1 |  965 |\n\n",
            "text/latex": "A data.frame: 6 × 3\n\\begin{tabular}{r|lll}\n  & month & day & n\\\\\n  & <int> & <int> & <int>\\\\\n\\hline\n\t1 &  8 & 1 & 1000\\\\\n\t2 & 12 & 1 &  987\\\\\n\t3 & 11 & 1 &  986\\\\\n\t4 &  4 & 1 &  970\\\\\n\t5 &  7 & 1 &  966\\\\\n\t6 & 10 & 1 &  965\\\\\n\\end{tabular}\n",
            "text/plain": [
              "  month day n   \n",
              "1  8    1   1000\n",
              "2 12    1    987\n",
              "3 11    1    986\n",
              "4  4    1    970\n",
              "5  7    1    966\n",
              "6 10    1    965"
            ]
          },
          "metadata": {}
        }
      ]
    },
    {
      "cell_type": "code",
      "metadata": {
        "trusted": true,
        "id": "Ml1egmO7RPy-"
      },
      "source": [
        "# A la consulta anterior podríamos agregar una nueva columna indicando si el totalde vuelos es mayor a 970\n"
      ],
      "execution_count": null,
      "outputs": []
    },
    {
      "cell_type": "code",
      "metadata": {
        "trusted": true,
        "id": "eRuQuH-oRPzA"
      },
      "source": [
        "# Genere una nueva variable llamada day2 que pegue un \"0\" \n",
        "# a la variable day si es que esta contiene un dígito del 1 al 9.\n",
        "# Para pegar cadena de caracteres sin espacios puede utilizar \n",
        "# la función paste0\n",
        "\n",
        "#?paste0, ?nchar\n",
        "\n",
        "\n"
      ],
      "execution_count": null,
      "outputs": []
    },
    {
      "cell_type": "code",
      "metadata": {
        "trusted": true,
        "id": "Md5AK7xfRPzE"
      },
      "source": [
        "# Con esta variable genere un entero llamado fecha, que concatena year,month y day 2."
      ],
      "execution_count": null,
      "outputs": []
    },
    {
      "cell_type": "markdown",
      "metadata": {
        "id": "kEFrLb_zRPzG"
      },
      "source": [
        "### 4.5 Función group_by() y summarise()\n",
        "\n",
        "La función `summarise()` calcula medidas agregadas sobre columnas, mientras que la función `group_by`, genera un data.frame \"en bloques\" dados por la(s) columna(s) ingresadas como parámetros en la función.\n",
        "\n"
      ]
    },
    {
      "cell_type": "code",
      "metadata": {
        "trusted": true,
        "id": "4ytKeSHGRPzG"
      },
      "source": [
        "# group_by() y summarise() ----------------------------------------------------------------\n",
        "# Ejemplo sencillo\n",
        "exam2 <- data.frame(\n",
        "  x = c(1:5),\n",
        "  y = c(7:11),\n",
        "  z = c(\"A\", \"B\", \"A\", \"B\", \"C\")\n",
        ")\n",
        "exam2\n"
      ],
      "execution_count": null,
      "outputs": []
    },
    {
      "cell_type": "code",
      "metadata": {
        "trusted": true,
        "id": "wyjN-OYiRPzI"
      },
      "source": [
        "# Podemos generar un número de fila por cada grupo\n"
      ],
      "execution_count": null,
      "outputs": []
    },
    {
      "cell_type": "code",
      "metadata": {
        "trusted": true,
        "id": "nqMyjd6aRPzK"
      },
      "source": [
        "# 1) Aplicar la función summarise a la columna 'y' y calcular su promedio\n",
        "\n",
        "\n",
        "# 2) Generar grupos según la variable z. (a diferencia de sql, el comando group_by() no requiere de una medida agregada para que este funcione.)\n",
        "# select z, avg(x) mean_x, sum(x) tot_x from exam2 group by z\n",
        "\n"
      ],
      "execution_count": null,
      "outputs": []
    },
    {
      "cell_type": "code",
      "metadata": {
        "trusted": true,
        "id": "4-Ru4aPVRPzL"
      },
      "source": [
        "# 3) Calcular media de x e y en cada valor de z.\n",
        "# podemos calcular máximos y mínimos\n"
      ],
      "execution_count": null,
      "outputs": []
    },
    {
      "cell_type": "code",
      "metadata": {
        "trusted": true,
        "id": "o837pCUtRPzU"
      },
      "source": [
        "# promedio de retraso de llegada por origen-destino\n",
        "\n"
      ],
      "execution_count": null,
      "outputs": []
    },
    {
      "cell_type": "code",
      "metadata": {
        "trusted": true,
        "id": "DsrFjp7oRPzW"
      },
      "source": [
        "# ¿Cuáles son los aeropuertos de destino con mayor retraso medio en su llegada?\n",
        "\n"
      ],
      "execution_count": null,
      "outputs": []
    },
    {
      "cell_type": "code",
      "metadata": {
        "trusted": true,
        "id": "Cb8r9XleRPzX"
      },
      "source": [
        "# los podemos remover mediante el argumento na.rm de la función mean()\n"
      ],
      "execution_count": null,
      "outputs": []
    },
    {
      "cell_type": "code",
      "metadata": {
        "trusted": true,
        "id": "CH9XRbK8RPzZ"
      },
      "source": [
        "# si quisiéramos ratar los NA's, podemos hacerlo de la sgte. manera\n",
        "\n",
        "#consultamos los NA en arr_delay\n",
        "\n",
        "# Recordar que NA == NA retorna NA . is.na(NA) retorna TRUE\n",
        "\n"
      ],
      "execution_count": null,
      "outputs": []
    },
    {
      "cell_type": "code",
      "metadata": {
        "trusted": true,
        "id": "H_X1J0OyRPzc"
      },
      "source": [
        "# Si queremos reemplazar los NA's por el promedio de arr_delay (?)\n",
        "\n",
        " "
      ],
      "execution_count": null,
      "outputs": []
    },
    {
      "cell_type": "code",
      "metadata": {
        "trusted": true,
        "id": "KM0gkGfVRPze"
      },
      "source": [
        "# ¿Cuál es el promedio de arr_delay y distance por cada aeropuerto de destino?¿Cuántos vuelos llegaron acada uno de los destinos?. Ayuda: Recuerde que el conteo se puede determinar de dos maneras: con la función count() o con la función n().\n",
        "\n",
        ")\n",
        "\n"
      ],
      "execution_count": null,
      "outputs": []
    },
    {
      "cell_type": "markdown",
      "metadata": {
        "id": "0AaOeJiZRPzj"
      },
      "source": [
        "### 4.6 Función sample_n() y sample_frac()\n",
        "\n",
        "Estas funciones nos permitirán extraer muestras aleatorias de nuestros conjuntos de datos. Esto será de suma importancia cuando trabajemos con modelos de ML."
      ]
    },
    {
      "cell_type": "code",
      "metadata": {
        "trusted": true,
        "id": "Ggzl8QxDRPzk"
      },
      "source": [
        "# sample_n() y sample_frac()-------------------------------------------------------------\n",
        "\n",
        "# muestra aleatoria de 100 registros de vuelos\n",
        "\n",
        "\n",
        "\n"
      ],
      "execution_count": null,
      "outputs": []
    }
  ]
}
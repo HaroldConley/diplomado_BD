{
  "nbformat": 4,
  "nbformat_minor": 0,
  "metadata": {
    "colab": {
      "name": "Clase 2_03_mini_taller.ipynb",
      "provenance": [],
      "collapsed_sections": [],
      "include_colab_link": true
    },
    "kernelspec": {
      "name": "ir",
      "display_name": "R"
    }
  },
  "cells": [
    {
      "cell_type": "markdown",
      "metadata": {
        "id": "view-in-github",
        "colab_type": "text"
      },
      "source": [
        "<a href=\"https://colab.research.google.com/github/HaroldConley/diplomado_BD/blob/main/Clase2/Clase_2_03_mini_taller.ipynb\" target=\"_parent\"><img src=\"https://colab.research.google.com/assets/colab-badge.svg\" alt=\"Open In Colab\"/></a>"
      ]
    },
    {
      "cell_type": "markdown",
      "metadata": {
        "id": "x-GJ_euMr-qr"
      },
      "source": [
        "#**Mini taller 1**\n",
        "**Autor:** Miguel Jorquera Viguera <br>\n",
        "**E-mail:** majorquev@gmail.com<br>\n",
        "**Ayudante:** Rodrigo Morales<br>\n",
        "**E-mail ayudante:**  rumorale1@gmail.com<br>"
      ]
    },
    {
      "cell_type": "markdown",
      "metadata": {
        "collapsed": true,
        "id": "EZ0yOlnfm5Zb"
      },
      "source": [
        "\n",
        "Los dataframes corresponden a uno de los objetos más utilizados en R para analizar datos tabulares,\n",
        "por lo que se hace necesario en muchos casos realizar consultas a los datos que contiene un dataframe,\n",
        "(filtros, cruces de tablas, creación de columnas, etc). Por ahora veremos una de las formas más \"primitivas\" para la manipulación de un data.frame.\n",
        "\n",
        "Para ello consideremos el siguiente ejercicio.\n",
        "\n",
        "**Paso 1**\n",
        "Mediante la función rnorm(), genere una muestra aleatoria de 100 datos , con media 21 y desviación estándar 8 (más adelante veremos esto con un poco más de detalle), y guárdela en una variable llamada temp.\n",
        "\n"
      ]
    },
    {
      "cell_type": "code",
      "metadata": {
        "trusted": true,
        "id": "9f6cXmN3m5Zc",
        "outputId": "1448d870-3a3d-4091-fffd-7fa6fcec1503",
        "colab": {
          "base_uri": "https://localhost:8080/",
          "height": 364
        }
      },
      "source": [
        "# 5.3 Mini taller --------\n",
        "# Paso 1\n",
        "temp <- rnorm(n = 100, mean = 21, sd = 8)\n",
        "temp\n"
      ],
      "execution_count": 1,
      "outputs": [
        {
          "output_type": "display_data",
          "data": {
            "text/html": [
              "<style>\n",
              ".list-inline {list-style: none; margin:0; padding: 0}\n",
              ".list-inline>li {display: inline-block}\n",
              ".list-inline>li:not(:last-child)::after {content: \"\\00b7\"; padding: 0 .5ex}\n",
              "</style>\n",
              "<ol class=list-inline><li>24.5079751372125</li><li>18.5479693935367</li><li>22.0063323840652</li><li>18.2888106850192</li><li>22.2359979213548</li><li>26.6615980194669</li><li>19.8314419690506</li><li>5.48420717370447</li><li>18.9293486673358</li><li>13.5053124510248</li><li>21.5250258072714</li><li>34.9918789945707</li><li>27.8035841224062</li><li>10.0521609590775</li><li>24.8605818556006</li><li>13.8937410816514</li><li>24.979771503025</li><li>28.9159508544769</li><li>18.644009554665</li><li>21.3271282245702</li><li>29.3827171853201</li><li>21.3708650792374</li><li>28.4981633952467</li><li>24.8727958774268</li><li>20.4222755162841</li><li>20.4814146617618</li><li>22.0818180901225</li><li>3.62001092441438</li><li>20.6624420599655</li><li>6.8686947894946</li><li>23.1254288549236</li><li>14.6940683692419</li><li>27.3965821441681</li><li>12.4174543886926</li><li>16.2453699752325</li><li>26.9199305098356</li><li>21.3443632730298</li><li>25.7843093647825</li><li>29.1899250555293</li><li>22.9110410196974</li><li>18.5450419529267</li><li>21.12718099241</li><li>23.0259176098386</li><li>19.9370122416448</li><li>16.614556035395</li><li>21.1093857286296</li><li>17.4818548899235</li><li>25.854213773148</li><li>-0.600077598610621</li><li>23.3221215200401</li><li>20.9428023474564</li><li>31.0691979779445</li><li>15.0825449948928</li><li>23.767635095646</li><li>27.396125882536</li><li>34.3635444205595</li><li>8.26326384837501</li><li>16.7966577598375</li><li>22.7956842802847</li><li>17.2747008960037</li><li>23.5610342422681</li><li>32.5626739158015</li><li>50.5837324561374</li><li>31.8876282633328</li><li>18.2878452647909</li><li>17.5068607674403</li><li>12.8207930495466</li><li>18.8065550318701</li><li>21.4906048477594</li><li>12.3056151370101</li><li>39.5982468555114</li><li>16.8472881371792</li><li>27.7616224599325</li><li>18.6241420748838</li><li>24.7534342301054</li><li>34.2978617209095</li><li>26.6159238697227</li><li>13.038194765954</li><li>20.5164812165823</li><li>19.0295081877565</li><li>15.9783981493187</li><li>22.2794061243894</li><li>35.6506346900051</li><li>13.969992368724</li><li>26.8801602555963</li><li>16.2490716529726</li><li>29.0805767365495</li><li>13.3277803662292</li><li>11.8932639355199</li><li>24.4461072056513</li><li>23.7024912772613</li><li>9.27714423839681</li><li>18.2508587313781</li><li>25.1272272736064</li><li>24.0100628382153</li><li>27.2847823862153</li><li>27.1377833179992</li><li>23.9940491902028</li><li>21.418949145827</li><li>20.0795541820424</li></ol>\n"
            ],
            "text/markdown": "1. 24.5079751372125\n2. 18.5479693935367\n3. 22.0063323840652\n4. 18.2888106850192\n5. 22.2359979213548\n6. 26.6615980194669\n7. 19.8314419690506\n8. 5.48420717370447\n9. 18.9293486673358\n10. 13.5053124510248\n11. 21.5250258072714\n12. 34.9918789945707\n13. 27.8035841224062\n14. 10.0521609590775\n15. 24.8605818556006\n16. 13.8937410816514\n17. 24.979771503025\n18. 28.9159508544769\n19. 18.644009554665\n20. 21.3271282245702\n21. 29.3827171853201\n22. 21.3708650792374\n23. 28.4981633952467\n24. 24.8727958774268\n25. 20.4222755162841\n26. 20.4814146617618\n27. 22.0818180901225\n28. 3.62001092441438\n29. 20.6624420599655\n30. 6.8686947894946\n31. 23.1254288549236\n32. 14.6940683692419\n33. 27.3965821441681\n34. 12.4174543886926\n35. 16.2453699752325\n36. 26.9199305098356\n37. 21.3443632730298\n38. 25.7843093647825\n39. 29.1899250555293\n40. 22.9110410196974\n41. 18.5450419529267\n42. 21.12718099241\n43. 23.0259176098386\n44. 19.9370122416448\n45. 16.614556035395\n46. 21.1093857286296\n47. 17.4818548899235\n48. 25.854213773148\n49. -0.600077598610621\n50. 23.3221215200401\n51. 20.9428023474564\n52. 31.0691979779445\n53. 15.0825449948928\n54. 23.767635095646\n55. 27.396125882536\n56. 34.3635444205595\n57. 8.26326384837501\n58. 16.7966577598375\n59. 22.7956842802847\n60. 17.2747008960037\n61. 23.5610342422681\n62. 32.5626739158015\n63. 50.5837324561374\n64. 31.8876282633328\n65. 18.2878452647909\n66. 17.5068607674403\n67. 12.8207930495466\n68. 18.8065550318701\n69. 21.4906048477594\n70. 12.3056151370101\n71. 39.5982468555114\n72. 16.8472881371792\n73. 27.7616224599325\n74. 18.6241420748838\n75. 24.7534342301054\n76. 34.2978617209095\n77. 26.6159238697227\n78. 13.038194765954\n79. 20.5164812165823\n80. 19.0295081877565\n81. 15.9783981493187\n82. 22.2794061243894\n83. 35.6506346900051\n84. 13.969992368724\n85. 26.8801602555963\n86. 16.2490716529726\n87. 29.0805767365495\n88. 13.3277803662292\n89. 11.8932639355199\n90. 24.4461072056513\n91. 23.7024912772613\n92. 9.27714423839681\n93. 18.2508587313781\n94. 25.1272272736064\n95. 24.0100628382153\n96. 27.2847823862153\n97. 27.1377833179992\n98. 23.9940491902028\n99. 21.418949145827\n100. 20.0795541820424\n\n\n",
            "text/latex": "\\begin{enumerate*}\n\\item 24.5079751372125\n\\item 18.5479693935367\n\\item 22.0063323840652\n\\item 18.2888106850192\n\\item 22.2359979213548\n\\item 26.6615980194669\n\\item 19.8314419690506\n\\item 5.48420717370447\n\\item 18.9293486673358\n\\item 13.5053124510248\n\\item 21.5250258072714\n\\item 34.9918789945707\n\\item 27.8035841224062\n\\item 10.0521609590775\n\\item 24.8605818556006\n\\item 13.8937410816514\n\\item 24.979771503025\n\\item 28.9159508544769\n\\item 18.644009554665\n\\item 21.3271282245702\n\\item 29.3827171853201\n\\item 21.3708650792374\n\\item 28.4981633952467\n\\item 24.8727958774268\n\\item 20.4222755162841\n\\item 20.4814146617618\n\\item 22.0818180901225\n\\item 3.62001092441438\n\\item 20.6624420599655\n\\item 6.8686947894946\n\\item 23.1254288549236\n\\item 14.6940683692419\n\\item 27.3965821441681\n\\item 12.4174543886926\n\\item 16.2453699752325\n\\item 26.9199305098356\n\\item 21.3443632730298\n\\item 25.7843093647825\n\\item 29.1899250555293\n\\item 22.9110410196974\n\\item 18.5450419529267\n\\item 21.12718099241\n\\item 23.0259176098386\n\\item 19.9370122416448\n\\item 16.614556035395\n\\item 21.1093857286296\n\\item 17.4818548899235\n\\item 25.854213773148\n\\item -0.600077598610621\n\\item 23.3221215200401\n\\item 20.9428023474564\n\\item 31.0691979779445\n\\item 15.0825449948928\n\\item 23.767635095646\n\\item 27.396125882536\n\\item 34.3635444205595\n\\item 8.26326384837501\n\\item 16.7966577598375\n\\item 22.7956842802847\n\\item 17.2747008960037\n\\item 23.5610342422681\n\\item 32.5626739158015\n\\item 50.5837324561374\n\\item 31.8876282633328\n\\item 18.2878452647909\n\\item 17.5068607674403\n\\item 12.8207930495466\n\\item 18.8065550318701\n\\item 21.4906048477594\n\\item 12.3056151370101\n\\item 39.5982468555114\n\\item 16.8472881371792\n\\item 27.7616224599325\n\\item 18.6241420748838\n\\item 24.7534342301054\n\\item 34.2978617209095\n\\item 26.6159238697227\n\\item 13.038194765954\n\\item 20.5164812165823\n\\item 19.0295081877565\n\\item 15.9783981493187\n\\item 22.2794061243894\n\\item 35.6506346900051\n\\item 13.969992368724\n\\item 26.8801602555963\n\\item 16.2490716529726\n\\item 29.0805767365495\n\\item 13.3277803662292\n\\item 11.8932639355199\n\\item 24.4461072056513\n\\item 23.7024912772613\n\\item 9.27714423839681\n\\item 18.2508587313781\n\\item 25.1272272736064\n\\item 24.0100628382153\n\\item 27.2847823862153\n\\item 27.1377833179992\n\\item 23.9940491902028\n\\item 21.418949145827\n\\item 20.0795541820424\n\\end{enumerate*}\n",
            "text/plain": [
              "  [1] 24.5079751 18.5479694 22.0063324 18.2888107 22.2359979 26.6615980\n",
              "  [7] 19.8314420  5.4842072 18.9293487 13.5053125 21.5250258 34.9918790\n",
              " [13] 27.8035841 10.0521610 24.8605819 13.8937411 24.9797715 28.9159509\n",
              " [19] 18.6440096 21.3271282 29.3827172 21.3708651 28.4981634 24.8727959\n",
              " [25] 20.4222755 20.4814147 22.0818181  3.6200109 20.6624421  6.8686948\n",
              " [31] 23.1254289 14.6940684 27.3965821 12.4174544 16.2453700 26.9199305\n",
              " [37] 21.3443633 25.7843094 29.1899251 22.9110410 18.5450420 21.1271810\n",
              " [43] 23.0259176 19.9370122 16.6145560 21.1093857 17.4818549 25.8542138\n",
              " [49] -0.6000776 23.3221215 20.9428023 31.0691980 15.0825450 23.7676351\n",
              " [55] 27.3961259 34.3635444  8.2632638 16.7966578 22.7956843 17.2747009\n",
              " [61] 23.5610342 32.5626739 50.5837325 31.8876283 18.2878453 17.5068608\n",
              " [67] 12.8207930 18.8065550 21.4906048 12.3056151 39.5982469 16.8472881\n",
              " [73] 27.7616225 18.6241421 24.7534342 34.2978617 26.6159239 13.0381948\n",
              " [79] 20.5164812 19.0295082 15.9783981 22.2794061 35.6506347 13.9699924\n",
              " [85] 26.8801603 16.2490717 29.0805767 13.3277804 11.8932639 24.4461072\n",
              " [91] 23.7024913  9.2771442 18.2508587 25.1272273 24.0100628 27.2847824\n",
              " [97] 27.1377833 23.9940492 21.4189491 20.0795542"
            ]
          },
          "metadata": {}
        }
      ]
    },
    {
      "cell_type": "code",
      "metadata": {
        "trusted": true,
        "id": "Y6ILF-Szm5Zg",
        "outputId": "b4d9d75d-edc4-4259-be3f-b6acdd439226",
        "colab": {
          "base_uri": "https://localhost:8080/",
          "height": 34
        }
      },
      "source": [
        "# Dejar como parámetro el largo del vector temp\n",
        "N <- length(temp)\n",
        "N"
      ],
      "execution_count": 4,
      "outputs": [
        {
          "output_type": "display_data",
          "data": {
            "text/html": [
              "100"
            ],
            "text/markdown": "100",
            "text/latex": "100",
            "text/plain": [
              "[1] 100"
            ]
          },
          "metadata": {}
        }
      ]
    },
    {
      "cell_type": "markdown",
      "metadata": {
        "id": "C4MEJWjBm5Zi"
      },
      "source": [
        "**Paso 2**\n",
        "\n",
        "Genere un vector llamado _dia_ del mismo largo que que *temp*, que contenga los días consecutivos de la semana, partiendo del lunes. (utilice la función _rep()_ )"
      ]
    },
    {
      "cell_type": "code",
      "metadata": {
        "trusted": true,
        "id": "1PWK1DPXm5Zj",
        "outputId": "63cf41ef-dd4d-407f-f6c3-dd7fd2cfaa52",
        "colab": {
          "base_uri": "https://localhost:8080/",
          "height": 86
        }
      },
      "source": [
        "# Paso 2\n",
        "#dia <- rep(c(\"L\",\"M\",\"W\",\"J\",\"V\",\"S\",\"D\"), 100 ) repite el vector de largo7, 100 veces. Genera un vector resultante de largo 700\n",
        "dia <- rep(c(\"L\",\"M\",\"W\",\"J\",\"V\",\"S\",\"D\"), length.out = N)\n",
        "dia\n"
      ],
      "execution_count": 7,
      "outputs": [
        {
          "output_type": "display_data",
          "data": {
            "text/html": [
              "<style>\n",
              ".list-inline {list-style: none; margin:0; padding: 0}\n",
              ".list-inline>li {display: inline-block}\n",
              ".list-inline>li:not(:last-child)::after {content: \"\\00b7\"; padding: 0 .5ex}\n",
              "</style>\n",
              "<ol class=list-inline><li>'L'</li><li>'M'</li><li>'W'</li><li>'J'</li><li>'V'</li><li>'S'</li><li>'D'</li><li>'L'</li><li>'M'</li><li>'W'</li><li>'J'</li><li>'V'</li><li>'S'</li><li>'D'</li><li>'L'</li><li>'M'</li><li>'W'</li><li>'J'</li><li>'V'</li><li>'S'</li><li>'D'</li><li>'L'</li><li>'M'</li><li>'W'</li><li>'J'</li><li>'V'</li><li>'S'</li><li>'D'</li><li>'L'</li><li>'M'</li><li>'W'</li><li>'J'</li><li>'V'</li><li>'S'</li><li>'D'</li><li>'L'</li><li>'M'</li><li>'W'</li><li>'J'</li><li>'V'</li><li>'S'</li><li>'D'</li><li>'L'</li><li>'M'</li><li>'W'</li><li>'J'</li><li>'V'</li><li>'S'</li><li>'D'</li><li>'L'</li><li>'M'</li><li>'W'</li><li>'J'</li><li>'V'</li><li>'S'</li><li>'D'</li><li>'L'</li><li>'M'</li><li>'W'</li><li>'J'</li><li>'V'</li><li>'S'</li><li>'D'</li><li>'L'</li><li>'M'</li><li>'W'</li><li>'J'</li><li>'V'</li><li>'S'</li><li>'D'</li><li>'L'</li><li>'M'</li><li>'W'</li><li>'J'</li><li>'V'</li><li>'S'</li><li>'D'</li><li>'L'</li><li>'M'</li><li>'W'</li><li>'J'</li><li>'V'</li><li>'S'</li><li>'D'</li><li>'L'</li><li>'M'</li><li>'W'</li><li>'J'</li><li>'V'</li><li>'S'</li><li>'D'</li><li>'L'</li><li>'M'</li><li>'W'</li><li>'J'</li><li>'V'</li><li>'S'</li><li>'D'</li><li>'L'</li><li>'M'</li></ol>\n"
            ],
            "text/markdown": "1. 'L'\n2. 'M'\n3. 'W'\n4. 'J'\n5. 'V'\n6. 'S'\n7. 'D'\n8. 'L'\n9. 'M'\n10. 'W'\n11. 'J'\n12. 'V'\n13. 'S'\n14. 'D'\n15. 'L'\n16. 'M'\n17. 'W'\n18. 'J'\n19. 'V'\n20. 'S'\n21. 'D'\n22. 'L'\n23. 'M'\n24. 'W'\n25. 'J'\n26. 'V'\n27. 'S'\n28. 'D'\n29. 'L'\n30. 'M'\n31. 'W'\n32. 'J'\n33. 'V'\n34. 'S'\n35. 'D'\n36. 'L'\n37. 'M'\n38. 'W'\n39. 'J'\n40. 'V'\n41. 'S'\n42. 'D'\n43. 'L'\n44. 'M'\n45. 'W'\n46. 'J'\n47. 'V'\n48. 'S'\n49. 'D'\n50. 'L'\n51. 'M'\n52. 'W'\n53. 'J'\n54. 'V'\n55. 'S'\n56. 'D'\n57. 'L'\n58. 'M'\n59. 'W'\n60. 'J'\n61. 'V'\n62. 'S'\n63. 'D'\n64. 'L'\n65. 'M'\n66. 'W'\n67. 'J'\n68. 'V'\n69. 'S'\n70. 'D'\n71. 'L'\n72. 'M'\n73. 'W'\n74. 'J'\n75. 'V'\n76. 'S'\n77. 'D'\n78. 'L'\n79. 'M'\n80. 'W'\n81. 'J'\n82. 'V'\n83. 'S'\n84. 'D'\n85. 'L'\n86. 'M'\n87. 'W'\n88. 'J'\n89. 'V'\n90. 'S'\n91. 'D'\n92. 'L'\n93. 'M'\n94. 'W'\n95. 'J'\n96. 'V'\n97. 'S'\n98. 'D'\n99. 'L'\n100. 'M'\n\n\n",
            "text/latex": "\\begin{enumerate*}\n\\item 'L'\n\\item 'M'\n\\item 'W'\n\\item 'J'\n\\item 'V'\n\\item 'S'\n\\item 'D'\n\\item 'L'\n\\item 'M'\n\\item 'W'\n\\item 'J'\n\\item 'V'\n\\item 'S'\n\\item 'D'\n\\item 'L'\n\\item 'M'\n\\item 'W'\n\\item 'J'\n\\item 'V'\n\\item 'S'\n\\item 'D'\n\\item 'L'\n\\item 'M'\n\\item 'W'\n\\item 'J'\n\\item 'V'\n\\item 'S'\n\\item 'D'\n\\item 'L'\n\\item 'M'\n\\item 'W'\n\\item 'J'\n\\item 'V'\n\\item 'S'\n\\item 'D'\n\\item 'L'\n\\item 'M'\n\\item 'W'\n\\item 'J'\n\\item 'V'\n\\item 'S'\n\\item 'D'\n\\item 'L'\n\\item 'M'\n\\item 'W'\n\\item 'J'\n\\item 'V'\n\\item 'S'\n\\item 'D'\n\\item 'L'\n\\item 'M'\n\\item 'W'\n\\item 'J'\n\\item 'V'\n\\item 'S'\n\\item 'D'\n\\item 'L'\n\\item 'M'\n\\item 'W'\n\\item 'J'\n\\item 'V'\n\\item 'S'\n\\item 'D'\n\\item 'L'\n\\item 'M'\n\\item 'W'\n\\item 'J'\n\\item 'V'\n\\item 'S'\n\\item 'D'\n\\item 'L'\n\\item 'M'\n\\item 'W'\n\\item 'J'\n\\item 'V'\n\\item 'S'\n\\item 'D'\n\\item 'L'\n\\item 'M'\n\\item 'W'\n\\item 'J'\n\\item 'V'\n\\item 'S'\n\\item 'D'\n\\item 'L'\n\\item 'M'\n\\item 'W'\n\\item 'J'\n\\item 'V'\n\\item 'S'\n\\item 'D'\n\\item 'L'\n\\item 'M'\n\\item 'W'\n\\item 'J'\n\\item 'V'\n\\item 'S'\n\\item 'D'\n\\item 'L'\n\\item 'M'\n\\end{enumerate*}\n",
            "text/plain": [
              "  [1] \"L\" \"M\" \"W\" \"J\" \"V\" \"S\" \"D\" \"L\" \"M\" \"W\" \"J\" \"V\" \"S\" \"D\" \"L\" \"M\" \"W\" \"J\"\n",
              " [19] \"V\" \"S\" \"D\" \"L\" \"M\" \"W\" \"J\" \"V\" \"S\" \"D\" \"L\" \"M\" \"W\" \"J\" \"V\" \"S\" \"D\" \"L\"\n",
              " [37] \"M\" \"W\" \"J\" \"V\" \"S\" \"D\" \"L\" \"M\" \"W\" \"J\" \"V\" \"S\" \"D\" \"L\" \"M\" \"W\" \"J\" \"V\"\n",
              " [55] \"S\" \"D\" \"L\" \"M\" \"W\" \"J\" \"V\" \"S\" \"D\" \"L\" \"M\" \"W\" \"J\" \"V\" \"S\" \"D\" \"L\" \"M\"\n",
              " [73] \"W\" \"J\" \"V\" \"S\" \"D\" \"L\" \"M\" \"W\" \"J\" \"V\" \"S\" \"D\" \"L\" \"M\" \"W\" \"J\" \"V\" \"S\"\n",
              " [91] \"D\" \"L\" \"M\" \"W\" \"J\" \"V\" \"S\" \"D\" \"L\" \"M\""
            ]
          },
          "metadata": {}
        }
      ]
    },
    {
      "cell_type": "markdown",
      "metadata": {
        "id": "n1n3ptOIm5Zm"
      },
      "source": [
        "**Paso 3**\n",
        "\n",
        "Genere un vector llamado _est_, del mismo largo que _temp_, que en el primer tercio contenga el valor \"E1\", en el segundo tercio \"E2\", y en el tercer tercio \"E3\". Por ejemplo, si _temp_ tuviese 10 datos, el vector _est_ se vería como \n",
        "\n",
        "\n",
        "<center> _est_ = (E1,E1,E1,E2,E2,E2,E3,E3,E3,E3) </center>"
      ]
    },
    {
      "cell_type": "code",
      "metadata": {
        "trusted": true,
        "id": "eobMVmXxm5Zn",
        "outputId": "35ea7364-e701-47d7-885a-6eeb16ecb4db",
        "colab": {
          "base_uri": "https://localhost:8080/",
          "height": 139
        }
      },
      "source": [
        "# Paso 3\n",
        "est <- rep(c(\"E1\", \"E2\", \"E3\"), c(N/3, N/3, N/3+1))\n",
        "est\n"
      ],
      "execution_count": 15,
      "outputs": [
        {
          "output_type": "display_data",
          "data": {
            "text/html": [
              "<style>\n",
              ".list-inline {list-style: none; margin:0; padding: 0}\n",
              ".list-inline>li {display: inline-block}\n",
              ".list-inline>li:not(:last-child)::after {content: \"\\00b7\"; padding: 0 .5ex}\n",
              "</style>\n",
              "<ol class=list-inline><li>'E1'</li><li>'E1'</li><li>'E1'</li><li>'E1'</li><li>'E1'</li><li>'E1'</li><li>'E1'</li><li>'E1'</li><li>'E1'</li><li>'E1'</li><li>'E1'</li><li>'E1'</li><li>'E1'</li><li>'E1'</li><li>'E1'</li><li>'E1'</li><li>'E1'</li><li>'E1'</li><li>'E1'</li><li>'E1'</li><li>'E1'</li><li>'E1'</li><li>'E1'</li><li>'E1'</li><li>'E1'</li><li>'E1'</li><li>'E1'</li><li>'E1'</li><li>'E1'</li><li>'E1'</li><li>'E1'</li><li>'E1'</li><li>'E1'</li><li>'E2'</li><li>'E2'</li><li>'E2'</li><li>'E2'</li><li>'E2'</li><li>'E2'</li><li>'E2'</li><li>'E2'</li><li>'E2'</li><li>'E2'</li><li>'E2'</li><li>'E2'</li><li>'E2'</li><li>'E2'</li><li>'E2'</li><li>'E2'</li><li>'E2'</li><li>'E2'</li><li>'E2'</li><li>'E2'</li><li>'E2'</li><li>'E2'</li><li>'E2'</li><li>'E2'</li><li>'E2'</li><li>'E2'</li><li>'E2'</li><li>'E2'</li><li>'E2'</li><li>'E2'</li><li>'E2'</li><li>'E2'</li><li>'E2'</li><li>'E3'</li><li>'E3'</li><li>'E3'</li><li>'E3'</li><li>'E3'</li><li>'E3'</li><li>'E3'</li><li>'E3'</li><li>'E3'</li><li>'E3'</li><li>'E3'</li><li>'E3'</li><li>'E3'</li><li>'E3'</li><li>'E3'</li><li>'E3'</li><li>'E3'</li><li>'E3'</li><li>'E3'</li><li>'E3'</li><li>'E3'</li><li>'E3'</li><li>'E3'</li><li>'E3'</li><li>'E3'</li><li>'E3'</li><li>'E3'</li><li>'E3'</li><li>'E3'</li><li>'E3'</li><li>'E3'</li><li>'E3'</li><li>'E3'</li><li>'E3'</li></ol>\n"
            ],
            "text/markdown": "1. 'E1'\n2. 'E1'\n3. 'E1'\n4. 'E1'\n5. 'E1'\n6. 'E1'\n7. 'E1'\n8. 'E1'\n9. 'E1'\n10. 'E1'\n11. 'E1'\n12. 'E1'\n13. 'E1'\n14. 'E1'\n15. 'E1'\n16. 'E1'\n17. 'E1'\n18. 'E1'\n19. 'E1'\n20. 'E1'\n21. 'E1'\n22. 'E1'\n23. 'E1'\n24. 'E1'\n25. 'E1'\n26. 'E1'\n27. 'E1'\n28. 'E1'\n29. 'E1'\n30. 'E1'\n31. 'E1'\n32. 'E1'\n33. 'E1'\n34. 'E2'\n35. 'E2'\n36. 'E2'\n37. 'E2'\n38. 'E2'\n39. 'E2'\n40. 'E2'\n41. 'E2'\n42. 'E2'\n43. 'E2'\n44. 'E2'\n45. 'E2'\n46. 'E2'\n47. 'E2'\n48. 'E2'\n49. 'E2'\n50. 'E2'\n51. 'E2'\n52. 'E2'\n53. 'E2'\n54. 'E2'\n55. 'E2'\n56. 'E2'\n57. 'E2'\n58. 'E2'\n59. 'E2'\n60. 'E2'\n61. 'E2'\n62. 'E2'\n63. 'E2'\n64. 'E2'\n65. 'E2'\n66. 'E2'\n67. 'E3'\n68. 'E3'\n69. 'E3'\n70. 'E3'\n71. 'E3'\n72. 'E3'\n73. 'E3'\n74. 'E3'\n75. 'E3'\n76. 'E3'\n77. 'E3'\n78. 'E3'\n79. 'E3'\n80. 'E3'\n81. 'E3'\n82. 'E3'\n83. 'E3'\n84. 'E3'\n85. 'E3'\n86. 'E3'\n87. 'E3'\n88. 'E3'\n89. 'E3'\n90. 'E3'\n91. 'E3'\n92. 'E3'\n93. 'E3'\n94. 'E3'\n95. 'E3'\n96. 'E3'\n97. 'E3'\n98. 'E3'\n99. 'E3'\n100. 'E3'\n\n\n",
            "text/latex": "\\begin{enumerate*}\n\\item 'E1'\n\\item 'E1'\n\\item 'E1'\n\\item 'E1'\n\\item 'E1'\n\\item 'E1'\n\\item 'E1'\n\\item 'E1'\n\\item 'E1'\n\\item 'E1'\n\\item 'E1'\n\\item 'E1'\n\\item 'E1'\n\\item 'E1'\n\\item 'E1'\n\\item 'E1'\n\\item 'E1'\n\\item 'E1'\n\\item 'E1'\n\\item 'E1'\n\\item 'E1'\n\\item 'E1'\n\\item 'E1'\n\\item 'E1'\n\\item 'E1'\n\\item 'E1'\n\\item 'E1'\n\\item 'E1'\n\\item 'E1'\n\\item 'E1'\n\\item 'E1'\n\\item 'E1'\n\\item 'E1'\n\\item 'E2'\n\\item 'E2'\n\\item 'E2'\n\\item 'E2'\n\\item 'E2'\n\\item 'E2'\n\\item 'E2'\n\\item 'E2'\n\\item 'E2'\n\\item 'E2'\n\\item 'E2'\n\\item 'E2'\n\\item 'E2'\n\\item 'E2'\n\\item 'E2'\n\\item 'E2'\n\\item 'E2'\n\\item 'E2'\n\\item 'E2'\n\\item 'E2'\n\\item 'E2'\n\\item 'E2'\n\\item 'E2'\n\\item 'E2'\n\\item 'E2'\n\\item 'E2'\n\\item 'E2'\n\\item 'E2'\n\\item 'E2'\n\\item 'E2'\n\\item 'E2'\n\\item 'E2'\n\\item 'E2'\n\\item 'E3'\n\\item 'E3'\n\\item 'E3'\n\\item 'E3'\n\\item 'E3'\n\\item 'E3'\n\\item 'E3'\n\\item 'E3'\n\\item 'E3'\n\\item 'E3'\n\\item 'E3'\n\\item 'E3'\n\\item 'E3'\n\\item 'E3'\n\\item 'E3'\n\\item 'E3'\n\\item 'E3'\n\\item 'E3'\n\\item 'E3'\n\\item 'E3'\n\\item 'E3'\n\\item 'E3'\n\\item 'E3'\n\\item 'E3'\n\\item 'E3'\n\\item 'E3'\n\\item 'E3'\n\\item 'E3'\n\\item 'E3'\n\\item 'E3'\n\\item 'E3'\n\\item 'E3'\n\\item 'E3'\n\\item 'E3'\n\\end{enumerate*}\n",
            "text/plain": [
              "  [1] \"E1\" \"E1\" \"E1\" \"E1\" \"E1\" \"E1\" \"E1\" \"E1\" \"E1\" \"E1\" \"E1\" \"E1\" \"E1\" \"E1\" \"E1\"\n",
              " [16] \"E1\" \"E1\" \"E1\" \"E1\" \"E1\" \"E1\" \"E1\" \"E1\" \"E1\" \"E1\" \"E1\" \"E1\" \"E1\" \"E1\" \"E1\"\n",
              " [31] \"E1\" \"E1\" \"E1\" \"E2\" \"E2\" \"E2\" \"E2\" \"E2\" \"E2\" \"E2\" \"E2\" \"E2\" \"E2\" \"E2\" \"E2\"\n",
              " [46] \"E2\" \"E2\" \"E2\" \"E2\" \"E2\" \"E2\" \"E2\" \"E2\" \"E2\" \"E2\" \"E2\" \"E2\" \"E2\" \"E2\" \"E2\"\n",
              " [61] \"E2\" \"E2\" \"E2\" \"E2\" \"E2\" \"E2\" \"E3\" \"E3\" \"E3\" \"E3\" \"E3\" \"E3\" \"E3\" \"E3\" \"E3\"\n",
              " [76] \"E3\" \"E3\" \"E3\" \"E3\" \"E3\" \"E3\" \"E3\" \"E3\" \"E3\" \"E3\" \"E3\" \"E3\" \"E3\" \"E3\" \"E3\"\n",
              " [91] \"E3\" \"E3\" \"E3\" \"E3\" \"E3\" \"E3\" \"E3\" \"E3\" \"E3\" \"E3\""
            ]
          },
          "metadata": {}
        },
        {
          "output_type": "display_data",
          "data": {
            "text/html": [
              "100"
            ],
            "text/markdown": "100",
            "text/latex": "100",
            "text/plain": [
              "[1] 100"
            ]
          },
          "metadata": {}
        }
      ]
    },
    {
      "cell_type": "markdown",
      "metadata": {
        "id": "bZZScNwUm5Zp"
      },
      "source": [
        "**Paso 4**\n",
        "\n",
        "Genere un vector llamado _lluvia_ del mismo largo que _temp_, que sea TRUE en las posiciones en que _temp_ sea menor que 20, y FALSE en caso contrario. "
      ]
    },
    {
      "cell_type": "code",
      "metadata": {
        "trusted": true,
        "id": "AbtOs123m5Zq",
        "outputId": "970cc378-6190-42b2-a6bf-e5919f15b81e",
        "colab": {
          "base_uri": "https://localhost:8080/",
          "height": 173
        }
      },
      "source": [
        "# Paso 4\n",
        "lluvia <- (temp > 20)\n",
        "lluvia\n",
        "length(lluvia)"
      ],
      "execution_count": 17,
      "outputs": [
        {
          "output_type": "display_data",
          "data": {
            "text/html": [
              "<style>\n",
              ".list-inline {list-style: none; margin:0; padding: 0}\n",
              ".list-inline>li {display: inline-block}\n",
              ".list-inline>li:not(:last-child)::after {content: \"\\00b7\"; padding: 0 .5ex}\n",
              "</style>\n",
              "<ol class=list-inline><li>TRUE</li><li>FALSE</li><li>TRUE</li><li>FALSE</li><li>TRUE</li><li>TRUE</li><li>FALSE</li><li>FALSE</li><li>FALSE</li><li>FALSE</li><li>TRUE</li><li>TRUE</li><li>TRUE</li><li>FALSE</li><li>TRUE</li><li>FALSE</li><li>TRUE</li><li>TRUE</li><li>FALSE</li><li>TRUE</li><li>TRUE</li><li>TRUE</li><li>TRUE</li><li>TRUE</li><li>TRUE</li><li>TRUE</li><li>TRUE</li><li>FALSE</li><li>TRUE</li><li>FALSE</li><li>TRUE</li><li>FALSE</li><li>TRUE</li><li>FALSE</li><li>FALSE</li><li>TRUE</li><li>TRUE</li><li>TRUE</li><li>TRUE</li><li>TRUE</li><li>FALSE</li><li>TRUE</li><li>TRUE</li><li>FALSE</li><li>FALSE</li><li>TRUE</li><li>FALSE</li><li>TRUE</li><li>FALSE</li><li>TRUE</li><li>TRUE</li><li>TRUE</li><li>FALSE</li><li>TRUE</li><li>TRUE</li><li>TRUE</li><li>FALSE</li><li>FALSE</li><li>TRUE</li><li>FALSE</li><li>TRUE</li><li>TRUE</li><li>TRUE</li><li>TRUE</li><li>FALSE</li><li>FALSE</li><li>FALSE</li><li>FALSE</li><li>TRUE</li><li>FALSE</li><li>TRUE</li><li>FALSE</li><li>TRUE</li><li>FALSE</li><li>TRUE</li><li>TRUE</li><li>TRUE</li><li>FALSE</li><li>TRUE</li><li>FALSE</li><li>FALSE</li><li>TRUE</li><li>TRUE</li><li>FALSE</li><li>TRUE</li><li>FALSE</li><li>TRUE</li><li>FALSE</li><li>FALSE</li><li>TRUE</li><li>TRUE</li><li>FALSE</li><li>FALSE</li><li>TRUE</li><li>TRUE</li><li>TRUE</li><li>TRUE</li><li>TRUE</li><li>TRUE</li><li>TRUE</li></ol>\n"
            ],
            "text/markdown": "1. TRUE\n2. FALSE\n3. TRUE\n4. FALSE\n5. TRUE\n6. TRUE\n7. FALSE\n8. FALSE\n9. FALSE\n10. FALSE\n11. TRUE\n12. TRUE\n13. TRUE\n14. FALSE\n15. TRUE\n16. FALSE\n17. TRUE\n18. TRUE\n19. FALSE\n20. TRUE\n21. TRUE\n22. TRUE\n23. TRUE\n24. TRUE\n25. TRUE\n26. TRUE\n27. TRUE\n28. FALSE\n29. TRUE\n30. FALSE\n31. TRUE\n32. FALSE\n33. TRUE\n34. FALSE\n35. FALSE\n36. TRUE\n37. TRUE\n38. TRUE\n39. TRUE\n40. TRUE\n41. FALSE\n42. TRUE\n43. TRUE\n44. FALSE\n45. FALSE\n46. TRUE\n47. FALSE\n48. TRUE\n49. FALSE\n50. TRUE\n51. TRUE\n52. TRUE\n53. FALSE\n54. TRUE\n55. TRUE\n56. TRUE\n57. FALSE\n58. FALSE\n59. TRUE\n60. FALSE\n61. TRUE\n62. TRUE\n63. TRUE\n64. TRUE\n65. FALSE\n66. FALSE\n67. FALSE\n68. FALSE\n69. TRUE\n70. FALSE\n71. TRUE\n72. FALSE\n73. TRUE\n74. FALSE\n75. TRUE\n76. TRUE\n77. TRUE\n78. FALSE\n79. TRUE\n80. FALSE\n81. FALSE\n82. TRUE\n83. TRUE\n84. FALSE\n85. TRUE\n86. FALSE\n87. TRUE\n88. FALSE\n89. FALSE\n90. TRUE\n91. TRUE\n92. FALSE\n93. FALSE\n94. TRUE\n95. TRUE\n96. TRUE\n97. TRUE\n98. TRUE\n99. TRUE\n100. TRUE\n\n\n",
            "text/latex": "\\begin{enumerate*}\n\\item TRUE\n\\item FALSE\n\\item TRUE\n\\item FALSE\n\\item TRUE\n\\item TRUE\n\\item FALSE\n\\item FALSE\n\\item FALSE\n\\item FALSE\n\\item TRUE\n\\item TRUE\n\\item TRUE\n\\item FALSE\n\\item TRUE\n\\item FALSE\n\\item TRUE\n\\item TRUE\n\\item FALSE\n\\item TRUE\n\\item TRUE\n\\item TRUE\n\\item TRUE\n\\item TRUE\n\\item TRUE\n\\item TRUE\n\\item TRUE\n\\item FALSE\n\\item TRUE\n\\item FALSE\n\\item TRUE\n\\item FALSE\n\\item TRUE\n\\item FALSE\n\\item FALSE\n\\item TRUE\n\\item TRUE\n\\item TRUE\n\\item TRUE\n\\item TRUE\n\\item FALSE\n\\item TRUE\n\\item TRUE\n\\item FALSE\n\\item FALSE\n\\item TRUE\n\\item FALSE\n\\item TRUE\n\\item FALSE\n\\item TRUE\n\\item TRUE\n\\item TRUE\n\\item FALSE\n\\item TRUE\n\\item TRUE\n\\item TRUE\n\\item FALSE\n\\item FALSE\n\\item TRUE\n\\item FALSE\n\\item TRUE\n\\item TRUE\n\\item TRUE\n\\item TRUE\n\\item FALSE\n\\item FALSE\n\\item FALSE\n\\item FALSE\n\\item TRUE\n\\item FALSE\n\\item TRUE\n\\item FALSE\n\\item TRUE\n\\item FALSE\n\\item TRUE\n\\item TRUE\n\\item TRUE\n\\item FALSE\n\\item TRUE\n\\item FALSE\n\\item FALSE\n\\item TRUE\n\\item TRUE\n\\item FALSE\n\\item TRUE\n\\item FALSE\n\\item TRUE\n\\item FALSE\n\\item FALSE\n\\item TRUE\n\\item TRUE\n\\item FALSE\n\\item FALSE\n\\item TRUE\n\\item TRUE\n\\item TRUE\n\\item TRUE\n\\item TRUE\n\\item TRUE\n\\item TRUE\n\\end{enumerate*}\n",
            "text/plain": [
              "  [1]  TRUE FALSE  TRUE FALSE  TRUE  TRUE FALSE FALSE FALSE FALSE  TRUE  TRUE\n",
              " [13]  TRUE FALSE  TRUE FALSE  TRUE  TRUE FALSE  TRUE  TRUE  TRUE  TRUE  TRUE\n",
              " [25]  TRUE  TRUE  TRUE FALSE  TRUE FALSE  TRUE FALSE  TRUE FALSE FALSE  TRUE\n",
              " [37]  TRUE  TRUE  TRUE  TRUE FALSE  TRUE  TRUE FALSE FALSE  TRUE FALSE  TRUE\n",
              " [49] FALSE  TRUE  TRUE  TRUE FALSE  TRUE  TRUE  TRUE FALSE FALSE  TRUE FALSE\n",
              " [61]  TRUE  TRUE  TRUE  TRUE FALSE FALSE FALSE FALSE  TRUE FALSE  TRUE FALSE\n",
              " [73]  TRUE FALSE  TRUE  TRUE  TRUE FALSE  TRUE FALSE FALSE  TRUE  TRUE FALSE\n",
              " [85]  TRUE FALSE  TRUE FALSE FALSE  TRUE  TRUE FALSE FALSE  TRUE  TRUE  TRUE\n",
              " [97]  TRUE  TRUE  TRUE  TRUE"
            ]
          },
          "metadata": {}
        },
        {
          "output_type": "display_data",
          "data": {
            "text/html": [
              "100"
            ],
            "text/markdown": "100",
            "text/latex": "100",
            "text/plain": [
              "[1] 100"
            ]
          },
          "metadata": {}
        }
      ]
    },
    {
      "cell_type": "markdown",
      "metadata": {
        "id": "i7p8FIdtm5Zs"
      },
      "source": [
        "**Paso 5**\n",
        "\n",
        "Finalmente cree un data frame llamado _precipitaciones_ con las siguientes columnas:<br>\n",
        "\n",
        "*Dia_semana* (con los valores del vector _dia_)<br>\n",
        "*Temperatura* (con los valores del vector _temp_)<br>\n",
        "*Llueve* (con los valores del vector _lluvia_)<br>\n",
        "*Estacion* (con los valores del vector _est_)<br>"
      ]
    },
    {
      "cell_type": "code",
      "metadata": {
        "trusted": true,
        "id": "o-TVm7uum5Zs",
        "outputId": "ebf13334-7c66-43b0-ddcf-23445beb72a3",
        "colab": {
          "base_uri": "https://localhost:8080/",
          "height": 1000
        }
      },
      "source": [
        "# Paso 5\n",
        "precipitaciones <- data.frame(Dia_semana = dia,\n",
        "                              Temperatura = temp,\n",
        "                              Llueve = lluvia,\n",
        "                              Estacion = est)\n",
        "precipitaciones"
      ],
      "execution_count": 19,
      "outputs": [
        {
          "output_type": "display_data",
          "data": {
            "text/html": [
              "<table class=\"dataframe\">\n",
              "<caption>A data.frame: 100 × 4</caption>\n",
              "<thead>\n",
              "\t<tr><th scope=col>Dia_semana</th><th scope=col>Temperatura</th><th scope=col>Llueve</th><th scope=col>Estacion</th></tr>\n",
              "\t<tr><th scope=col>&lt;chr&gt;</th><th scope=col>&lt;dbl&gt;</th><th scope=col>&lt;lgl&gt;</th><th scope=col>&lt;chr&gt;</th></tr>\n",
              "</thead>\n",
              "<tbody>\n",
              "\t<tr><td>L</td><td>24.507975</td><td> TRUE</td><td>E1</td></tr>\n",
              "\t<tr><td>M</td><td>18.547969</td><td>FALSE</td><td>E1</td></tr>\n",
              "\t<tr><td>W</td><td>22.006332</td><td> TRUE</td><td>E1</td></tr>\n",
              "\t<tr><td>J</td><td>18.288811</td><td>FALSE</td><td>E1</td></tr>\n",
              "\t<tr><td>V</td><td>22.235998</td><td> TRUE</td><td>E1</td></tr>\n",
              "\t<tr><td>S</td><td>26.661598</td><td> TRUE</td><td>E1</td></tr>\n",
              "\t<tr><td>D</td><td>19.831442</td><td>FALSE</td><td>E1</td></tr>\n",
              "\t<tr><td>L</td><td> 5.484207</td><td>FALSE</td><td>E1</td></tr>\n",
              "\t<tr><td>M</td><td>18.929349</td><td>FALSE</td><td>E1</td></tr>\n",
              "\t<tr><td>W</td><td>13.505312</td><td>FALSE</td><td>E1</td></tr>\n",
              "\t<tr><td>J</td><td>21.525026</td><td> TRUE</td><td>E1</td></tr>\n",
              "\t<tr><td>V</td><td>34.991879</td><td> TRUE</td><td>E1</td></tr>\n",
              "\t<tr><td>S</td><td>27.803584</td><td> TRUE</td><td>E1</td></tr>\n",
              "\t<tr><td>D</td><td>10.052161</td><td>FALSE</td><td>E1</td></tr>\n",
              "\t<tr><td>L</td><td>24.860582</td><td> TRUE</td><td>E1</td></tr>\n",
              "\t<tr><td>M</td><td>13.893741</td><td>FALSE</td><td>E1</td></tr>\n",
              "\t<tr><td>W</td><td>24.979772</td><td> TRUE</td><td>E1</td></tr>\n",
              "\t<tr><td>J</td><td>28.915951</td><td> TRUE</td><td>E1</td></tr>\n",
              "\t<tr><td>V</td><td>18.644010</td><td>FALSE</td><td>E1</td></tr>\n",
              "\t<tr><td>S</td><td>21.327128</td><td> TRUE</td><td>E1</td></tr>\n",
              "\t<tr><td>D</td><td>29.382717</td><td> TRUE</td><td>E1</td></tr>\n",
              "\t<tr><td>L</td><td>21.370865</td><td> TRUE</td><td>E1</td></tr>\n",
              "\t<tr><td>M</td><td>28.498163</td><td> TRUE</td><td>E1</td></tr>\n",
              "\t<tr><td>W</td><td>24.872796</td><td> TRUE</td><td>E1</td></tr>\n",
              "\t<tr><td>J</td><td>20.422276</td><td> TRUE</td><td>E1</td></tr>\n",
              "\t<tr><td>V</td><td>20.481415</td><td> TRUE</td><td>E1</td></tr>\n",
              "\t<tr><td>S</td><td>22.081818</td><td> TRUE</td><td>E1</td></tr>\n",
              "\t<tr><td>D</td><td> 3.620011</td><td>FALSE</td><td>E1</td></tr>\n",
              "\t<tr><td>L</td><td>20.662442</td><td> TRUE</td><td>E1</td></tr>\n",
              "\t<tr><td>M</td><td> 6.868695</td><td>FALSE</td><td>E1</td></tr>\n",
              "\t<tr><td>⋮</td><td>⋮</td><td>⋮</td><td>⋮</td></tr>\n",
              "\t<tr><td>L</td><td>39.598247</td><td> TRUE</td><td>E3</td></tr>\n",
              "\t<tr><td>M</td><td>16.847288</td><td>FALSE</td><td>E3</td></tr>\n",
              "\t<tr><td>W</td><td>27.761622</td><td> TRUE</td><td>E3</td></tr>\n",
              "\t<tr><td>J</td><td>18.624142</td><td>FALSE</td><td>E3</td></tr>\n",
              "\t<tr><td>V</td><td>24.753434</td><td> TRUE</td><td>E3</td></tr>\n",
              "\t<tr><td>S</td><td>34.297862</td><td> TRUE</td><td>E3</td></tr>\n",
              "\t<tr><td>D</td><td>26.615924</td><td> TRUE</td><td>E3</td></tr>\n",
              "\t<tr><td>L</td><td>13.038195</td><td>FALSE</td><td>E3</td></tr>\n",
              "\t<tr><td>M</td><td>20.516481</td><td> TRUE</td><td>E3</td></tr>\n",
              "\t<tr><td>W</td><td>19.029508</td><td>FALSE</td><td>E3</td></tr>\n",
              "\t<tr><td>J</td><td>15.978398</td><td>FALSE</td><td>E3</td></tr>\n",
              "\t<tr><td>V</td><td>22.279406</td><td> TRUE</td><td>E3</td></tr>\n",
              "\t<tr><td>S</td><td>35.650635</td><td> TRUE</td><td>E3</td></tr>\n",
              "\t<tr><td>D</td><td>13.969992</td><td>FALSE</td><td>E3</td></tr>\n",
              "\t<tr><td>L</td><td>26.880160</td><td> TRUE</td><td>E3</td></tr>\n",
              "\t<tr><td>M</td><td>16.249072</td><td>FALSE</td><td>E3</td></tr>\n",
              "\t<tr><td>W</td><td>29.080577</td><td> TRUE</td><td>E3</td></tr>\n",
              "\t<tr><td>J</td><td>13.327780</td><td>FALSE</td><td>E3</td></tr>\n",
              "\t<tr><td>V</td><td>11.893264</td><td>FALSE</td><td>E3</td></tr>\n",
              "\t<tr><td>S</td><td>24.446107</td><td> TRUE</td><td>E3</td></tr>\n",
              "\t<tr><td>D</td><td>23.702491</td><td> TRUE</td><td>E3</td></tr>\n",
              "\t<tr><td>L</td><td> 9.277144</td><td>FALSE</td><td>E3</td></tr>\n",
              "\t<tr><td>M</td><td>18.250859</td><td>FALSE</td><td>E3</td></tr>\n",
              "\t<tr><td>W</td><td>25.127227</td><td> TRUE</td><td>E3</td></tr>\n",
              "\t<tr><td>J</td><td>24.010063</td><td> TRUE</td><td>E3</td></tr>\n",
              "\t<tr><td>V</td><td>27.284782</td><td> TRUE</td><td>E3</td></tr>\n",
              "\t<tr><td>S</td><td>27.137783</td><td> TRUE</td><td>E3</td></tr>\n",
              "\t<tr><td>D</td><td>23.994049</td><td> TRUE</td><td>E3</td></tr>\n",
              "\t<tr><td>L</td><td>21.418949</td><td> TRUE</td><td>E3</td></tr>\n",
              "\t<tr><td>M</td><td>20.079554</td><td> TRUE</td><td>E3</td></tr>\n",
              "</tbody>\n",
              "</table>\n"
            ],
            "text/markdown": "\nA data.frame: 100 × 4\n\n| Dia_semana &lt;chr&gt; | Temperatura &lt;dbl&gt; | Llueve &lt;lgl&gt; | Estacion &lt;chr&gt; |\n|---|---|---|---|\n| L | 24.507975 |  TRUE | E1 |\n| M | 18.547969 | FALSE | E1 |\n| W | 22.006332 |  TRUE | E1 |\n| J | 18.288811 | FALSE | E1 |\n| V | 22.235998 |  TRUE | E1 |\n| S | 26.661598 |  TRUE | E1 |\n| D | 19.831442 | FALSE | E1 |\n| L |  5.484207 | FALSE | E1 |\n| M | 18.929349 | FALSE | E1 |\n| W | 13.505312 | FALSE | E1 |\n| J | 21.525026 |  TRUE | E1 |\n| V | 34.991879 |  TRUE | E1 |\n| S | 27.803584 |  TRUE | E1 |\n| D | 10.052161 | FALSE | E1 |\n| L | 24.860582 |  TRUE | E1 |\n| M | 13.893741 | FALSE | E1 |\n| W | 24.979772 |  TRUE | E1 |\n| J | 28.915951 |  TRUE | E1 |\n| V | 18.644010 | FALSE | E1 |\n| S | 21.327128 |  TRUE | E1 |\n| D | 29.382717 |  TRUE | E1 |\n| L | 21.370865 |  TRUE | E1 |\n| M | 28.498163 |  TRUE | E1 |\n| W | 24.872796 |  TRUE | E1 |\n| J | 20.422276 |  TRUE | E1 |\n| V | 20.481415 |  TRUE | E1 |\n| S | 22.081818 |  TRUE | E1 |\n| D |  3.620011 | FALSE | E1 |\n| L | 20.662442 |  TRUE | E1 |\n| M |  6.868695 | FALSE | E1 |\n| ⋮ | ⋮ | ⋮ | ⋮ |\n| L | 39.598247 |  TRUE | E3 |\n| M | 16.847288 | FALSE | E3 |\n| W | 27.761622 |  TRUE | E3 |\n| J | 18.624142 | FALSE | E3 |\n| V | 24.753434 |  TRUE | E3 |\n| S | 34.297862 |  TRUE | E3 |\n| D | 26.615924 |  TRUE | E3 |\n| L | 13.038195 | FALSE | E3 |\n| M | 20.516481 |  TRUE | E3 |\n| W | 19.029508 | FALSE | E3 |\n| J | 15.978398 | FALSE | E3 |\n| V | 22.279406 |  TRUE | E3 |\n| S | 35.650635 |  TRUE | E3 |\n| D | 13.969992 | FALSE | E3 |\n| L | 26.880160 |  TRUE | E3 |\n| M | 16.249072 | FALSE | E3 |\n| W | 29.080577 |  TRUE | E3 |\n| J | 13.327780 | FALSE | E3 |\n| V | 11.893264 | FALSE | E3 |\n| S | 24.446107 |  TRUE | E3 |\n| D | 23.702491 |  TRUE | E3 |\n| L |  9.277144 | FALSE | E3 |\n| M | 18.250859 | FALSE | E3 |\n| W | 25.127227 |  TRUE | E3 |\n| J | 24.010063 |  TRUE | E3 |\n| V | 27.284782 |  TRUE | E3 |\n| S | 27.137783 |  TRUE | E3 |\n| D | 23.994049 |  TRUE | E3 |\n| L | 21.418949 |  TRUE | E3 |\n| M | 20.079554 |  TRUE | E3 |\n\n",
            "text/latex": "A data.frame: 100 × 4\n\\begin{tabular}{llll}\n Dia\\_semana & Temperatura & Llueve & Estacion\\\\\n <chr> & <dbl> & <lgl> & <chr>\\\\\n\\hline\n\t L & 24.507975 &  TRUE & E1\\\\\n\t M & 18.547969 & FALSE & E1\\\\\n\t W & 22.006332 &  TRUE & E1\\\\\n\t J & 18.288811 & FALSE & E1\\\\\n\t V & 22.235998 &  TRUE & E1\\\\\n\t S & 26.661598 &  TRUE & E1\\\\\n\t D & 19.831442 & FALSE & E1\\\\\n\t L &  5.484207 & FALSE & E1\\\\\n\t M & 18.929349 & FALSE & E1\\\\\n\t W & 13.505312 & FALSE & E1\\\\\n\t J & 21.525026 &  TRUE & E1\\\\\n\t V & 34.991879 &  TRUE & E1\\\\\n\t S & 27.803584 &  TRUE & E1\\\\\n\t D & 10.052161 & FALSE & E1\\\\\n\t L & 24.860582 &  TRUE & E1\\\\\n\t M & 13.893741 & FALSE & E1\\\\\n\t W & 24.979772 &  TRUE & E1\\\\\n\t J & 28.915951 &  TRUE & E1\\\\\n\t V & 18.644010 & FALSE & E1\\\\\n\t S & 21.327128 &  TRUE & E1\\\\\n\t D & 29.382717 &  TRUE & E1\\\\\n\t L & 21.370865 &  TRUE & E1\\\\\n\t M & 28.498163 &  TRUE & E1\\\\\n\t W & 24.872796 &  TRUE & E1\\\\\n\t J & 20.422276 &  TRUE & E1\\\\\n\t V & 20.481415 &  TRUE & E1\\\\\n\t S & 22.081818 &  TRUE & E1\\\\\n\t D &  3.620011 & FALSE & E1\\\\\n\t L & 20.662442 &  TRUE & E1\\\\\n\t M &  6.868695 & FALSE & E1\\\\\n\t ⋮ & ⋮ & ⋮ & ⋮\\\\\n\t L & 39.598247 &  TRUE & E3\\\\\n\t M & 16.847288 & FALSE & E3\\\\\n\t W & 27.761622 &  TRUE & E3\\\\\n\t J & 18.624142 & FALSE & E3\\\\\n\t V & 24.753434 &  TRUE & E3\\\\\n\t S & 34.297862 &  TRUE & E3\\\\\n\t D & 26.615924 &  TRUE & E3\\\\\n\t L & 13.038195 & FALSE & E3\\\\\n\t M & 20.516481 &  TRUE & E3\\\\\n\t W & 19.029508 & FALSE & E3\\\\\n\t J & 15.978398 & FALSE & E3\\\\\n\t V & 22.279406 &  TRUE & E3\\\\\n\t S & 35.650635 &  TRUE & E3\\\\\n\t D & 13.969992 & FALSE & E3\\\\\n\t L & 26.880160 &  TRUE & E3\\\\\n\t M & 16.249072 & FALSE & E3\\\\\n\t W & 29.080577 &  TRUE & E3\\\\\n\t J & 13.327780 & FALSE & E3\\\\\n\t V & 11.893264 & FALSE & E3\\\\\n\t S & 24.446107 &  TRUE & E3\\\\\n\t D & 23.702491 &  TRUE & E3\\\\\n\t L &  9.277144 & FALSE & E3\\\\\n\t M & 18.250859 & FALSE & E3\\\\\n\t W & 25.127227 &  TRUE & E3\\\\\n\t J & 24.010063 &  TRUE & E3\\\\\n\t V & 27.284782 &  TRUE & E3\\\\\n\t S & 27.137783 &  TRUE & E3\\\\\n\t D & 23.994049 &  TRUE & E3\\\\\n\t L & 21.418949 &  TRUE & E3\\\\\n\t M & 20.079554 &  TRUE & E3\\\\\n\\end{tabular}\n",
            "text/plain": [
              "    Dia_semana Temperatura Llueve Estacion\n",
              "1   L          24.507975    TRUE  E1      \n",
              "2   M          18.547969   FALSE  E1      \n",
              "3   W          22.006332    TRUE  E1      \n",
              "4   J          18.288811   FALSE  E1      \n",
              "5   V          22.235998    TRUE  E1      \n",
              "6   S          26.661598    TRUE  E1      \n",
              "7   D          19.831442   FALSE  E1      \n",
              "8   L           5.484207   FALSE  E1      \n",
              "9   M          18.929349   FALSE  E1      \n",
              "10  W          13.505312   FALSE  E1      \n",
              "11  J          21.525026    TRUE  E1      \n",
              "12  V          34.991879    TRUE  E1      \n",
              "13  S          27.803584    TRUE  E1      \n",
              "14  D          10.052161   FALSE  E1      \n",
              "15  L          24.860582    TRUE  E1      \n",
              "16  M          13.893741   FALSE  E1      \n",
              "17  W          24.979772    TRUE  E1      \n",
              "18  J          28.915951    TRUE  E1      \n",
              "19  V          18.644010   FALSE  E1      \n",
              "20  S          21.327128    TRUE  E1      \n",
              "21  D          29.382717    TRUE  E1      \n",
              "22  L          21.370865    TRUE  E1      \n",
              "23  M          28.498163    TRUE  E1      \n",
              "24  W          24.872796    TRUE  E1      \n",
              "25  J          20.422276    TRUE  E1      \n",
              "26  V          20.481415    TRUE  E1      \n",
              "27  S          22.081818    TRUE  E1      \n",
              "28  D           3.620011   FALSE  E1      \n",
              "29  L          20.662442    TRUE  E1      \n",
              "30  M           6.868695   FALSE  E1      \n",
              "⋮   ⋮          ⋮           ⋮      ⋮       \n",
              "71  L          39.598247    TRUE  E3      \n",
              "72  M          16.847288   FALSE  E3      \n",
              "73  W          27.761622    TRUE  E3      \n",
              "74  J          18.624142   FALSE  E3      \n",
              "75  V          24.753434    TRUE  E3      \n",
              "76  S          34.297862    TRUE  E3      \n",
              "77  D          26.615924    TRUE  E3      \n",
              "78  L          13.038195   FALSE  E3      \n",
              "79  M          20.516481    TRUE  E3      \n",
              "80  W          19.029508   FALSE  E3      \n",
              "81  J          15.978398   FALSE  E3      \n",
              "82  V          22.279406    TRUE  E3      \n",
              "83  S          35.650635    TRUE  E3      \n",
              "84  D          13.969992   FALSE  E3      \n",
              "85  L          26.880160    TRUE  E3      \n",
              "86  M          16.249072   FALSE  E3      \n",
              "87  W          29.080577    TRUE  E3      \n",
              "88  J          13.327780   FALSE  E3      \n",
              "89  V          11.893264   FALSE  E3      \n",
              "90  S          24.446107    TRUE  E3      \n",
              "91  D          23.702491    TRUE  E3      \n",
              "92  L           9.277144   FALSE  E3      \n",
              "93  M          18.250859   FALSE  E3      \n",
              "94  W          25.127227    TRUE  E3      \n",
              "95  J          24.010063    TRUE  E3      \n",
              "96  V          27.284782    TRUE  E3      \n",
              "97  S          27.137783    TRUE  E3      \n",
              "98  D          23.994049    TRUE  E3      \n",
              "99  L          21.418949    TRUE  E3      \n",
              "100 M          20.079554    TRUE  E3      "
            ]
          },
          "metadata": {}
        }
      ]
    },
    {
      "cell_type": "markdown",
      "metadata": {
        "id": "kIjelA5sm5Zx"
      },
      "source": [
        "#### Strings como factores\n",
        "Cuando en R se declara una variable como factor, internamente se codifican sus categorías con valores 0 o 1. Por ejemplo, para las variables _Dia_ y _Estacion_ podemos generar sus matriz de diseño, indicando un 1 si el día (o estación) corresponde a la nueva columna generada, 0 si  no:\n",
        "\n",
        " |Dia |Temperatura    |Llueve| Estacion| | Dia.L|Dia.M|Dia.W|Dia.J|Dia.V|Dia.S|Dia.D|Est.1|Est.2|Est.3|\n",
        " |----|------------   |------|---------| |---   |---  |---  |---  |---  |---  |---  |---  |---  |---  |\n",
        " |L\t  |16.300201      |TRUE  |\tE1     | |1     |0    |0    |0    |0    |0    |0    |1    |0    |0    |\n",
        " |M   |21.042854      |FALSE |\tE1     | |0     |1    |0    |0    |0    |0    |0    |1    |0    |0    |\n",
        " |J\t  |31.256043      |FALSE |\tE3     | |0     |0    |0    |1    |0    |0    |0    |0    |0    |1    |\n",
        " |S\t  |40.083514      |FALSE |\tE3     | |0     |0    |0    |0    |0    |1    |0    |0    |0    |1    |\n",
        " \n",
        " Cuando se quiere generar un resumen de una variable categórica, o cuando se quiere incluir una variable de este tipo en el entrenamiento de un modelo será necesario declarar dicha variable como factor."
      ]
    },
    {
      "cell_type": "code",
      "metadata": {
        "trusted": true,
        "id": "UQN71LvGm5Z-"
      },
      "source": [
        "#podemos volver a coercionar las columnas a clase factor,  con la función as.factor\n"
      ],
      "execution_count": null,
      "outputs": []
    },
    {
      "cell_type": "code",
      "metadata": {
        "trusted": true,
        "id": "5kjmwaOUm5aA"
      },
      "source": [
        "# Un poco de exploración --------------------------------\n",
        "# ¿Cuál es la temperatura promedio cuando llovió?\n",
        "\n",
        "# ¿Cuál es la temperatura promedio cuando NO llovió?\n",
        "\n",
        "\n",
        "\n",
        "#Lo mismo pero sólo de los registros de E1\n",
        "\n"
      ],
      "execution_count": null,
      "outputs": []
    },
    {
      "cell_type": "code",
      "metadata": {
        "trusted": true,
        "id": "TJuAlpPxm5aC"
      },
      "source": [
        "# ¿Qué día era cuando se alcanzó la mínima temperatura?¿y la ,máxima?\n",
        "#La función which.min #o .max . retorna la posición donde se alcanza el min/max de un vector.\n",
        "\n",
        "# opcion 1\n",
        "\n",
        "# opcion 2\n"
      ],
      "execution_count": null,
      "outputs": []
    },
    {
      "cell_type": "code",
      "metadata": {
        "trusted": true,
        "id": "WHf5YnPWm5aF"
      },
      "source": [
        "# Una forma de eliminar registros en vector\n",
        "\n",
        "\n"
      ],
      "execution_count": null,
      "outputs": []
    },
    {
      "cell_type": "code",
      "metadata": {
        "trusted": true,
        "id": "6Vx1ojnAm5aH"
      },
      "source": [
        "# POdemos eliminar los registros de posición 3 y 4\n"
      ],
      "execution_count": null,
      "outputs": []
    },
    {
      "cell_type": "code",
      "metadata": {
        "trusted": true,
        "id": "K9Qv9n_nm5aJ"
      },
      "source": [
        "# Si queremos ver esa misma fila de la tabla precipitaciones.\n",
        "\n",
        "\n",
        "# Se sabe que la Estación E3 falla todos los días domingo, por lo que se quiere eliminar tales registros de la tabla. Elimínelos!\n",
        "\n"
      ],
      "execution_count": null,
      "outputs": []
    },
    {
      "cell_type": "code",
      "metadata": {
        "trusted": true,
        "id": "nuW7ux65m5aL"
      },
      "source": [
        "dim(precipitaciones)"
      ],
      "execution_count": null,
      "outputs": []
    },
    {
      "cell_type": "markdown",
      "metadata": {
        "id": "5fmGF0Qam5aN"
      },
      "source": [
        "## 5.4 Cómo guardar ambiente de trabajo o variables definidas en el\n",
        "\n",
        "### Directorio de trabajo\n",
        "\n",
        "El directorio de trabajo corresponde a la ubicación en el sistema de archivos, desde donde la sesión de R podrá acceder directamente para guardar o cargar datos.\n"
      ]
    },
    {
      "cell_type": "code",
      "metadata": {
        "trusted": true,
        "id": "OfyO5MKOm5aO"
      },
      "source": [
        "# para saber en qué directorio se está trabajando\n"
      ],
      "execution_count": null,
      "outputs": []
    },
    {
      "cell_type": "code",
      "metadata": {
        "trusted": true,
        "id": "fHZIjYhRm5aQ"
      },
      "source": [
        "# para cambiar el directorio de trabajo\n",
        "\n"
      ],
      "execution_count": null,
      "outputs": []
    },
    {
      "cell_type": "markdown",
      "metadata": {
        "id": "_M-D6sgRm5aU"
      },
      "source": [
        "### Formato rds \n",
        "\n",
        "Una manera de guardar variables creadas en el ambiente de la sessión de R, es mediante la utilización del formato *.rds. Este formato permite guardar los objetos declarados y leerlos rápidamente en cualquier otra sesión que se inicie posteriormente. Es últil por ejemplo para guardar en disco modelos entrenados para ser utilizados para predicciones futuras.\n"
      ]
    },
    {
      "cell_type": "code",
      "metadata": {
        "trusted": true,
        "id": "11jJ5B50m5aV"
      },
      "source": [
        "# Función saveRDS() # Guardar\n",
        "# guarde en el directorio actual el dataframe _precipitaciones_\n"
      ],
      "execution_count": null,
      "outputs": []
    },
    {
      "cell_type": "code",
      "metadata": {
        "trusted": true,
        "id": "DixES_Kjm5ah"
      },
      "source": [
        "# readRDS()  Leer, pero ojo que es necesario asignar  a una variable\n"
      ],
      "execution_count": null,
      "outputs": []
    },
    {
      "cell_type": "markdown",
      "metadata": {
        "id": "_4pmC4cBm5as"
      },
      "source": [
        "### Formato RData\n",
        "\n",
        "Cuando se quiere guardar el ambiente de trabajo completo, o bien un mayor número de objetos ya creados, se puede utilizar la función _save_\n"
      ]
    },
    {
      "cell_type": "code",
      "metadata": {
        "trusted": true,
        "id": "M5yFyJ27m5at"
      },
      "source": [
        "# Función save para guardar uno o más objetos del ambiente.\n",
        "\n"
      ],
      "execution_count": null,
      "outputs": []
    },
    {
      "cell_type": "code",
      "metadata": {
        "trusted": true,
        "id": "YDmd1Npmm5ay"
      },
      "source": [
        "# Eventualmente podemos \"cargar \" a sesión, con la función load()\n"
      ],
      "execution_count": null,
      "outputs": []
    }
  ]
}
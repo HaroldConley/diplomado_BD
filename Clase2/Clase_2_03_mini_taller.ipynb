{
  "nbformat": 4,
  "nbformat_minor": 0,
  "metadata": {
    "colab": {
      "name": "Clase 2_03_mini_taller.ipynb",
      "provenance": [],
      "collapsed_sections": [],
      "include_colab_link": true
    },
    "kernelspec": {
      "name": "ir",
      "display_name": "R"
    }
  },
  "cells": [
    {
      "cell_type": "markdown",
      "metadata": {
        "id": "view-in-github",
        "colab_type": "text"
      },
      "source": [
        "<a href=\"https://colab.research.google.com/github/HaroldConley/diplomado_BD/blob/main/Clase2/Clase_2_03_mini_taller.ipynb\" target=\"_parent\"><img src=\"https://colab.research.google.com/assets/colab-badge.svg\" alt=\"Open In Colab\"/></a>"
      ]
    },
    {
      "cell_type": "markdown",
      "metadata": {
        "id": "x-GJ_euMr-qr"
      },
      "source": [
        "#**Mini taller 1**\n",
        "**Autor:** Miguel Jorquera Viguera <br>\n",
        "**E-mail:** majorquev@gmail.com<br>\n",
        "**Ayudante:** Rodrigo Morales<br>\n",
        "**E-mail ayudante:**  rumorale1@gmail.com<br>"
      ]
    },
    {
      "cell_type": "markdown",
      "metadata": {
        "collapsed": true,
        "id": "EZ0yOlnfm5Zb"
      },
      "source": [
        "\n",
        "Los dataframes corresponden a uno de los objetos más utilizados en R para analizar datos tabulares,\n",
        "por lo que se hace necesario en muchos casos realizar consultas a los datos que contiene un dataframe,\n",
        "(filtros, cruces de tablas, creación de columnas, etc). Por ahora veremos una de las formas más \"primitivas\" para la manipulación de un data.frame.\n",
        "\n",
        "Para ello consideremos el siguiente ejercicio.\n",
        "\n",
        "**Paso 1**\n",
        "Mediante la función rnorm(), genere una muestra aleatoria de 100 datos , con media 21 y desviación estándar 8 (más adelante veremos esto con un poco más de detalle), y guárdela en una variable llamada temp.\n",
        "\n"
      ]
    },
    {
      "cell_type": "code",
      "metadata": {
        "trusted": true,
        "id": "9f6cXmN3m5Zc",
        "colab": {
          "base_uri": "https://localhost:8080/",
          "height": 208
        },
        "outputId": "648cc7e6-c67f-4fc0-985b-fa5c69d30764"
      },
      "source": [
        "# 5.3 Mini taller --------\n",
        "# Paso 1\n",
        "temp <- rnorm(n = 100, mean = 21, sd = 8)\n",
        "temp\n"
      ],
      "execution_count": 17,
      "outputs": [
        {
          "output_type": "display_data",
          "data": {
            "text/html": [
              "<style>\n",
              ".list-inline {list-style: none; margin:0; padding: 0}\n",
              ".list-inline>li {display: inline-block}\n",
              ".list-inline>li:not(:last-child)::after {content: \"\\00b7\"; padding: 0 .5ex}\n",
              "</style>\n",
              "<ol class=list-inline><li>22.8773288831417</li><li>35.9147935384639</li><li>18.3677848947205</li><li>20.7623911640109</li><li>-1.22762205257655</li><li>24.717197646374</li><li>24.6916841201182</li><li>21.0554325405208</li><li>10.8482878109266</li><li>16.2392005913367</li><li>20.4395745565666</li><li>30.5414131482653</li><li>10.8764490828475</li><li>20.769350189613</li><li>15.7433776388046</li><li>13.9259286507811</li><li>30.1477948927826</li><li>31.3109924242255</li><li>33.4672896126565</li><li>17.9305025216441</li><li>17.028917483714</li><li>11.669769769373</li><li>12.878931640269</li><li>16.2718156582991</li><li>16.6278542677045</li><li>12.4436439403895</li><li>27.7044773096313</li><li>24.4881245768303</li><li>30.4685847003153</li><li>24.5253377019588</li><li>7.56885014803121</li><li>14.2935696746583</li><li>23.767884493786</li><li>26.3832812737384</li><li>22.4648593926618</li><li>20.2473811663274</li><li>17.2978026635575</li><li>17.207858292703</li><li>29.3457068252539</li><li>24.8537500103984</li><li>14.0165437675128</li><li>16.4599607095653</li><li>22.0183212529541</li><li>39.8015289809722</li><li>23.9490811140383</li><li>9.47701178153537</li><li>9.05213072044215</li><li>34.2105717063761</li><li>18.2232875797351</li><li>19.3986821056423</li><li>11.6578372529665</li><li>16.0213085815519</li><li>17.6121577497279</li><li>17.801232692923</li><li>36.2610130253861</li><li>22.7001159749037</li><li>29.2573516603728</li><li>3.5295258250648</li><li>27.5533191467028</li><li>26.8492525454496</li><li>10.979422197231</li><li>28.0941638702163</li><li>14.7811050479748</li><li>27.3022457951745</li><li>23.5153892633973</li><li>29.181013774278</li><li>11.3970167536671</li><li>10.0963687467775</li><li>10.7164325709933</li><li>24.7720454769335</li><li>25.0649380889937</li><li>20.8208521733188</li><li>34.8763553182185</li><li>7.92626230871469</li><li>40.0477402090915</li><li>6.0501521613738</li><li>4.81103623289065</li><li>32.6043825130519</li><li>21.1025203986038</li><li>14.758545759161</li><li>10.6640974708039</li><li>10.3053324215189</li><li>34.4835317256253</li><li>29.9281149333667</li><li>15.2538091503112</li><li>10.1890134412492</li><li>21.7015618220071</li><li>20.7032656358853</li><li>31.07585834501</li><li>30.6448090072292</li><li>8.985922393858</li><li>11.2067679918687</li><li>33.1367982521489</li><li>18.5437293588085</li><li>-3.63615663672033</li><li>24.5627285788933</li><li>16.2421289509337</li><li>20.4311455056848</li><li>6.22519591717492</li><li>13.0720077111639</li></ol>\n"
            ],
            "text/markdown": "1. 22.8773288831417\n2. 35.9147935384639\n3. 18.3677848947205\n4. 20.7623911640109\n5. -1.22762205257655\n6. 24.717197646374\n7. 24.6916841201182\n8. 21.0554325405208\n9. 10.8482878109266\n10. 16.2392005913367\n11. 20.4395745565666\n12. 30.5414131482653\n13. 10.8764490828475\n14. 20.769350189613\n15. 15.7433776388046\n16. 13.9259286507811\n17. 30.1477948927826\n18. 31.3109924242255\n19. 33.4672896126565\n20. 17.9305025216441\n21. 17.028917483714\n22. 11.669769769373\n23. 12.878931640269\n24. 16.2718156582991\n25. 16.6278542677045\n26. 12.4436439403895\n27. 27.7044773096313\n28. 24.4881245768303\n29. 30.4685847003153\n30. 24.5253377019588\n31. 7.56885014803121\n32. 14.2935696746583\n33. 23.767884493786\n34. 26.3832812737384\n35. 22.4648593926618\n36. 20.2473811663274\n37. 17.2978026635575\n38. 17.207858292703\n39. 29.3457068252539\n40. 24.8537500103984\n41. 14.0165437675128\n42. 16.4599607095653\n43. 22.0183212529541\n44. 39.8015289809722\n45. 23.9490811140383\n46. 9.47701178153537\n47. 9.05213072044215\n48. 34.2105717063761\n49. 18.2232875797351\n50. 19.3986821056423\n51. 11.6578372529665\n52. 16.0213085815519\n53. 17.6121577497279\n54. 17.801232692923\n55. 36.2610130253861\n56. 22.7001159749037\n57. 29.2573516603728\n58. 3.5295258250648\n59. 27.5533191467028\n60. 26.8492525454496\n61. 10.979422197231\n62. 28.0941638702163\n63. 14.7811050479748\n64. 27.3022457951745\n65. 23.5153892633973\n66. 29.181013774278\n67. 11.3970167536671\n68. 10.0963687467775\n69. 10.7164325709933\n70. 24.7720454769335\n71. 25.0649380889937\n72. 20.8208521733188\n73. 34.8763553182185\n74. 7.92626230871469\n75. 40.0477402090915\n76. 6.0501521613738\n77. 4.81103623289065\n78. 32.6043825130519\n79. 21.1025203986038\n80. 14.758545759161\n81. 10.6640974708039\n82. 10.3053324215189\n83. 34.4835317256253\n84. 29.9281149333667\n85. 15.2538091503112\n86. 10.1890134412492\n87. 21.7015618220071\n88. 20.7032656358853\n89. 31.07585834501\n90. 30.6448090072292\n91. 8.985922393858\n92. 11.2067679918687\n93. 33.1367982521489\n94. 18.5437293588085\n95. -3.63615663672033\n96. 24.5627285788933\n97. 16.2421289509337\n98. 20.4311455056848\n99. 6.22519591717492\n100. 13.0720077111639\n\n\n",
            "text/latex": "\\begin{enumerate*}\n\\item 22.8773288831417\n\\item 35.9147935384639\n\\item 18.3677848947205\n\\item 20.7623911640109\n\\item -1.22762205257655\n\\item 24.717197646374\n\\item 24.6916841201182\n\\item 21.0554325405208\n\\item 10.8482878109266\n\\item 16.2392005913367\n\\item 20.4395745565666\n\\item 30.5414131482653\n\\item 10.8764490828475\n\\item 20.769350189613\n\\item 15.7433776388046\n\\item 13.9259286507811\n\\item 30.1477948927826\n\\item 31.3109924242255\n\\item 33.4672896126565\n\\item 17.9305025216441\n\\item 17.028917483714\n\\item 11.669769769373\n\\item 12.878931640269\n\\item 16.2718156582991\n\\item 16.6278542677045\n\\item 12.4436439403895\n\\item 27.7044773096313\n\\item 24.4881245768303\n\\item 30.4685847003153\n\\item 24.5253377019588\n\\item 7.56885014803121\n\\item 14.2935696746583\n\\item 23.767884493786\n\\item 26.3832812737384\n\\item 22.4648593926618\n\\item 20.2473811663274\n\\item 17.2978026635575\n\\item 17.207858292703\n\\item 29.3457068252539\n\\item 24.8537500103984\n\\item 14.0165437675128\n\\item 16.4599607095653\n\\item 22.0183212529541\n\\item 39.8015289809722\n\\item 23.9490811140383\n\\item 9.47701178153537\n\\item 9.05213072044215\n\\item 34.2105717063761\n\\item 18.2232875797351\n\\item 19.3986821056423\n\\item 11.6578372529665\n\\item 16.0213085815519\n\\item 17.6121577497279\n\\item 17.801232692923\n\\item 36.2610130253861\n\\item 22.7001159749037\n\\item 29.2573516603728\n\\item 3.5295258250648\n\\item 27.5533191467028\n\\item 26.8492525454496\n\\item 10.979422197231\n\\item 28.0941638702163\n\\item 14.7811050479748\n\\item 27.3022457951745\n\\item 23.5153892633973\n\\item 29.181013774278\n\\item 11.3970167536671\n\\item 10.0963687467775\n\\item 10.7164325709933\n\\item 24.7720454769335\n\\item 25.0649380889937\n\\item 20.8208521733188\n\\item 34.8763553182185\n\\item 7.92626230871469\n\\item 40.0477402090915\n\\item 6.0501521613738\n\\item 4.81103623289065\n\\item 32.6043825130519\n\\item 21.1025203986038\n\\item 14.758545759161\n\\item 10.6640974708039\n\\item 10.3053324215189\n\\item 34.4835317256253\n\\item 29.9281149333667\n\\item 15.2538091503112\n\\item 10.1890134412492\n\\item 21.7015618220071\n\\item 20.7032656358853\n\\item 31.07585834501\n\\item 30.6448090072292\n\\item 8.985922393858\n\\item 11.2067679918687\n\\item 33.1367982521489\n\\item 18.5437293588085\n\\item -3.63615663672033\n\\item 24.5627285788933\n\\item 16.2421289509337\n\\item 20.4311455056848\n\\item 6.22519591717492\n\\item 13.0720077111639\n\\end{enumerate*}\n",
            "text/plain": [
              "  [1] 22.877329 35.914794 18.367785 20.762391 -1.227622 24.717198 24.691684\n",
              "  [8] 21.055433 10.848288 16.239201 20.439575 30.541413 10.876449 20.769350\n",
              " [15] 15.743378 13.925929 30.147795 31.310992 33.467290 17.930503 17.028917\n",
              " [22] 11.669770 12.878932 16.271816 16.627854 12.443644 27.704477 24.488125\n",
              " [29] 30.468585 24.525338  7.568850 14.293570 23.767884 26.383281 22.464859\n",
              " [36] 20.247381 17.297803 17.207858 29.345707 24.853750 14.016544 16.459961\n",
              " [43] 22.018321 39.801529 23.949081  9.477012  9.052131 34.210572 18.223288\n",
              " [50] 19.398682 11.657837 16.021309 17.612158 17.801233 36.261013 22.700116\n",
              " [57] 29.257352  3.529526 27.553319 26.849253 10.979422 28.094164 14.781105\n",
              " [64] 27.302246 23.515389 29.181014 11.397017 10.096369 10.716433 24.772045\n",
              " [71] 25.064938 20.820852 34.876355  7.926262 40.047740  6.050152  4.811036\n",
              " [78] 32.604383 21.102520 14.758546 10.664097 10.305332 34.483532 29.928115\n",
              " [85] 15.253809 10.189013 21.701562 20.703266 31.075858 30.644809  8.985922\n",
              " [92] 11.206768 33.136798 18.543729 -3.636157 24.562729 16.242129 20.431146\n",
              " [99]  6.225196 13.072008"
            ]
          },
          "metadata": {}
        }
      ]
    },
    {
      "cell_type": "code",
      "metadata": {
        "trusted": true,
        "id": "Y6ILF-Szm5Zg",
        "colab": {
          "base_uri": "https://localhost:8080/",
          "height": 34
        },
        "outputId": "82614189-3a70-4958-94e4-de477990c06d"
      },
      "source": [
        "# Dejar como parámetro el largo del vector temp\n",
        "N <- length(temp)\n",
        "N"
      ],
      "execution_count": 18,
      "outputs": [
        {
          "output_type": "display_data",
          "data": {
            "text/html": [
              "100"
            ],
            "text/markdown": "100",
            "text/latex": "100",
            "text/plain": [
              "[1] 100"
            ]
          },
          "metadata": {}
        }
      ]
    },
    {
      "cell_type": "markdown",
      "metadata": {
        "id": "C4MEJWjBm5Zi"
      },
      "source": [
        "**Paso 2**\n",
        "\n",
        "Genere un vector llamado _dia_ del mismo largo que que *temp*, que contenga los días consecutivos de la semana, partiendo del lunes. (utilice la función _rep()_ )"
      ]
    },
    {
      "cell_type": "code",
      "metadata": {
        "trusted": true,
        "id": "1PWK1DPXm5Zj",
        "colab": {
          "base_uri": "https://localhost:8080/",
          "height": 69
        },
        "outputId": "2dbe030d-4672-4788-fa82-cd4ac5041154"
      },
      "source": [
        "# Paso 2\n",
        "#dia <- rep(c(\"L\",\"M\",\"W\",\"J\",\"V\",\"S\",\"D\"), 100 ) repite el vector de largo7, 100 veces. Genera un vector resultante de largo 700\n",
        "dia <- rep(c(\"L\",\"M\",\"W\",\"J\",\"V\",\"S\",\"D\"), length.out = N)\n",
        "dia\n"
      ],
      "execution_count": 19,
      "outputs": [
        {
          "output_type": "display_data",
          "data": {
            "text/html": [
              "<style>\n",
              ".list-inline {list-style: none; margin:0; padding: 0}\n",
              ".list-inline>li {display: inline-block}\n",
              ".list-inline>li:not(:last-child)::after {content: \"\\00b7\"; padding: 0 .5ex}\n",
              "</style>\n",
              "<ol class=list-inline><li>'L'</li><li>'M'</li><li>'W'</li><li>'J'</li><li>'V'</li><li>'S'</li><li>'D'</li><li>'L'</li><li>'M'</li><li>'W'</li><li>'J'</li><li>'V'</li><li>'S'</li><li>'D'</li><li>'L'</li><li>'M'</li><li>'W'</li><li>'J'</li><li>'V'</li><li>'S'</li><li>'D'</li><li>'L'</li><li>'M'</li><li>'W'</li><li>'J'</li><li>'V'</li><li>'S'</li><li>'D'</li><li>'L'</li><li>'M'</li><li>'W'</li><li>'J'</li><li>'V'</li><li>'S'</li><li>'D'</li><li>'L'</li><li>'M'</li><li>'W'</li><li>'J'</li><li>'V'</li><li>'S'</li><li>'D'</li><li>'L'</li><li>'M'</li><li>'W'</li><li>'J'</li><li>'V'</li><li>'S'</li><li>'D'</li><li>'L'</li><li>'M'</li><li>'W'</li><li>'J'</li><li>'V'</li><li>'S'</li><li>'D'</li><li>'L'</li><li>'M'</li><li>'W'</li><li>'J'</li><li>'V'</li><li>'S'</li><li>'D'</li><li>'L'</li><li>'M'</li><li>'W'</li><li>'J'</li><li>'V'</li><li>'S'</li><li>'D'</li><li>'L'</li><li>'M'</li><li>'W'</li><li>'J'</li><li>'V'</li><li>'S'</li><li>'D'</li><li>'L'</li><li>'M'</li><li>'W'</li><li>'J'</li><li>'V'</li><li>'S'</li><li>'D'</li><li>'L'</li><li>'M'</li><li>'W'</li><li>'J'</li><li>'V'</li><li>'S'</li><li>'D'</li><li>'L'</li><li>'M'</li><li>'W'</li><li>'J'</li><li>'V'</li><li>'S'</li><li>'D'</li><li>'L'</li><li>'M'</li></ol>\n"
            ],
            "text/markdown": "1. 'L'\n2. 'M'\n3. 'W'\n4. 'J'\n5. 'V'\n6. 'S'\n7. 'D'\n8. 'L'\n9. 'M'\n10. 'W'\n11. 'J'\n12. 'V'\n13. 'S'\n14. 'D'\n15. 'L'\n16. 'M'\n17. 'W'\n18. 'J'\n19. 'V'\n20. 'S'\n21. 'D'\n22. 'L'\n23. 'M'\n24. 'W'\n25. 'J'\n26. 'V'\n27. 'S'\n28. 'D'\n29. 'L'\n30. 'M'\n31. 'W'\n32. 'J'\n33. 'V'\n34. 'S'\n35. 'D'\n36. 'L'\n37. 'M'\n38. 'W'\n39. 'J'\n40. 'V'\n41. 'S'\n42. 'D'\n43. 'L'\n44. 'M'\n45. 'W'\n46. 'J'\n47. 'V'\n48. 'S'\n49. 'D'\n50. 'L'\n51. 'M'\n52. 'W'\n53. 'J'\n54. 'V'\n55. 'S'\n56. 'D'\n57. 'L'\n58. 'M'\n59. 'W'\n60. 'J'\n61. 'V'\n62. 'S'\n63. 'D'\n64. 'L'\n65. 'M'\n66. 'W'\n67. 'J'\n68. 'V'\n69. 'S'\n70. 'D'\n71. 'L'\n72. 'M'\n73. 'W'\n74. 'J'\n75. 'V'\n76. 'S'\n77. 'D'\n78. 'L'\n79. 'M'\n80. 'W'\n81. 'J'\n82. 'V'\n83. 'S'\n84. 'D'\n85. 'L'\n86. 'M'\n87. 'W'\n88. 'J'\n89. 'V'\n90. 'S'\n91. 'D'\n92. 'L'\n93. 'M'\n94. 'W'\n95. 'J'\n96. 'V'\n97. 'S'\n98. 'D'\n99. 'L'\n100. 'M'\n\n\n",
            "text/latex": "\\begin{enumerate*}\n\\item 'L'\n\\item 'M'\n\\item 'W'\n\\item 'J'\n\\item 'V'\n\\item 'S'\n\\item 'D'\n\\item 'L'\n\\item 'M'\n\\item 'W'\n\\item 'J'\n\\item 'V'\n\\item 'S'\n\\item 'D'\n\\item 'L'\n\\item 'M'\n\\item 'W'\n\\item 'J'\n\\item 'V'\n\\item 'S'\n\\item 'D'\n\\item 'L'\n\\item 'M'\n\\item 'W'\n\\item 'J'\n\\item 'V'\n\\item 'S'\n\\item 'D'\n\\item 'L'\n\\item 'M'\n\\item 'W'\n\\item 'J'\n\\item 'V'\n\\item 'S'\n\\item 'D'\n\\item 'L'\n\\item 'M'\n\\item 'W'\n\\item 'J'\n\\item 'V'\n\\item 'S'\n\\item 'D'\n\\item 'L'\n\\item 'M'\n\\item 'W'\n\\item 'J'\n\\item 'V'\n\\item 'S'\n\\item 'D'\n\\item 'L'\n\\item 'M'\n\\item 'W'\n\\item 'J'\n\\item 'V'\n\\item 'S'\n\\item 'D'\n\\item 'L'\n\\item 'M'\n\\item 'W'\n\\item 'J'\n\\item 'V'\n\\item 'S'\n\\item 'D'\n\\item 'L'\n\\item 'M'\n\\item 'W'\n\\item 'J'\n\\item 'V'\n\\item 'S'\n\\item 'D'\n\\item 'L'\n\\item 'M'\n\\item 'W'\n\\item 'J'\n\\item 'V'\n\\item 'S'\n\\item 'D'\n\\item 'L'\n\\item 'M'\n\\item 'W'\n\\item 'J'\n\\item 'V'\n\\item 'S'\n\\item 'D'\n\\item 'L'\n\\item 'M'\n\\item 'W'\n\\item 'J'\n\\item 'V'\n\\item 'S'\n\\item 'D'\n\\item 'L'\n\\item 'M'\n\\item 'W'\n\\item 'J'\n\\item 'V'\n\\item 'S'\n\\item 'D'\n\\item 'L'\n\\item 'M'\n\\end{enumerate*}\n",
            "text/plain": [
              "  [1] \"L\" \"M\" \"W\" \"J\" \"V\" \"S\" \"D\" \"L\" \"M\" \"W\" \"J\" \"V\" \"S\" \"D\" \"L\" \"M\" \"W\" \"J\"\n",
              " [19] \"V\" \"S\" \"D\" \"L\" \"M\" \"W\" \"J\" \"V\" \"S\" \"D\" \"L\" \"M\" \"W\" \"J\" \"V\" \"S\" \"D\" \"L\"\n",
              " [37] \"M\" \"W\" \"J\" \"V\" \"S\" \"D\" \"L\" \"M\" \"W\" \"J\" \"V\" \"S\" \"D\" \"L\" \"M\" \"W\" \"J\" \"V\"\n",
              " [55] \"S\" \"D\" \"L\" \"M\" \"W\" \"J\" \"V\" \"S\" \"D\" \"L\" \"M\" \"W\" \"J\" \"V\" \"S\" \"D\" \"L\" \"M\"\n",
              " [73] \"W\" \"J\" \"V\" \"S\" \"D\" \"L\" \"M\" \"W\" \"J\" \"V\" \"S\" \"D\" \"L\" \"M\" \"W\" \"J\" \"V\" \"S\"\n",
              " [91] \"D\" \"L\" \"M\" \"W\" \"J\" \"V\" \"S\" \"D\" \"L\" \"M\""
            ]
          },
          "metadata": {}
        }
      ]
    },
    {
      "cell_type": "markdown",
      "metadata": {
        "id": "n1n3ptOIm5Zm"
      },
      "source": [
        "**Paso 3**\n",
        "\n",
        "Genere un vector llamado _est_, del mismo largo que _temp_, que en el primer tercio contenga el valor \"E1\", en el segundo tercio \"E2\", y en el tercer tercio \"E3\". Por ejemplo, si _temp_ tuviese 10 datos, el vector _est_ se vería como \n",
        "\n",
        "\n",
        "<center> _est_ = (E1,E1,E1,E2,E2,E2,E3,E3,E3,E3) </center>"
      ]
    },
    {
      "cell_type": "code",
      "metadata": {
        "trusted": true,
        "id": "eobMVmXxm5Zn",
        "colab": {
          "base_uri": "https://localhost:8080/",
          "height": 69
        },
        "outputId": "09d87457-47f2-47fb-e1f6-8dabbfea161b"
      },
      "source": [
        "# Paso 3\n",
        "est <- rep(c(\"E1\", \"E2\", \"E3\"), c(N/3, N/3, N/3+1))\n",
        "est\n"
      ],
      "execution_count": 20,
      "outputs": [
        {
          "output_type": "display_data",
          "data": {
            "text/html": [
              "<style>\n",
              ".list-inline {list-style: none; margin:0; padding: 0}\n",
              ".list-inline>li {display: inline-block}\n",
              ".list-inline>li:not(:last-child)::after {content: \"\\00b7\"; padding: 0 .5ex}\n",
              "</style>\n",
              "<ol class=list-inline><li>'E1'</li><li>'E1'</li><li>'E1'</li><li>'E1'</li><li>'E1'</li><li>'E1'</li><li>'E1'</li><li>'E1'</li><li>'E1'</li><li>'E1'</li><li>'E1'</li><li>'E1'</li><li>'E1'</li><li>'E1'</li><li>'E1'</li><li>'E1'</li><li>'E1'</li><li>'E1'</li><li>'E1'</li><li>'E1'</li><li>'E1'</li><li>'E1'</li><li>'E1'</li><li>'E1'</li><li>'E1'</li><li>'E1'</li><li>'E1'</li><li>'E1'</li><li>'E1'</li><li>'E1'</li><li>'E1'</li><li>'E1'</li><li>'E1'</li><li>'E2'</li><li>'E2'</li><li>'E2'</li><li>'E2'</li><li>'E2'</li><li>'E2'</li><li>'E2'</li><li>'E2'</li><li>'E2'</li><li>'E2'</li><li>'E2'</li><li>'E2'</li><li>'E2'</li><li>'E2'</li><li>'E2'</li><li>'E2'</li><li>'E2'</li><li>'E2'</li><li>'E2'</li><li>'E2'</li><li>'E2'</li><li>'E2'</li><li>'E2'</li><li>'E2'</li><li>'E2'</li><li>'E2'</li><li>'E2'</li><li>'E2'</li><li>'E2'</li><li>'E2'</li><li>'E2'</li><li>'E2'</li><li>'E2'</li><li>'E3'</li><li>'E3'</li><li>'E3'</li><li>'E3'</li><li>'E3'</li><li>'E3'</li><li>'E3'</li><li>'E3'</li><li>'E3'</li><li>'E3'</li><li>'E3'</li><li>'E3'</li><li>'E3'</li><li>'E3'</li><li>'E3'</li><li>'E3'</li><li>'E3'</li><li>'E3'</li><li>'E3'</li><li>'E3'</li><li>'E3'</li><li>'E3'</li><li>'E3'</li><li>'E3'</li><li>'E3'</li><li>'E3'</li><li>'E3'</li><li>'E3'</li><li>'E3'</li><li>'E3'</li><li>'E3'</li><li>'E3'</li><li>'E3'</li><li>'E3'</li></ol>\n"
            ],
            "text/markdown": "1. 'E1'\n2. 'E1'\n3. 'E1'\n4. 'E1'\n5. 'E1'\n6. 'E1'\n7. 'E1'\n8. 'E1'\n9. 'E1'\n10. 'E1'\n11. 'E1'\n12. 'E1'\n13. 'E1'\n14. 'E1'\n15. 'E1'\n16. 'E1'\n17. 'E1'\n18. 'E1'\n19. 'E1'\n20. 'E1'\n21. 'E1'\n22. 'E1'\n23. 'E1'\n24. 'E1'\n25. 'E1'\n26. 'E1'\n27. 'E1'\n28. 'E1'\n29. 'E1'\n30. 'E1'\n31. 'E1'\n32. 'E1'\n33. 'E1'\n34. 'E2'\n35. 'E2'\n36. 'E2'\n37. 'E2'\n38. 'E2'\n39. 'E2'\n40. 'E2'\n41. 'E2'\n42. 'E2'\n43. 'E2'\n44. 'E2'\n45. 'E2'\n46. 'E2'\n47. 'E2'\n48. 'E2'\n49. 'E2'\n50. 'E2'\n51. 'E2'\n52. 'E2'\n53. 'E2'\n54. 'E2'\n55. 'E2'\n56. 'E2'\n57. 'E2'\n58. 'E2'\n59. 'E2'\n60. 'E2'\n61. 'E2'\n62. 'E2'\n63. 'E2'\n64. 'E2'\n65. 'E2'\n66. 'E2'\n67. 'E3'\n68. 'E3'\n69. 'E3'\n70. 'E3'\n71. 'E3'\n72. 'E3'\n73. 'E3'\n74. 'E3'\n75. 'E3'\n76. 'E3'\n77. 'E3'\n78. 'E3'\n79. 'E3'\n80. 'E3'\n81. 'E3'\n82. 'E3'\n83. 'E3'\n84. 'E3'\n85. 'E3'\n86. 'E3'\n87. 'E3'\n88. 'E3'\n89. 'E3'\n90. 'E3'\n91. 'E3'\n92. 'E3'\n93. 'E3'\n94. 'E3'\n95. 'E3'\n96. 'E3'\n97. 'E3'\n98. 'E3'\n99. 'E3'\n100. 'E3'\n\n\n",
            "text/latex": "\\begin{enumerate*}\n\\item 'E1'\n\\item 'E1'\n\\item 'E1'\n\\item 'E1'\n\\item 'E1'\n\\item 'E1'\n\\item 'E1'\n\\item 'E1'\n\\item 'E1'\n\\item 'E1'\n\\item 'E1'\n\\item 'E1'\n\\item 'E1'\n\\item 'E1'\n\\item 'E1'\n\\item 'E1'\n\\item 'E1'\n\\item 'E1'\n\\item 'E1'\n\\item 'E1'\n\\item 'E1'\n\\item 'E1'\n\\item 'E1'\n\\item 'E1'\n\\item 'E1'\n\\item 'E1'\n\\item 'E1'\n\\item 'E1'\n\\item 'E1'\n\\item 'E1'\n\\item 'E1'\n\\item 'E1'\n\\item 'E1'\n\\item 'E2'\n\\item 'E2'\n\\item 'E2'\n\\item 'E2'\n\\item 'E2'\n\\item 'E2'\n\\item 'E2'\n\\item 'E2'\n\\item 'E2'\n\\item 'E2'\n\\item 'E2'\n\\item 'E2'\n\\item 'E2'\n\\item 'E2'\n\\item 'E2'\n\\item 'E2'\n\\item 'E2'\n\\item 'E2'\n\\item 'E2'\n\\item 'E2'\n\\item 'E2'\n\\item 'E2'\n\\item 'E2'\n\\item 'E2'\n\\item 'E2'\n\\item 'E2'\n\\item 'E2'\n\\item 'E2'\n\\item 'E2'\n\\item 'E2'\n\\item 'E2'\n\\item 'E2'\n\\item 'E2'\n\\item 'E3'\n\\item 'E3'\n\\item 'E3'\n\\item 'E3'\n\\item 'E3'\n\\item 'E3'\n\\item 'E3'\n\\item 'E3'\n\\item 'E3'\n\\item 'E3'\n\\item 'E3'\n\\item 'E3'\n\\item 'E3'\n\\item 'E3'\n\\item 'E3'\n\\item 'E3'\n\\item 'E3'\n\\item 'E3'\n\\item 'E3'\n\\item 'E3'\n\\item 'E3'\n\\item 'E3'\n\\item 'E3'\n\\item 'E3'\n\\item 'E3'\n\\item 'E3'\n\\item 'E3'\n\\item 'E3'\n\\item 'E3'\n\\item 'E3'\n\\item 'E3'\n\\item 'E3'\n\\item 'E3'\n\\item 'E3'\n\\end{enumerate*}\n",
            "text/plain": [
              "  [1] \"E1\" \"E1\" \"E1\" \"E1\" \"E1\" \"E1\" \"E1\" \"E1\" \"E1\" \"E1\" \"E1\" \"E1\" \"E1\" \"E1\" \"E1\"\n",
              " [16] \"E1\" \"E1\" \"E1\" \"E1\" \"E1\" \"E1\" \"E1\" \"E1\" \"E1\" \"E1\" \"E1\" \"E1\" \"E1\" \"E1\" \"E1\"\n",
              " [31] \"E1\" \"E1\" \"E1\" \"E2\" \"E2\" \"E2\" \"E2\" \"E2\" \"E2\" \"E2\" \"E2\" \"E2\" \"E2\" \"E2\" \"E2\"\n",
              " [46] \"E2\" \"E2\" \"E2\" \"E2\" \"E2\" \"E2\" \"E2\" \"E2\" \"E2\" \"E2\" \"E2\" \"E2\" \"E2\" \"E2\" \"E2\"\n",
              " [61] \"E2\" \"E2\" \"E2\" \"E2\" \"E2\" \"E2\" \"E3\" \"E3\" \"E3\" \"E3\" \"E3\" \"E3\" \"E3\" \"E3\" \"E3\"\n",
              " [76] \"E3\" \"E3\" \"E3\" \"E3\" \"E3\" \"E3\" \"E3\" \"E3\" \"E3\" \"E3\" \"E3\" \"E3\" \"E3\" \"E3\" \"E3\"\n",
              " [91] \"E3\" \"E3\" \"E3\" \"E3\" \"E3\" \"E3\" \"E3\" \"E3\" \"E3\" \"E3\""
            ]
          },
          "metadata": {}
        }
      ]
    },
    {
      "cell_type": "markdown",
      "metadata": {
        "id": "bZZScNwUm5Zp"
      },
      "source": [
        "**Paso 4**\n",
        "\n",
        "Genere un vector llamado _lluvia_ del mismo largo que _temp_, que sea TRUE en las posiciones en que _temp_ sea menor que 20, y FALSE en caso contrario. "
      ]
    },
    {
      "cell_type": "code",
      "metadata": {
        "trusted": true,
        "id": "AbtOs123m5Zq",
        "colab": {
          "base_uri": "https://localhost:8080/",
          "height": 121
        },
        "outputId": "c4118d47-4b94-4e05-abc3-36b718051a95"
      },
      "source": [
        "# Paso 4\n",
        "lluvia <- (temp > 20)\n",
        "lluvia\n",
        "length(lluvia)"
      ],
      "execution_count": 21,
      "outputs": [
        {
          "output_type": "display_data",
          "data": {
            "text/html": [
              "<style>\n",
              ".list-inline {list-style: none; margin:0; padding: 0}\n",
              ".list-inline>li {display: inline-block}\n",
              ".list-inline>li:not(:last-child)::after {content: \"\\00b7\"; padding: 0 .5ex}\n",
              "</style>\n",
              "<ol class=list-inline><li>TRUE</li><li>TRUE</li><li>FALSE</li><li>TRUE</li><li>FALSE</li><li>TRUE</li><li>TRUE</li><li>TRUE</li><li>FALSE</li><li>FALSE</li><li>TRUE</li><li>TRUE</li><li>FALSE</li><li>TRUE</li><li>FALSE</li><li>FALSE</li><li>TRUE</li><li>TRUE</li><li>TRUE</li><li>FALSE</li><li>FALSE</li><li>FALSE</li><li>FALSE</li><li>FALSE</li><li>FALSE</li><li>FALSE</li><li>TRUE</li><li>TRUE</li><li>TRUE</li><li>TRUE</li><li>FALSE</li><li>FALSE</li><li>TRUE</li><li>TRUE</li><li>TRUE</li><li>TRUE</li><li>FALSE</li><li>FALSE</li><li>TRUE</li><li>TRUE</li><li>FALSE</li><li>FALSE</li><li>TRUE</li><li>TRUE</li><li>TRUE</li><li>FALSE</li><li>FALSE</li><li>TRUE</li><li>FALSE</li><li>FALSE</li><li>FALSE</li><li>FALSE</li><li>FALSE</li><li>FALSE</li><li>TRUE</li><li>TRUE</li><li>TRUE</li><li>FALSE</li><li>TRUE</li><li>TRUE</li><li>FALSE</li><li>TRUE</li><li>FALSE</li><li>TRUE</li><li>TRUE</li><li>TRUE</li><li>FALSE</li><li>FALSE</li><li>FALSE</li><li>TRUE</li><li>TRUE</li><li>TRUE</li><li>TRUE</li><li>FALSE</li><li>TRUE</li><li>FALSE</li><li>FALSE</li><li>TRUE</li><li>TRUE</li><li>FALSE</li><li>FALSE</li><li>FALSE</li><li>TRUE</li><li>TRUE</li><li>FALSE</li><li>FALSE</li><li>TRUE</li><li>TRUE</li><li>TRUE</li><li>TRUE</li><li>FALSE</li><li>FALSE</li><li>TRUE</li><li>FALSE</li><li>FALSE</li><li>TRUE</li><li>FALSE</li><li>TRUE</li><li>FALSE</li><li>FALSE</li></ol>\n"
            ],
            "text/markdown": "1. TRUE\n2. TRUE\n3. FALSE\n4. TRUE\n5. FALSE\n6. TRUE\n7. TRUE\n8. TRUE\n9. FALSE\n10. FALSE\n11. TRUE\n12. TRUE\n13. FALSE\n14. TRUE\n15. FALSE\n16. FALSE\n17. TRUE\n18. TRUE\n19. TRUE\n20. FALSE\n21. FALSE\n22. FALSE\n23. FALSE\n24. FALSE\n25. FALSE\n26. FALSE\n27. TRUE\n28. TRUE\n29. TRUE\n30. TRUE\n31. FALSE\n32. FALSE\n33. TRUE\n34. TRUE\n35. TRUE\n36. TRUE\n37. FALSE\n38. FALSE\n39. TRUE\n40. TRUE\n41. FALSE\n42. FALSE\n43. TRUE\n44. TRUE\n45. TRUE\n46. FALSE\n47. FALSE\n48. TRUE\n49. FALSE\n50. FALSE\n51. FALSE\n52. FALSE\n53. FALSE\n54. FALSE\n55. TRUE\n56. TRUE\n57. TRUE\n58. FALSE\n59. TRUE\n60. TRUE\n61. FALSE\n62. TRUE\n63. FALSE\n64. TRUE\n65. TRUE\n66. TRUE\n67. FALSE\n68. FALSE\n69. FALSE\n70. TRUE\n71. TRUE\n72. TRUE\n73. TRUE\n74. FALSE\n75. TRUE\n76. FALSE\n77. FALSE\n78. TRUE\n79. TRUE\n80. FALSE\n81. FALSE\n82. FALSE\n83. TRUE\n84. TRUE\n85. FALSE\n86. FALSE\n87. TRUE\n88. TRUE\n89. TRUE\n90. TRUE\n91. FALSE\n92. FALSE\n93. TRUE\n94. FALSE\n95. FALSE\n96. TRUE\n97. FALSE\n98. TRUE\n99. FALSE\n100. FALSE\n\n\n",
            "text/latex": "\\begin{enumerate*}\n\\item TRUE\n\\item TRUE\n\\item FALSE\n\\item TRUE\n\\item FALSE\n\\item TRUE\n\\item TRUE\n\\item TRUE\n\\item FALSE\n\\item FALSE\n\\item TRUE\n\\item TRUE\n\\item FALSE\n\\item TRUE\n\\item FALSE\n\\item FALSE\n\\item TRUE\n\\item TRUE\n\\item TRUE\n\\item FALSE\n\\item FALSE\n\\item FALSE\n\\item FALSE\n\\item FALSE\n\\item FALSE\n\\item FALSE\n\\item TRUE\n\\item TRUE\n\\item TRUE\n\\item TRUE\n\\item FALSE\n\\item FALSE\n\\item TRUE\n\\item TRUE\n\\item TRUE\n\\item TRUE\n\\item FALSE\n\\item FALSE\n\\item TRUE\n\\item TRUE\n\\item FALSE\n\\item FALSE\n\\item TRUE\n\\item TRUE\n\\item TRUE\n\\item FALSE\n\\item FALSE\n\\item TRUE\n\\item FALSE\n\\item FALSE\n\\item FALSE\n\\item FALSE\n\\item FALSE\n\\item FALSE\n\\item TRUE\n\\item TRUE\n\\item TRUE\n\\item FALSE\n\\item TRUE\n\\item TRUE\n\\item FALSE\n\\item TRUE\n\\item FALSE\n\\item TRUE\n\\item TRUE\n\\item TRUE\n\\item FALSE\n\\item FALSE\n\\item FALSE\n\\item TRUE\n\\item TRUE\n\\item TRUE\n\\item TRUE\n\\item FALSE\n\\item TRUE\n\\item FALSE\n\\item FALSE\n\\item TRUE\n\\item TRUE\n\\item FALSE\n\\item FALSE\n\\item FALSE\n\\item TRUE\n\\item TRUE\n\\item FALSE\n\\item FALSE\n\\item TRUE\n\\item TRUE\n\\item TRUE\n\\item TRUE\n\\item FALSE\n\\item FALSE\n\\item TRUE\n\\item FALSE\n\\item FALSE\n\\item TRUE\n\\item FALSE\n\\item TRUE\n\\item FALSE\n\\item FALSE\n\\end{enumerate*}\n",
            "text/plain": [
              "  [1]  TRUE  TRUE FALSE  TRUE FALSE  TRUE  TRUE  TRUE FALSE FALSE  TRUE  TRUE\n",
              " [13] FALSE  TRUE FALSE FALSE  TRUE  TRUE  TRUE FALSE FALSE FALSE FALSE FALSE\n",
              " [25] FALSE FALSE  TRUE  TRUE  TRUE  TRUE FALSE FALSE  TRUE  TRUE  TRUE  TRUE\n",
              " [37] FALSE FALSE  TRUE  TRUE FALSE FALSE  TRUE  TRUE  TRUE FALSE FALSE  TRUE\n",
              " [49] FALSE FALSE FALSE FALSE FALSE FALSE  TRUE  TRUE  TRUE FALSE  TRUE  TRUE\n",
              " [61] FALSE  TRUE FALSE  TRUE  TRUE  TRUE FALSE FALSE FALSE  TRUE  TRUE  TRUE\n",
              " [73]  TRUE FALSE  TRUE FALSE FALSE  TRUE  TRUE FALSE FALSE FALSE  TRUE  TRUE\n",
              " [85] FALSE FALSE  TRUE  TRUE  TRUE  TRUE FALSE FALSE  TRUE FALSE FALSE  TRUE\n",
              " [97] FALSE  TRUE FALSE FALSE"
            ]
          },
          "metadata": {}
        },
        {
          "output_type": "display_data",
          "data": {
            "text/html": [
              "100"
            ],
            "text/markdown": "100",
            "text/latex": "100",
            "text/plain": [
              "[1] 100"
            ]
          },
          "metadata": {}
        }
      ]
    },
    {
      "cell_type": "markdown",
      "metadata": {
        "id": "i7p8FIdtm5Zs"
      },
      "source": [
        "**Paso 5**\n",
        "\n",
        "Finalmente cree un data frame llamado _precipitaciones_ con las siguientes columnas:<br>\n",
        "\n",
        "*Dia_semana* (con los valores del vector _dia_)<br>\n",
        "*Temperatura* (con los valores del vector _temp_)<br>\n",
        "*Llueve* (con los valores del vector _lluvia_)<br>\n",
        "*Estacion* (con los valores del vector _est_)<br>"
      ]
    },
    {
      "cell_type": "code",
      "metadata": {
        "trusted": true,
        "id": "o-TVm7uum5Zs",
        "colab": {
          "base_uri": "https://localhost:8080/",
          "height": 286
        },
        "outputId": "adb0f873-2fce-465e-99b3-97b5ee41cd1c"
      },
      "source": [
        "# Paso 5\n",
        "precipitaciones <- data.frame(Dia_semana = dia,\n",
        "                              Temperatura = temp,\n",
        "                              Llueve = lluvia,\n",
        "                              Estacion = est)\n",
        "head(precipitaciones)"
      ],
      "execution_count": 22,
      "outputs": [
        {
          "output_type": "display_data",
          "data": {
            "text/html": [
              "<table class=\"dataframe\">\n",
              "<caption>A data.frame: 6 × 4</caption>\n",
              "<thead>\n",
              "\t<tr><th></th><th scope=col>Dia_semana</th><th scope=col>Temperatura</th><th scope=col>Llueve</th><th scope=col>Estacion</th></tr>\n",
              "\t<tr><th></th><th scope=col>&lt;chr&gt;</th><th scope=col>&lt;dbl&gt;</th><th scope=col>&lt;lgl&gt;</th><th scope=col>&lt;chr&gt;</th></tr>\n",
              "</thead>\n",
              "<tbody>\n",
              "\t<tr><th scope=row>1</th><td>L</td><td>22.877329</td><td> TRUE</td><td>E1</td></tr>\n",
              "\t<tr><th scope=row>2</th><td>M</td><td>35.914794</td><td> TRUE</td><td>E1</td></tr>\n",
              "\t<tr><th scope=row>3</th><td>W</td><td>18.367785</td><td>FALSE</td><td>E1</td></tr>\n",
              "\t<tr><th scope=row>4</th><td>J</td><td>20.762391</td><td> TRUE</td><td>E1</td></tr>\n",
              "\t<tr><th scope=row>5</th><td>V</td><td>-1.227622</td><td>FALSE</td><td>E1</td></tr>\n",
              "\t<tr><th scope=row>6</th><td>S</td><td>24.717198</td><td> TRUE</td><td>E1</td></tr>\n",
              "</tbody>\n",
              "</table>\n"
            ],
            "text/markdown": "\nA data.frame: 6 × 4\n\n| <!--/--> | Dia_semana &lt;chr&gt; | Temperatura &lt;dbl&gt; | Llueve &lt;lgl&gt; | Estacion &lt;chr&gt; |\n|---|---|---|---|---|\n| 1 | L | 22.877329 |  TRUE | E1 |\n| 2 | M | 35.914794 |  TRUE | E1 |\n| 3 | W | 18.367785 | FALSE | E1 |\n| 4 | J | 20.762391 |  TRUE | E1 |\n| 5 | V | -1.227622 | FALSE | E1 |\n| 6 | S | 24.717198 |  TRUE | E1 |\n\n",
            "text/latex": "A data.frame: 6 × 4\n\\begin{tabular}{r|llll}\n  & Dia\\_semana & Temperatura & Llueve & Estacion\\\\\n  & <chr> & <dbl> & <lgl> & <chr>\\\\\n\\hline\n\t1 & L & 22.877329 &  TRUE & E1\\\\\n\t2 & M & 35.914794 &  TRUE & E1\\\\\n\t3 & W & 18.367785 & FALSE & E1\\\\\n\t4 & J & 20.762391 &  TRUE & E1\\\\\n\t5 & V & -1.227622 & FALSE & E1\\\\\n\t6 & S & 24.717198 &  TRUE & E1\\\\\n\\end{tabular}\n",
            "text/plain": [
              "  Dia_semana Temperatura Llueve Estacion\n",
              "1 L          22.877329    TRUE  E1      \n",
              "2 M          35.914794    TRUE  E1      \n",
              "3 W          18.367785   FALSE  E1      \n",
              "4 J          20.762391    TRUE  E1      \n",
              "5 V          -1.227622   FALSE  E1      \n",
              "6 S          24.717198    TRUE  E1      "
            ]
          },
          "metadata": {}
        }
      ]
    },
    {
      "cell_type": "markdown",
      "metadata": {
        "id": "kIjelA5sm5Zx"
      },
      "source": [
        "#### Strings como factores\n",
        "Cuando en R se declara una variable como factor, internamente se codifican sus categorías con valores 0 o 1. Por ejemplo, para las variables _Dia_ y _Estacion_ podemos generar sus matriz de diseño, indicando un 1 si el día (o estación) corresponde a la nueva columna generada, 0 si  no:\n",
        "\n",
        " |Dia |Temperatura    |Llueve| Estacion| | Dia.L|Dia.M|Dia.W|Dia.J|Dia.V|Dia.S|Dia.D|Est.1|Est.2|Est.3|\n",
        " |----|------------   |------|---------| |---   |---  |---  |---  |---  |---  |---  |---  |---  |---  |\n",
        " |L\t  |16.300201      |TRUE  |\tE1     | |1     |0    |0    |0    |0    |0    |0    |1    |0    |0    |\n",
        " |M   |21.042854      |FALSE |\tE1     | |0     |1    |0    |0    |0    |0    |0    |1    |0    |0    |\n",
        " |J\t  |31.256043      |FALSE |\tE3     | |0     |0    |0    |1    |0    |0    |0    |0    |0    |1    |\n",
        " |S\t  |40.083514      |FALSE |\tE3     | |0     |0    |0    |0    |0    |1    |0    |0    |0    |1    |\n",
        " \n",
        " Cuando se quiere generar un resumen de una variable categórica, o cuando se quiere incluir una variable de este tipo en el entrenamiento de un modelo será necesario declarar dicha variable como factor."
      ]
    },
    {
      "cell_type": "code",
      "metadata": {
        "trusted": true,
        "id": "UQN71LvGm5Z-",
        "colab": {
          "base_uri": "https://localhost:8080/",
          "height": 1000
        },
        "outputId": "cba4a8d0-0dda-4bbf-bf67-9beca2ca6a8f"
      },
      "source": [
        "#podemos volver a coercionar las columnas a clase factor,  con la función as.factor\n",
        "dias <- precipitaciones[[\"Dia_semana\"]]\n",
        "\n",
        "dia_l <- factor(x=dias, levels= c(\"L\", \"M\", \"W\", \"J\", \"V\", \"S\", \"D\"),\n",
        "                        labels = c(1, 0, 0, 0, 0, 0, 0))\n",
        "dia_l <- as.factor(dia_l)\n",
        "precipitaciones[[\"Dia.L\"]] <- dia_l\n",
        "\n",
        "\n",
        "dia_m <- factor(x=dias, levels= c(\"L\", \"M\", \"W\", \"J\", \"V\", \"S\", \"D\"),\n",
        "                        labels = c(0, 1, 0, 0, 0, 0, 0))\n",
        "dia_m <- as.factor(dia_m)\n",
        "precipitaciones[[\"Dia.M\"]] <- dia_m\n",
        "\n",
        "dia_w <- factor(x=dias, levels= c(\"L\", \"M\", \"W\", \"J\", \"V\", \"S\", \"D\"),\n",
        "                        labels = c(0, 0, 1, 0, 0, 0, 0))\n",
        "dia_w <- as.factor(dia_w)\n",
        "precipitaciones[[\"Dia.W\"]] <- dia_w\n",
        "\n",
        "dia_j <- factor(x=dias, levels= c(\"L\", \"M\", \"W\", \"J\", \"V\", \"S\", \"D\"),\n",
        "                        labels = c(0, 0, 0, 1, 0, 0, 0))\n",
        "dia_j <- as.factor(dia_j)\n",
        "precipitaciones[[\"Dia.J\"]] <- dia_j\n",
        "\n",
        "dia_v <- factor(x=dias, levels= c(\"L\", \"M\", \"W\", \"J\", \"V\", \"S\", \"D\"),\n",
        "                        labels = c(0, 0, 0, 0, 1, 0, 0))\n",
        "dia_v <- as.factor(dia_v)\n",
        "precipitaciones[[\"Dia.V\"]] <- dia_v\n",
        "\n",
        "dia_s <- factor(x=dias, levels= c(\"L\", \"M\", \"W\", \"J\", \"V\", \"S\", \"D\"),\n",
        "                        labels = c(0, 0, 0, 0, 0, 1, 0))\n",
        "dia_s <- as.factor(dia_s)\n",
        "precipitaciones[[\"Dia.S\"]] <- dia_s\n",
        "\n",
        "dia_d <- factor(x=dias, levels= c(\"L\", \"M\", \"W\", \"J\", \"V\", \"S\", \"D\"),\n",
        "                        labels = c(0, 0, 0, 0, 0, 0, 1))\n",
        "dia_d <- as.factor(dia_d)\n",
        "precipitaciones[[\"Dia.D\"]] <- dia_d\n",
        "\n",
        "\n",
        "estac <- precipitaciones[[\"Estacion\"]]\n",
        "\n",
        "est_e1 <- factor(x=estac,\n",
        "                levels = c(\"E1\", \"E2\", \"E3\"),\n",
        "                labels = c(1, 0, 0))\n",
        "est_e1 <- as.factor(est_e1)\n",
        "precipitaciones[[\"Est.1\"]] <- est_e1\n",
        "\n",
        "est_e2 <- factor(x=estac,\n",
        "                levels = c(\"E1\", \"E2\", \"E3\"),\n",
        "                labels = c(0, 1, 0))\n",
        "est_e2 <- as.factor(est_e2)\n",
        "precipitaciones[[\"Est.2\"]] <- est_e2\n",
        "\n",
        "est_e3 <- factor(x=estac,\n",
        "                levels = c(\"E1\", \"E2\", \"E3\"),\n",
        "                labels = c(0, 0, 1))\n",
        "est_e3 <- as.factor(est_e3)\n",
        "precipitaciones[[\"Est.3\"]] <- est_e3\n",
        "\n",
        "\n",
        "precipitaciones\n"
      ],
      "execution_count": 70,
      "outputs": [
        {
          "output_type": "display_data",
          "data": {
            "text/html": [
              "<table class=\"dataframe\">\n",
              "<caption>A data.frame: 100 × 14</caption>\n",
              "<thead>\n",
              "\t<tr><th scope=col>Dia_semana</th><th scope=col>Temperatura</th><th scope=col>Llueve</th><th scope=col>Estacion</th><th scope=col>Dia.L</th><th scope=col>Dia.M</th><th scope=col>Dia.W</th><th scope=col>Dia.J</th><th scope=col>Dia.V</th><th scope=col>Dia.S</th><th scope=col>Dia.D</th><th scope=col>Est.1</th><th scope=col>Est.2</th><th scope=col>Est.3</th></tr>\n",
              "\t<tr><th scope=col>&lt;chr&gt;</th><th scope=col>&lt;dbl&gt;</th><th scope=col>&lt;lgl&gt;</th><th scope=col>&lt;chr&gt;</th><th scope=col>&lt;fct&gt;</th><th scope=col>&lt;fct&gt;</th><th scope=col>&lt;fct&gt;</th><th scope=col>&lt;fct&gt;</th><th scope=col>&lt;fct&gt;</th><th scope=col>&lt;fct&gt;</th><th scope=col>&lt;fct&gt;</th><th scope=col>&lt;fct&gt;</th><th scope=col>&lt;fct&gt;</th><th scope=col>&lt;fct&gt;</th></tr>\n",
              "</thead>\n",
              "<tbody>\n",
              "\t<tr><td>L</td><td>22.877329</td><td> TRUE</td><td>E1</td><td>1</td><td>0</td><td>0</td><td>0</td><td>0</td><td>0</td><td>0</td><td>1</td><td>0</td><td>0</td></tr>\n",
              "\t<tr><td>M</td><td>35.914794</td><td> TRUE</td><td>E1</td><td>0</td><td>1</td><td>0</td><td>0</td><td>0</td><td>0</td><td>0</td><td>1</td><td>0</td><td>0</td></tr>\n",
              "\t<tr><td>W</td><td>18.367785</td><td>FALSE</td><td>E1</td><td>0</td><td>0</td><td>1</td><td>0</td><td>0</td><td>0</td><td>0</td><td>1</td><td>0</td><td>0</td></tr>\n",
              "\t<tr><td>J</td><td>20.762391</td><td> TRUE</td><td>E1</td><td>0</td><td>0</td><td>0</td><td>1</td><td>0</td><td>0</td><td>0</td><td>1</td><td>0</td><td>0</td></tr>\n",
              "\t<tr><td>V</td><td>-1.227622</td><td>FALSE</td><td>E1</td><td>0</td><td>0</td><td>0</td><td>0</td><td>1</td><td>0</td><td>0</td><td>1</td><td>0</td><td>0</td></tr>\n",
              "\t<tr><td>S</td><td>24.717198</td><td> TRUE</td><td>E1</td><td>0</td><td>0</td><td>0</td><td>0</td><td>0</td><td>1</td><td>0</td><td>1</td><td>0</td><td>0</td></tr>\n",
              "\t<tr><td>D</td><td>24.691684</td><td> TRUE</td><td>E1</td><td>0</td><td>0</td><td>0</td><td>0</td><td>0</td><td>0</td><td>1</td><td>1</td><td>0</td><td>0</td></tr>\n",
              "\t<tr><td>L</td><td>21.055433</td><td> TRUE</td><td>E1</td><td>1</td><td>0</td><td>0</td><td>0</td><td>0</td><td>0</td><td>0</td><td>1</td><td>0</td><td>0</td></tr>\n",
              "\t<tr><td>M</td><td>10.848288</td><td>FALSE</td><td>E1</td><td>0</td><td>1</td><td>0</td><td>0</td><td>0</td><td>0</td><td>0</td><td>1</td><td>0</td><td>0</td></tr>\n",
              "\t<tr><td>W</td><td>16.239201</td><td>FALSE</td><td>E1</td><td>0</td><td>0</td><td>1</td><td>0</td><td>0</td><td>0</td><td>0</td><td>1</td><td>0</td><td>0</td></tr>\n",
              "\t<tr><td>J</td><td>20.439575</td><td> TRUE</td><td>E1</td><td>0</td><td>0</td><td>0</td><td>1</td><td>0</td><td>0</td><td>0</td><td>1</td><td>0</td><td>0</td></tr>\n",
              "\t<tr><td>V</td><td>30.541413</td><td> TRUE</td><td>E1</td><td>0</td><td>0</td><td>0</td><td>0</td><td>1</td><td>0</td><td>0</td><td>1</td><td>0</td><td>0</td></tr>\n",
              "\t<tr><td>S</td><td>10.876449</td><td>FALSE</td><td>E1</td><td>0</td><td>0</td><td>0</td><td>0</td><td>0</td><td>1</td><td>0</td><td>1</td><td>0</td><td>0</td></tr>\n",
              "\t<tr><td>D</td><td>20.769350</td><td> TRUE</td><td>E1</td><td>0</td><td>0</td><td>0</td><td>0</td><td>0</td><td>0</td><td>1</td><td>1</td><td>0</td><td>0</td></tr>\n",
              "\t<tr><td>L</td><td>15.743378</td><td>FALSE</td><td>E1</td><td>1</td><td>0</td><td>0</td><td>0</td><td>0</td><td>0</td><td>0</td><td>1</td><td>0</td><td>0</td></tr>\n",
              "\t<tr><td>M</td><td>13.925929</td><td>FALSE</td><td>E1</td><td>0</td><td>1</td><td>0</td><td>0</td><td>0</td><td>0</td><td>0</td><td>1</td><td>0</td><td>0</td></tr>\n",
              "\t<tr><td>W</td><td>30.147795</td><td> TRUE</td><td>E1</td><td>0</td><td>0</td><td>1</td><td>0</td><td>0</td><td>0</td><td>0</td><td>1</td><td>0</td><td>0</td></tr>\n",
              "\t<tr><td>J</td><td>31.310992</td><td> TRUE</td><td>E1</td><td>0</td><td>0</td><td>0</td><td>1</td><td>0</td><td>0</td><td>0</td><td>1</td><td>0</td><td>0</td></tr>\n",
              "\t<tr><td>V</td><td>33.467290</td><td> TRUE</td><td>E1</td><td>0</td><td>0</td><td>0</td><td>0</td><td>1</td><td>0</td><td>0</td><td>1</td><td>0</td><td>0</td></tr>\n",
              "\t<tr><td>S</td><td>17.930503</td><td>FALSE</td><td>E1</td><td>0</td><td>0</td><td>0</td><td>0</td><td>0</td><td>1</td><td>0</td><td>1</td><td>0</td><td>0</td></tr>\n",
              "\t<tr><td>D</td><td>17.028917</td><td>FALSE</td><td>E1</td><td>0</td><td>0</td><td>0</td><td>0</td><td>0</td><td>0</td><td>1</td><td>1</td><td>0</td><td>0</td></tr>\n",
              "\t<tr><td>L</td><td>11.669770</td><td>FALSE</td><td>E1</td><td>1</td><td>0</td><td>0</td><td>0</td><td>0</td><td>0</td><td>0</td><td>1</td><td>0</td><td>0</td></tr>\n",
              "\t<tr><td>M</td><td>12.878932</td><td>FALSE</td><td>E1</td><td>0</td><td>1</td><td>0</td><td>0</td><td>0</td><td>0</td><td>0</td><td>1</td><td>0</td><td>0</td></tr>\n",
              "\t<tr><td>W</td><td>16.271816</td><td>FALSE</td><td>E1</td><td>0</td><td>0</td><td>1</td><td>0</td><td>0</td><td>0</td><td>0</td><td>1</td><td>0</td><td>0</td></tr>\n",
              "\t<tr><td>J</td><td>16.627854</td><td>FALSE</td><td>E1</td><td>0</td><td>0</td><td>0</td><td>1</td><td>0</td><td>0</td><td>0</td><td>1</td><td>0</td><td>0</td></tr>\n",
              "\t<tr><td>V</td><td>12.443644</td><td>FALSE</td><td>E1</td><td>0</td><td>0</td><td>0</td><td>0</td><td>1</td><td>0</td><td>0</td><td>1</td><td>0</td><td>0</td></tr>\n",
              "\t<tr><td>S</td><td>27.704477</td><td> TRUE</td><td>E1</td><td>0</td><td>0</td><td>0</td><td>0</td><td>0</td><td>1</td><td>0</td><td>1</td><td>0</td><td>0</td></tr>\n",
              "\t<tr><td>D</td><td>24.488125</td><td> TRUE</td><td>E1</td><td>0</td><td>0</td><td>0</td><td>0</td><td>0</td><td>0</td><td>1</td><td>1</td><td>0</td><td>0</td></tr>\n",
              "\t<tr><td>L</td><td>30.468585</td><td> TRUE</td><td>E1</td><td>1</td><td>0</td><td>0</td><td>0</td><td>0</td><td>0</td><td>0</td><td>1</td><td>0</td><td>0</td></tr>\n",
              "\t<tr><td>M</td><td>24.525338</td><td> TRUE</td><td>E1</td><td>0</td><td>1</td><td>0</td><td>0</td><td>0</td><td>0</td><td>0</td><td>1</td><td>0</td><td>0</td></tr>\n",
              "\t<tr><td>⋮</td><td>⋮</td><td>⋮</td><td>⋮</td><td>⋮</td><td>⋮</td><td>⋮</td><td>⋮</td><td>⋮</td><td>⋮</td><td>⋮</td><td>⋮</td><td>⋮</td><td>⋮</td></tr>\n",
              "\t<tr><td>L</td><td>25.064938</td><td> TRUE</td><td>E3</td><td>1</td><td>0</td><td>0</td><td>0</td><td>0</td><td>0</td><td>0</td><td>0</td><td>0</td><td>1</td></tr>\n",
              "\t<tr><td>M</td><td>20.820852</td><td> TRUE</td><td>E3</td><td>0</td><td>1</td><td>0</td><td>0</td><td>0</td><td>0</td><td>0</td><td>0</td><td>0</td><td>1</td></tr>\n",
              "\t<tr><td>W</td><td>34.876355</td><td> TRUE</td><td>E3</td><td>0</td><td>0</td><td>1</td><td>0</td><td>0</td><td>0</td><td>0</td><td>0</td><td>0</td><td>1</td></tr>\n",
              "\t<tr><td>J</td><td> 7.926262</td><td>FALSE</td><td>E3</td><td>0</td><td>0</td><td>0</td><td>1</td><td>0</td><td>0</td><td>0</td><td>0</td><td>0</td><td>1</td></tr>\n",
              "\t<tr><td>V</td><td>40.047740</td><td> TRUE</td><td>E3</td><td>0</td><td>0</td><td>0</td><td>0</td><td>1</td><td>0</td><td>0</td><td>0</td><td>0</td><td>1</td></tr>\n",
              "\t<tr><td>S</td><td> 6.050152</td><td>FALSE</td><td>E3</td><td>0</td><td>0</td><td>0</td><td>0</td><td>0</td><td>1</td><td>0</td><td>0</td><td>0</td><td>1</td></tr>\n",
              "\t<tr><td>D</td><td> 4.811036</td><td>FALSE</td><td>E3</td><td>0</td><td>0</td><td>0</td><td>0</td><td>0</td><td>0</td><td>1</td><td>0</td><td>0</td><td>1</td></tr>\n",
              "\t<tr><td>L</td><td>32.604383</td><td> TRUE</td><td>E3</td><td>1</td><td>0</td><td>0</td><td>0</td><td>0</td><td>0</td><td>0</td><td>0</td><td>0</td><td>1</td></tr>\n",
              "\t<tr><td>M</td><td>21.102520</td><td> TRUE</td><td>E3</td><td>0</td><td>1</td><td>0</td><td>0</td><td>0</td><td>0</td><td>0</td><td>0</td><td>0</td><td>1</td></tr>\n",
              "\t<tr><td>W</td><td>14.758546</td><td>FALSE</td><td>E3</td><td>0</td><td>0</td><td>1</td><td>0</td><td>0</td><td>0</td><td>0</td><td>0</td><td>0</td><td>1</td></tr>\n",
              "\t<tr><td>J</td><td>10.664097</td><td>FALSE</td><td>E3</td><td>0</td><td>0</td><td>0</td><td>1</td><td>0</td><td>0</td><td>0</td><td>0</td><td>0</td><td>1</td></tr>\n",
              "\t<tr><td>V</td><td>10.305332</td><td>FALSE</td><td>E3</td><td>0</td><td>0</td><td>0</td><td>0</td><td>1</td><td>0</td><td>0</td><td>0</td><td>0</td><td>1</td></tr>\n",
              "\t<tr><td>S</td><td>34.483532</td><td> TRUE</td><td>E3</td><td>0</td><td>0</td><td>0</td><td>0</td><td>0</td><td>1</td><td>0</td><td>0</td><td>0</td><td>1</td></tr>\n",
              "\t<tr><td>D</td><td>29.928115</td><td> TRUE</td><td>E3</td><td>0</td><td>0</td><td>0</td><td>0</td><td>0</td><td>0</td><td>1</td><td>0</td><td>0</td><td>1</td></tr>\n",
              "\t<tr><td>L</td><td>15.253809</td><td>FALSE</td><td>E3</td><td>1</td><td>0</td><td>0</td><td>0</td><td>0</td><td>0</td><td>0</td><td>0</td><td>0</td><td>1</td></tr>\n",
              "\t<tr><td>M</td><td>10.189013</td><td>FALSE</td><td>E3</td><td>0</td><td>1</td><td>0</td><td>0</td><td>0</td><td>0</td><td>0</td><td>0</td><td>0</td><td>1</td></tr>\n",
              "\t<tr><td>W</td><td>21.701562</td><td> TRUE</td><td>E3</td><td>0</td><td>0</td><td>1</td><td>0</td><td>0</td><td>0</td><td>0</td><td>0</td><td>0</td><td>1</td></tr>\n",
              "\t<tr><td>J</td><td>20.703266</td><td> TRUE</td><td>E3</td><td>0</td><td>0</td><td>0</td><td>1</td><td>0</td><td>0</td><td>0</td><td>0</td><td>0</td><td>1</td></tr>\n",
              "\t<tr><td>V</td><td>31.075858</td><td> TRUE</td><td>E3</td><td>0</td><td>0</td><td>0</td><td>0</td><td>1</td><td>0</td><td>0</td><td>0</td><td>0</td><td>1</td></tr>\n",
              "\t<tr><td>S</td><td>30.644809</td><td> TRUE</td><td>E3</td><td>0</td><td>0</td><td>0</td><td>0</td><td>0</td><td>1</td><td>0</td><td>0</td><td>0</td><td>1</td></tr>\n",
              "\t<tr><td>D</td><td> 8.985922</td><td>FALSE</td><td>E3</td><td>0</td><td>0</td><td>0</td><td>0</td><td>0</td><td>0</td><td>1</td><td>0</td><td>0</td><td>1</td></tr>\n",
              "\t<tr><td>L</td><td>11.206768</td><td>FALSE</td><td>E3</td><td>1</td><td>0</td><td>0</td><td>0</td><td>0</td><td>0</td><td>0</td><td>0</td><td>0</td><td>1</td></tr>\n",
              "\t<tr><td>M</td><td>33.136798</td><td> TRUE</td><td>E3</td><td>0</td><td>1</td><td>0</td><td>0</td><td>0</td><td>0</td><td>0</td><td>0</td><td>0</td><td>1</td></tr>\n",
              "\t<tr><td>W</td><td>18.543729</td><td>FALSE</td><td>E3</td><td>0</td><td>0</td><td>1</td><td>0</td><td>0</td><td>0</td><td>0</td><td>0</td><td>0</td><td>1</td></tr>\n",
              "\t<tr><td>J</td><td>-3.636157</td><td>FALSE</td><td>E3</td><td>0</td><td>0</td><td>0</td><td>1</td><td>0</td><td>0</td><td>0</td><td>0</td><td>0</td><td>1</td></tr>\n",
              "\t<tr><td>V</td><td>24.562729</td><td> TRUE</td><td>E3</td><td>0</td><td>0</td><td>0</td><td>0</td><td>1</td><td>0</td><td>0</td><td>0</td><td>0</td><td>1</td></tr>\n",
              "\t<tr><td>S</td><td>16.242129</td><td>FALSE</td><td>E3</td><td>0</td><td>0</td><td>0</td><td>0</td><td>0</td><td>1</td><td>0</td><td>0</td><td>0</td><td>1</td></tr>\n",
              "\t<tr><td>D</td><td>20.431146</td><td> TRUE</td><td>E3</td><td>0</td><td>0</td><td>0</td><td>0</td><td>0</td><td>0</td><td>1</td><td>0</td><td>0</td><td>1</td></tr>\n",
              "\t<tr><td>L</td><td> 6.225196</td><td>FALSE</td><td>E3</td><td>1</td><td>0</td><td>0</td><td>0</td><td>0</td><td>0</td><td>0</td><td>0</td><td>0</td><td>1</td></tr>\n",
              "\t<tr><td>M</td><td>13.072008</td><td>FALSE</td><td>E3</td><td>0</td><td>1</td><td>0</td><td>0</td><td>0</td><td>0</td><td>0</td><td>0</td><td>0</td><td>1</td></tr>\n",
              "</tbody>\n",
              "</table>\n"
            ],
            "text/markdown": "\nA data.frame: 100 × 14\n\n| Dia_semana &lt;chr&gt; | Temperatura &lt;dbl&gt; | Llueve &lt;lgl&gt; | Estacion &lt;chr&gt; | Dia.L &lt;fct&gt; | Dia.M &lt;fct&gt; | Dia.W &lt;fct&gt; | Dia.J &lt;fct&gt; | Dia.V &lt;fct&gt; | Dia.S &lt;fct&gt; | Dia.D &lt;fct&gt; | Est.1 &lt;fct&gt; | Est.2 &lt;fct&gt; | Est.3 &lt;fct&gt; |\n|---|---|---|---|---|---|---|---|---|---|---|---|---|---|\n| L | 22.877329 |  TRUE | E1 | 1 | 0 | 0 | 0 | 0 | 0 | 0 | 1 | 0 | 0 |\n| M | 35.914794 |  TRUE | E1 | 0 | 1 | 0 | 0 | 0 | 0 | 0 | 1 | 0 | 0 |\n| W | 18.367785 | FALSE | E1 | 0 | 0 | 1 | 0 | 0 | 0 | 0 | 1 | 0 | 0 |\n| J | 20.762391 |  TRUE | E1 | 0 | 0 | 0 | 1 | 0 | 0 | 0 | 1 | 0 | 0 |\n| V | -1.227622 | FALSE | E1 | 0 | 0 | 0 | 0 | 1 | 0 | 0 | 1 | 0 | 0 |\n| S | 24.717198 |  TRUE | E1 | 0 | 0 | 0 | 0 | 0 | 1 | 0 | 1 | 0 | 0 |\n| D | 24.691684 |  TRUE | E1 | 0 | 0 | 0 | 0 | 0 | 0 | 1 | 1 | 0 | 0 |\n| L | 21.055433 |  TRUE | E1 | 1 | 0 | 0 | 0 | 0 | 0 | 0 | 1 | 0 | 0 |\n| M | 10.848288 | FALSE | E1 | 0 | 1 | 0 | 0 | 0 | 0 | 0 | 1 | 0 | 0 |\n| W | 16.239201 | FALSE | E1 | 0 | 0 | 1 | 0 | 0 | 0 | 0 | 1 | 0 | 0 |\n| J | 20.439575 |  TRUE | E1 | 0 | 0 | 0 | 1 | 0 | 0 | 0 | 1 | 0 | 0 |\n| V | 30.541413 |  TRUE | E1 | 0 | 0 | 0 | 0 | 1 | 0 | 0 | 1 | 0 | 0 |\n| S | 10.876449 | FALSE | E1 | 0 | 0 | 0 | 0 | 0 | 1 | 0 | 1 | 0 | 0 |\n| D | 20.769350 |  TRUE | E1 | 0 | 0 | 0 | 0 | 0 | 0 | 1 | 1 | 0 | 0 |\n| L | 15.743378 | FALSE | E1 | 1 | 0 | 0 | 0 | 0 | 0 | 0 | 1 | 0 | 0 |\n| M | 13.925929 | FALSE | E1 | 0 | 1 | 0 | 0 | 0 | 0 | 0 | 1 | 0 | 0 |\n| W | 30.147795 |  TRUE | E1 | 0 | 0 | 1 | 0 | 0 | 0 | 0 | 1 | 0 | 0 |\n| J | 31.310992 |  TRUE | E1 | 0 | 0 | 0 | 1 | 0 | 0 | 0 | 1 | 0 | 0 |\n| V | 33.467290 |  TRUE | E1 | 0 | 0 | 0 | 0 | 1 | 0 | 0 | 1 | 0 | 0 |\n| S | 17.930503 | FALSE | E1 | 0 | 0 | 0 | 0 | 0 | 1 | 0 | 1 | 0 | 0 |\n| D | 17.028917 | FALSE | E1 | 0 | 0 | 0 | 0 | 0 | 0 | 1 | 1 | 0 | 0 |\n| L | 11.669770 | FALSE | E1 | 1 | 0 | 0 | 0 | 0 | 0 | 0 | 1 | 0 | 0 |\n| M | 12.878932 | FALSE | E1 | 0 | 1 | 0 | 0 | 0 | 0 | 0 | 1 | 0 | 0 |\n| W | 16.271816 | FALSE | E1 | 0 | 0 | 1 | 0 | 0 | 0 | 0 | 1 | 0 | 0 |\n| J | 16.627854 | FALSE | E1 | 0 | 0 | 0 | 1 | 0 | 0 | 0 | 1 | 0 | 0 |\n| V | 12.443644 | FALSE | E1 | 0 | 0 | 0 | 0 | 1 | 0 | 0 | 1 | 0 | 0 |\n| S | 27.704477 |  TRUE | E1 | 0 | 0 | 0 | 0 | 0 | 1 | 0 | 1 | 0 | 0 |\n| D | 24.488125 |  TRUE | E1 | 0 | 0 | 0 | 0 | 0 | 0 | 1 | 1 | 0 | 0 |\n| L | 30.468585 |  TRUE | E1 | 1 | 0 | 0 | 0 | 0 | 0 | 0 | 1 | 0 | 0 |\n| M | 24.525338 |  TRUE | E1 | 0 | 1 | 0 | 0 | 0 | 0 | 0 | 1 | 0 | 0 |\n| ⋮ | ⋮ | ⋮ | ⋮ | ⋮ | ⋮ | ⋮ | ⋮ | ⋮ | ⋮ | ⋮ | ⋮ | ⋮ | ⋮ |\n| L | 25.064938 |  TRUE | E3 | 1 | 0 | 0 | 0 | 0 | 0 | 0 | 0 | 0 | 1 |\n| M | 20.820852 |  TRUE | E3 | 0 | 1 | 0 | 0 | 0 | 0 | 0 | 0 | 0 | 1 |\n| W | 34.876355 |  TRUE | E3 | 0 | 0 | 1 | 0 | 0 | 0 | 0 | 0 | 0 | 1 |\n| J |  7.926262 | FALSE | E3 | 0 | 0 | 0 | 1 | 0 | 0 | 0 | 0 | 0 | 1 |\n| V | 40.047740 |  TRUE | E3 | 0 | 0 | 0 | 0 | 1 | 0 | 0 | 0 | 0 | 1 |\n| S |  6.050152 | FALSE | E3 | 0 | 0 | 0 | 0 | 0 | 1 | 0 | 0 | 0 | 1 |\n| D |  4.811036 | FALSE | E3 | 0 | 0 | 0 | 0 | 0 | 0 | 1 | 0 | 0 | 1 |\n| L | 32.604383 |  TRUE | E3 | 1 | 0 | 0 | 0 | 0 | 0 | 0 | 0 | 0 | 1 |\n| M | 21.102520 |  TRUE | E3 | 0 | 1 | 0 | 0 | 0 | 0 | 0 | 0 | 0 | 1 |\n| W | 14.758546 | FALSE | E3 | 0 | 0 | 1 | 0 | 0 | 0 | 0 | 0 | 0 | 1 |\n| J | 10.664097 | FALSE | E3 | 0 | 0 | 0 | 1 | 0 | 0 | 0 | 0 | 0 | 1 |\n| V | 10.305332 | FALSE | E3 | 0 | 0 | 0 | 0 | 1 | 0 | 0 | 0 | 0 | 1 |\n| S | 34.483532 |  TRUE | E3 | 0 | 0 | 0 | 0 | 0 | 1 | 0 | 0 | 0 | 1 |\n| D | 29.928115 |  TRUE | E3 | 0 | 0 | 0 | 0 | 0 | 0 | 1 | 0 | 0 | 1 |\n| L | 15.253809 | FALSE | E3 | 1 | 0 | 0 | 0 | 0 | 0 | 0 | 0 | 0 | 1 |\n| M | 10.189013 | FALSE | E3 | 0 | 1 | 0 | 0 | 0 | 0 | 0 | 0 | 0 | 1 |\n| W | 21.701562 |  TRUE | E3 | 0 | 0 | 1 | 0 | 0 | 0 | 0 | 0 | 0 | 1 |\n| J | 20.703266 |  TRUE | E3 | 0 | 0 | 0 | 1 | 0 | 0 | 0 | 0 | 0 | 1 |\n| V | 31.075858 |  TRUE | E3 | 0 | 0 | 0 | 0 | 1 | 0 | 0 | 0 | 0 | 1 |\n| S | 30.644809 |  TRUE | E3 | 0 | 0 | 0 | 0 | 0 | 1 | 0 | 0 | 0 | 1 |\n| D |  8.985922 | FALSE | E3 | 0 | 0 | 0 | 0 | 0 | 0 | 1 | 0 | 0 | 1 |\n| L | 11.206768 | FALSE | E3 | 1 | 0 | 0 | 0 | 0 | 0 | 0 | 0 | 0 | 1 |\n| M | 33.136798 |  TRUE | E3 | 0 | 1 | 0 | 0 | 0 | 0 | 0 | 0 | 0 | 1 |\n| W | 18.543729 | FALSE | E3 | 0 | 0 | 1 | 0 | 0 | 0 | 0 | 0 | 0 | 1 |\n| J | -3.636157 | FALSE | E3 | 0 | 0 | 0 | 1 | 0 | 0 | 0 | 0 | 0 | 1 |\n| V | 24.562729 |  TRUE | E3 | 0 | 0 | 0 | 0 | 1 | 0 | 0 | 0 | 0 | 1 |\n| S | 16.242129 | FALSE | E3 | 0 | 0 | 0 | 0 | 0 | 1 | 0 | 0 | 0 | 1 |\n| D | 20.431146 |  TRUE | E3 | 0 | 0 | 0 | 0 | 0 | 0 | 1 | 0 | 0 | 1 |\n| L |  6.225196 | FALSE | E3 | 1 | 0 | 0 | 0 | 0 | 0 | 0 | 0 | 0 | 1 |\n| M | 13.072008 | FALSE | E3 | 0 | 1 | 0 | 0 | 0 | 0 | 0 | 0 | 0 | 1 |\n\n",
            "text/latex": "A data.frame: 100 × 14\n\\begin{tabular}{llllllllllllll}\n Dia\\_semana & Temperatura & Llueve & Estacion & Dia.L & Dia.M & Dia.W & Dia.J & Dia.V & Dia.S & Dia.D & Est.1 & Est.2 & Est.3\\\\\n <chr> & <dbl> & <lgl> & <chr> & <fct> & <fct> & <fct> & <fct> & <fct> & <fct> & <fct> & <fct> & <fct> & <fct>\\\\\n\\hline\n\t L & 22.877329 &  TRUE & E1 & 1 & 0 & 0 & 0 & 0 & 0 & 0 & 1 & 0 & 0\\\\\n\t M & 35.914794 &  TRUE & E1 & 0 & 1 & 0 & 0 & 0 & 0 & 0 & 1 & 0 & 0\\\\\n\t W & 18.367785 & FALSE & E1 & 0 & 0 & 1 & 0 & 0 & 0 & 0 & 1 & 0 & 0\\\\\n\t J & 20.762391 &  TRUE & E1 & 0 & 0 & 0 & 1 & 0 & 0 & 0 & 1 & 0 & 0\\\\\n\t V & -1.227622 & FALSE & E1 & 0 & 0 & 0 & 0 & 1 & 0 & 0 & 1 & 0 & 0\\\\\n\t S & 24.717198 &  TRUE & E1 & 0 & 0 & 0 & 0 & 0 & 1 & 0 & 1 & 0 & 0\\\\\n\t D & 24.691684 &  TRUE & E1 & 0 & 0 & 0 & 0 & 0 & 0 & 1 & 1 & 0 & 0\\\\\n\t L & 21.055433 &  TRUE & E1 & 1 & 0 & 0 & 0 & 0 & 0 & 0 & 1 & 0 & 0\\\\\n\t M & 10.848288 & FALSE & E1 & 0 & 1 & 0 & 0 & 0 & 0 & 0 & 1 & 0 & 0\\\\\n\t W & 16.239201 & FALSE & E1 & 0 & 0 & 1 & 0 & 0 & 0 & 0 & 1 & 0 & 0\\\\\n\t J & 20.439575 &  TRUE & E1 & 0 & 0 & 0 & 1 & 0 & 0 & 0 & 1 & 0 & 0\\\\\n\t V & 30.541413 &  TRUE & E1 & 0 & 0 & 0 & 0 & 1 & 0 & 0 & 1 & 0 & 0\\\\\n\t S & 10.876449 & FALSE & E1 & 0 & 0 & 0 & 0 & 0 & 1 & 0 & 1 & 0 & 0\\\\\n\t D & 20.769350 &  TRUE & E1 & 0 & 0 & 0 & 0 & 0 & 0 & 1 & 1 & 0 & 0\\\\\n\t L & 15.743378 & FALSE & E1 & 1 & 0 & 0 & 0 & 0 & 0 & 0 & 1 & 0 & 0\\\\\n\t M & 13.925929 & FALSE & E1 & 0 & 1 & 0 & 0 & 0 & 0 & 0 & 1 & 0 & 0\\\\\n\t W & 30.147795 &  TRUE & E1 & 0 & 0 & 1 & 0 & 0 & 0 & 0 & 1 & 0 & 0\\\\\n\t J & 31.310992 &  TRUE & E1 & 0 & 0 & 0 & 1 & 0 & 0 & 0 & 1 & 0 & 0\\\\\n\t V & 33.467290 &  TRUE & E1 & 0 & 0 & 0 & 0 & 1 & 0 & 0 & 1 & 0 & 0\\\\\n\t S & 17.930503 & FALSE & E1 & 0 & 0 & 0 & 0 & 0 & 1 & 0 & 1 & 0 & 0\\\\\n\t D & 17.028917 & FALSE & E1 & 0 & 0 & 0 & 0 & 0 & 0 & 1 & 1 & 0 & 0\\\\\n\t L & 11.669770 & FALSE & E1 & 1 & 0 & 0 & 0 & 0 & 0 & 0 & 1 & 0 & 0\\\\\n\t M & 12.878932 & FALSE & E1 & 0 & 1 & 0 & 0 & 0 & 0 & 0 & 1 & 0 & 0\\\\\n\t W & 16.271816 & FALSE & E1 & 0 & 0 & 1 & 0 & 0 & 0 & 0 & 1 & 0 & 0\\\\\n\t J & 16.627854 & FALSE & E1 & 0 & 0 & 0 & 1 & 0 & 0 & 0 & 1 & 0 & 0\\\\\n\t V & 12.443644 & FALSE & E1 & 0 & 0 & 0 & 0 & 1 & 0 & 0 & 1 & 0 & 0\\\\\n\t S & 27.704477 &  TRUE & E1 & 0 & 0 & 0 & 0 & 0 & 1 & 0 & 1 & 0 & 0\\\\\n\t D & 24.488125 &  TRUE & E1 & 0 & 0 & 0 & 0 & 0 & 0 & 1 & 1 & 0 & 0\\\\\n\t L & 30.468585 &  TRUE & E1 & 1 & 0 & 0 & 0 & 0 & 0 & 0 & 1 & 0 & 0\\\\\n\t M & 24.525338 &  TRUE & E1 & 0 & 1 & 0 & 0 & 0 & 0 & 0 & 1 & 0 & 0\\\\\n\t ⋮ & ⋮ & ⋮ & ⋮ & ⋮ & ⋮ & ⋮ & ⋮ & ⋮ & ⋮ & ⋮ & ⋮ & ⋮ & ⋮\\\\\n\t L & 25.064938 &  TRUE & E3 & 1 & 0 & 0 & 0 & 0 & 0 & 0 & 0 & 0 & 1\\\\\n\t M & 20.820852 &  TRUE & E3 & 0 & 1 & 0 & 0 & 0 & 0 & 0 & 0 & 0 & 1\\\\\n\t W & 34.876355 &  TRUE & E3 & 0 & 0 & 1 & 0 & 0 & 0 & 0 & 0 & 0 & 1\\\\\n\t J &  7.926262 & FALSE & E3 & 0 & 0 & 0 & 1 & 0 & 0 & 0 & 0 & 0 & 1\\\\\n\t V & 40.047740 &  TRUE & E3 & 0 & 0 & 0 & 0 & 1 & 0 & 0 & 0 & 0 & 1\\\\\n\t S &  6.050152 & FALSE & E3 & 0 & 0 & 0 & 0 & 0 & 1 & 0 & 0 & 0 & 1\\\\\n\t D &  4.811036 & FALSE & E3 & 0 & 0 & 0 & 0 & 0 & 0 & 1 & 0 & 0 & 1\\\\\n\t L & 32.604383 &  TRUE & E3 & 1 & 0 & 0 & 0 & 0 & 0 & 0 & 0 & 0 & 1\\\\\n\t M & 21.102520 &  TRUE & E3 & 0 & 1 & 0 & 0 & 0 & 0 & 0 & 0 & 0 & 1\\\\\n\t W & 14.758546 & FALSE & E3 & 0 & 0 & 1 & 0 & 0 & 0 & 0 & 0 & 0 & 1\\\\\n\t J & 10.664097 & FALSE & E3 & 0 & 0 & 0 & 1 & 0 & 0 & 0 & 0 & 0 & 1\\\\\n\t V & 10.305332 & FALSE & E3 & 0 & 0 & 0 & 0 & 1 & 0 & 0 & 0 & 0 & 1\\\\\n\t S & 34.483532 &  TRUE & E3 & 0 & 0 & 0 & 0 & 0 & 1 & 0 & 0 & 0 & 1\\\\\n\t D & 29.928115 &  TRUE & E3 & 0 & 0 & 0 & 0 & 0 & 0 & 1 & 0 & 0 & 1\\\\\n\t L & 15.253809 & FALSE & E3 & 1 & 0 & 0 & 0 & 0 & 0 & 0 & 0 & 0 & 1\\\\\n\t M & 10.189013 & FALSE & E3 & 0 & 1 & 0 & 0 & 0 & 0 & 0 & 0 & 0 & 1\\\\\n\t W & 21.701562 &  TRUE & E3 & 0 & 0 & 1 & 0 & 0 & 0 & 0 & 0 & 0 & 1\\\\\n\t J & 20.703266 &  TRUE & E3 & 0 & 0 & 0 & 1 & 0 & 0 & 0 & 0 & 0 & 1\\\\\n\t V & 31.075858 &  TRUE & E3 & 0 & 0 & 0 & 0 & 1 & 0 & 0 & 0 & 0 & 1\\\\\n\t S & 30.644809 &  TRUE & E3 & 0 & 0 & 0 & 0 & 0 & 1 & 0 & 0 & 0 & 1\\\\\n\t D &  8.985922 & FALSE & E3 & 0 & 0 & 0 & 0 & 0 & 0 & 1 & 0 & 0 & 1\\\\\n\t L & 11.206768 & FALSE & E3 & 1 & 0 & 0 & 0 & 0 & 0 & 0 & 0 & 0 & 1\\\\\n\t M & 33.136798 &  TRUE & E3 & 0 & 1 & 0 & 0 & 0 & 0 & 0 & 0 & 0 & 1\\\\\n\t W & 18.543729 & FALSE & E3 & 0 & 0 & 1 & 0 & 0 & 0 & 0 & 0 & 0 & 1\\\\\n\t J & -3.636157 & FALSE & E3 & 0 & 0 & 0 & 1 & 0 & 0 & 0 & 0 & 0 & 1\\\\\n\t V & 24.562729 &  TRUE & E3 & 0 & 0 & 0 & 0 & 1 & 0 & 0 & 0 & 0 & 1\\\\\n\t S & 16.242129 & FALSE & E3 & 0 & 0 & 0 & 0 & 0 & 1 & 0 & 0 & 0 & 1\\\\\n\t D & 20.431146 &  TRUE & E3 & 0 & 0 & 0 & 0 & 0 & 0 & 1 & 0 & 0 & 1\\\\\n\t L &  6.225196 & FALSE & E3 & 1 & 0 & 0 & 0 & 0 & 0 & 0 & 0 & 0 & 1\\\\\n\t M & 13.072008 & FALSE & E3 & 0 & 1 & 0 & 0 & 0 & 0 & 0 & 0 & 0 & 1\\\\\n\\end{tabular}\n",
            "text/plain": [
              "    Dia_semana Temperatura Llueve Estacion Dia.L Dia.M Dia.W Dia.J Dia.V Dia.S\n",
              "1   L          22.877329    TRUE  E1       1     0     0     0     0     0    \n",
              "2   M          35.914794    TRUE  E1       0     1     0     0     0     0    \n",
              "3   W          18.367785   FALSE  E1       0     0     1     0     0     0    \n",
              "4   J          20.762391    TRUE  E1       0     0     0     1     0     0    \n",
              "5   V          -1.227622   FALSE  E1       0     0     0     0     1     0    \n",
              "6   S          24.717198    TRUE  E1       0     0     0     0     0     1    \n",
              "7   D          24.691684    TRUE  E1       0     0     0     0     0     0    \n",
              "8   L          21.055433    TRUE  E1       1     0     0     0     0     0    \n",
              "9   M          10.848288   FALSE  E1       0     1     0     0     0     0    \n",
              "10  W          16.239201   FALSE  E1       0     0     1     0     0     0    \n",
              "11  J          20.439575    TRUE  E1       0     0     0     1     0     0    \n",
              "12  V          30.541413    TRUE  E1       0     0     0     0     1     0    \n",
              "13  S          10.876449   FALSE  E1       0     0     0     0     0     1    \n",
              "14  D          20.769350    TRUE  E1       0     0     0     0     0     0    \n",
              "15  L          15.743378   FALSE  E1       1     0     0     0     0     0    \n",
              "16  M          13.925929   FALSE  E1       0     1     0     0     0     0    \n",
              "17  W          30.147795    TRUE  E1       0     0     1     0     0     0    \n",
              "18  J          31.310992    TRUE  E1       0     0     0     1     0     0    \n",
              "19  V          33.467290    TRUE  E1       0     0     0     0     1     0    \n",
              "20  S          17.930503   FALSE  E1       0     0     0     0     0     1    \n",
              "21  D          17.028917   FALSE  E1       0     0     0     0     0     0    \n",
              "22  L          11.669770   FALSE  E1       1     0     0     0     0     0    \n",
              "23  M          12.878932   FALSE  E1       0     1     0     0     0     0    \n",
              "24  W          16.271816   FALSE  E1       0     0     1     0     0     0    \n",
              "25  J          16.627854   FALSE  E1       0     0     0     1     0     0    \n",
              "26  V          12.443644   FALSE  E1       0     0     0     0     1     0    \n",
              "27  S          27.704477    TRUE  E1       0     0     0     0     0     1    \n",
              "28  D          24.488125    TRUE  E1       0     0     0     0     0     0    \n",
              "29  L          30.468585    TRUE  E1       1     0     0     0     0     0    \n",
              "30  M          24.525338    TRUE  E1       0     1     0     0     0     0    \n",
              "⋮   ⋮          ⋮           ⋮      ⋮        ⋮     ⋮     ⋮     ⋮     ⋮     ⋮    \n",
              "71  L          25.064938    TRUE  E3       1     0     0     0     0     0    \n",
              "72  M          20.820852    TRUE  E3       0     1     0     0     0     0    \n",
              "73  W          34.876355    TRUE  E3       0     0     1     0     0     0    \n",
              "74  J           7.926262   FALSE  E3       0     0     0     1     0     0    \n",
              "75  V          40.047740    TRUE  E3       0     0     0     0     1     0    \n",
              "76  S           6.050152   FALSE  E3       0     0     0     0     0     1    \n",
              "77  D           4.811036   FALSE  E3       0     0     0     0     0     0    \n",
              "78  L          32.604383    TRUE  E3       1     0     0     0     0     0    \n",
              "79  M          21.102520    TRUE  E3       0     1     0     0     0     0    \n",
              "80  W          14.758546   FALSE  E3       0     0     1     0     0     0    \n",
              "81  J          10.664097   FALSE  E3       0     0     0     1     0     0    \n",
              "82  V          10.305332   FALSE  E3       0     0     0     0     1     0    \n",
              "83  S          34.483532    TRUE  E3       0     0     0     0     0     1    \n",
              "84  D          29.928115    TRUE  E3       0     0     0     0     0     0    \n",
              "85  L          15.253809   FALSE  E3       1     0     0     0     0     0    \n",
              "86  M          10.189013   FALSE  E3       0     1     0     0     0     0    \n",
              "87  W          21.701562    TRUE  E3       0     0     1     0     0     0    \n",
              "88  J          20.703266    TRUE  E3       0     0     0     1     0     0    \n",
              "89  V          31.075858    TRUE  E3       0     0     0     0     1     0    \n",
              "90  S          30.644809    TRUE  E3       0     0     0     0     0     1    \n",
              "91  D           8.985922   FALSE  E3       0     0     0     0     0     0    \n",
              "92  L          11.206768   FALSE  E3       1     0     0     0     0     0    \n",
              "93  M          33.136798    TRUE  E3       0     1     0     0     0     0    \n",
              "94  W          18.543729   FALSE  E3       0     0     1     0     0     0    \n",
              "95  J          -3.636157   FALSE  E3       0     0     0     1     0     0    \n",
              "96  V          24.562729    TRUE  E3       0     0     0     0     1     0    \n",
              "97  S          16.242129   FALSE  E3       0     0     0     0     0     1    \n",
              "98  D          20.431146    TRUE  E3       0     0     0     0     0     0    \n",
              "99  L           6.225196   FALSE  E3       1     0     0     0     0     0    \n",
              "100 M          13.072008   FALSE  E3       0     1     0     0     0     0    \n",
              "    Dia.D Est.1 Est.2 Est.3\n",
              "1   0     1     0     0    \n",
              "2   0     1     0     0    \n",
              "3   0     1     0     0    \n",
              "4   0     1     0     0    \n",
              "5   0     1     0     0    \n",
              "6   0     1     0     0    \n",
              "7   1     1     0     0    \n",
              "8   0     1     0     0    \n",
              "9   0     1     0     0    \n",
              "10  0     1     0     0    \n",
              "11  0     1     0     0    \n",
              "12  0     1     0     0    \n",
              "13  0     1     0     0    \n",
              "14  1     1     0     0    \n",
              "15  0     1     0     0    \n",
              "16  0     1     0     0    \n",
              "17  0     1     0     0    \n",
              "18  0     1     0     0    \n",
              "19  0     1     0     0    \n",
              "20  0     1     0     0    \n",
              "21  1     1     0     0    \n",
              "22  0     1     0     0    \n",
              "23  0     1     0     0    \n",
              "24  0     1     0     0    \n",
              "25  0     1     0     0    \n",
              "26  0     1     0     0    \n",
              "27  0     1     0     0    \n",
              "28  1     1     0     0    \n",
              "29  0     1     0     0    \n",
              "30  0     1     0     0    \n",
              "⋮   ⋮     ⋮     ⋮     ⋮    \n",
              "71  0     0     0     1    \n",
              "72  0     0     0     1    \n",
              "73  0     0     0     1    \n",
              "74  0     0     0     1    \n",
              "75  0     0     0     1    \n",
              "76  0     0     0     1    \n",
              "77  1     0     0     1    \n",
              "78  0     0     0     1    \n",
              "79  0     0     0     1    \n",
              "80  0     0     0     1    \n",
              "81  0     0     0     1    \n",
              "82  0     0     0     1    \n",
              "83  0     0     0     1    \n",
              "84  1     0     0     1    \n",
              "85  0     0     0     1    \n",
              "86  0     0     0     1    \n",
              "87  0     0     0     1    \n",
              "88  0     0     0     1    \n",
              "89  0     0     0     1    \n",
              "90  0     0     0     1    \n",
              "91  1     0     0     1    \n",
              "92  0     0     0     1    \n",
              "93  0     0     0     1    \n",
              "94  0     0     0     1    \n",
              "95  0     0     0     1    \n",
              "96  0     0     0     1    \n",
              "97  0     0     0     1    \n",
              "98  1     0     0     1    \n",
              "99  0     0     0     1    \n",
              "100 0     0     0     1    "
            ]
          },
          "metadata": {}
        }
      ]
    },
    {
      "cell_type": "code",
      "metadata": {
        "trusted": true,
        "id": "5kjmwaOUm5aA",
        "colab": {
          "base_uri": "https://localhost:8080/",
          "height": 208
        },
        "outputId": "8afaceae-14dc-4d9d-ff0e-470f1ac87735"
      },
      "source": [
        "# Un poco de exploración --------------------------------\n",
        "# ¿Cuál es la temperatura promedio cuando llovió?\n",
        "\"La temperatura promedio cuando llovió fue: \"\n",
        "mean(precipitaciones[precipitaciones[[\"Llueve\"]],][[\"Temperatura\"]])\n",
        "\" \"\n",
        "\n",
        "# ¿Cuál es la temperatura promedio cuando NO llovió?\n",
        "\"La temperatura promedio cuando NO llovió fue: \"\n",
        "mean(precipitaciones[!precipitaciones[[\"Llueve\"]],][[\"Temperatura\"]])\n",
        "\" \"\n",
        "\n",
        "#Lo mismo pero sólo de los registros de E1\n",
        "precip_E1 <- precipitaciones[precipitaciones[\"Estacion\"] == \"E1\",]\n",
        "\n",
        "\"La temperatura promedio en E1 cuando llovió fue: \"\n",
        "mean(precip_E1[precip_E1[[\"Llueve\"]],][[\"Temperatura\"]])\n",
        "\" \"\n",
        "\"La temperatura promedio en E1 cuando NO llovió fue: \"\n",
        "mean(precip_E1[!precip_E1[[\"Llueve\"]],][[\"Temperatura\"]])"
      ],
      "execution_count": 71,
      "outputs": [
        {
          "output_type": "display_data",
          "data": {
            "text/html": [
              "'La temperatura promedio cuando llovió fue: '"
            ],
            "text/markdown": "'La temperatura promedio cuando llovió fue: '",
            "text/latex": "'La temperatura promedio cuando llovió fue: '",
            "text/plain": [
              "[1] \"La temperatura promedio cuando llovió fue: \""
            ]
          },
          "metadata": {}
        },
        {
          "output_type": "display_data",
          "data": {
            "text/html": [
              "27.2077381619985"
            ],
            "text/markdown": "27.2077381619985",
            "text/latex": "27.2077381619985",
            "text/plain": [
              "[1] 27.20774"
            ]
          },
          "metadata": {}
        },
        {
          "output_type": "display_data",
          "data": {
            "text/html": [
              "' '"
            ],
            "text/markdown": "' '",
            "text/latex": "' '",
            "text/plain": [
              "[1] \" \""
            ]
          },
          "metadata": {}
        },
        {
          "output_type": "display_data",
          "data": {
            "text/html": [
              "'La temperatura promedio cuando NO llovió fue: '"
            ],
            "text/markdown": "'La temperatura promedio cuando NO llovió fue: '",
            "text/latex": "'La temperatura promedio cuando NO llovió fue: '",
            "text/plain": [
              "[1] \"La temperatura promedio cuando NO llovió fue: \""
            ]
          },
          "metadata": {}
        },
        {
          "output_type": "display_data",
          "data": {
            "text/html": [
              "12.4043018651756"
            ],
            "text/markdown": "12.4043018651756",
            "text/latex": "12.4043018651756",
            "text/plain": [
              "[1] 12.4043"
            ]
          },
          "metadata": {}
        },
        {
          "output_type": "display_data",
          "data": {
            "text/html": [
              "' '"
            ],
            "text/markdown": "' '",
            "text/latex": "' '",
            "text/plain": [
              "[1] \" \""
            ]
          },
          "metadata": {}
        },
        {
          "output_type": "display_data",
          "data": {
            "text/html": [
              "'La temperatura promedio en E1 cuando llovió fue: '"
            ],
            "text/markdown": "'La temperatura promedio en E1 cuando llovió fue: '",
            "text/latex": "'La temperatura promedio en E1 cuando llovió fue: '",
            "text/plain": [
              "[1] \"La temperatura promedio en E1 cuando llovió fue: \""
            ]
          },
          "metadata": {}
        },
        {
          "output_type": "display_data",
          "data": {
            "text/html": [
              "26.332332441133"
            ],
            "text/markdown": "26.332332441133",
            "text/latex": "26.332332441133",
            "text/plain": [
              "[1] 26.33233"
            ]
          },
          "metadata": {}
        },
        {
          "output_type": "display_data",
          "data": {
            "text/html": [
              "' '"
            ],
            "text/markdown": "' '",
            "text/latex": "' '",
            "text/plain": [
              "[1] \" \""
            ]
          },
          "metadata": {}
        },
        {
          "output_type": "display_data",
          "data": {
            "text/html": [
              "'La temperatura promedio en E1 cuando NO llovió fue: '"
            ],
            "text/markdown": "'La temperatura promedio en E1 cuando NO llovió fue: '",
            "text/latex": "'La temperatura promedio en E1 cuando NO llovió fue: '",
            "text/plain": [
              "[1] \"La temperatura promedio en E1 cuando NO llovió fue: \""
            ]
          },
          "metadata": {}
        },
        {
          "output_type": "display_data",
          "data": {
            "text/html": [
              "13.2179538575577"
            ],
            "text/markdown": "13.2179538575577",
            "text/latex": "13.2179538575577",
            "text/plain": [
              "[1] 13.21795"
            ]
          },
          "metadata": {}
        }
      ]
    },
    {
      "cell_type": "code",
      "metadata": {
        "trusted": true,
        "id": "TJuAlpPxm5aC",
        "colab": {
          "base_uri": "https://localhost:8080/",
          "height": 104
        },
        "outputId": "ea8c6864-f45a-400e-b6ff-71a7d0c65a74"
      },
      "source": [
        "# ¿Qué día era cuando se alcanzó la mínima temperatura?¿y la ,máxima?\n",
        "#La función which.min #o .max . retorna la posición donde se alcanza el min/max de un vector.\n",
        "\n",
        "# opcion 1\n",
        "fila_min <- which.min(precipitaciones[[\"Temperatura\"]])\n",
        "\"El día con la menor temperatura fue un: \"\n",
        "precipitaciones[fila_min,][[\"Dia_semana\"]]\n",
        "\" \"\n",
        "# opcion 2\n",
        "fila_max <- which.max(precipitaciones[[\"Temperatura\"]])\n",
        "\"El día con la máxima temperatura fue un: \"\n",
        "precipitaciones[fila_max,][[\"Dia_semana\"]]"
      ],
      "execution_count": 72,
      "outputs": [
        {
          "output_type": "display_data",
          "data": {
            "text/html": [
              "'El día con la menor temperatura fue un: '"
            ],
            "text/markdown": "'El día con la menor temperatura fue un: '",
            "text/latex": "'El día con la menor temperatura fue un: '",
            "text/plain": [
              "[1] \"El día con la menor temperatura fue un: \""
            ]
          },
          "metadata": {}
        },
        {
          "output_type": "display_data",
          "data": {
            "text/html": [
              "'J'"
            ],
            "text/markdown": "'J'",
            "text/latex": "'J'",
            "text/plain": [
              "[1] \"J\""
            ]
          },
          "metadata": {}
        },
        {
          "output_type": "display_data",
          "data": {
            "text/html": [
              "' '"
            ],
            "text/markdown": "' '",
            "text/latex": "' '",
            "text/plain": [
              "[1] \" \""
            ]
          },
          "metadata": {}
        },
        {
          "output_type": "display_data",
          "data": {
            "text/html": [
              "'El día con la máxima temperatura fue un: '"
            ],
            "text/markdown": "'El día con la máxima temperatura fue un: '",
            "text/latex": "'El día con la máxima temperatura fue un: '",
            "text/plain": [
              "[1] \"El día con la máxima temperatura fue un: \""
            ]
          },
          "metadata": {}
        },
        {
          "output_type": "display_data",
          "data": {
            "text/html": [
              "'V'"
            ],
            "text/markdown": "'V'",
            "text/latex": "'V'",
            "text/plain": [
              "[1] \"V\""
            ]
          },
          "metadata": {}
        }
      ]
    },
    {
      "cell_type": "code",
      "metadata": {
        "trusted": true,
        "id": "WHf5YnPWm5aF"
      },
      "source": [
        "# Una forma de eliminar registros en vector\n",
        "\n",
        "\n",
        "\n"
      ],
      "execution_count": 11,
      "outputs": []
    },
    {
      "cell_type": "code",
      "metadata": {
        "trusted": true,
        "id": "6Vx1ojnAm5aH"
      },
      "source": [
        "# POdemos eliminar los registros de posición 3 y 4\n"
      ],
      "execution_count": 12,
      "outputs": []
    },
    {
      "cell_type": "code",
      "metadata": {
        "trusted": true,
        "id": "K9Qv9n_nm5aJ",
        "colab": {
          "base_uri": "https://localhost:8080/",
          "height": 255
        },
        "outputId": "e5ed5e5e-e00d-478c-da19-af2eebb368bb"
      },
      "source": [
        "# Si queremos ver esa misma fila de la tabla precipitaciones.\n",
        "\n",
        "\n",
        "# Se sabe que la Estación E3 falla todos los días domingo, por lo que se quiere eliminar tales registros de la tabla. Elimínelos!\n",
        "precipitaciones[(precipitaciones[\"Estacion\"] == \"E3\" & precipitaciones[\"Dia_semana\"] == \"D\"),] \n",
        "precipitaciones <- precipitaciones[- which(precipitaciones[\"Estacion\"] == \"E3\" & precipitaciones[\"Dia_semana\"] == \"D\"),]\n"
      ],
      "execution_count": 73,
      "outputs": [
        {
          "output_type": "display_data",
          "data": {
            "text/html": [
              "<table class=\"dataframe\">\n",
              "<caption>A data.frame: 5 × 14</caption>\n",
              "<thead>\n",
              "\t<tr><th></th><th scope=col>Dia_semana</th><th scope=col>Temperatura</th><th scope=col>Llueve</th><th scope=col>Estacion</th><th scope=col>Dia.L</th><th scope=col>Dia.M</th><th scope=col>Dia.W</th><th scope=col>Dia.J</th><th scope=col>Dia.V</th><th scope=col>Dia.S</th><th scope=col>Dia.D</th><th scope=col>Est.1</th><th scope=col>Est.2</th><th scope=col>Est.3</th></tr>\n",
              "\t<tr><th></th><th scope=col>&lt;chr&gt;</th><th scope=col>&lt;dbl&gt;</th><th scope=col>&lt;lgl&gt;</th><th scope=col>&lt;chr&gt;</th><th scope=col>&lt;fct&gt;</th><th scope=col>&lt;fct&gt;</th><th scope=col>&lt;fct&gt;</th><th scope=col>&lt;fct&gt;</th><th scope=col>&lt;fct&gt;</th><th scope=col>&lt;fct&gt;</th><th scope=col>&lt;fct&gt;</th><th scope=col>&lt;fct&gt;</th><th scope=col>&lt;fct&gt;</th><th scope=col>&lt;fct&gt;</th></tr>\n",
              "</thead>\n",
              "<tbody>\n",
              "\t<tr><th scope=row>70</th><td>D</td><td>24.772045</td><td> TRUE</td><td>E3</td><td>0</td><td>0</td><td>0</td><td>0</td><td>0</td><td>0</td><td>1</td><td>0</td><td>0</td><td>1</td></tr>\n",
              "\t<tr><th scope=row>77</th><td>D</td><td> 4.811036</td><td>FALSE</td><td>E3</td><td>0</td><td>0</td><td>0</td><td>0</td><td>0</td><td>0</td><td>1</td><td>0</td><td>0</td><td>1</td></tr>\n",
              "\t<tr><th scope=row>84</th><td>D</td><td>29.928115</td><td> TRUE</td><td>E3</td><td>0</td><td>0</td><td>0</td><td>0</td><td>0</td><td>0</td><td>1</td><td>0</td><td>0</td><td>1</td></tr>\n",
              "\t<tr><th scope=row>91</th><td>D</td><td> 8.985922</td><td>FALSE</td><td>E3</td><td>0</td><td>0</td><td>0</td><td>0</td><td>0</td><td>0</td><td>1</td><td>0</td><td>0</td><td>1</td></tr>\n",
              "\t<tr><th scope=row>98</th><td>D</td><td>20.431146</td><td> TRUE</td><td>E3</td><td>0</td><td>0</td><td>0</td><td>0</td><td>0</td><td>0</td><td>1</td><td>0</td><td>0</td><td>1</td></tr>\n",
              "</tbody>\n",
              "</table>\n"
            ],
            "text/markdown": "\nA data.frame: 5 × 14\n\n| <!--/--> | Dia_semana &lt;chr&gt; | Temperatura &lt;dbl&gt; | Llueve &lt;lgl&gt; | Estacion &lt;chr&gt; | Dia.L &lt;fct&gt; | Dia.M &lt;fct&gt; | Dia.W &lt;fct&gt; | Dia.J &lt;fct&gt; | Dia.V &lt;fct&gt; | Dia.S &lt;fct&gt; | Dia.D &lt;fct&gt; | Est.1 &lt;fct&gt; | Est.2 &lt;fct&gt; | Est.3 &lt;fct&gt; |\n|---|---|---|---|---|---|---|---|---|---|---|---|---|---|---|\n| 70 | D | 24.772045 |  TRUE | E3 | 0 | 0 | 0 | 0 | 0 | 0 | 1 | 0 | 0 | 1 |\n| 77 | D |  4.811036 | FALSE | E3 | 0 | 0 | 0 | 0 | 0 | 0 | 1 | 0 | 0 | 1 |\n| 84 | D | 29.928115 |  TRUE | E3 | 0 | 0 | 0 | 0 | 0 | 0 | 1 | 0 | 0 | 1 |\n| 91 | D |  8.985922 | FALSE | E3 | 0 | 0 | 0 | 0 | 0 | 0 | 1 | 0 | 0 | 1 |\n| 98 | D | 20.431146 |  TRUE | E3 | 0 | 0 | 0 | 0 | 0 | 0 | 1 | 0 | 0 | 1 |\n\n",
            "text/latex": "A data.frame: 5 × 14\n\\begin{tabular}{r|llllllllllllll}\n  & Dia\\_semana & Temperatura & Llueve & Estacion & Dia.L & Dia.M & Dia.W & Dia.J & Dia.V & Dia.S & Dia.D & Est.1 & Est.2 & Est.3\\\\\n  & <chr> & <dbl> & <lgl> & <chr> & <fct> & <fct> & <fct> & <fct> & <fct> & <fct> & <fct> & <fct> & <fct> & <fct>\\\\\n\\hline\n\t70 & D & 24.772045 &  TRUE & E3 & 0 & 0 & 0 & 0 & 0 & 0 & 1 & 0 & 0 & 1\\\\\n\t77 & D &  4.811036 & FALSE & E3 & 0 & 0 & 0 & 0 & 0 & 0 & 1 & 0 & 0 & 1\\\\\n\t84 & D & 29.928115 &  TRUE & E3 & 0 & 0 & 0 & 0 & 0 & 0 & 1 & 0 & 0 & 1\\\\\n\t91 & D &  8.985922 & FALSE & E3 & 0 & 0 & 0 & 0 & 0 & 0 & 1 & 0 & 0 & 1\\\\\n\t98 & D & 20.431146 &  TRUE & E3 & 0 & 0 & 0 & 0 & 0 & 0 & 1 & 0 & 0 & 1\\\\\n\\end{tabular}\n",
            "text/plain": [
              "   Dia_semana Temperatura Llueve Estacion Dia.L Dia.M Dia.W Dia.J Dia.V Dia.S\n",
              "70 D          24.772045    TRUE  E3       0     0     0     0     0     0    \n",
              "77 D           4.811036   FALSE  E3       0     0     0     0     0     0    \n",
              "84 D          29.928115    TRUE  E3       0     0     0     0     0     0    \n",
              "91 D           8.985922   FALSE  E3       0     0     0     0     0     0    \n",
              "98 D          20.431146    TRUE  E3       0     0     0     0     0     0    \n",
              "   Dia.D Est.1 Est.2 Est.3\n",
              "70 1     0     0     1    \n",
              "77 1     0     0     1    \n",
              "84 1     0     0     1    \n",
              "91 1     0     0     1    \n",
              "98 1     0     0     1    "
            ]
          },
          "metadata": {}
        }
      ]
    },
    {
      "cell_type": "code",
      "metadata": {
        "trusted": true,
        "id": "nuW7ux65m5aL",
        "colab": {
          "base_uri": "https://localhost:8080/",
          "height": 34
        },
        "outputId": "83484cd5-4b73-4425-9324-cccfa7edb15a"
      },
      "source": [
        "dim(precipitaciones)"
      ],
      "execution_count": 74,
      "outputs": [
        {
          "output_type": "display_data",
          "data": {
            "text/html": [
              "<style>\n",
              ".list-inline {list-style: none; margin:0; padding: 0}\n",
              ".list-inline>li {display: inline-block}\n",
              ".list-inline>li:not(:last-child)::after {content: \"\\00b7\"; padding: 0 .5ex}\n",
              "</style>\n",
              "<ol class=list-inline><li>95</li><li>14</li></ol>\n"
            ],
            "text/markdown": "1. 95\n2. 14\n\n\n",
            "text/latex": "\\begin{enumerate*}\n\\item 95\n\\item 14\n\\end{enumerate*}\n",
            "text/plain": [
              "[1] 95 14"
            ]
          },
          "metadata": {}
        }
      ]
    },
    {
      "cell_type": "markdown",
      "metadata": {
        "id": "5fmGF0Qam5aN"
      },
      "source": [
        "## 5.4 Cómo guardar ambiente de trabajo o variables definidas en el\n",
        "\n",
        "### Directorio de trabajo\n",
        "\n",
        "El directorio de trabajo corresponde a la ubicación en el sistema de archivos, desde donde la sesión de R podrá acceder directamente para guardar o cargar datos.\n"
      ]
    },
    {
      "cell_type": "code",
      "metadata": {
        "trusted": true,
        "id": "OfyO5MKOm5aO"
      },
      "source": [
        "# para saber en qué directorio se está trabajando\n"
      ],
      "execution_count": null,
      "outputs": []
    },
    {
      "cell_type": "code",
      "metadata": {
        "trusted": true,
        "id": "fHZIjYhRm5aQ"
      },
      "source": [
        "# para cambiar el directorio de trabajo\n",
        "\n"
      ],
      "execution_count": null,
      "outputs": []
    },
    {
      "cell_type": "markdown",
      "metadata": {
        "id": "_M-D6sgRm5aU"
      },
      "source": [
        "### Formato rds \n",
        "\n",
        "Una manera de guardar variables creadas en el ambiente de la sessión de R, es mediante la utilización del formato *.rds. Este formato permite guardar los objetos declarados y leerlos rápidamente en cualquier otra sesión que se inicie posteriormente. Es últil por ejemplo para guardar en disco modelos entrenados para ser utilizados para predicciones futuras.\n"
      ]
    },
    {
      "cell_type": "code",
      "metadata": {
        "trusted": true,
        "id": "11jJ5B50m5aV"
      },
      "source": [
        "# Función saveRDS() # Guardar\n",
        "# guarde en el directorio actual el dataframe _precipitaciones_\n"
      ],
      "execution_count": null,
      "outputs": []
    },
    {
      "cell_type": "code",
      "metadata": {
        "trusted": true,
        "id": "DixES_Kjm5ah"
      },
      "source": [
        "# readRDS()  Leer, pero ojo que es necesario asignar  a una variable\n"
      ],
      "execution_count": null,
      "outputs": []
    },
    {
      "cell_type": "markdown",
      "metadata": {
        "id": "_4pmC4cBm5as"
      },
      "source": [
        "### Formato RData\n",
        "\n",
        "Cuando se quiere guardar el ambiente de trabajo completo, o bien un mayor número de objetos ya creados, se puede utilizar la función _save_\n"
      ]
    },
    {
      "cell_type": "code",
      "metadata": {
        "trusted": true,
        "id": "M5yFyJ27m5at"
      },
      "source": [
        "# Función save para guardar uno o más objetos del ambiente.\n",
        "\n"
      ],
      "execution_count": null,
      "outputs": []
    },
    {
      "cell_type": "code",
      "metadata": {
        "trusted": true,
        "id": "YDmd1Npmm5ay"
      },
      "source": [
        "# Eventualmente podemos \"cargar \" a sesión, con la función load()\n"
      ],
      "execution_count": null,
      "outputs": []
    }
  ]
}
{
  "nbformat": 4,
  "nbformat_minor": 0,
  "metadata": {
    "colab": {
      "name": "Control_1_v10.ipynb",
      "provenance": [],
      "collapsed_sections": [],
      "include_colab_link": true
    },
    "kernelspec": {
      "name": "ir",
      "display_name": "R"
    }
  },
  "cells": [
    {
      "cell_type": "markdown",
      "metadata": {
        "id": "view-in-github",
        "colab_type": "text"
      },
      "source": [
        "<a href=\"https://colab.research.google.com/github/HaroldConley/diplomado_BD/blob/main/Evaluaciones/C1/Control_1_v10.ipynb\" target=\"_parent\"><img src=\"https://colab.research.google.com/assets/colab-badge.svg\" alt=\"Open In Colab\"/></a>"
      ]
    },
    {
      "cell_type": "markdown",
      "metadata": {
        "id": "SvIjRoDOw-lT"
      },
      "source": [
        "# Control 1: Sintaxis básica y manipulación de objetos simples en R\n"
      ]
    },
    {
      "cell_type": "markdown",
      "metadata": {
        "trusted": true,
        "id": "wGflY0eCw-lT"
      },
      "source": [
        "Nombre 1: Harold Conley M.                                                                                                                                 <br> \n",
        "Nombre 2: _Puede incluir su nombre acá haciendo doble click_   \n",
        "\n",
        "# Instrucciones\n",
        "\n",
        "El siguiente test podrá desarrollarlo de manera individual o en pareja con otro(a) de sus compañeros(as).<br>\n",
        "\n",
        "Lea atentamente cada una de las preguntas propuestas y sea claro en los comentarios (si es que los incluye) de los desarrollos de sus respuestas. Para el desarrollo de las mismas, dispone de celdas de código después de cada pregunta. Sin embargo podrá agregar más celdas si así lo estima conveniente.<br>\n",
        "Las preguntas formuladas en este test pueden ser abordadas con las herramientas trabajadas en clases, sin embaro, usted podrá hacer uso de las funcionalidades y/o packages que estime convenientes, a menos que se indique explícitamente lo contrario.\n",
        "\n",
        "## Tiempo y entrega\n",
        "Dispondrán hasta el día lunes **15 de julio** hasta las 23:59 hrs para hacer envío de sus respuestas.\n",
        "Una vez finalizado el desarrollo del test, deberá entregarlo teniendo en cuenta las siguientes consideraciones :\n",
        "\n",
        " * Descargue el notebook en **formato `*.ipynb`** (uno por pareja), e indique en el nombre del archivo los nombres de los integrantes, `Control1_nombres_integrantes.ipynb`. \n",
        " \n",
        " * En caso de trabajar en Rstudio, deberá enviar el script de extensión `*.R` con el siguiente nombre: `Control1_nombres_integrantes.R` , **procurando indicar con comentarios claros, qué pregunta está respondiendo en cada caso**.\n",
        " * Envíe el archivo al correo rumorale1@gmail.com, con copia a majorquev@gmail.com con el asunto \"DBDC-R-C1: 'nombre y apellido de los integrantes' \"\n",
        " \n",
        "**NOTA**: \n",
        "   * Los correos cuyo asunto no comiencen con \"DBDC-R-C1\" no llegarán a destino y por ende no serán calificados.\n",
        "   * Los archivos que no contengan nombre serán calificados con la nota mínima 1.0.\n",
        "   * Los correos enviados posterior a la fecha y hora de entrega indicados tendrán una penalización de 1 punto por día (o fracción) de retraso en la entrega, por ejemplo, si usted envía sus respuestas a las 00:05 hrs del domingo 16 de julio, su nota máxima será un 6.0."
      ]
    },
    {
      "cell_type": "markdown",
      "metadata": {
        "id": "CRurl8ANw-lU"
      },
      "source": [
        "# Sección 1\n",
        "\n",
        "La siguiente línea de código permite cargar en memoria, un objeto de extensión *.rds que está almacenado en el disco de la máquina en la ruta actual de trabajo.\n",
        "\n",
        "Este archivo contiene la información de los contagios por COVID-19 en nuestsro país, según las cifras oficiales entregadas por el ministerio de salud para lo que del año 2022 hasta el 22 de abril. En el archivo encontrará, para cada mes, el total de casos diarios desglosados según:\n",
        "   * 'casos_nuevos_con_sintomas': casos nuevos con síntomas del día.\n",
        "   * 'casos_totales' : casos acumulados a la fecha.\n",
        "   * 'casos_recuperados': casos recuperados acumulados a la fecha.\n",
        "   * 'fallecidos': casos fallecidos acumulados.\n",
        "   * 'casos_activos': casos activos a la fecha.\n",
        "   * 'casos_nuevos_sin_sintomas': casos asintomáticos del día.\n",
        "   * 'casos_nuevos_totales': suma de  casos asintomáticos más casos con síntomas del día, más casos nuevos sin notificar.\n",
        " \n",
        " Si bien no será utilizados en este trabajo, también econtrán nuevos registros de acuerdo a los últimos cambios en la metodología de conteo. Para más info pueden referirse al siguiente link:\n",
        " https://github.com/MinCiencia/Datos-COVID19/tree/master/output/producto5\n",
        " \n",
        "   * 'casos_activos_por_fd'\n",
        "   * 'casos_activos_por_fis'\n",
        "   * 'casos_recuperados_por_fis'\n",
        "   * 'casos_recuperados_por_fd' \n",
        "   * 'casos_confirmados_recuperados'\n",
        "   * 'casos_activos_confirmados'\n",
        "   * 'casos_probables_acumulados'\n",
        "   * 'casos_activos_probables'\n",
        "\n"
      ]
    },
    {
      "cell_type": "code",
      "source": [
        "getwd()\n",
        "library(\"dplyr\")"
      ],
      "metadata": {
        "colab": {
          "base_uri": "https://localhost:8080/",
          "height": 277
        },
        "id": "YgXBZ4zMYvXD",
        "outputId": "d8306ea5-0046-4086-d475-2aeaabac8875"
      },
      "execution_count": 7,
      "outputs": [
        {
          "output_type": "display_data",
          "data": {
            "text/html": [
              "'/content'"
            ],
            "text/markdown": "'/content'",
            "text/latex": "'/content'",
            "text/plain": [
              "[1] \"/content\""
            ]
          },
          "metadata": {}
        },
        {
          "output_type": "stream",
          "name": "stderr",
          "text": [
            "\n",
            "Attaching package: ‘dplyr’\n",
            "\n",
            "\n",
            "The following objects are masked from ‘package:stats’:\n",
            "\n",
            "    filter, lag\n",
            "\n",
            "\n",
            "The following objects are masked from ‘package:base’:\n",
            "\n",
            "    intersect, setdiff, setequal, union\n",
            "\n",
            "\n"
          ]
        }
      ]
    },
    {
      "cell_type": "code",
      "metadata": {
        "trusted": true,
        "id": "UejLBfGIw-lV"
      },
      "source": [
        "# Carga de casos\n",
        "casos <- readRDS(\"covid_2022.rds\") # Recuerde que el archivo de estar en su directorio de trabajo"
      ],
      "execution_count": 25,
      "outputs": []
    },
    {
      "cell_type": "markdown",
      "metadata": {
        "id": "ftnV7vyIw-lY"
      },
      "source": [
        "## Pregunta 1.1\n",
        "\n",
        "**1a) (1pt)** ¿Qué clase de objetos es `casos`? <br>\n",
        "**1b) (1pt)** ¿Cuántos elementos posee este objeto?<br>\n",
        "**1c) (1pt)** ¿Cuáles son los nombres de este objeto?<br>\n",
        "**1d) (2pt)** ¿Qué clase de objeto está almacenado en sl _slot_ correspondiente al mes de marzo (\"mar\") y cuántos elementos posee?<br>\n",
        "**1e) (2pt)** Para el mes de marzo, ¿a qué clase de objeto corresponde `casos_totales` y cuántos elementos posee?\n",
        "\n",
        "\n"
      ]
    },
    {
      "cell_type": "code",
      "metadata": {
        "trusted": true,
        "scrolled": false,
        "id": "F73UhWWow-lY",
        "colab": {
          "base_uri": "https://localhost:8080/",
          "height": 139
        },
        "outputId": "2cb56b6a-b46d-40bd-bdda-e63569df55bb"
      },
      "source": [
        "# P1.1\n",
        "## Respuesta\n",
        "\n",
        "### 1a)\n",
        "casos %>% class() ## Clase \"list\"\n",
        "\n",
        "### 1b)\n",
        "casos %>% length() ## Son 4 elementos\n",
        "\n",
        "### 1c)\n",
        "casos %>% names() ## 'ene', 'feb', 'mar', 'abr'\n",
        "\n",
        "### 1d)\n",
        "casos$mar %>% class() ## 'list'\n",
        "casos$mar %>% length() ## 21 elementos\n",
        "\n",
        "### 1e)\n",
        "casos$mar$casos_totales %>% class() ## 'data.frame'\n",
        "casos$mar$casos_totales %>% length() ## 2 elementos"
      ],
      "execution_count": 24,
      "outputs": [
        {
          "output_type": "display_data",
          "data": {
            "text/html": [
              "'list'"
            ],
            "text/markdown": "'list'",
            "text/latex": "'list'",
            "text/plain": [
              "[1] \"list\""
            ]
          },
          "metadata": {}
        },
        {
          "output_type": "display_data",
          "data": {
            "text/html": [
              "4"
            ],
            "text/markdown": "4",
            "text/latex": "4",
            "text/plain": [
              "[1] 4"
            ]
          },
          "metadata": {}
        },
        {
          "output_type": "display_data",
          "data": {
            "text/html": [
              "<style>\n",
              ".list-inline {list-style: none; margin:0; padding: 0}\n",
              ".list-inline>li {display: inline-block}\n",
              ".list-inline>li:not(:last-child)::after {content: \"\\00b7\"; padding: 0 .5ex}\n",
              "</style>\n",
              "<ol class=list-inline><li>'ene'</li><li>'feb'</li><li>'mar'</li><li>'abr'</li></ol>\n"
            ],
            "text/markdown": "1. 'ene'\n2. 'feb'\n3. 'mar'\n4. 'abr'\n\n\n",
            "text/latex": "\\begin{enumerate*}\n\\item 'ene'\n\\item 'feb'\n\\item 'mar'\n\\item 'abr'\n\\end{enumerate*}\n",
            "text/plain": [
              "[1] \"ene\" \"feb\" \"mar\" \"abr\""
            ]
          },
          "metadata": {}
        },
        {
          "output_type": "display_data",
          "data": {
            "text/html": [
              "'list'"
            ],
            "text/markdown": "'list'",
            "text/latex": "'list'",
            "text/plain": [
              "[1] \"list\""
            ]
          },
          "metadata": {}
        },
        {
          "output_type": "display_data",
          "data": {
            "text/html": [
              "21"
            ],
            "text/markdown": "21",
            "text/latex": "21",
            "text/plain": [
              "[1] 21"
            ]
          },
          "metadata": {}
        },
        {
          "output_type": "display_data",
          "data": {
            "text/html": [
              "'data.frame'"
            ],
            "text/markdown": "'data.frame'",
            "text/latex": "'data.frame'",
            "text/plain": [
              "[1] \"data.frame\""
            ]
          },
          "metadata": {}
        },
        {
          "output_type": "display_data",
          "data": {
            "text/html": [
              "2"
            ],
            "text/markdown": "2",
            "text/latex": "2",
            "text/plain": [
              "[1] 2"
            ]
          },
          "metadata": {}
        }
      ]
    },
    {
      "cell_type": "markdown",
      "metadata": {
        "id": "y-VJ9lcnw-lb"
      },
      "source": [
        "## Pregunta 1.2\n",
        "\n",
        "**2a) (2pts)** ¿Cuántos casos activos existían al 25 de marzo? (indique claramente la expresión de R para obtener el valor solicitado) .<br>\n",
        "**2b) (1pts)** Genere cuatro nuevas variables llamadas `totales_enero`,`totales_febrero` , `totales_marzo` y `totales_abril`, que contengan los dataframes correspondientes al slot `casos_totales` del mes respectivo, (por ejemplo, la variable `totales_marzo` debe contener una dataframe de dimensión $31\\times2$.<br>\n",
        "**2c) (2pts)** Para cada dataframe del paso anterior, genere una nueva columna llamada `mes`, que repita el nombre del mes correspondiente por cada fila.<br>\n",
        "**2d) (3pts)** En cada data.frame, agregue una nueva columna llamada `casos_diarios` que contenga la información correspontiende al total de casos nuevos diarios(`casos_nuevos_totales`).\n",
        "**NOTA:** Note que el orden de los registros está dado por dia_del_mes por lo que no debe preocuparse de reordnar, sólo agregue el vector tal cual está.\n"
      ]
    },
    {
      "cell_type": "code",
      "metadata": {
        "trusted": true,
        "id": "tF3DCzGew-lc",
        "colab": {
          "base_uri": "https://localhost:8080/",
          "height": 34
        },
        "outputId": "594b4c16-dd34-4515-aaf1-432e311b580c"
      },
      "source": [
        "# P1.2\n",
        "## Respuesta \n",
        "\n",
        "### 2a)\n",
        "casos$mar$casos_activos[casos$mar$casos_activos$dia_del_mes == 25,]$total ## 35824 casos\n",
        "\n",
        "### 2b)\n",
        "totales_enero <- casos$ene$casos_totales\n",
        "totales_febrero <- casos$feb$casos_totales\n",
        "totales_marzo <- casos$mar$casos_totales\n",
        "totales_abril <- casos$abr$casos_totales\n",
        "\n",
        "### 2c)\n",
        "totales_enero['mes'] <- 'Enero'\n",
        "totales_febrero['mes'] <- 'Febrero'\n",
        "totales_marzo['mes'] <- 'Marzo'\n",
        "totales_abril['mes'] <- 'Abril'\n",
        "\n",
        "### 2d)\n",
        "totales_enero['casos_diarios'] <- casos$ene$casos_nuevos_totales$total\n",
        "totales_febrero['casos_diarios'] <- casos$feb$casos_nuevos_totales$total\n",
        "totales_marzo['casos_diarios'] <- casos$mar$casos_nuevos_totales$total\n",
        "totales_abril['casos_diarios'] <- casos$abr$casos_nuevos_totales$total\n"
      ],
      "execution_count": 65,
      "outputs": [
        {
          "output_type": "display_data",
          "data": {
            "text/html": [
              "35824"
            ],
            "text/markdown": "35824",
            "text/latex": "35824",
            "text/plain": [
              "[1] 35824"
            ]
          },
          "metadata": {}
        }
      ]
    },
    {
      "cell_type": "markdown",
      "metadata": {
        "id": "PImL58HIw-le"
      },
      "source": [
        "## Pregunta 1.3\n",
        "\n",
        "**3a) (1pts)** Con la ayuda de la función rbind() (también puede usar bind_rows()) , una las filas de las 4 tablas generadas en la pregunta anterior y guarde la tabla resultante en una variable llamada `casos_hist`.<br>\n",
        "**3b) (1pt)** En promedio, ¿Cuántos casos hay diariamente desde el 01 de enero hasta el 22 de abril del 2022?<br>\n",
        "**3c) (2pts)** En promedio, ¿Cuántos casos hay diariamente **en cada mes** ?.<br>\n",
        "\n",
        "\n"
      ]
    },
    {
      "cell_type": "code",
      "metadata": {
        "trusted": true,
        "id": "TnNTW_oUw-le",
        "colab": {
          "base_uri": "https://localhost:8080/",
          "height": 104
        },
        "outputId": "c13a5cba-c6a8-4417-8a91-5e8db8883650"
      },
      "source": [
        "# P1.3\n",
        "## Respuesta \n",
        "\n",
        "### 3a)\n",
        "casos_hist <- totales_enero %>%\n",
        "                rbind(totales_febrero) %>%\n",
        "                rbind(totales_marzo) %>%\n",
        "                rbind(totales_abril)\n",
        "\n",
        "### 3b)\n",
        "casos_hist$casos_diarios %>% mean() ## 14537.2589285714\n",
        "\n",
        "### 3c)\n",
        "casos_hist$casos_diarios[casos_hist$mes == 'Enero'] %>% mean()    ## Enero: 10767.4838709677\n",
        "casos_hist$casos_diarios[casos_hist$mes == 'Febrero'] %>% mean()  ## Febrero: 30089.2142857143\n",
        "casos_hist$casos_diarios[casos_hist$mes == 'Marzo'] %>% mean()    ## Marzo: 12513.1290322581\n",
        "casos_hist$casos_diarios[casos_hist$mes == 'Abril'] %>% mean()    ## Abril: 2908\n"
      ],
      "execution_count": 91,
      "outputs": [
        {
          "output_type": "display_data",
          "data": {
            "text/html": [
              "14537.2589285714"
            ],
            "text/markdown": "14537.2589285714",
            "text/latex": "14537.2589285714",
            "text/plain": [
              "[1] 14537.26"
            ]
          },
          "metadata": {}
        },
        {
          "output_type": "display_data",
          "data": {
            "text/html": [
              "10767.4838709677"
            ],
            "text/markdown": "10767.4838709677",
            "text/latex": "10767.4838709677",
            "text/plain": [
              "[1] 10767.48"
            ]
          },
          "metadata": {}
        },
        {
          "output_type": "display_data",
          "data": {
            "text/html": [
              "30089.2142857143"
            ],
            "text/markdown": "30089.2142857143",
            "text/latex": "30089.2142857143",
            "text/plain": [
              "[1] 30089.21"
            ]
          },
          "metadata": {}
        },
        {
          "output_type": "display_data",
          "data": {
            "text/html": [
              "12513.1290322581"
            ],
            "text/markdown": "12513.1290322581",
            "text/latex": "12513.1290322581",
            "text/plain": [
              "[1] 12513.13"
            ]
          },
          "metadata": {}
        },
        {
          "output_type": "display_data",
          "data": {
            "text/html": [
              "2908"
            ],
            "text/markdown": "2908",
            "text/latex": "2908",
            "text/plain": [
              "[1] 2908"
            ]
          },
          "metadata": {}
        }
      ]
    },
    {
      "cell_type": "markdown",
      "metadata": {
        "id": "NE8I2vkrw-lg"
      },
      "source": [
        "# Sección 2\n",
        "\n",
        "La siguiente celda de código permitirá cargar en su sesión de trabajo los siguientes vectores:\n",
        "* `temp_h`: Contiene el registro de la temperatura para una muestra de 650 hombres escogidos al azar.\n",
        "* `temp_m`: Contiene el registro de la temperatura para una muestra de 580 mujeres escogidas al azar.\n",
        "\n",
        "\n",
        "En ambos vectores, **los identificadores (id) de cada persona están contenidos en el atributo `names()`** del vector respectivo."
      ]
    },
    {
      "cell_type": "code",
      "source": [
        "temp_h <- readRDS(\"temp_h.rds\")\n",
        "temp_m <- readRDS(\"temp_m.rds\")"
      ],
      "metadata": {
        "id": "onm7yFgS4Wct"
      },
      "execution_count": 107,
      "outputs": []
    },
    {
      "cell_type": "markdown",
      "metadata": {
        "id": "VsA3r8thw-lj"
      },
      "source": [
        "##  Pregunta 2.1\n",
        "\n",
        "**P1) (4pts)** A partir de los dos vectores cargados `temp_h` y `temp_m` ustred deberá crear un data.frame llamado **`casos`** con tres columnas y un total de 1230 filas. Las columnas deben ser las siguientes; una con el id del registro, otra con el género y otra con la temperatura registrada. A modo de ejemplo, a continuación se muestra como debería quedar el data.frame:\n",
        "\n",
        "\n",
        "|id | genero | temperatura|\n",
        "|---|---|---|\n",
        "| h_162 | hombre | 36.8 |\n",
        "| h_140 | hombre | 38.7 |\n",
        "| h_13  | hombre | 36.1 |\n",
        "| $\\vdots$| $\\vdots$ | $\\vdots$|\n",
        "| m_16  | mujer | 39.1 |\n",
        "| m_502 | mujer | 40.1 |\n",
        "| m_189 | mujer | 36.8 |"
      ]
    },
    {
      "cell_type": "code",
      "metadata": {
        "trusted": true,
        "id": "61hbP6XZw-lk",
        "colab": {
          "base_uri": "https://localhost:8080/",
          "height": 1000
        },
        "outputId": "66b63b34-0134-463a-aa2b-8f5d5bd28394"
      },
      "source": [
        "# P2.1. ---------------------------------------------------------------------\n",
        "## Respuesta:\n",
        "temp_h_df <- data.frame  ## Generar DataFrame de temp_h y temp_m, para luego agregarle la columna 'genero' y luego juntarlos en un solo DF con rbind\n"
      ],
      "execution_count": 108,
      "outputs": [
        {
          "output_type": "display_data",
          "data": {
            "text/html": [
              "<style>\n",
              ".dl-inline {width: auto; margin:0; padding: 0}\n",
              ".dl-inline>dt, .dl-inline>dd {float: none; width: auto; display: inline-block}\n",
              ".dl-inline>dt::after {content: \":\\0020\"; padding-right: .5ex}\n",
              ".dl-inline>dt:not(:first-of-type) {padding-left: .5ex}\n",
              "</style><dl class=dl-inline><dt>h_377</dt><dd>39.3261856398823</dd><dt>h_28</dt><dd>36.5284881487668</dd><dt>h_20</dt><dd>36.9769929062417</dd><dt>h_491</dt><dd>39.2649108062924</dd><dt>h_403</dt><dd>36.1978185242149</dd><dt>h_128</dt><dd>36.4780903044907</dd><dt>h_600</dt><dd>35.8507743249845</dd><dt>h_402</dt><dd>35.7705857713827</dd><dt>h_64</dt><dd>38.3902654822869</dd><dt>h_473</dt><dd>36.9403065507948</dd><dt>h_633</dt><dd>36.2956547997864</dd><dt>h_540</dt><dd>38.1863291834172</dd><dt>h_429</dt><dd>36.0586774508733</dd><dt>h_253</dt><dd>38.0618748108686</dd><dt>h_75</dt><dd>36.9533315587286</dd><dt>h_514</dt><dd>38.5237840106745</dd><dt>h_231</dt><dd>35.7427743412609</dd><dt>h_16</dt><dd>41.0693571488893</dd><dt>h_84</dt><dd>38.6283923131544</dd><dt>h_348</dt><dd>35.8239317767249</dd><dt>h_338</dt><dd>35.6552009818306</dd><dt>h_60</dt><dd>37.7945036998908</dd><dt>h_415</dt><dd>38.0058568718699</dd><dt>h_344</dt><dd>36.7171066571793</dd><dt>h_115</dt><dd>35.705262101478</dd><dt>h_355</dt><dd>35.6472015848445</dd><dt>h_523</dt><dd>36.3953438693458</dd><dt>h_189</dt><dd>37.4550593427383</dd><dt>h_143</dt><dd>37.6495002902696</dd><dt>h_468</dt><dd>36.8973959930866</dd><dt>h_370</dt><dd>38.0200678461445</dd><dt>h_142</dt><dd>37.8649791382226</dd><dt>h_611</dt><dd>38.8691351866014</dd><dt>h_626</dt><dd>36.0641806877911</dd><dt>h_585</dt><dd>35.8617186305868</dd><dt>h_78</dt><dd>37.7645140406379</dd><dt>h_65</dt><dd>36.428466920244</dd><dt>h_226</dt><dd>37.6685359760278</dd><dt>h_537</dt><dd>36.6998022307605</dd><dt>h_285</dt><dd>37.0061196515501</dd><dt>h_194</dt><dd>38.2590859066743</dd><dt>h_177</dt><dd>36.1953145745566</dd><dt>h_54</dt><dd>37.8037122260058</dd><dt>h_609</dt><dd>37.8729619251877</dd><dt>h_580</dt><dd>39.1834562998314</dd><dt>h_239</dt><dd>36.9127280228984</dd><dt>h_157</dt><dd>35.6739644300943</dd><dt>h_181</dt><dd>36.4561089401725</dd><dt>h_155</dt><dd>38.7668806461944</dd><dt>h_472</dt><dd>38.3108568908076</dd><dt>h_590</dt><dd>36.6887903348231</dd><dt>h_110</dt><dd>38.7158017136036</dd><dt>h_327</dt><dd>39.7695828495354</dd><dt>h_68</dt><dd>37.0648508262576</dd><dt>h_485</dt><dd>36.8546609266746</dd><dt>h_107</dt><dd>37.5243165176178</dd><dt>h_643</dt><dd>37.1705255290042</dd><dt>h_583</dt><dd>40.2786871994227</dd><dt>h_73</dt><dd>37.4837430369403</dd><dt>h_387</dt><dd>40.7140329995999</dd><dt>h_390</dt><dd>37.5095055305573</dd><dt>h_565</dt><dd>38.1822420610674</dd><dt>h_86</dt><dd>36.026798538299</dd><dt>h_329</dt><dd>38.4269294724958</dd><dt>h_587</dt><dd>36.3618647090641</dd><dt>h_333</dt><dd>37.5356697309627</dd><dt>h_425</dt><dd>36.0061779016478</dd><dt>h_198</dt><dd>36.0865528591804</dd><dt>h_140</dt><dd>36.2122456827911</dd><dt>h_15</dt><dd>38.2853015534287</dd><dt>h_267</dt><dd>36.4729278650204</dd><dt>h_564</dt><dd>37.3019008225915</dd><dt>h_172</dt><dd>36.7720828671413</dd><dt>h_42</dt><dd>36.747019723628</dd><dt>h_570</dt><dd>35.617545216562</dd><dt>h_98</dt><dd>35.6976194732201</dd><dt>h_319</dt><dd>36.5462699040444</dd><dt>h_330</dt><dd>35.7022398781462</dd><dt>h_275</dt><dd>38.0308218987243</dd><dt>h_29</dt><dd>36.3792166191721</dd><dt>h_242</dt><dd>36.9801872068807</dd><dt>h_192</dt><dd>38.7175533943257</dd><dt>h_245</dt><dd>36.5455351027856</dd><dt>h_243</dt><dd>39.4788957542284</dd><dt>h_478</dt><dd>36.4473857824194</dd><dt>h_606</dt><dd>36.1130622701337</dd><dt>h_18</dt><dd>36.267332240038</dd><dt>h_184</dt><dd>36.2717511414542</dd><dt>h_574</dt><dd>41.1194888525088</dd><dt>h_101</dt><dd>35.6600755700181</dd><dt>h_347</dt><dd>37.1290066909093</dd><dt>h_589</dt><dd>36.3952083711866</dd><dt>h_320</dt><dd>37.8116883380886</dd><dt>h_605</dt><dd>36.9980473878261</dd><dt>h_522</dt><dd>37.6553647838759</dd><dt>h_305</dt><dd>38.3124845248766</dd><dt>h_89</dt><dd>36.2180578569742</dd><dt>h_121</dt><dd>37.086689153857</dd><dt>h_366</dt><dd>35.7943431805911</dd><dt>h_321</dt><dd>38.8543185309237</dd><dt>h_235</dt><dd>38.1302553810295</dd><dt>h_423</dt><dd>36.5286746602043</dd><dt>h_223</dt><dd>35.8054096354457</dd><dt>h_362</dt><dd>38.9020672432642</dd><dt>h_50</dt><dd>36.3624670531852</dd><dt>h_279</dt><dd>37.166061609795</dd><dt>h_336</dt><dd>36.8718046104303</dd><dt>h_337</dt><dd>40.9682252018891</dd><dt>h_17</dt><dd>40.7742130176009</dd><dt>h_509</dt><dd>38.7771963351209</dd><dt>h_195</dt><dd>36.8253598242028</dd><dt>h_381</dt><dd>36.1815387691542</dd><dt>h_346</dt><dd>37.0879104919382</dd><dt>h_215</dt><dd>37.5238313448452</dd><dt>h_416</dt><dd>38.7186212438198</dd><dt>h_218</dt><dd>39.3253468194287</dd><dt>h_141</dt><dd>36.0938655570166</dd><dt>h_618</dt><dd>36.0354937208856</dd><dt>h_112</dt><dd>37.742615829243</dd><dt>h_108</dt><dd>39.8399530457569</dd><dt>h_382</dt><dd>37.762595972236</dd><dt>h_153</dt><dd>36.7153483240253</dd><dt>h_548</dt><dd>37.2761757608422</dd><dt>h_199</dt><dd>36.7741016227846</dd><dt>h_594</dt><dd>37.9254457642678</dd><dt>h_200</dt><dd>39.736307933407</dd><dt>h_114</dt><dd>37.8614107247432</dd><dt>h_642</dt><dd>39.6714037394431</dd><dt>h_598</dt><dd>37.3832890592754</dd><dt>h_214</dt><dd>38.7752748969455</dd><dt>h_454</dt><dd>37.6466137036415</dd><dt>h_601</dt><dd>35.7953419826238</dd><dt>h_490</dt><dd>35.9088027858005</dd><dt>h_176</dt><dd>39.051383658713</dd><dt>h_367</dt><dd>36.3606167965535</dd><dt>h_586</dt><dd>39.1751865204758</dd><dt>h_422</dt><dd>37.6751587450816</dd><dt>h_538</dt><dd>36.7532174603483</dd><dt>h_498</dt><dd>36.7839866556172</dd><dt>h_291</dt><dd>38.6593506158535</dd><dt>h_397</dt><dd>37.7639908907604</dd><dt>h_326</dt><dd>36.380052318145</dd><dt>h_334</dt><dd>37.2260294097661</dd><dt>h_459</dt><dd>38.5494005210318</dd><dt>h_323</dt><dd>39.7593972002821</dd><dt>h_648</dt><dd>36.3481575839918</dd><dt>h_343</dt><dd>37.1092424879269</dd><dt>h_515</dt><dd>36.4199981699077</dd><dt>h_481</dt><dd>37.8020618564398</dd><dt>h_315</dt><dd>38.8922528153081</dd><dt>h_331</dt><dd>36.1216313156224</dd><dt>h_536</dt><dd>37.4584171405782</dd><dt>h_456</dt><dd>35.7367414896945</dd><dt>h_270</dt><dd>37.4324802160562</dd><dt>h_133</dt><dd>36.8896585289817</dd><dt>h_475</dt><dd>37.0285489226494</dd><dt>h_82</dt><dd>36.9616636290615</dd><dt>h_480</dt><dd>36.1895568242505</dd><dt>h_187</dt><dd>37.7027391987033</dd><dt>h_385</dt><dd>37.1349167942108</dd><dt>h_100</dt><dd>35.615617157428</dd><dt>h_171</dt><dd>37.0593824781764</dd><dt>h_445</dt><dd>37.7516421742454</dd><dt>h_33</dt><dd>38.308477156837</dd><dt>h_138</dt><dd>36.8607574982136</dd><dt>h_354</dt><dd>38.9649091180535</dd><dt>h_562</dt><dd>35.6645813119254</dd><dt>h_521</dt><dd>37.3051215243051</dd><dt>h_277</dt><dd>37.0646860772226</dd><dt>h_127</dt><dd>39.1720889076061</dd><dt>h_640</dt><dd>37.514674981066</dd><dt>h_318</dt><dd>37.4380075244698</dd><dt>h_146</dt><dd>35.7246251769938</dd><dt>h_224</dt><dd>36.2418421041875</dd><dt>h_61</dt><dd>39.2049723200372</dd><dt>h_63</dt><dd>35.6049048154396</dd><dt>h_444</dt><dd>39.0026715747006</dd><dt>h_578</dt><dd>36.6459975712412</dd><dt>h_262</dt><dd>39.1510423444934</dd><dt>h_295</dt><dd>38.4278170832861</dd><dt>h_358</dt><dd>38.231850779828</dd><dt>h_306</dt><dd>37.7151371268817</dd><dt>h_582</dt><dd>37.796591082579</dd><dt>h_450</dt><dd>37.9613482808181</dd><dt>h_55</dt><dd>36.2094623313492</dd><dt>h_458</dt><dd>37.8458473202673</dd><dt>h_283</dt><dd>38.3499136594908</dd><dt>h_313</dt><dd>36.2275409968398</dd><dt>h_303</dt><dd>39.4736726949496</dd><dt>h_364</dt><dd>39.32355461829</dd><dt>h_210</dt><dd>36.3358087307158</dd><dt>h_220</dt><dd>37.3667796127013</dd><dt>h_471</dt><dd>36.9247445708584</dd><dt>h_83</dt><dd>37.31414303689</dd><dt>h_531</dt><dd>37.6875732282506</dd><dt>h_638</dt><dd>38.4736874324652</dd><dt>h_225</dt><dd>35.9172451714912</dd><dt>h_439</dt><dd>40.2665844371352</dd><dt>h_248</dt><dd>39.7462065217973</dd><dt>h_34</dt><dd>38.8897280593536</dd><dt>h_376</dt><dd>⋯</dd><dt>h_602</dt><dd>39.5518226403718</dd><dt>h_405</dt><dd>37.4846033979324</dd><dt>h_149</dt><dd>39.1103148673657</dd><dt>h_351</dt><dd>40.952203097156</dd><dt>h_412</dt><dd>36.8709973435624</dd><dt>h_307</dt><dd>35.8879465704421</dd><dt>h_314</dt><dd>35.9580033001681</dd><dt>h_203</dt><dd>41.0810256561849</dd><dt>h_154</dt><dd>35.9002278812501</dd><dt>h_24</dt><dd>36.3708720321046</dd><dt>h_228</dt><dd>37.3369003686613</dd><dt>h_463</dt><dd>37.8518578290984</dd><dt>h_179</dt><dd>36.006303410048</dd><dt>h_85</dt><dd>37.8246976298177</dd><dt>h_527</dt><dd>35.9139421357679</dd><dt>h_255</dt><dd>37.5135814077182</dd><dt>h_131</dt><dd>36.3183134309205</dd><dt>h_388</dt><dd>36.7547768099636</dd><dt>h_91</dt><dd>36.5978108080494</dd><dt>h_517</dt><dd>39.3974646576222</dd><dt>h_457</dt><dd>35.6104156477599</dd><dt>h_159</dt><dd>37.1535702310605</dd><dt>h_411</dt><dd>35.9675528913522</dd><dt>h_126</dt><dd>36.5461885217581</dd><dt>h_529</dt><dd>37.1481407218296</dd><dt>h_549</dt><dd>36.3465453829006</dd><dt>h_588</dt><dd>37.0983710681578</dd><dt>h_604</dt><dd>36.992383285437</dd><dt>h_132</dt><dd>36.1380385814249</dd><dt>h_408</dt><dd>37.1560010284027</dd><dt>h_424</dt><dd>35.7150198549622</dd><dt>h_216</dt><dd>38.4239623058061</dd><dt>h_398</dt><dd>35.7120265707014</dd><dt>h_418</dt><dd>39.4699867774091</dd><dt>h_488</dt><dd>39.0729953985457</dd><dt>h_525</dt><dd>37.06079680968</dd><dt>h_166</dt><dd>39.5080624807457</dd><dt>h_10</dt><dd>35.7902283158299</dd><dt>h_500</dt><dd>41.4035363296144</dd><dt>h_259</dt><dd>37.8362008751992</dd><dt>h_5</dt><dd>37.966059029032</dd><dt>h_8</dt><dd>36.3084482641769</dd><dt>h_66</dt><dd>37.1730247688802</dd><dt>h_43</dt><dd>37.2329546611785</dd><dt>h_446</dt><dd>36.4745096845785</dd><dt>h_383</dt><dd>38.3184723513327</dd><dt>h_339</dt><dd>39.5690776099849</dd><dt>h_289</dt><dd>37.739113339194</dd><dt>h_67</dt><dd>37.1714248794476</dd><dt>h_316</dt><dd>36.5397542290688</dd><dt>h_244</dt><dd>37.0113138401162</dd><dt>h_610</dt><dd>40.5018310928265</dd><dt>h_147</dt><dd>37.0642403091785</dd><dt>h_26</dt><dd>36.0111445195909</dd><dt>h_443</dt><dd>36.6845019637732</dd><dt>h_174</dt><dd>38.297653037392</dd><dt>h_579</dt><dd>38.9257269613029</dd><dt>h_145</dt><dd>37.4122151677063</dd><dt>h_105</dt><dd>36.9298896170934</dd><dt>h_264</dt><dd>36.505869683291</dd><dt>h_603</dt><dd>36.4826959706037</dd><dt>h_232</dt><dd>39.1153298110184</dd><dt>h_111</dt><dd>39.1125670407834</dd><dt>h_6</dt><dd>40.1082453787134</dd><dt>h_241</dt><dd>38.6215257564176</dd><dt>h_512</dt><dd>36.4695217998707</dd><dt>h_372</dt><dd>36.8572777025973</dd><dt>h_118</dt><dd>37.6998797753741</dd><dt>h_72</dt><dd>37.220150636441</dd><dt>h_77</dt><dd>36.1277715953542</dd><dt>h_608</dt><dd>36.9152867055315</dd><dt>h_46</dt><dd>37.5850578904318</dd><dt>h_19</dt><dd>39.3377108327062</dd><dt>h_384</dt><dd>37.2193359593973</dd><dt>h_535</dt><dd>38.7173165377682</dd><dt>h_448</dt><dd>36.7252191814187</dd><dt>h_254</dt><dd>38.9630155722239</dd><dt>h_47</dt><dd>37.481710292099</dd><dt>h_414</dt><dd>38.2226083934682</dd><dt>h_553</dt><dd>38.0932175244696</dd><dt>h_455</dt><dd>36.4326526271024</dd><dt>h_297</dt><dd>37.4436261532967</dd><dt>h_621</dt><dd>35.8212791520412</dd><dt>h_497</dt><dd>35.9093925868383</dd><dt>h_496</dt><dd>41.4762669267795</dd><dt>h_461</dt><dd>37.4115484924802</dd><dt>h_300</dt><dd>38.2062115328588</dd><dt>h_477</dt><dd>38.3456956080104</dd><dt>h_406</dt><dd>39.1097571549145</dd><dt>h_69</dt><dd>37.4211637527751</dd><dt>h_566</dt><dd>36.6595297681057</dd><dt>h_44</dt><dd>35.6203879214218</dd><dt>h_96</dt><dd>35.8493142339225</dd><dt>h_395</dt><dd>37.4373607438293</dd><dt>h_508</dt><dd>40.9149871907068</dd><dt>h_32</dt><dd>40.4113417076652</dd><dt>h_288</dt><dd>39.3076583636292</dd><dt>h_201</dt><dd>36.2156685760253</dd><dt>h_274</dt><dd>36.5892671604654</dd><dt>h_639</dt><dd>39.0440555814751</dd><dt>h_284</dt><dd>35.6296941376547</dd><dt>h_278</dt><dd>36.8379504575766</dd><dt>h_222</dt><dd>38.0909794690919</dd><dt>h_251</dt><dd>36.1452628904807</dd><dt>h_613</dt><dd>35.6175888452843</dd><dt>h_209</dt><dd>39.233597705972</dd><dt>h_261</dt><dd>35.7580375952416</dd><dt>h_124</dt><dd>36.1847416793737</dd><dt>h_193</dt><dd>35.8399388370688</dd><dt>h_109</dt><dd>38.6236298523697</dd><dt>h_280</dt><dd>39.7136817125032</dd><dt>h_70</dt><dd>37.5061940204151</dd><dt>h_71</dt><dd>38.8505023243487</dd><dt>h_649</dt><dd>38.0616998164754</dd><dt>h_576</dt><dd>37.907456143532</dd><dt>h_158</dt><dd>43.2799056267366</dd><dt>h_430</dt><dd>36.4207070561888</dd><dt>h_139</dt><dd>38.9614613948341</dd><dt>h_22</dt><dd>37.1159159512695</dd><dt>h_616</dt><dd>38.4681134922094</dd><dt>h_361</dt><dd>36.1706778974973</dd><dt>h_161</dt><dd>37.2270339384324</dd><dt>h_542</dt><dd>37.6263158753503</dd><dt>h_48</dt><dd>36.1377631032349</dd><dt>h_9</dt><dd>37.0064661732836</dd><dt>h_206</dt><dd>36.8602092044358</dd><dt>h_615</dt><dd>36.7732000217734</dd><dt>h_511</dt><dd>36.8565591851827</dd><dt>h_380</dt><dd>36.6475737103955</dd><dt>h_3</dt><dd>36.8669172382598</dd><dt>h_197</dt><dd>37.8994397299394</dd><dt>h_213</dt><dd>36.0818144144129</dd><dt>h_559</dt><dd>37.9848223301317</dd><dt>h_250</dt><dd>37.1827823718531</dd><dt>h_7</dt><dd>37.1190482077993</dd><dt>h_205</dt><dd>37.8595826821947</dd><dt>h_287</dt><dd>37.2442693011854</dd><dt>h_635</dt><dd>41.2918139741569</dd><dt>h_462</dt><dd>35.9281405546847</dd><dt>h_637</dt><dd>37.3159975342726</dd><dt>h_12</dt><dd>36.6197442340972</dd><dt>h_116</dt><dd>36.7479043829884</dd><dt>h_352</dt><dd>37.2467321529187</dd><dt>h_103</dt><dd>35.6263885829251</dd><dt>h_493</dt><dd>35.9435797233456</dd><dt>h_185</dt><dd>38.711103449265</dd><dt>h_168</dt><dd>37.4535848378883</dd><dt>h_392</dt><dd>38.528716756353</dd><dt>h_81</dt><dd>36.8750773142984</dd><dt>h_190</dt><dd>37.6038446959957</dd><dt>h_568</dt><dd>37.7341366152829</dd><dt>h_173</dt><dd>35.9619772440283</dd><dt>h_208</dt><dd>38.6068758671453</dd><dt>h_501</dt><dd>36.6955320568152</dd><dt>h_240</dt><dd>37.1898240141592</dd><dt>h_4</dt><dd>36.3803458527546</dd><dt>h_597</dt><dd>38.4484855473268</dd><dt>h_11</dt><dd>39.9103908816466</dd><dt>h_49</dt><dd>38.0707993865328</dd><dt>h_237</dt><dd>38.4679156276932</dd><dt>h_322</dt><dd>39.764153857528</dd><dt>h_614</dt><dd>41.012389610949</dd><dt>h_440</dt><dd>36.2463638214711</dd><dt>h_409</dt><dd>38.3737923286641</dd><dt>h_188</dt><dd>39.3902442897783</dd><dt>h_466</dt><dd>38.8313736042947</dd><dt>h_21</dt><dd>37.8384112692073</dd><dt>h_464</dt><dd>37.454239152326</dd><dt>h_14</dt><dd>35.8844589438541</dd><dt>h_36</dt><dd>37.149635240028</dd><dt>h_148</dt><dd>38.687012490568</dd><dt>h_325</dt><dd>36.6844920481196</dd><dt>h_340</dt><dd>36.5538888973207</dd><dt>h_607</dt><dd>38.8927007625439</dd><dt>h_467</dt><dd>35.9398642515151</dd><dt>h_634</dt><dd>36.5727820423236</dd><dt>h_528</dt><dd>38.4623551238433</dd><dt>h_230</dt><dd>38.4699815732845</dd><dt>h_622</dt><dd>36.2082763383279</dd><dt>h_465</dt><dd>40.7771042725547</dd><dt>h_391</dt><dd>37.5779595733579</dd><dt>h_396</dt><dd>40.5207834080649</dd><dt>h_335</dt><dd>37.2297441339653</dd><dt>h_487</dt><dd>37.0423569608572</dd><dt>h_35</dt><dd>38.9083238301931</dd><dt>h_400</dt><dd>36.3427274679762</dd><dt>h_309</dt><dd>38.8115202481198</dd><dt>h_37</dt><dd>36.4019143189269</dd><dt>h_227</dt><dd>38.283951810257</dd><dt>h_545</dt><dd>38.0803980704824</dd><dt>h_196</dt><dd>41.0541251395456</dd><dt>h_125</dt><dd>37.71509336135</dd><dt>h_584</dt><dd>37.4390444569369</dd><dt>h_431</dt><dd>38.31470901221</dd><dt>h_427</dt><dd>36.5389986745252</dd><dt>h_30</dt><dd>39.8072318701182</dd><dt>h_119</dt><dd>39.8272820683953</dd><dt>h_332</dt><dd>38.583493440478</dd><dt>h_489</dt><dd>37.01769115112</dd><dt>h_104</dt><dd>40.0171335642965</dd></dl>\n"
            ],
            "text/markdown": "h_377\n:   39.3261856398823h_28\n:   36.5284881487668h_20\n:   36.9769929062417h_491\n:   39.2649108062924h_403\n:   36.1978185242149h_128\n:   36.4780903044907h_600\n:   35.8507743249845h_402\n:   35.7705857713827h_64\n:   38.3902654822869h_473\n:   36.9403065507948h_633\n:   36.2956547997864h_540\n:   38.1863291834172h_429\n:   36.0586774508733h_253\n:   38.0618748108686h_75\n:   36.9533315587286h_514\n:   38.5237840106745h_231\n:   35.7427743412609h_16\n:   41.0693571488893h_84\n:   38.6283923131544h_348\n:   35.8239317767249h_338\n:   35.6552009818306h_60\n:   37.7945036998908h_415\n:   38.0058568718699h_344\n:   36.7171066571793h_115\n:   35.705262101478h_355\n:   35.6472015848445h_523\n:   36.3953438693458h_189\n:   37.4550593427383h_143\n:   37.6495002902696h_468\n:   36.8973959930866h_370\n:   38.0200678461445h_142\n:   37.8649791382226h_611\n:   38.8691351866014h_626\n:   36.0641806877911h_585\n:   35.8617186305868h_78\n:   37.7645140406379h_65\n:   36.428466920244h_226\n:   37.6685359760278h_537\n:   36.6998022307605h_285\n:   37.0061196515501h_194\n:   38.2590859066743h_177\n:   36.1953145745566h_54\n:   37.8037122260058h_609\n:   37.8729619251877h_580\n:   39.1834562998314h_239\n:   36.9127280228984h_157\n:   35.6739644300943h_181\n:   36.4561089401725h_155\n:   38.7668806461944h_472\n:   38.3108568908076h_590\n:   36.6887903348231h_110\n:   38.7158017136036h_327\n:   39.7695828495354h_68\n:   37.0648508262576h_485\n:   36.8546609266746h_107\n:   37.5243165176178h_643\n:   37.1705255290042h_583\n:   40.2786871994227h_73\n:   37.4837430369403h_387\n:   40.7140329995999h_390\n:   37.5095055305573h_565\n:   38.1822420610674h_86\n:   36.026798538299h_329\n:   38.4269294724958h_587\n:   36.3618647090641h_333\n:   37.5356697309627h_425\n:   36.0061779016478h_198\n:   36.0865528591804h_140\n:   36.2122456827911h_15\n:   38.2853015534287h_267\n:   36.4729278650204h_564\n:   37.3019008225915h_172\n:   36.7720828671413h_42\n:   36.747019723628h_570\n:   35.617545216562h_98\n:   35.6976194732201h_319\n:   36.5462699040444h_330\n:   35.7022398781462h_275\n:   38.0308218987243h_29\n:   36.3792166191721h_242\n:   36.9801872068807h_192\n:   38.7175533943257h_245\n:   36.5455351027856h_243\n:   39.4788957542284h_478\n:   36.4473857824194h_606\n:   36.1130622701337h_18\n:   36.267332240038h_184\n:   36.2717511414542h_574\n:   41.1194888525088h_101\n:   35.6600755700181h_347\n:   37.1290066909093h_589\n:   36.3952083711866h_320\n:   37.8116883380886h_605\n:   36.9980473878261h_522\n:   37.6553647838759h_305\n:   38.3124845248766h_89\n:   36.2180578569742h_121\n:   37.086689153857h_366\n:   35.7943431805911h_321\n:   38.8543185309237h_235\n:   38.1302553810295h_423\n:   36.5286746602043h_223\n:   35.8054096354457h_362\n:   38.9020672432642h_50\n:   36.3624670531852h_279\n:   37.166061609795h_336\n:   36.8718046104303h_337\n:   40.9682252018891h_17\n:   40.7742130176009h_509\n:   38.7771963351209h_195\n:   36.8253598242028h_381\n:   36.1815387691542h_346\n:   37.0879104919382h_215\n:   37.5238313448452h_416\n:   38.7186212438198h_218\n:   39.3253468194287h_141\n:   36.0938655570166h_618\n:   36.0354937208856h_112\n:   37.742615829243h_108\n:   39.8399530457569h_382\n:   37.762595972236h_153\n:   36.7153483240253h_548\n:   37.2761757608422h_199\n:   36.7741016227846h_594\n:   37.9254457642678h_200\n:   39.736307933407h_114\n:   37.8614107247432h_642\n:   39.6714037394431h_598\n:   37.3832890592754h_214\n:   38.7752748969455h_454\n:   37.6466137036415h_601\n:   35.7953419826238h_490\n:   35.9088027858005h_176\n:   39.051383658713h_367\n:   36.3606167965535h_586\n:   39.1751865204758h_422\n:   37.6751587450816h_538\n:   36.7532174603483h_498\n:   36.7839866556172h_291\n:   38.6593506158535h_397\n:   37.7639908907604h_326\n:   36.380052318145h_334\n:   37.2260294097661h_459\n:   38.5494005210318h_323\n:   39.7593972002821h_648\n:   36.3481575839918h_343\n:   37.1092424879269h_515\n:   36.4199981699077h_481\n:   37.8020618564398h_315\n:   38.8922528153081h_331\n:   36.1216313156224h_536\n:   37.4584171405782h_456\n:   35.7367414896945h_270\n:   37.4324802160562h_133\n:   36.8896585289817h_475\n:   37.0285489226494h_82\n:   36.9616636290615h_480\n:   36.1895568242505h_187\n:   37.7027391987033h_385\n:   37.1349167942108h_100\n:   35.615617157428h_171\n:   37.0593824781764h_445\n:   37.7516421742454h_33\n:   38.308477156837h_138\n:   36.8607574982136h_354\n:   38.9649091180535h_562\n:   35.6645813119254h_521\n:   37.3051215243051h_277\n:   37.0646860772226h_127\n:   39.1720889076061h_640\n:   37.514674981066h_318\n:   37.4380075244698h_146\n:   35.7246251769938h_224\n:   36.2418421041875h_61\n:   39.2049723200372h_63\n:   35.6049048154396h_444\n:   39.0026715747006h_578\n:   36.6459975712412h_262\n:   39.1510423444934h_295\n:   38.4278170832861h_358\n:   38.231850779828h_306\n:   37.7151371268817h_582\n:   37.796591082579h_450\n:   37.9613482808181h_55\n:   36.2094623313492h_458\n:   37.8458473202673h_283\n:   38.3499136594908h_313\n:   36.2275409968398h_303\n:   39.4736726949496h_364\n:   39.32355461829h_210\n:   36.3358087307158h_220\n:   37.3667796127013h_471\n:   36.9247445708584h_83\n:   37.31414303689h_531\n:   37.6875732282506h_638\n:   38.4736874324652h_225\n:   35.9172451714912h_439\n:   40.2665844371352h_248\n:   39.7462065217973h_34\n:   38.8897280593536h_376\n:   ⋯h_602\n:   39.5518226403718h_405\n:   37.4846033979324h_149\n:   39.1103148673657h_351\n:   40.952203097156h_412\n:   36.8709973435624h_307\n:   35.8879465704421h_314\n:   35.9580033001681h_203\n:   41.0810256561849h_154\n:   35.9002278812501h_24\n:   36.3708720321046h_228\n:   37.3369003686613h_463\n:   37.8518578290984h_179\n:   36.006303410048h_85\n:   37.8246976298177h_527\n:   35.9139421357679h_255\n:   37.5135814077182h_131\n:   36.3183134309205h_388\n:   36.7547768099636h_91\n:   36.5978108080494h_517\n:   39.3974646576222h_457\n:   35.6104156477599h_159\n:   37.1535702310605h_411\n:   35.9675528913522h_126\n:   36.5461885217581h_529\n:   37.1481407218296h_549\n:   36.3465453829006h_588\n:   37.0983710681578h_604\n:   36.992383285437h_132\n:   36.1380385814249h_408\n:   37.1560010284027h_424\n:   35.7150198549622h_216\n:   38.4239623058061h_398\n:   35.7120265707014h_418\n:   39.4699867774091h_488\n:   39.0729953985457h_525\n:   37.06079680968h_166\n:   39.5080624807457h_10\n:   35.7902283158299h_500\n:   41.4035363296144h_259\n:   37.8362008751992h_5\n:   37.966059029032h_8\n:   36.3084482641769h_66\n:   37.1730247688802h_43\n:   37.2329546611785h_446\n:   36.4745096845785h_383\n:   38.3184723513327h_339\n:   39.5690776099849h_289\n:   37.739113339194h_67\n:   37.1714248794476h_316\n:   36.5397542290688h_244\n:   37.0113138401162h_610\n:   40.5018310928265h_147\n:   37.0642403091785h_26\n:   36.0111445195909h_443\n:   36.6845019637732h_174\n:   38.297653037392h_579\n:   38.9257269613029h_145\n:   37.4122151677063h_105\n:   36.9298896170934h_264\n:   36.505869683291h_603\n:   36.4826959706037h_232\n:   39.1153298110184h_111\n:   39.1125670407834h_6\n:   40.1082453787134h_241\n:   38.6215257564176h_512\n:   36.4695217998707h_372\n:   36.8572777025973h_118\n:   37.6998797753741h_72\n:   37.220150636441h_77\n:   36.1277715953542h_608\n:   36.9152867055315h_46\n:   37.5850578904318h_19\n:   39.3377108327062h_384\n:   37.2193359593973h_535\n:   38.7173165377682h_448\n:   36.7252191814187h_254\n:   38.9630155722239h_47\n:   37.481710292099h_414\n:   38.2226083934682h_553\n:   38.0932175244696h_455\n:   36.4326526271024h_297\n:   37.4436261532967h_621\n:   35.8212791520412h_497\n:   35.9093925868383h_496\n:   41.4762669267795h_461\n:   37.4115484924802h_300\n:   38.2062115328588h_477\n:   38.3456956080104h_406\n:   39.1097571549145h_69\n:   37.4211637527751h_566\n:   36.6595297681057h_44\n:   35.6203879214218h_96\n:   35.8493142339225h_395\n:   37.4373607438293h_508\n:   40.9149871907068h_32\n:   40.4113417076652h_288\n:   39.3076583636292h_201\n:   36.2156685760253h_274\n:   36.5892671604654h_639\n:   39.0440555814751h_284\n:   35.6296941376547h_278\n:   36.8379504575766h_222\n:   38.0909794690919h_251\n:   36.1452628904807h_613\n:   35.6175888452843h_209\n:   39.233597705972h_261\n:   35.7580375952416h_124\n:   36.1847416793737h_193\n:   35.8399388370688h_109\n:   38.6236298523697h_280\n:   39.7136817125032h_70\n:   37.5061940204151h_71\n:   38.8505023243487h_649\n:   38.0616998164754h_576\n:   37.907456143532h_158\n:   43.2799056267366h_430\n:   36.4207070561888h_139\n:   38.9614613948341h_22\n:   37.1159159512695h_616\n:   38.4681134922094h_361\n:   36.1706778974973h_161\n:   37.2270339384324h_542\n:   37.6263158753503h_48\n:   36.1377631032349h_9\n:   37.0064661732836h_206\n:   36.8602092044358h_615\n:   36.7732000217734h_511\n:   36.8565591851827h_380\n:   36.6475737103955h_3\n:   36.8669172382598h_197\n:   37.8994397299394h_213\n:   36.0818144144129h_559\n:   37.9848223301317h_250\n:   37.1827823718531h_7\n:   37.1190482077993h_205\n:   37.8595826821947h_287\n:   37.2442693011854h_635\n:   41.2918139741569h_462\n:   35.9281405546847h_637\n:   37.3159975342726h_12\n:   36.6197442340972h_116\n:   36.7479043829884h_352\n:   37.2467321529187h_103\n:   35.6263885829251h_493\n:   35.9435797233456h_185\n:   38.711103449265h_168\n:   37.4535848378883h_392\n:   38.528716756353h_81\n:   36.8750773142984h_190\n:   37.6038446959957h_568\n:   37.7341366152829h_173\n:   35.9619772440283h_208\n:   38.6068758671453h_501\n:   36.6955320568152h_240\n:   37.1898240141592h_4\n:   36.3803458527546h_597\n:   38.4484855473268h_11\n:   39.9103908816466h_49\n:   38.0707993865328h_237\n:   38.4679156276932h_322\n:   39.764153857528h_614\n:   41.012389610949h_440\n:   36.2463638214711h_409\n:   38.3737923286641h_188\n:   39.3902442897783h_466\n:   38.8313736042947h_21\n:   37.8384112692073h_464\n:   37.454239152326h_14\n:   35.8844589438541h_36\n:   37.149635240028h_148\n:   38.687012490568h_325\n:   36.6844920481196h_340\n:   36.5538888973207h_607\n:   38.8927007625439h_467\n:   35.9398642515151h_634\n:   36.5727820423236h_528\n:   38.4623551238433h_230\n:   38.4699815732845h_622\n:   36.2082763383279h_465\n:   40.7771042725547h_391\n:   37.5779595733579h_396\n:   40.5207834080649h_335\n:   37.2297441339653h_487\n:   37.0423569608572h_35\n:   38.9083238301931h_400\n:   36.3427274679762h_309\n:   38.8115202481198h_37\n:   36.4019143189269h_227\n:   38.283951810257h_545\n:   38.0803980704824h_196\n:   41.0541251395456h_125\n:   37.71509336135h_584\n:   37.4390444569369h_431\n:   38.31470901221h_427\n:   36.5389986745252h_30\n:   39.8072318701182h_119\n:   39.8272820683953h_332\n:   38.583493440478h_489\n:   37.01769115112h_104\n:   40.0171335642965\n\n",
            "text/latex": "\\begin{description*}\n\\item[h\\textbackslash{}\\_377] 39.3261856398823\n\\item[h\\textbackslash{}\\_28] 36.5284881487668\n\\item[h\\textbackslash{}\\_20] 36.9769929062417\n\\item[h\\textbackslash{}\\_491] 39.2649108062924\n\\item[h\\textbackslash{}\\_403] 36.1978185242149\n\\item[h\\textbackslash{}\\_128] 36.4780903044907\n\\item[h\\textbackslash{}\\_600] 35.8507743249845\n\\item[h\\textbackslash{}\\_402] 35.7705857713827\n\\item[h\\textbackslash{}\\_64] 38.3902654822869\n\\item[h\\textbackslash{}\\_473] 36.9403065507948\n\\item[h\\textbackslash{}\\_633] 36.2956547997864\n\\item[h\\textbackslash{}\\_540] 38.1863291834172\n\\item[h\\textbackslash{}\\_429] 36.0586774508733\n\\item[h\\textbackslash{}\\_253] 38.0618748108686\n\\item[h\\textbackslash{}\\_75] 36.9533315587286\n\\item[h\\textbackslash{}\\_514] 38.5237840106745\n\\item[h\\textbackslash{}\\_231] 35.7427743412609\n\\item[h\\textbackslash{}\\_16] 41.0693571488893\n\\item[h\\textbackslash{}\\_84] 38.6283923131544\n\\item[h\\textbackslash{}\\_348] 35.8239317767249\n\\item[h\\textbackslash{}\\_338] 35.6552009818306\n\\item[h\\textbackslash{}\\_60] 37.7945036998908\n\\item[h\\textbackslash{}\\_415] 38.0058568718699\n\\item[h\\textbackslash{}\\_344] 36.7171066571793\n\\item[h\\textbackslash{}\\_115] 35.705262101478\n\\item[h\\textbackslash{}\\_355] 35.6472015848445\n\\item[h\\textbackslash{}\\_523] 36.3953438693458\n\\item[h\\textbackslash{}\\_189] 37.4550593427383\n\\item[h\\textbackslash{}\\_143] 37.6495002902696\n\\item[h\\textbackslash{}\\_468] 36.8973959930866\n\\item[h\\textbackslash{}\\_370] 38.0200678461445\n\\item[h\\textbackslash{}\\_142] 37.8649791382226\n\\item[h\\textbackslash{}\\_611] 38.8691351866014\n\\item[h\\textbackslash{}\\_626] 36.0641806877911\n\\item[h\\textbackslash{}\\_585] 35.8617186305868\n\\item[h\\textbackslash{}\\_78] 37.7645140406379\n\\item[h\\textbackslash{}\\_65] 36.428466920244\n\\item[h\\textbackslash{}\\_226] 37.6685359760278\n\\item[h\\textbackslash{}\\_537] 36.6998022307605\n\\item[h\\textbackslash{}\\_285] 37.0061196515501\n\\item[h\\textbackslash{}\\_194] 38.2590859066743\n\\item[h\\textbackslash{}\\_177] 36.1953145745566\n\\item[h\\textbackslash{}\\_54] 37.8037122260058\n\\item[h\\textbackslash{}\\_609] 37.8729619251877\n\\item[h\\textbackslash{}\\_580] 39.1834562998314\n\\item[h\\textbackslash{}\\_239] 36.9127280228984\n\\item[h\\textbackslash{}\\_157] 35.6739644300943\n\\item[h\\textbackslash{}\\_181] 36.4561089401725\n\\item[h\\textbackslash{}\\_155] 38.7668806461944\n\\item[h\\textbackslash{}\\_472] 38.3108568908076\n\\item[h\\textbackslash{}\\_590] 36.6887903348231\n\\item[h\\textbackslash{}\\_110] 38.7158017136036\n\\item[h\\textbackslash{}\\_327] 39.7695828495354\n\\item[h\\textbackslash{}\\_68] 37.0648508262576\n\\item[h\\textbackslash{}\\_485] 36.8546609266746\n\\item[h\\textbackslash{}\\_107] 37.5243165176178\n\\item[h\\textbackslash{}\\_643] 37.1705255290042\n\\item[h\\textbackslash{}\\_583] 40.2786871994227\n\\item[h\\textbackslash{}\\_73] 37.4837430369403\n\\item[h\\textbackslash{}\\_387] 40.7140329995999\n\\item[h\\textbackslash{}\\_390] 37.5095055305573\n\\item[h\\textbackslash{}\\_565] 38.1822420610674\n\\item[h\\textbackslash{}\\_86] 36.026798538299\n\\item[h\\textbackslash{}\\_329] 38.4269294724958\n\\item[h\\textbackslash{}\\_587] 36.3618647090641\n\\item[h\\textbackslash{}\\_333] 37.5356697309627\n\\item[h\\textbackslash{}\\_425] 36.0061779016478\n\\item[h\\textbackslash{}\\_198] 36.0865528591804\n\\item[h\\textbackslash{}\\_140] 36.2122456827911\n\\item[h\\textbackslash{}\\_15] 38.2853015534287\n\\item[h\\textbackslash{}\\_267] 36.4729278650204\n\\item[h\\textbackslash{}\\_564] 37.3019008225915\n\\item[h\\textbackslash{}\\_172] 36.7720828671413\n\\item[h\\textbackslash{}\\_42] 36.747019723628\n\\item[h\\textbackslash{}\\_570] 35.617545216562\n\\item[h\\textbackslash{}\\_98] 35.6976194732201\n\\item[h\\textbackslash{}\\_319] 36.5462699040444\n\\item[h\\textbackslash{}\\_330] 35.7022398781462\n\\item[h\\textbackslash{}\\_275] 38.0308218987243\n\\item[h\\textbackslash{}\\_29] 36.3792166191721\n\\item[h\\textbackslash{}\\_242] 36.9801872068807\n\\item[h\\textbackslash{}\\_192] 38.7175533943257\n\\item[h\\textbackslash{}\\_245] 36.5455351027856\n\\item[h\\textbackslash{}\\_243] 39.4788957542284\n\\item[h\\textbackslash{}\\_478] 36.4473857824194\n\\item[h\\textbackslash{}\\_606] 36.1130622701337\n\\item[h\\textbackslash{}\\_18] 36.267332240038\n\\item[h\\textbackslash{}\\_184] 36.2717511414542\n\\item[h\\textbackslash{}\\_574] 41.1194888525088\n\\item[h\\textbackslash{}\\_101] 35.6600755700181\n\\item[h\\textbackslash{}\\_347] 37.1290066909093\n\\item[h\\textbackslash{}\\_589] 36.3952083711866\n\\item[h\\textbackslash{}\\_320] 37.8116883380886\n\\item[h\\textbackslash{}\\_605] 36.9980473878261\n\\item[h\\textbackslash{}\\_522] 37.6553647838759\n\\item[h\\textbackslash{}\\_305] 38.3124845248766\n\\item[h\\textbackslash{}\\_89] 36.2180578569742\n\\item[h\\textbackslash{}\\_121] 37.086689153857\n\\item[h\\textbackslash{}\\_366] 35.7943431805911\n\\item[h\\textbackslash{}\\_321] 38.8543185309237\n\\item[h\\textbackslash{}\\_235] 38.1302553810295\n\\item[h\\textbackslash{}\\_423] 36.5286746602043\n\\item[h\\textbackslash{}\\_223] 35.8054096354457\n\\item[h\\textbackslash{}\\_362] 38.9020672432642\n\\item[h\\textbackslash{}\\_50] 36.3624670531852\n\\item[h\\textbackslash{}\\_279] 37.166061609795\n\\item[h\\textbackslash{}\\_336] 36.8718046104303\n\\item[h\\textbackslash{}\\_337] 40.9682252018891\n\\item[h\\textbackslash{}\\_17] 40.7742130176009\n\\item[h\\textbackslash{}\\_509] 38.7771963351209\n\\item[h\\textbackslash{}\\_195] 36.8253598242028\n\\item[h\\textbackslash{}\\_381] 36.1815387691542\n\\item[h\\textbackslash{}\\_346] 37.0879104919382\n\\item[h\\textbackslash{}\\_215] 37.5238313448452\n\\item[h\\textbackslash{}\\_416] 38.7186212438198\n\\item[h\\textbackslash{}\\_218] 39.3253468194287\n\\item[h\\textbackslash{}\\_141] 36.0938655570166\n\\item[h\\textbackslash{}\\_618] 36.0354937208856\n\\item[h\\textbackslash{}\\_112] 37.742615829243\n\\item[h\\textbackslash{}\\_108] 39.8399530457569\n\\item[h\\textbackslash{}\\_382] 37.762595972236\n\\item[h\\textbackslash{}\\_153] 36.7153483240253\n\\item[h\\textbackslash{}\\_548] 37.2761757608422\n\\item[h\\textbackslash{}\\_199] 36.7741016227846\n\\item[h\\textbackslash{}\\_594] 37.9254457642678\n\\item[h\\textbackslash{}\\_200] 39.736307933407\n\\item[h\\textbackslash{}\\_114] 37.8614107247432\n\\item[h\\textbackslash{}\\_642] 39.6714037394431\n\\item[h\\textbackslash{}\\_598] 37.3832890592754\n\\item[h\\textbackslash{}\\_214] 38.7752748969455\n\\item[h\\textbackslash{}\\_454] 37.6466137036415\n\\item[h\\textbackslash{}\\_601] 35.7953419826238\n\\item[h\\textbackslash{}\\_490] 35.9088027858005\n\\item[h\\textbackslash{}\\_176] 39.051383658713\n\\item[h\\textbackslash{}\\_367] 36.3606167965535\n\\item[h\\textbackslash{}\\_586] 39.1751865204758\n\\item[h\\textbackslash{}\\_422] 37.6751587450816\n\\item[h\\textbackslash{}\\_538] 36.7532174603483\n\\item[h\\textbackslash{}\\_498] 36.7839866556172\n\\item[h\\textbackslash{}\\_291] 38.6593506158535\n\\item[h\\textbackslash{}\\_397] 37.7639908907604\n\\item[h\\textbackslash{}\\_326] 36.380052318145\n\\item[h\\textbackslash{}\\_334] 37.2260294097661\n\\item[h\\textbackslash{}\\_459] 38.5494005210318\n\\item[h\\textbackslash{}\\_323] 39.7593972002821\n\\item[h\\textbackslash{}\\_648] 36.3481575839918\n\\item[h\\textbackslash{}\\_343] 37.1092424879269\n\\item[h\\textbackslash{}\\_515] 36.4199981699077\n\\item[h\\textbackslash{}\\_481] 37.8020618564398\n\\item[h\\textbackslash{}\\_315] 38.8922528153081\n\\item[h\\textbackslash{}\\_331] 36.1216313156224\n\\item[h\\textbackslash{}\\_536] 37.4584171405782\n\\item[h\\textbackslash{}\\_456] 35.7367414896945\n\\item[h\\textbackslash{}\\_270] 37.4324802160562\n\\item[h\\textbackslash{}\\_133] 36.8896585289817\n\\item[h\\textbackslash{}\\_475] 37.0285489226494\n\\item[h\\textbackslash{}\\_82] 36.9616636290615\n\\item[h\\textbackslash{}\\_480] 36.1895568242505\n\\item[h\\textbackslash{}\\_187] 37.7027391987033\n\\item[h\\textbackslash{}\\_385] 37.1349167942108\n\\item[h\\textbackslash{}\\_100] 35.615617157428\n\\item[h\\textbackslash{}\\_171] 37.0593824781764\n\\item[h\\textbackslash{}\\_445] 37.7516421742454\n\\item[h\\textbackslash{}\\_33] 38.308477156837\n\\item[h\\textbackslash{}\\_138] 36.8607574982136\n\\item[h\\textbackslash{}\\_354] 38.9649091180535\n\\item[h\\textbackslash{}\\_562] 35.6645813119254\n\\item[h\\textbackslash{}\\_521] 37.3051215243051\n\\item[h\\textbackslash{}\\_277] 37.0646860772226\n\\item[h\\textbackslash{}\\_127] 39.1720889076061\n\\item[h\\textbackslash{}\\_640] 37.514674981066\n\\item[h\\textbackslash{}\\_318] 37.4380075244698\n\\item[h\\textbackslash{}\\_146] 35.7246251769938\n\\item[h\\textbackslash{}\\_224] 36.2418421041875\n\\item[h\\textbackslash{}\\_61] 39.2049723200372\n\\item[h\\textbackslash{}\\_63] 35.6049048154396\n\\item[h\\textbackslash{}\\_444] 39.0026715747006\n\\item[h\\textbackslash{}\\_578] 36.6459975712412\n\\item[h\\textbackslash{}\\_262] 39.1510423444934\n\\item[h\\textbackslash{}\\_295] 38.4278170832861\n\\item[h\\textbackslash{}\\_358] 38.231850779828\n\\item[h\\textbackslash{}\\_306] 37.7151371268817\n\\item[h\\textbackslash{}\\_582] 37.796591082579\n\\item[h\\textbackslash{}\\_450] 37.9613482808181\n\\item[h\\textbackslash{}\\_55] 36.2094623313492\n\\item[h\\textbackslash{}\\_458] 37.8458473202673\n\\item[h\\textbackslash{}\\_283] 38.3499136594908\n\\item[h\\textbackslash{}\\_313] 36.2275409968398\n\\item[h\\textbackslash{}\\_303] 39.4736726949496\n\\item[h\\textbackslash{}\\_364] 39.32355461829\n\\item[h\\textbackslash{}\\_210] 36.3358087307158\n\\item[h\\textbackslash{}\\_220] 37.3667796127013\n\\item[h\\textbackslash{}\\_471] 36.9247445708584\n\\item[h\\textbackslash{}\\_83] 37.31414303689\n\\item[h\\textbackslash{}\\_531] 37.6875732282506\n\\item[h\\textbackslash{}\\_638] 38.4736874324652\n\\item[h\\textbackslash{}\\_225] 35.9172451714912\n\\item[h\\textbackslash{}\\_439] 40.2665844371352\n\\item[h\\textbackslash{}\\_248] 39.7462065217973\n\\item[h\\textbackslash{}\\_34] 38.8897280593536\n\\item[h\\textbackslash{}\\_376] ⋯\n\\item[h\\textbackslash{}\\_602] 39.5518226403718\n\\item[h\\textbackslash{}\\_405] 37.4846033979324\n\\item[h\\textbackslash{}\\_149] 39.1103148673657\n\\item[h\\textbackslash{}\\_351] 40.952203097156\n\\item[h\\textbackslash{}\\_412] 36.8709973435624\n\\item[h\\textbackslash{}\\_307] 35.8879465704421\n\\item[h\\textbackslash{}\\_314] 35.9580033001681\n\\item[h\\textbackslash{}\\_203] 41.0810256561849\n\\item[h\\textbackslash{}\\_154] 35.9002278812501\n\\item[h\\textbackslash{}\\_24] 36.3708720321046\n\\item[h\\textbackslash{}\\_228] 37.3369003686613\n\\item[h\\textbackslash{}\\_463] 37.8518578290984\n\\item[h\\textbackslash{}\\_179] 36.006303410048\n\\item[h\\textbackslash{}\\_85] 37.8246976298177\n\\item[h\\textbackslash{}\\_527] 35.9139421357679\n\\item[h\\textbackslash{}\\_255] 37.5135814077182\n\\item[h\\textbackslash{}\\_131] 36.3183134309205\n\\item[h\\textbackslash{}\\_388] 36.7547768099636\n\\item[h\\textbackslash{}\\_91] 36.5978108080494\n\\item[h\\textbackslash{}\\_517] 39.3974646576222\n\\item[h\\textbackslash{}\\_457] 35.6104156477599\n\\item[h\\textbackslash{}\\_159] 37.1535702310605\n\\item[h\\textbackslash{}\\_411] 35.9675528913522\n\\item[h\\textbackslash{}\\_126] 36.5461885217581\n\\item[h\\textbackslash{}\\_529] 37.1481407218296\n\\item[h\\textbackslash{}\\_549] 36.3465453829006\n\\item[h\\textbackslash{}\\_588] 37.0983710681578\n\\item[h\\textbackslash{}\\_604] 36.992383285437\n\\item[h\\textbackslash{}\\_132] 36.1380385814249\n\\item[h\\textbackslash{}\\_408] 37.1560010284027\n\\item[h\\textbackslash{}\\_424] 35.7150198549622\n\\item[h\\textbackslash{}\\_216] 38.4239623058061\n\\item[h\\textbackslash{}\\_398] 35.7120265707014\n\\item[h\\textbackslash{}\\_418] 39.4699867774091\n\\item[h\\textbackslash{}\\_488] 39.0729953985457\n\\item[h\\textbackslash{}\\_525] 37.06079680968\n\\item[h\\textbackslash{}\\_166] 39.5080624807457\n\\item[h\\textbackslash{}\\_10] 35.7902283158299\n\\item[h\\textbackslash{}\\_500] 41.4035363296144\n\\item[h\\textbackslash{}\\_259] 37.8362008751992\n\\item[h\\textbackslash{}\\_5] 37.966059029032\n\\item[h\\textbackslash{}\\_8] 36.3084482641769\n\\item[h\\textbackslash{}\\_66] 37.1730247688802\n\\item[h\\textbackslash{}\\_43] 37.2329546611785\n\\item[h\\textbackslash{}\\_446] 36.4745096845785\n\\item[h\\textbackslash{}\\_383] 38.3184723513327\n\\item[h\\textbackslash{}\\_339] 39.5690776099849\n\\item[h\\textbackslash{}\\_289] 37.739113339194\n\\item[h\\textbackslash{}\\_67] 37.1714248794476\n\\item[h\\textbackslash{}\\_316] 36.5397542290688\n\\item[h\\textbackslash{}\\_244] 37.0113138401162\n\\item[h\\textbackslash{}\\_610] 40.5018310928265\n\\item[h\\textbackslash{}\\_147] 37.0642403091785\n\\item[h\\textbackslash{}\\_26] 36.0111445195909\n\\item[h\\textbackslash{}\\_443] 36.6845019637732\n\\item[h\\textbackslash{}\\_174] 38.297653037392\n\\item[h\\textbackslash{}\\_579] 38.9257269613029\n\\item[h\\textbackslash{}\\_145] 37.4122151677063\n\\item[h\\textbackslash{}\\_105] 36.9298896170934\n\\item[h\\textbackslash{}\\_264] 36.505869683291\n\\item[h\\textbackslash{}\\_603] 36.4826959706037\n\\item[h\\textbackslash{}\\_232] 39.1153298110184\n\\item[h\\textbackslash{}\\_111] 39.1125670407834\n\\item[h\\textbackslash{}\\_6] 40.1082453787134\n\\item[h\\textbackslash{}\\_241] 38.6215257564176\n\\item[h\\textbackslash{}\\_512] 36.4695217998707\n\\item[h\\textbackslash{}\\_372] 36.8572777025973\n\\item[h\\textbackslash{}\\_118] 37.6998797753741\n\\item[h\\textbackslash{}\\_72] 37.220150636441\n\\item[h\\textbackslash{}\\_77] 36.1277715953542\n\\item[h\\textbackslash{}\\_608] 36.9152867055315\n\\item[h\\textbackslash{}\\_46] 37.5850578904318\n\\item[h\\textbackslash{}\\_19] 39.3377108327062\n\\item[h\\textbackslash{}\\_384] 37.2193359593973\n\\item[h\\textbackslash{}\\_535] 38.7173165377682\n\\item[h\\textbackslash{}\\_448] 36.7252191814187\n\\item[h\\textbackslash{}\\_254] 38.9630155722239\n\\item[h\\textbackslash{}\\_47] 37.481710292099\n\\item[h\\textbackslash{}\\_414] 38.2226083934682\n\\item[h\\textbackslash{}\\_553] 38.0932175244696\n\\item[h\\textbackslash{}\\_455] 36.4326526271024\n\\item[h\\textbackslash{}\\_297] 37.4436261532967\n\\item[h\\textbackslash{}\\_621] 35.8212791520412\n\\item[h\\textbackslash{}\\_497] 35.9093925868383\n\\item[h\\textbackslash{}\\_496] 41.4762669267795\n\\item[h\\textbackslash{}\\_461] 37.4115484924802\n\\item[h\\textbackslash{}\\_300] 38.2062115328588\n\\item[h\\textbackslash{}\\_477] 38.3456956080104\n\\item[h\\textbackslash{}\\_406] 39.1097571549145\n\\item[h\\textbackslash{}\\_69] 37.4211637527751\n\\item[h\\textbackslash{}\\_566] 36.6595297681057\n\\item[h\\textbackslash{}\\_44] 35.6203879214218\n\\item[h\\textbackslash{}\\_96] 35.8493142339225\n\\item[h\\textbackslash{}\\_395] 37.4373607438293\n\\item[h\\textbackslash{}\\_508] 40.9149871907068\n\\item[h\\textbackslash{}\\_32] 40.4113417076652\n\\item[h\\textbackslash{}\\_288] 39.3076583636292\n\\item[h\\textbackslash{}\\_201] 36.2156685760253\n\\item[h\\textbackslash{}\\_274] 36.5892671604654\n\\item[h\\textbackslash{}\\_639] 39.0440555814751\n\\item[h\\textbackslash{}\\_284] 35.6296941376547\n\\item[h\\textbackslash{}\\_278] 36.8379504575766\n\\item[h\\textbackslash{}\\_222] 38.0909794690919\n\\item[h\\textbackslash{}\\_251] 36.1452628904807\n\\item[h\\textbackslash{}\\_613] 35.6175888452843\n\\item[h\\textbackslash{}\\_209] 39.233597705972\n\\item[h\\textbackslash{}\\_261] 35.7580375952416\n\\item[h\\textbackslash{}\\_124] 36.1847416793737\n\\item[h\\textbackslash{}\\_193] 35.8399388370688\n\\item[h\\textbackslash{}\\_109] 38.6236298523697\n\\item[h\\textbackslash{}\\_280] 39.7136817125032\n\\item[h\\textbackslash{}\\_70] 37.5061940204151\n\\item[h\\textbackslash{}\\_71] 38.8505023243487\n\\item[h\\textbackslash{}\\_649] 38.0616998164754\n\\item[h\\textbackslash{}\\_576] 37.907456143532\n\\item[h\\textbackslash{}\\_158] 43.2799056267366\n\\item[h\\textbackslash{}\\_430] 36.4207070561888\n\\item[h\\textbackslash{}\\_139] 38.9614613948341\n\\item[h\\textbackslash{}\\_22] 37.1159159512695\n\\item[h\\textbackslash{}\\_616] 38.4681134922094\n\\item[h\\textbackslash{}\\_361] 36.1706778974973\n\\item[h\\textbackslash{}\\_161] 37.2270339384324\n\\item[h\\textbackslash{}\\_542] 37.6263158753503\n\\item[h\\textbackslash{}\\_48] 36.1377631032349\n\\item[h\\textbackslash{}\\_9] 37.0064661732836\n\\item[h\\textbackslash{}\\_206] 36.8602092044358\n\\item[h\\textbackslash{}\\_615] 36.7732000217734\n\\item[h\\textbackslash{}\\_511] 36.8565591851827\n\\item[h\\textbackslash{}\\_380] 36.6475737103955\n\\item[h\\textbackslash{}\\_3] 36.8669172382598\n\\item[h\\textbackslash{}\\_197] 37.8994397299394\n\\item[h\\textbackslash{}\\_213] 36.0818144144129\n\\item[h\\textbackslash{}\\_559] 37.9848223301317\n\\item[h\\textbackslash{}\\_250] 37.1827823718531\n\\item[h\\textbackslash{}\\_7] 37.1190482077993\n\\item[h\\textbackslash{}\\_205] 37.8595826821947\n\\item[h\\textbackslash{}\\_287] 37.2442693011854\n\\item[h\\textbackslash{}\\_635] 41.2918139741569\n\\item[h\\textbackslash{}\\_462] 35.9281405546847\n\\item[h\\textbackslash{}\\_637] 37.3159975342726\n\\item[h\\textbackslash{}\\_12] 36.6197442340972\n\\item[h\\textbackslash{}\\_116] 36.7479043829884\n\\item[h\\textbackslash{}\\_352] 37.2467321529187\n\\item[h\\textbackslash{}\\_103] 35.6263885829251\n\\item[h\\textbackslash{}\\_493] 35.9435797233456\n\\item[h\\textbackslash{}\\_185] 38.711103449265\n\\item[h\\textbackslash{}\\_168] 37.4535848378883\n\\item[h\\textbackslash{}\\_392] 38.528716756353\n\\item[h\\textbackslash{}\\_81] 36.8750773142984\n\\item[h\\textbackslash{}\\_190] 37.6038446959957\n\\item[h\\textbackslash{}\\_568] 37.7341366152829\n\\item[h\\textbackslash{}\\_173] 35.9619772440283\n\\item[h\\textbackslash{}\\_208] 38.6068758671453\n\\item[h\\textbackslash{}\\_501] 36.6955320568152\n\\item[h\\textbackslash{}\\_240] 37.1898240141592\n\\item[h\\textbackslash{}\\_4] 36.3803458527546\n\\item[h\\textbackslash{}\\_597] 38.4484855473268\n\\item[h\\textbackslash{}\\_11] 39.9103908816466\n\\item[h\\textbackslash{}\\_49] 38.0707993865328\n\\item[h\\textbackslash{}\\_237] 38.4679156276932\n\\item[h\\textbackslash{}\\_322] 39.764153857528\n\\item[h\\textbackslash{}\\_614] 41.012389610949\n\\item[h\\textbackslash{}\\_440] 36.2463638214711\n\\item[h\\textbackslash{}\\_409] 38.3737923286641\n\\item[h\\textbackslash{}\\_188] 39.3902442897783\n\\item[h\\textbackslash{}\\_466] 38.8313736042947\n\\item[h\\textbackslash{}\\_21] 37.8384112692073\n\\item[h\\textbackslash{}\\_464] 37.454239152326\n\\item[h\\textbackslash{}\\_14] 35.8844589438541\n\\item[h\\textbackslash{}\\_36] 37.149635240028\n\\item[h\\textbackslash{}\\_148] 38.687012490568\n\\item[h\\textbackslash{}\\_325] 36.6844920481196\n\\item[h\\textbackslash{}\\_340] 36.5538888973207\n\\item[h\\textbackslash{}\\_607] 38.8927007625439\n\\item[h\\textbackslash{}\\_467] 35.9398642515151\n\\item[h\\textbackslash{}\\_634] 36.5727820423236\n\\item[h\\textbackslash{}\\_528] 38.4623551238433\n\\item[h\\textbackslash{}\\_230] 38.4699815732845\n\\item[h\\textbackslash{}\\_622] 36.2082763383279\n\\item[h\\textbackslash{}\\_465] 40.7771042725547\n\\item[h\\textbackslash{}\\_391] 37.5779595733579\n\\item[h\\textbackslash{}\\_396] 40.5207834080649\n\\item[h\\textbackslash{}\\_335] 37.2297441339653\n\\item[h\\textbackslash{}\\_487] 37.0423569608572\n\\item[h\\textbackslash{}\\_35] 38.9083238301931\n\\item[h\\textbackslash{}\\_400] 36.3427274679762\n\\item[h\\textbackslash{}\\_309] 38.8115202481198\n\\item[h\\textbackslash{}\\_37] 36.4019143189269\n\\item[h\\textbackslash{}\\_227] 38.283951810257\n\\item[h\\textbackslash{}\\_545] 38.0803980704824\n\\item[h\\textbackslash{}\\_196] 41.0541251395456\n\\item[h\\textbackslash{}\\_125] 37.71509336135\n\\item[h\\textbackslash{}\\_584] 37.4390444569369\n\\item[h\\textbackslash{}\\_431] 38.31470901221\n\\item[h\\textbackslash{}\\_427] 36.5389986745252\n\\item[h\\textbackslash{}\\_30] 39.8072318701182\n\\item[h\\textbackslash{}\\_119] 39.8272820683953\n\\item[h\\textbackslash{}\\_332] 38.583493440478\n\\item[h\\textbackslash{}\\_489] 37.01769115112\n\\item[h\\textbackslash{}\\_104] 40.0171335642965\n\\end{description*}\n",
            "text/plain": [
              "   h_377     h_28     h_20    h_491    h_403    h_128    h_600    h_402 \n",
              "39.32619 36.52849 36.97699 39.26491 36.19782 36.47809 35.85077 35.77059 \n",
              "    h_64    h_473    h_633    h_540    h_429    h_253     h_75    h_514 \n",
              "38.39027 36.94031 36.29565 38.18633 36.05868 38.06187 36.95333 38.52378 \n",
              "   h_231     h_16     h_84    h_348    h_338     h_60    h_415    h_344 \n",
              "35.74277 41.06936 38.62839 35.82393 35.65520 37.79450 38.00586 36.71711 \n",
              "   h_115    h_355    h_523    h_189    h_143    h_468    h_370    h_142 \n",
              "35.70526 35.64720 36.39534 37.45506 37.64950 36.89740 38.02007 37.86498 \n",
              "   h_611    h_626    h_585     h_78     h_65    h_226    h_537    h_285 \n",
              "38.86914 36.06418 35.86172 37.76451 36.42847 37.66854 36.69980 37.00612 \n",
              "   h_194    h_177     h_54    h_609    h_580    h_239    h_157    h_181 \n",
              "38.25909 36.19531 37.80371 37.87296 39.18346 36.91273 35.67396 36.45611 \n",
              "   h_155    h_472    h_590    h_110    h_327     h_68    h_485    h_107 \n",
              "38.76688 38.31086 36.68879 38.71580 39.76958 37.06485 36.85466 37.52432 \n",
              "   h_643    h_583     h_73    h_387    h_390    h_565     h_86    h_329 \n",
              "37.17053 40.27869 37.48374 40.71403 37.50951 38.18224 36.02680 38.42693 \n",
              "   h_587    h_333    h_425    h_198    h_140     h_15    h_267    h_564 \n",
              "36.36186 37.53567 36.00618 36.08655 36.21225 38.28530 36.47293 37.30190 \n",
              "   h_172     h_42    h_570     h_98    h_319    h_330    h_275     h_29 \n",
              "36.77208 36.74702 35.61755 35.69762 36.54627 35.70224 38.03082 36.37922 \n",
              "   h_242    h_192    h_245    h_243    h_478    h_606     h_18    h_184 \n",
              "36.98019 38.71755 36.54554 39.47890 36.44739 36.11306 36.26733 36.27175 \n",
              "   h_574    h_101    h_347    h_589    h_320    h_605    h_522    h_305 \n",
              "41.11949 35.66008 37.12901 36.39521 37.81169 36.99805 37.65536 38.31248 \n",
              "    h_89    h_121    h_366    h_321    h_235    h_423    h_223    h_362 \n",
              "36.21806 37.08669 35.79434 38.85432 38.13026 36.52867 35.80541 38.90207 \n",
              "    h_50    h_279    h_336    h_337     h_17    h_509    h_195    h_381 \n",
              "36.36247 37.16606 36.87180 40.96823 40.77421 38.77720 36.82536 36.18154 \n",
              "   h_346    h_215    h_416    h_218    h_141    h_618    h_112    h_108 \n",
              "37.08791 37.52383 38.71862 39.32535 36.09387 36.03549 37.74262 39.83995 \n",
              "   h_382    h_153    h_548    h_199    h_594    h_200    h_114    h_642 \n",
              "37.76260 36.71535 37.27618 36.77410 37.92545 39.73631 37.86141 39.67140 \n",
              "   h_598    h_214    h_454    h_601    h_490    h_176    h_367    h_586 \n",
              "37.38329 38.77527 37.64661 35.79534 35.90880 39.05138 36.36062 39.17519 \n",
              "   h_422    h_538    h_498    h_291    h_397    h_326    h_334    h_459 \n",
              "37.67516 36.75322 36.78399 38.65935 37.76399 36.38005 37.22603 38.54940 \n",
              "   h_323    h_648    h_343    h_515    h_481    h_315    h_331    h_536 \n",
              "39.75940 36.34816 37.10924 36.42000 37.80206 38.89225 36.12163 37.45842 \n",
              "   h_456    h_270    h_133    h_475     h_82    h_480    h_187    h_385 \n",
              "35.73674 37.43248 36.88966 37.02855 36.96166 36.18956 37.70274 37.13492 \n",
              "   h_100    h_171    h_445     h_33    h_138    h_354    h_562    h_521 \n",
              "35.61562 37.05938 37.75164 38.30848 36.86076 38.96491 35.66458 37.30512 \n",
              "   h_277    h_127    h_640    h_318    h_146    h_224     h_61     h_63 \n",
              "37.06469 39.17209 37.51467 37.43801 35.72463 36.24184 39.20497 35.60490 \n",
              "   h_444    h_578    h_262    h_295    h_358    h_306    h_582    h_450 \n",
              "39.00267 36.64600 39.15104 38.42782 38.23185 37.71514 37.79659 37.96135 \n",
              "    h_55    h_458    h_283    h_313    h_303    h_364    h_210    h_220 \n",
              "36.20946 37.84585 38.34991 36.22754 39.47367 39.32355 36.33581 37.36678 \n",
              "   h_471     h_83    h_531    h_638    h_225    h_439    h_248     h_34 \n",
              "36.92474 37.31414 37.68757 38.47369 35.91725 40.26658 39.74621 38.88973 \n",
              "   h_376    h_602    h_405    h_149    h_351    h_412    h_307    h_314 \n",
              "36.26832 38.24424 40.11297 37.39994 36.64083 36.89966 39.36490 35.81770 \n",
              "   h_203    h_154     h_24    h_228    h_463    h_179     h_85    h_527 \n",
              "37.49401 36.10596 39.35833 36.22128 36.84060 35.96357 38.26811 37.22691 \n",
              "   h_255    h_131    h_388     h_91    h_517    h_457    h_159    h_411 \n",
              "38.24920 36.92575 36.45351 39.07550 41.93538 37.28505 37.58185 38.19282 \n",
              "   h_126    h_529    h_549    h_588    h_604    h_132    h_408    h_424 \n",
              "38.62908 36.18336 38.00209 36.72735 36.94992 39.67215 40.84828 36.35463 \n",
              "   h_216    h_398    h_418    h_488    h_525    h_166     h_10    h_500 \n",
              "36.31848 40.00610 39.28755 37.50196 35.81217 37.44765 37.02821 37.39521 \n",
              "   h_259      h_5      h_8     h_66     h_43    h_446    h_383    h_339 \n",
              "37.53506 38.11782 37.42105 36.90878 39.78280 37.25382 37.59017 38.36138 \n",
              "   h_289     h_67    h_316    h_244    h_610    h_147     h_26    h_443 \n",
              "36.30053 38.76915 37.69636 36.51950 38.29978 38.88541 36.44843 36.74431 \n",
              "   h_174    h_579    h_145    h_105    h_264    h_603    h_232    h_111 \n",
              "37.22530 36.88778 37.72770 39.24061 36.94457 36.69312 36.48082 36.03674 \n",
              "     h_6    h_241    h_512    h_372    h_118     h_72     h_77    h_608 \n",
              "38.78867 37.10115 38.16786 36.59453 38.43627 40.77840 38.29579 38.02526 \n",
              "    h_46     h_19    h_384    h_535    h_448    h_254     h_47    h_414 \n",
              "38.98201 37.31535 37.63585 38.77271 38.88784 38.70759 36.46766 35.89588 \n",
              "   h_553    h_455    h_297    h_621    h_497    h_496    h_461    h_300 \n",
              "36.42922 36.82847 37.73883 37.38764 40.24348 41.46855 35.92054 37.44870 \n",
              "   h_477    h_406     h_69    h_566     h_44     h_96    h_395    h_508 \n",
              "38.56924 35.62004 37.25856 35.96752 38.26525 37.99489 37.84099 37.68898 \n",
              "    h_32    h_288    h_201    h_274    h_639    h_284    h_278    h_222 \n",
              "35.89274 37.64439 36.88831 38.60199 39.77099 38.84405 37.03624 38.66131 \n",
              "   h_251    h_613    h_209    h_261    h_124    h_193    h_109    h_280 \n",
              "39.11667 37.61559 36.30821 38.73399 37.81392 38.72855 36.98409 38.47871 \n",
              "    h_70     h_71    h_649    h_576    h_158    h_430    h_139     h_22 \n",
              "36.67668 35.62791 39.48018 39.29130 38.22208 38.82302 38.36499 38.06300 \n",
              "   h_616    h_361    h_161    h_542     h_48      h_9    h_206    h_615 \n",
              "36.50852 36.99670 37.12400 37.19238 40.45367 38.90645 37.21519 36.98157 \n",
              "   h_511    h_380      h_3    h_197    h_213    h_559    h_250      h_7 \n",
              "38.18241 36.92718 38.31080 40.31250 36.57315 35.74600 36.20479 37.13703 \n",
              "   h_205    h_287    h_635    h_462    h_637     h_12    h_116    h_352 \n",
              "39.81594 39.41226 38.62852 37.48762 36.45627 38.17931 39.30092 36.52471 \n",
              "   h_103    h_493    h_185    h_168    h_392     h_81    h_190    h_568 \n",
              "36.03388 36.92547 37.54148 38.94855 35.71690 37.76166 38.87032 36.19184 \n",
              "   h_173    h_208    h_501    h_240      h_4    h_597     h_11     h_49 \n",
              "39.87234 36.39321 35.91458 39.34364 35.88806 37.33507 37.30444 39.68259 \n",
              "   h_237    h_322    h_614    h_440    h_409    h_188    h_466     h_21 \n",
              "36.68518 37.88249 36.49268 36.98658 36.46691 41.82817 36.23167 37.03488 \n",
              "   h_464     h_14     h_36    h_148    h_325    h_340    h_607    h_467 \n",
              "41.88432 36.26825 36.44816 39.82422 36.91645 38.21660 36.03790 40.04535 \n",
              "   h_634    h_528    h_230    h_622    h_465    h_391    h_396    h_335 \n",
              "41.60445 38.54885 36.01754 36.23790 35.71122 39.07057 38.05086 41.99342 \n",
              "   h_487     h_35    h_400    h_309     h_37    h_227    h_545    h_196 \n",
              "40.47002 35.67577 39.53802 35.69226 36.16853 38.03082 37.41036 38.37234 \n",
              "   h_125    h_584    h_431    h_427     h_30    h_119    h_332    h_489 \n",
              "37.31334 35.63106 37.74150 39.66140 36.91873 39.48913 36.75144 36.80067 \n",
              "   h_104    h_271    h_560     h_62    h_526    h_164    h_419    h_296 \n",
              "38.20346 37.21681 38.66632 38.48900 38.23788 36.94472 38.70535 37.81544 \n",
              "   h_162    h_301     h_27    h_502    h_342    h_479    h_577    h_102 \n",
              "37.53341 36.32116 37.47312 38.65396 38.82656 41.51457 40.10099 36.54001 \n",
              "   h_394    h_260    h_441    h_627    h_407    h_360    h_595    h_596 \n",
              "36.75653 40.50481 35.96427 37.60551 37.94534 37.43091 37.21552 37.66633 \n",
              "    h_53    h_163     h_41    h_510     h_99    h_269     h_76    h_438 \n",
              "37.24332 35.94354 37.56745 36.22496 35.76789 39.48867 38.90124 37.98341 \n",
              "    h_90    h_349    h_156    h_612    h_258     h_25    h_373    h_217 \n",
              "37.79495 36.08166 37.93629 39.42158 37.91748 37.08738 36.55369 38.76317 \n",
              "    h_57    h_650    h_256    h_550    h_144    h_106    h_561      h_2 \n",
              "39.62038 38.99816 39.54642 37.65899 36.27943 35.97128 36.78780 37.73265 \n",
              "    h_94    h_236     h_56    h_413    h_249    h_265    h_495    h_563 \n",
              "41.42245 38.85178 39.55182 37.48460 39.11031 40.95220 36.87100 35.88795 \n",
              "   h_507    h_420     h_95    h_410    h_539    h_629    h_499    h_442 \n",
              "35.95800 41.08103 35.90023 36.37087 37.33690 37.85186 36.00630 37.82470 \n",
              "   h_170    h_435    h_592    h_317    h_389    h_286    h_476    h_356 \n",
              "35.91394 37.51358 36.31831 36.75478 36.59781 39.39746 35.61042 37.15357 \n",
              "    h_52    h_293    h_503    h_123    h_135    h_552     h_13    h_257 \n",
              "35.96755 36.54619 37.14814 36.34655 37.09837 36.99238 36.13804 37.15600 \n",
              "   h_482    h_636    h_556    h_136    h_504    h_547    h_519    h_617 \n",
              "35.71502 38.42396 35.71203 39.46999 39.07300 37.06080 39.50806 35.79023 \n",
              "   h_186    h_341    h_369    h_276    h_469    h_350    h_447    h_302 \n",
              "41.40354 37.83620 37.96606 36.30845 37.17302 37.23295 36.47451 38.31847 \n",
              "   h_401    h_630    h_544    h_524     h_23    h_646    h_484    h_433 \n",
              "39.56908 37.73911 37.17142 36.53975 37.01131 40.50183 37.06424 36.01114 \n",
              "   h_268    h_572    h_298    h_631    h_543    h_483    h_628    h_294 \n",
              "36.68450 38.29765 38.92573 37.41222 36.92989 36.50587 36.48270 39.11533 \n",
              "    h_88    h_150    h_452     h_79    h_453    h_417     h_93    h_282 \n",
              "39.11257 40.10825 38.62153 36.46952 36.85728 37.69988 37.22015 36.12777 \n",
              "   h_632    h_404    h_304    h_263    h_375    h_211    h_460    h_202 \n",
              "36.91529 37.58506 39.33771 37.21934 38.71732 36.72522 38.96302 37.48171 \n",
              "   h_167    h_247    h_374    h_555    h_345    h_541    h_569     h_40 \n",
              "38.22261 38.09322 36.43265 37.44363 35.82128 35.90939 41.47627 37.41155 \n",
              "   h_281     h_80    h_532    h_449    h_178    h_134    h_117    h_581 \n",
              "38.20621 38.34570 39.10976 37.42116 36.65953 35.62039 35.84931 37.43736 \n",
              "   h_492    h_620    h_212    h_365    h_533    h_619    h_520    h_266 \n",
              "40.91499 40.41134 39.30766 36.21567 36.58927 39.04406 35.62969 36.83795 \n",
              "    h_31    h_644    h_183    h_474     h_97    h_551      h_1    h_311 \n",
              "38.09098 36.14526 35.61759 39.23360 35.75804 36.18474 35.83994 38.62363 \n",
              "   h_234    h_486    h_310    h_505    h_506    h_204     h_92    h_647 \n",
              "39.71368 37.50619 38.85050 38.06170 37.90746 43.27991 36.42071 38.96146 \n",
              "   h_379     h_74    h_207    h_328    h_169    h_252     h_59    h_120 \n",
              "37.11592 38.46811 36.17068 37.22703 37.62632 36.13776 37.00647 36.86021 \n",
              "   h_221     h_51    h_160    h_353    h_516    h_152    h_599    h_494 \n",
              "36.77320 36.85656 36.64757 36.86692 37.89944 36.08181 37.98482 37.18278 \n",
              "   h_518    h_292    h_357    h_246    h_151    h_437    h_513    h_180 \n",
              "37.11905 37.85958 37.24427 41.29181 35.92814 37.31600 36.61974 36.74790 \n",
              "   h_436    h_165    h_368    h_470    h_273    h_567    h_399    h_378 \n",
              "37.24673 35.62639 35.94358 38.71110 37.45358 38.52872 36.87508 37.60384 \n",
              "   h_624    h_530    h_122     h_87    h_451    h_593     h_58    h_129 \n",
              "37.73414 35.96198 38.60688 36.69553 37.18982 36.38035 38.44849 39.91039 \n",
              "   h_175    h_546    h_428     h_39    h_113    h_290    h_554    h_393 \n",
              "38.07080 38.46792 39.76415 41.01239 36.24636 38.37379 39.39024 38.83137 \n",
              "   h_623    h_434    h_324    h_557    h_238    h_308    h_432    h_233 \n",
              "37.83841 37.45424 35.88446 37.14964 38.68701 36.68449 36.55389 38.89270 \n",
              "   h_571    h_591    h_641    h_645    h_359    h_575    h_573    h_312 \n",
              "35.93986 36.57278 38.46236 38.46998 36.20828 40.77710 37.57796 40.52078 \n",
              "   h_219    h_426     h_38    h_299    h_229    h_130    h_386    h_363 \n",
              "37.22974 37.04236 38.90832 36.34273 38.81152 36.40191 38.28395 38.08040 \n",
              "   h_182    h_191     h_45    h_137    h_625    h_272    h_558    h_421 \n",
              "41.05413 37.71509 37.43904 38.31471 36.53900 39.80723 39.82728 38.58349 \n",
              "   h_534    h_371 \n",
              "37.01769 40.01713 "
            ]
          },
          "metadata": {}
        }
      ]
    },
    {
      "cell_type": "markdown",
      "metadata": {
        "id": "8E8M86XJw-lm"
      },
      "source": [
        "## Pregunta 2.2\n",
        "\n",
        "Adicionalmente, se cuenta con la información de síntomas presentados por cada presona registrada. Esta información se encuentra disponible en el archivo `sintomas.rds`.\n",
        "\n",
        "**2a) (1pt)** Cargue el archivo `sintomas.rds` en una variable llamada _sintomas_.<br>\n",
        "**2b) (1pt)** ¿Cuál es la clase de este objeto?.<br>\n",
        "**2c) (1pt)** Note que cada fila undica con un 1 si la persona presentó el respectivo síntoma y 0 si no. ¿Qué sintomas presentó la persona ubicada en el registro 450?.<br>\n",
        "**2d) (2pts)** ¿Qué síntomas y qué temperatura presentó la persona con id \"h_537\"?. Si es le es de utilidad puede utilizar la función `rownames()`, la cual permite obtener los nombres (id) de las filas de una matriz.<br>\n",
        "\n"
      ]
    },
    {
      "cell_type": "code",
      "metadata": {
        "trusted": true,
        "id": "k6PDfNW-w-ln"
      },
      "source": [
        "# P2 .2\n",
        "## Respuestas:\n"
      ],
      "execution_count": null,
      "outputs": []
    },
    {
      "cell_type": "markdown",
      "metadata": {
        "id": "D9wwbbDiw-lp"
      },
      "source": [
        "## Nota de utilidad\n",
        "\n",
        "Ya sea trabajando con un vector, matriz, data.frame o lista, es posible omitir la selección de alguna(s) de sus posiciones (filas/columnas o slots). Esto se puede llevar a cabo de diversas maneras, por ejemplo:"
      ]
    },
    {
      "cell_type": "code",
      "metadata": {
        "trusted": true,
        "id": "XMx7FDhuw-lp"
      },
      "source": [
        "# Primero creamos un vector, una matriz, un data.frame  y una lista \n",
        "\n",
        "vec <- c(v1 = 1, v2 = 2, v3 = 3,v4 = 4)\n",
        "mat <- cbind(c(1,1),c(2,2),c(3,3),c(4,4) ) ; rownames(mat) <- c(\"f1\",\"f2\"); colnames(mat) <- c(\"c1\",\"c2\",\"c3\",\"c4\")\n",
        "dat <- as.data.frame(mat)\n",
        "lis <- list(s1 = c(1,1), s2 = c(2,2), s3 = c(3,3) , s4 = c(4,4))\n"
      ],
      "execution_count": null,
      "outputs": []
    },
    {
      "cell_type": "markdown",
      "metadata": {
        "id": "3GKLXdU6w-lr"
      },
      "source": [
        "### Omisión por posición"
      ]
    },
    {
      "cell_type": "code",
      "metadata": {
        "trusted": true,
        "id": "TEdJr4A2w-lr"
      },
      "source": [
        "#Si queremos omitir el primer y tercer elmento del vector y la lista\n",
        "vec[-c(1,3)]\n",
        "lis[-c(1,3)]\n",
        "\n",
        "# Misma idea si queremos omitir columnas de una matriz (o data.frame)\n",
        "mat[,-c(1,3)]\n",
        "dat[,-c(1,3)]"
      ],
      "execution_count": null,
      "outputs": []
    },
    {
      "cell_type": "markdown",
      "metadata": {
        "id": "R1-ir6Utw-lt"
      },
      "source": [
        "### Omisión por nombres"
      ]
    },
    {
      "cell_type": "code",
      "metadata": {
        "trusted": true,
        "id": "5JOWR5Isw-lu"
      },
      "source": [
        "# Por ahora tendremos que ubicar las posiciones de los nombres deseados.\n",
        "\n",
        "pos_vec <- which(names(vec) %in% c(\"v1\",\"v3\"))\n",
        "pos_lis <- which(names(lis) %in% c(\"s1\",\"s3\"))\n",
        "pos_mat <- which(colnames(mat) %in% c(\"c1\",\"c3\"))\n",
        "pos_dat <- which(names(dat) %in% c(\"c1\",\"c3\"))\n",
        "\n",
        "vec[-pos_vec]\n",
        "lis[-pos_lis]\n",
        "\n",
        "# Misma idea si queremos omitir columnas de una matriz (o data.frame)\n",
        "mat[,-pos_mat]\n",
        "dat[,-pos_dat]"
      ],
      "execution_count": null,
      "outputs": []
    },
    {
      "cell_type": "markdown",
      "metadata": {
        "id": "yMUBRR53w-lw"
      },
      "source": [
        "Más adelante veremos otras alternivas, como por ejemplo, utilizando funciones del package `dplyr`.\n",
        "\n",
        "## Pregunta 2.3\n",
        "\n",
        "Con la ayuda de las funciones `rowSums()` y `colSums()`, identifique lo siguiente.\n",
        "\n",
        "  **3a) (3pt)** ¿Cuántos registros presentaron exactamente los 4 síntomas?<br>\n",
        "  **3b) (1pt)** ¿Cúantas personas presentaron tos? <br>\n",
        "  **3c) (2pt)** ¿Cuál es el síntoma más frecuente?<br>\n",
        "  "
      ]
    },
    {
      "cell_type": "code",
      "metadata": {
        "trusted": true,
        "id": "-2-rqq3mw-lw"
      },
      "source": [
        "# P3\n",
        "##Respuestas:\n"
      ],
      "execution_count": null,
      "outputs": []
    },
    {
      "cell_type": "markdown",
      "metadata": {
        "id": "faytFSoKw-ly"
      },
      "source": [
        "## Pregunta 2.4\n",
        "\n",
        "**4a) (1pt)** La función `as.data.frame()` permite coercionar un objeto de otra clase a `data.frame`.\n",
        "cree una variable llamada `sintomas_df` con la información  de sintomas pero como data.frame.<br>\n",
        "**4b) (1pts)**\n",
        "Se puede observar que los ids solo están disponibles en los nombres de las filas. Sin embargo esútil tener esta información como una columna más de la tabla. Para ello **cree una nueva columna en la tabla sintomas_df** llamada `id` que contenga los ids de cada registro. \n",
        "\n",
        "NOTA: El orden de las filas no ha variado por lo que podemos añadir la columna sin mayores precauciones.<br>\n",
        "**4c) (2pts)** ¿Cuántas personas **sólo** presentaron tos y dolor de cabeza?<br>\n",
        "**4d) (1pt)** Se sabe que una persona tiene fiebre cuando su temperatura es mayor o igual a los 37.2°. **Cree una nueva columna en la tabla sintomas_df** llamada `tiene_fiebre` que contenga `TRUE` cuando tiene fiebre y `FALSE` en caso contrario. \n",
        "\n"
      ]
    },
    {
      "cell_type": "code",
      "metadata": {
        "trusted": true,
        "id": "HKt66rfow-lz"
      },
      "source": [
        "# P4\n",
        "#Respuestas:\n"
      ],
      "execution_count": null,
      "outputs": []
    }
  ]
}
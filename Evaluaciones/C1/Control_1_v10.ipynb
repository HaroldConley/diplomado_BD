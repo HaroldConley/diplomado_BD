{
  "nbformat": 4,
  "nbformat_minor": 0,
  "metadata": {
    "colab": {
      "name": "Control_1_v10.ipynb",
      "provenance": [],
      "collapsed_sections": [],
      "include_colab_link": true
    },
    "kernelspec": {
      "name": "ir",
      "display_name": "R"
    }
  },
  "cells": [
    {
      "cell_type": "markdown",
      "metadata": {
        "id": "view-in-github",
        "colab_type": "text"
      },
      "source": [
        "<a href=\"https://colab.research.google.com/github/HaroldConley/diplomado_BD/blob/main/Evaluaciones/C1/Control_1_v10.ipynb\" target=\"_parent\"><img src=\"https://colab.research.google.com/assets/colab-badge.svg\" alt=\"Open In Colab\"/></a>"
      ]
    },
    {
      "cell_type": "markdown",
      "metadata": {
        "id": "SvIjRoDOw-lT"
      },
      "source": [
        "# Control 1: Sintaxis básica y manipulación de objetos simples en R\n"
      ]
    },
    {
      "cell_type": "markdown",
      "metadata": {
        "trusted": true,
        "id": "wGflY0eCw-lT"
      },
      "source": [
        "Nombre 1: Harold Conley M.                                                                                                                                 <br> \n",
        "Nombre 2: _Puede incluir su nombre acá haciendo doble click_   \n",
        "\n",
        "# Instrucciones\n",
        "\n",
        "El siguiente test podrá desarrollarlo de manera individual o en pareja con otro(a) de sus compañeros(as).<br>\n",
        "\n",
        "Lea atentamente cada una de las preguntas propuestas y sea claro en los comentarios (si es que los incluye) de los desarrollos de sus respuestas. Para el desarrollo de las mismas, dispone de celdas de código después de cada pregunta. Sin embargo podrá agregar más celdas si así lo estima conveniente.<br>\n",
        "Las preguntas formuladas en este test pueden ser abordadas con las herramientas trabajadas en clases, sin embaro, usted podrá hacer uso de las funcionalidades y/o packages que estime convenientes, a menos que se indique explícitamente lo contrario.\n",
        "\n",
        "## Tiempo y entrega\n",
        "Dispondrán hasta el día lunes **15 de julio** hasta las 23:59 hrs para hacer envío de sus respuestas.\n",
        "Una vez finalizado el desarrollo del test, deberá entregarlo teniendo en cuenta las siguientes consideraciones :\n",
        "\n",
        " * Descargue el notebook en **formato `*.ipynb`** (uno por pareja), e indique en el nombre del archivo los nombres de los integrantes, `Control1_nombres_integrantes.ipynb`. \n",
        " \n",
        " * En caso de trabajar en Rstudio, deberá enviar el script de extensión `*.R` con el siguiente nombre: `Control1_nombres_integrantes.R` , **procurando indicar con comentarios claros, qué pregunta está respondiendo en cada caso**.\n",
        " * Envíe el archivo al correo rumorale1@gmail.com, con copia a majorquev@gmail.com con el asunto \"DBDC-R-C1: 'nombre y apellido de los integrantes' \"\n",
        " \n",
        "**NOTA**: \n",
        "   * Los correos cuyo asunto no comiencen con \"DBDC-R-C1\" no llegarán a destino y por ende no serán calificados.\n",
        "   * Los archivos que no contengan nombre serán calificados con la nota mínima 1.0.\n",
        "   * Los correos enviados posterior a la fecha y hora de entrega indicados tendrán una penalización de 1 punto por día (o fracción) de retraso en la entrega, por ejemplo, si usted envía sus respuestas a las 00:05 hrs del domingo 16 de julio, su nota máxima será un 6.0."
      ]
    },
    {
      "cell_type": "markdown",
      "metadata": {
        "id": "CRurl8ANw-lU"
      },
      "source": [
        "# Sección 1\n",
        "\n",
        "La siguiente línea de código permite cargar en memoria, un objeto de extensión *.rds que está almacenado en el disco de la máquina en la ruta actual de trabajo.\n",
        "\n",
        "Este archivo contiene la información de los contagios por COVID-19 en nuestsro país, según las cifras oficiales entregadas por el ministerio de salud para lo que del año 2022 hasta el 22 de abril. En el archivo encontrará, para cada mes, el total de casos diarios desglosados según:\n",
        "   * 'casos_nuevos_con_sintomas': casos nuevos con síntomas del día.\n",
        "   * 'casos_totales' : casos acumulados a la fecha.\n",
        "   * 'casos_recuperados': casos recuperados acumulados a la fecha.\n",
        "   * 'fallecidos': casos fallecidos acumulados.\n",
        "   * 'casos_activos': casos activos a la fecha.\n",
        "   * 'casos_nuevos_sin_sintomas': casos asintomáticos del día.\n",
        "   * 'casos_nuevos_totales': suma de  casos asintomáticos más casos con síntomas del día, más casos nuevos sin notificar.\n",
        " \n",
        " Si bien no será utilizados en este trabajo, también econtrán nuevos registros de acuerdo a los últimos cambios en la metodología de conteo. Para más info pueden referirse al siguiente link:\n",
        " https://github.com/MinCiencia/Datos-COVID19/tree/master/output/producto5\n",
        " \n",
        "   * 'casos_activos_por_fd'\n",
        "   * 'casos_activos_por_fis'\n",
        "   * 'casos_recuperados_por_fis'\n",
        "   * 'casos_recuperados_por_fd' \n",
        "   * 'casos_confirmados_recuperados'\n",
        "   * 'casos_activos_confirmados'\n",
        "   * 'casos_probables_acumulados'\n",
        "   * 'casos_activos_probables'\n",
        "\n"
      ]
    },
    {
      "cell_type": "code",
      "source": [
        "getwd()\n",
        "library(\"dplyr\")"
      ],
      "metadata": {
        "colab": {
          "base_uri": "https://localhost:8080/",
          "height": 277
        },
        "id": "YgXBZ4zMYvXD",
        "outputId": "03f1344b-c412-4e6f-ecd9-e9deabb3666f"
      },
      "execution_count": 1,
      "outputs": [
        {
          "output_type": "display_data",
          "data": {
            "text/html": [
              "'/content'"
            ],
            "text/markdown": "'/content'",
            "text/latex": "'/content'",
            "text/plain": [
              "[1] \"/content\""
            ]
          },
          "metadata": {}
        },
        {
          "output_type": "stream",
          "name": "stderr",
          "text": [
            "\n",
            "Attaching package: ‘dplyr’\n",
            "\n",
            "\n",
            "The following objects are masked from ‘package:stats’:\n",
            "\n",
            "    filter, lag\n",
            "\n",
            "\n",
            "The following objects are masked from ‘package:base’:\n",
            "\n",
            "    intersect, setdiff, setequal, union\n",
            "\n",
            "\n"
          ]
        }
      ]
    },
    {
      "cell_type": "code",
      "metadata": {
        "trusted": true,
        "id": "UejLBfGIw-lV"
      },
      "source": [
        "# Carga de casos\n",
        "casos <- readRDS(\"covid_2022.rds\") # Recuerde que el archivo de estar en su directorio de trabajo"
      ],
      "execution_count": 3,
      "outputs": []
    },
    {
      "cell_type": "markdown",
      "metadata": {
        "id": "ftnV7vyIw-lY"
      },
      "source": [
        "## Pregunta 1.1\n",
        "\n",
        "**1a) (1pt)** ¿Qué clase de objetos es `casos`? <br>\n",
        "**1b) (1pt)** ¿Cuántos elementos posee este objeto?<br>\n",
        "**1c) (1pt)** ¿Cuáles son los nombres de este objeto?<br>\n",
        "**1d) (2pt)** ¿Qué clase de objeto está almacenado en sl _slot_ correspondiente al mes de marzo (\"mar\") y cuántos elementos posee?<br>\n",
        "**1e) (2pt)** Para el mes de marzo, ¿a qué clase de objeto corresponde `casos_totales` y cuántos elementos posee?\n",
        "\n",
        "\n"
      ]
    },
    {
      "cell_type": "code",
      "metadata": {
        "trusted": true,
        "scrolled": false,
        "id": "F73UhWWow-lY",
        "colab": {
          "base_uri": "https://localhost:8080/",
          "height": 139
        },
        "outputId": "346d584f-7eac-4c80-a41a-adb9e6d5e301"
      },
      "source": [
        "# P1.1\n",
        "## Respuesta\n",
        "\n",
        "### 1a)\n",
        "casos %>% class() ## Clase \"list\"\n",
        "\n",
        "### 1b)\n",
        "casos %>% length() ## Son 4 elementos\n",
        "\n",
        "### 1c)\n",
        "casos %>% names() ## 'ene', 'feb', 'mar', 'abr'\n",
        "\n",
        "### 1d)\n",
        "casos$mar %>% class() ## 'list'\n",
        "casos$mar %>% length() ## 21 elementos\n",
        "\n",
        "### 1e)\n",
        "casos$mar$casos_totales %>% class() ## 'data.frame'\n",
        "casos$mar$casos_totales %>% length() ## 2 elementos"
      ],
      "execution_count": 4,
      "outputs": [
        {
          "output_type": "display_data",
          "data": {
            "text/html": [
              "'list'"
            ],
            "text/markdown": "'list'",
            "text/latex": "'list'",
            "text/plain": [
              "[1] \"list\""
            ]
          },
          "metadata": {}
        },
        {
          "output_type": "display_data",
          "data": {
            "text/html": [
              "4"
            ],
            "text/markdown": "4",
            "text/latex": "4",
            "text/plain": [
              "[1] 4"
            ]
          },
          "metadata": {}
        },
        {
          "output_type": "display_data",
          "data": {
            "text/html": [
              "<style>\n",
              ".list-inline {list-style: none; margin:0; padding: 0}\n",
              ".list-inline>li {display: inline-block}\n",
              ".list-inline>li:not(:last-child)::after {content: \"\\00b7\"; padding: 0 .5ex}\n",
              "</style>\n",
              "<ol class=list-inline><li>'ene'</li><li>'feb'</li><li>'mar'</li><li>'abr'</li></ol>\n"
            ],
            "text/markdown": "1. 'ene'\n2. 'feb'\n3. 'mar'\n4. 'abr'\n\n\n",
            "text/latex": "\\begin{enumerate*}\n\\item 'ene'\n\\item 'feb'\n\\item 'mar'\n\\item 'abr'\n\\end{enumerate*}\n",
            "text/plain": [
              "[1] \"ene\" \"feb\" \"mar\" \"abr\""
            ]
          },
          "metadata": {}
        },
        {
          "output_type": "display_data",
          "data": {
            "text/html": [
              "'list'"
            ],
            "text/markdown": "'list'",
            "text/latex": "'list'",
            "text/plain": [
              "[1] \"list\""
            ]
          },
          "metadata": {}
        },
        {
          "output_type": "display_data",
          "data": {
            "text/html": [
              "21"
            ],
            "text/markdown": "21",
            "text/latex": "21",
            "text/plain": [
              "[1] 21"
            ]
          },
          "metadata": {}
        },
        {
          "output_type": "display_data",
          "data": {
            "text/html": [
              "'data.frame'"
            ],
            "text/markdown": "'data.frame'",
            "text/latex": "'data.frame'",
            "text/plain": [
              "[1] \"data.frame\""
            ]
          },
          "metadata": {}
        },
        {
          "output_type": "display_data",
          "data": {
            "text/html": [
              "2"
            ],
            "text/markdown": "2",
            "text/latex": "2",
            "text/plain": [
              "[1] 2"
            ]
          },
          "metadata": {}
        }
      ]
    },
    {
      "cell_type": "markdown",
      "metadata": {
        "id": "y-VJ9lcnw-lb"
      },
      "source": [
        "## Pregunta 1.2\n",
        "\n",
        "**2a) (2pts)** ¿Cuántos casos activos existían al 25 de marzo? (indique claramente la expresión de R para obtener el valor solicitado) .<br>\n",
        "**2b) (1pts)** Genere cuatro nuevas variables llamadas `totales_enero`,`totales_febrero` , `totales_marzo` y `totales_abril`, que contengan los dataframes correspondientes al slot `casos_totales` del mes respectivo, (por ejemplo, la variable `totales_marzo` debe contener una dataframe de dimensión $31\\times2$.<br>\n",
        "**2c) (2pts)** Para cada dataframe del paso anterior, genere una nueva columna llamada `mes`, que repita el nombre del mes correspondiente por cada fila.<br>\n",
        "**2d) (3pts)** En cada data.frame, agregue una nueva columna llamada `casos_diarios` que contenga la información correspontiende al total de casos nuevos diarios(`casos_nuevos_totales`).\n",
        "**NOTA:** Note que el orden de los registros está dado por dia_del_mes por lo que no debe preocuparse de reordnar, sólo agregue el vector tal cual está.\n"
      ]
    },
    {
      "cell_type": "code",
      "metadata": {
        "trusted": true,
        "id": "tF3DCzGew-lc",
        "colab": {
          "base_uri": "https://localhost:8080/",
          "height": 34
        },
        "outputId": "c460ba42-e834-4719-9942-6e7300d72623"
      },
      "source": [
        "# P1.2\n",
        "## Respuesta \n",
        "\n",
        "### 2a)\n",
        "casos$mar$casos_activos[casos$mar$casos_activos$dia_del_mes == 25,]$total ## 35824 casos\n",
        "\n",
        "### 2b)\n",
        "totales_enero <- casos$ene$casos_totales\n",
        "totales_febrero <- casos$feb$casos_totales\n",
        "totales_marzo <- casos$mar$casos_totales\n",
        "totales_abril <- casos$abr$casos_totales\n",
        "\n",
        "### 2c)\n",
        "totales_enero['mes'] <- 'Enero'\n",
        "totales_febrero['mes'] <- 'Febrero'\n",
        "totales_marzo['mes'] <- 'Marzo'\n",
        "totales_abril['mes'] <- 'Abril'\n",
        "\n",
        "### 2d)\n",
        "totales_enero['casos_diarios'] <- casos$ene$casos_nuevos_totales$total\n",
        "totales_febrero['casos_diarios'] <- casos$feb$casos_nuevos_totales$total\n",
        "totales_marzo['casos_diarios'] <- casos$mar$casos_nuevos_totales$total\n",
        "totales_abril['casos_diarios'] <- casos$abr$casos_nuevos_totales$total\n"
      ],
      "execution_count": 5,
      "outputs": [
        {
          "output_type": "display_data",
          "data": {
            "text/html": [
              "35824"
            ],
            "text/markdown": "35824",
            "text/latex": "35824",
            "text/plain": [
              "[1] 35824"
            ]
          },
          "metadata": {}
        }
      ]
    },
    {
      "cell_type": "markdown",
      "metadata": {
        "id": "PImL58HIw-le"
      },
      "source": [
        "## Pregunta 1.3\n",
        "\n",
        "**3a) (1pts)** Con la ayuda de la función rbind() (también puede usar bind_rows()) , una las filas de las 4 tablas generadas en la pregunta anterior y guarde la tabla resultante en una variable llamada `casos_hist`.<br>\n",
        "**3b) (1pt)** En promedio, ¿Cuántos casos hay diariamente desde el 01 de enero hasta el 22 de abril del 2022?<br>\n",
        "**3c) (2pts)** En promedio, ¿Cuántos casos hay diariamente **en cada mes** ?.<br>\n",
        "\n",
        "\n"
      ]
    },
    {
      "cell_type": "code",
      "metadata": {
        "trusted": true,
        "id": "TnNTW_oUw-le",
        "colab": {
          "base_uri": "https://localhost:8080/",
          "height": 104
        },
        "outputId": "37d32533-03ab-463c-d7ad-9243d73a07dc"
      },
      "source": [
        "# P1.3\n",
        "## Respuesta \n",
        "\n",
        "### 3a)\n",
        "casos_hist <- totales_enero %>%\n",
        "                rbind(totales_febrero) %>%\n",
        "                rbind(totales_marzo) %>%\n",
        "                rbind(totales_abril)\n",
        "\n",
        "### 3b)\n",
        "casos_hist$casos_diarios %>% mean() ## 14537.2589285714\n",
        "\n",
        "### 3c)\n",
        "casos_hist$casos_diarios[casos_hist$mes == 'Enero'] %>% mean()    ## Enero: 10767.4838709677\n",
        "casos_hist$casos_diarios[casos_hist$mes == 'Febrero'] %>% mean()  ## Febrero: 30089.2142857143\n",
        "casos_hist$casos_diarios[casos_hist$mes == 'Marzo'] %>% mean()    ## Marzo: 12513.1290322581\n",
        "casos_hist$casos_diarios[casos_hist$mes == 'Abril'] %>% mean()    ## Abril: 2908\n"
      ],
      "execution_count": 6,
      "outputs": [
        {
          "output_type": "display_data",
          "data": {
            "text/html": [
              "14537.2589285714"
            ],
            "text/markdown": "14537.2589285714",
            "text/latex": "14537.2589285714",
            "text/plain": [
              "[1] 14537.26"
            ]
          },
          "metadata": {}
        },
        {
          "output_type": "display_data",
          "data": {
            "text/html": [
              "10767.4838709677"
            ],
            "text/markdown": "10767.4838709677",
            "text/latex": "10767.4838709677",
            "text/plain": [
              "[1] 10767.48"
            ]
          },
          "metadata": {}
        },
        {
          "output_type": "display_data",
          "data": {
            "text/html": [
              "30089.2142857143"
            ],
            "text/markdown": "30089.2142857143",
            "text/latex": "30089.2142857143",
            "text/plain": [
              "[1] 30089.21"
            ]
          },
          "metadata": {}
        },
        {
          "output_type": "display_data",
          "data": {
            "text/html": [
              "12513.1290322581"
            ],
            "text/markdown": "12513.1290322581",
            "text/latex": "12513.1290322581",
            "text/plain": [
              "[1] 12513.13"
            ]
          },
          "metadata": {}
        },
        {
          "output_type": "display_data",
          "data": {
            "text/html": [
              "2908"
            ],
            "text/markdown": "2908",
            "text/latex": "2908",
            "text/plain": [
              "[1] 2908"
            ]
          },
          "metadata": {}
        }
      ]
    },
    {
      "cell_type": "markdown",
      "metadata": {
        "id": "NE8I2vkrw-lg"
      },
      "source": [
        "# Sección 2\n",
        "\n",
        "La siguiente celda de código permitirá cargar en su sesión de trabajo los siguientes vectores:\n",
        "* `temp_h`: Contiene el registro de la temperatura para una muestra de 650 hombres escogidos al azar.\n",
        "* `temp_m`: Contiene el registro de la temperatura para una muestra de 580 mujeres escogidas al azar.\n",
        "\n",
        "\n",
        "En ambos vectores, **los identificadores (id) de cada persona están contenidos en el atributo `names()`** del vector respectivo."
      ]
    },
    {
      "cell_type": "code",
      "source": [
        "temp_h <- readRDS(\"temp_h.rds\")\n",
        "temp_m <- readRDS(\"temp_m.rds\")"
      ],
      "metadata": {
        "id": "onm7yFgS4Wct"
      },
      "execution_count": 7,
      "outputs": []
    },
    {
      "cell_type": "markdown",
      "metadata": {
        "id": "VsA3r8thw-lj"
      },
      "source": [
        "##  Pregunta 2.1\n",
        "\n",
        "**P1) (4pts)** A partir de los dos vectores cargados `temp_h` y `temp_m` ustred deberá crear un data.frame llamado **`casos`** con tres columnas y un total de 1230 filas. Las columnas deben ser las siguientes; una con el id del registro, otra con el género y otra con la temperatura registrada. A modo de ejemplo, a continuación se muestra como debería quedar el data.frame:\n",
        "\n",
        "\n",
        "|id | genero | temperatura|\n",
        "|---|---|---|\n",
        "| h_162 | hombre | 36.8 |\n",
        "| h_140 | hombre | 38.7 |\n",
        "| h_13  | hombre | 36.1 |\n",
        "| $\\vdots$| $\\vdots$ | $\\vdots$|\n",
        "| m_16  | mujer | 39.1 |\n",
        "| m_502 | mujer | 40.1 |\n",
        "| m_189 | mujer | 36.8 |"
      ]
    },
    {
      "cell_type": "code",
      "metadata": {
        "trusted": true,
        "id": "61hbP6XZw-lk",
        "colab": {
          "base_uri": "https://localhost:8080/",
          "height": 34
        },
        "outputId": "7476c14a-e25c-4671-f3a3-c3fc10a40780"
      },
      "source": [
        "# P2.1. ---------------------------------------------------------------------\n",
        "## Respuesta:\n",
        "## Genero primera columna de DF auxiliar con 'names' del vector temp_h\n",
        "temp_h_df <- temp_h %>%\n",
        "                names() %>%\n",
        "                data.frame()  \n",
        "\n",
        "temp_h_df <- temp_h_df %>% rename(id = '.') ## Doy nombre a la columna\n",
        "temp_h_df['genero'] <- 'hombre'             ## Agrego columna 'genero'\n",
        "temp_h_df['temperatura'] <- temp_h          ## Agrrgo columna 'temperatura'\n",
        "\n",
        "## Repito el proceso, generando un segundo DF auxiliar con el vector temp_m\n",
        "temp_m_df <- temp_m %>%\n",
        "                names() %>%\n",
        "                data.frame()  \n",
        "\n",
        "temp_m_df <- temp_m_df %>% rename(id = '.')\n",
        "temp_m_df['genero'] <- 'mujer'\n",
        "temp_m_df['temperatura'] <- temp_m\n",
        "\n",
        "## Uno ambos DF auxiliares y genero el DF solicitado.\n",
        "casos <- temp_h_df %>% rbind(temp_m_df)\n",
        "casos %>% dim() #Chequeo de dimensiones del DF"
      ],
      "execution_count": 8,
      "outputs": [
        {
          "output_type": "display_data",
          "data": {
            "text/html": [
              "<style>\n",
              ".list-inline {list-style: none; margin:0; padding: 0}\n",
              ".list-inline>li {display: inline-block}\n",
              ".list-inline>li:not(:last-child)::after {content: \"\\00b7\"; padding: 0 .5ex}\n",
              "</style>\n",
              "<ol class=list-inline><li>1230</li><li>3</li></ol>\n"
            ],
            "text/markdown": "1. 1230\n2. 3\n\n\n",
            "text/latex": "\\begin{enumerate*}\n\\item 1230\n\\item 3\n\\end{enumerate*}\n",
            "text/plain": [
              "[1] 1230    3"
            ]
          },
          "metadata": {}
        }
      ]
    },
    {
      "cell_type": "markdown",
      "metadata": {
        "id": "8E8M86XJw-lm"
      },
      "source": [
        "## Pregunta 2.2\n",
        "\n",
        "Adicionalmente, se cuenta con la información de síntomas presentados por cada presona registrada. Esta información se encuentra disponible en el archivo `sintomas.rds`.\n",
        "\n",
        "**2a) (1pt)** Cargue el archivo `sintomas.rds` en una variable llamada _sintomas_.<br>\n",
        "**2b) (1pt)** ¿Cuál es la clase de este objeto?.<br>\n",
        "**2c) (1pt)** Note que cada fila undica con un 1 si la persona presentó el respectivo síntoma y 0 si no. ¿Qué sintomas presentó la persona ubicada en el registro 450?.<br>\n",
        "**2d) (2pts)** ¿Qué síntomas y qué temperatura presentó la persona con id \"h_537\"?. Si es le es de utilidad puede utilizar la función `rownames()`, la cual permite obtener los nombres (id) de las filas de una matriz.<br>\n",
        "\n"
      ]
    },
    {
      "cell_type": "code",
      "metadata": {
        "trusted": true,
        "id": "k6PDfNW-w-ln",
        "colab": {
          "base_uri": "https://localhost:8080/",
          "height": 69
        },
        "outputId": "2579091a-cf79-4ece-99ee-f07f075b9936"
      },
      "source": [
        "# P2 .2\n",
        "## Respuestas:\n",
        "\n",
        "### 2a)\n",
        "sintomas <- readRDS('sintomas.rds')\n",
        "\n",
        "### 2b)\n",
        "sintomas %>% class() ## 'Matrix array'\n",
        "\n",
        "### 2c)\n",
        "sintomas[450,c(\"tiene_tos\", \"tiene_dolor_cabeza\", \"tiene_perdida_olfato\", \"tiene_dolor_pecho\")] ## Presentó TODOS los síntomas. \n",
        "\n",
        "### 2d)\n",
        "sintomas[\"h_537\",]  ## temperatura 36.6998022307605\n",
        "                    ## tiene_tos 0\n",
        "                    ## tiene_dolor_cabeza 0\n",
        "                    ## tiene_perdida_olfato 0\n",
        "                    ## tiene_dolor_pecho 1\n"
      ],
      "execution_count": 9,
      "outputs": [
        {
          "output_type": "display_data",
          "data": {
            "text/html": [
              "<style>\n",
              ".list-inline {list-style: none; margin:0; padding: 0}\n",
              ".list-inline>li {display: inline-block}\n",
              ".list-inline>li:not(:last-child)::after {content: \"\\00b7\"; padding: 0 .5ex}\n",
              "</style>\n",
              "<ol class=list-inline><li>'matrix'</li><li>'array'</li></ol>\n"
            ],
            "text/markdown": "1. 'matrix'\n2. 'array'\n\n\n",
            "text/latex": "\\begin{enumerate*}\n\\item 'matrix'\n\\item 'array'\n\\end{enumerate*}\n",
            "text/plain": [
              "[1] \"matrix\" \"array\" "
            ]
          },
          "metadata": {}
        },
        {
          "output_type": "display_data",
          "data": {
            "text/html": [
              "<style>\n",
              ".dl-inline {width: auto; margin:0; padding: 0}\n",
              ".dl-inline>dt, .dl-inline>dd {float: none; width: auto; display: inline-block}\n",
              ".dl-inline>dt::after {content: \":\\0020\"; padding-right: .5ex}\n",
              ".dl-inline>dt:not(:first-of-type) {padding-left: .5ex}\n",
              "</style><dl class=dl-inline><dt>tiene_tos</dt><dd>1</dd><dt>tiene_dolor_cabeza</dt><dd>1</dd><dt>tiene_perdida_olfato</dt><dd>1</dd><dt>tiene_dolor_pecho</dt><dd>1</dd></dl>\n"
            ],
            "text/markdown": "tiene_tos\n:   1tiene_dolor_cabeza\n:   1tiene_perdida_olfato\n:   1tiene_dolor_pecho\n:   1\n\n",
            "text/latex": "\\begin{description*}\n\\item[tiene\\textbackslash{}\\_tos] 1\n\\item[tiene\\textbackslash{}\\_dolor\\textbackslash{}\\_cabeza] 1\n\\item[tiene\\textbackslash{}\\_perdida\\textbackslash{}\\_olfato] 1\n\\item[tiene\\textbackslash{}\\_dolor\\textbackslash{}\\_pecho] 1\n\\end{description*}\n",
            "text/plain": [
              "           tiene_tos   tiene_dolor_cabeza tiene_perdida_olfato \n",
              "                   1                    1                    1 \n",
              "   tiene_dolor_pecho \n",
              "                   1 "
            ]
          },
          "metadata": {}
        },
        {
          "output_type": "display_data",
          "data": {
            "text/html": [
              "<style>\n",
              ".dl-inline {width: auto; margin:0; padding: 0}\n",
              ".dl-inline>dt, .dl-inline>dd {float: none; width: auto; display: inline-block}\n",
              ".dl-inline>dt::after {content: \":\\0020\"; padding-right: .5ex}\n",
              ".dl-inline>dt:not(:first-of-type) {padding-left: .5ex}\n",
              "</style><dl class=dl-inline><dt>temperatura</dt><dd>36.6998022307605</dd><dt>tiene_tos</dt><dd>0</dd><dt>tiene_dolor_cabeza</dt><dd>0</dd><dt>tiene_perdida_olfato</dt><dd>0</dd><dt>tiene_dolor_pecho</dt><dd>1</dd></dl>\n"
            ],
            "text/markdown": "temperatura\n:   36.6998022307605tiene_tos\n:   0tiene_dolor_cabeza\n:   0tiene_perdida_olfato\n:   0tiene_dolor_pecho\n:   1\n\n",
            "text/latex": "\\begin{description*}\n\\item[temperatura] 36.6998022307605\n\\item[tiene\\textbackslash{}\\_tos] 0\n\\item[tiene\\textbackslash{}\\_dolor\\textbackslash{}\\_cabeza] 0\n\\item[tiene\\textbackslash{}\\_perdida\\textbackslash{}\\_olfato] 0\n\\item[tiene\\textbackslash{}\\_dolor\\textbackslash{}\\_pecho] 1\n\\end{description*}\n",
            "text/plain": [
              "         temperatura            tiene_tos   tiene_dolor_cabeza \n",
              "             36.6998               0.0000               0.0000 \n",
              "tiene_perdida_olfato    tiene_dolor_pecho \n",
              "              0.0000               1.0000 "
            ]
          },
          "metadata": {}
        }
      ]
    },
    {
      "cell_type": "markdown",
      "metadata": {
        "id": "D9wwbbDiw-lp"
      },
      "source": [
        "## Nota de utilidad\n",
        "\n",
        "Ya sea trabajando con un vector, matriz, data.frame o lista, es posible omitir la selección de alguna(s) de sus posiciones (filas/columnas o slots). Esto se puede llevar a cabo de diversas maneras, por ejemplo:"
      ]
    },
    {
      "cell_type": "code",
      "metadata": {
        "trusted": true,
        "id": "XMx7FDhuw-lp"
      },
      "source": [
        "# Primero creamos un vector, una matriz, un data.frame  y una lista \n",
        "\n",
        "vec <- c(v1 = 1, v2 = 2, v3 = 3,v4 = 4)\n",
        "mat <- cbind(c(1,1),c(2,2),c(3,3),c(4,4) ) ; rownames(mat) <- c(\"f1\",\"f2\"); colnames(mat) <- c(\"c1\",\"c2\",\"c3\",\"c4\")\n",
        "dat <- as.data.frame(mat)\n",
        "lis <- list(s1 = c(1,1), s2 = c(2,2), s3 = c(3,3) , s4 = c(4,4))\n"
      ],
      "execution_count": 10,
      "outputs": []
    },
    {
      "cell_type": "markdown",
      "metadata": {
        "id": "3GKLXdU6w-lr"
      },
      "source": [
        "### Omisión por posición"
      ]
    },
    {
      "cell_type": "code",
      "metadata": {
        "trusted": true,
        "id": "TEdJr4A2w-lr"
      },
      "source": [
        "#Si queremos omitir el primer y tercer elmento del vector y la lista\n",
        "vec[-c(1,3)]\n",
        "lis[-c(1,3)]\n",
        "\n",
        "# Misma idea si queremos omitir columnas de una matriz (o data.frame)\n",
        "mat[,-c(1,3)]\n",
        "dat[,-c(1,3)]"
      ],
      "execution_count": null,
      "outputs": []
    },
    {
      "cell_type": "markdown",
      "metadata": {
        "id": "R1-ir6Utw-lt"
      },
      "source": [
        "### Omisión por nombres"
      ]
    },
    {
      "cell_type": "code",
      "metadata": {
        "trusted": true,
        "id": "5JOWR5Isw-lu",
        "colab": {
          "base_uri": "https://localhost:8080/",
          "height": 148
        },
        "outputId": "8b6af23b-4be4-4879-f4c1-3007d99cb5a2"
      },
      "source": [
        "# Por ahora tendremos que ubicar las posiciones de los nombres deseados.\n",
        "\n",
        "pos_vec <- which(names(vec) %in% c(\"v1\",\"v3\"))\n",
        "pos_lis <- which(names(lis) %in% c(\"s1\",\"s3\"))\n",
        "pos_mat <- which(colnames(mat) %in% c(\"c1\",\"c3\"))\n",
        "pos_dat <- which(names(dat) %in% c(\"c1\",\"c3\"))\n",
        "\n",
        "vec[-pos_vec]\n",
        "lis[-pos_lis]\n",
        "\n",
        "# Misma idea si queremos omitir columnas de una matriz (o data.frame)\n",
        "mat[,-pos_mat]\n",
        "dat[,-pos_dat]"
      ],
      "execution_count": null,
      "outputs": [
        {
          "output_type": "error",
          "ename": "ERROR",
          "evalue": "ignored",
          "traceback": [
            "Error in names(vec) %in% c(\"v1\", \"v3\"): object 'vec' not found\nTraceback:\n",
            "1. which(names(vec) %in% c(\"v1\", \"v3\"))",
            "2. names(vec) %in% c(\"v1\", \"v3\")"
          ]
        }
      ]
    },
    {
      "cell_type": "markdown",
      "metadata": {
        "id": "yMUBRR53w-lw"
      },
      "source": [
        "Más adelante veremos otras alternivas, como por ejemplo, utilizando funciones del package `dplyr`.\n",
        "\n",
        "## Pregunta 2.3\n",
        "\n",
        "Con la ayuda de las funciones `rowSums()` y `colSums()`, identifique lo siguiente.\n",
        "\n",
        "  **3a) (3pt)** ¿Cuántos registros presentaron exactamente los 4 síntomas?<br>\n",
        "  **3b) (1pt)** ¿Cúantas personas presentaron tos? <br>\n",
        "  **3c) (2pt)** ¿Cuál es el síntoma más frecuente?<br>\n",
        "  "
      ]
    },
    {
      "cell_type": "code",
      "metadata": {
        "trusted": true,
        "id": "-2-rqq3mw-lw",
        "colab": {
          "base_uri": "https://localhost:8080/",
          "height": 69
        },
        "outputId": "8c388679-83a8-4522-c064-176ce115a5ef"
      },
      "source": [
        "# P3\n",
        "##Respuestas:\n",
        "\n",
        "### 3a)\n",
        "sintomas_sin_temp <- sintomas[, -1]                                 ## Elimino columna de temperatura\n",
        "sintomas_df <- sintomas_sin_temp %>% data.frame()                   ## Creo DF\n",
        "sintomas_df['numero_sintomas'] <- sintomas_df %>% rowSums()         ## Creo columna con el número de síntomas\n",
        "sintomas_df[\"cuatro_sintomas\"] <- sintomas_df$numero_sintomas == 4  ## Creo columna que indica T si el paciente tuvo los 4 síntomas, False en otro caso\n",
        "sintomas_df[\"cuatro_sintomas\"] %>% colSums()  ## 229 casos con los 4 síntomas\n",
        "\n",
        "### 3b)\n",
        "sintomas_df[\"tiene_tos\"] %>% colSums()  ## 608 casos con tos\n",
        "\n",
        "### 3c)   ## Síntoma más frecuente: dolor de cabeza\n",
        "sintomas_df %>% \n",
        "  select(tiene_tos, tiene_dolor_cabeza, tiene_perdida_olfato, tiene_dolor_pecho) %>%\n",
        "  colSums() %>%\n",
        "  which.max() %>%\n",
        "  names()"
      ],
      "execution_count": 11,
      "outputs": [
        {
          "output_type": "display_data",
          "data": {
            "text/html": [
              "<strong>cuatro_sintomas:</strong> 229"
            ],
            "text/markdown": "**cuatro_sintomas:** 229",
            "text/latex": "\\textbf{cuatro\\textbackslash{}\\_sintomas:} 229",
            "text/plain": [
              "cuatro_sintomas \n",
              "            229 "
            ]
          },
          "metadata": {}
        },
        {
          "output_type": "display_data",
          "data": {
            "text/html": [
              "<strong>tiene_tos:</strong> 608"
            ],
            "text/markdown": "**tiene_tos:** 608",
            "text/latex": "\\textbf{tiene\\textbackslash{}\\_tos:} 608",
            "text/plain": [
              "tiene_tos \n",
              "      608 "
            ]
          },
          "metadata": {}
        },
        {
          "output_type": "display_data",
          "data": {
            "text/html": [
              "'tiene_dolor_cabeza'"
            ],
            "text/markdown": "'tiene_dolor_cabeza'",
            "text/latex": "'tiene\\_dolor\\_cabeza'",
            "text/plain": [
              "[1] \"tiene_dolor_cabeza\""
            ]
          },
          "metadata": {}
        }
      ]
    },
    {
      "cell_type": "markdown",
      "metadata": {
        "id": "faytFSoKw-ly"
      },
      "source": [
        "## Pregunta 2.4\n",
        "\n",
        "**4a) (1pt)** La función `as.data.frame()` permite coercionar un objeto de otra clase a `data.frame`.\n",
        "cree una variable llamada `sintomas_df` con la información  de sintomas pero como data.frame.<br>\n",
        "**4b) (1pts)**\n",
        "Se puede observar que los ids solo están disponibles en los nombres de las filas. Sin embargo esútil tener esta información como una columna más de la tabla. Para ello **cree una nueva columna en la tabla sintomas_df** llamada `id` que contenga los ids de cada registro. \n",
        "\n",
        "NOTA: El orden de las filas no ha variado por lo que podemos añadir la columna sin mayores precauciones.<br>\n",
        "**4c) (2pts)** ¿Cuántas personas **sólo** presentaron tos y dolor de cabeza?<br>\n",
        "**4d) (1pt)** Se sabe que una persona tiene fiebre cuando su temperatura es mayor o igual a los 37.2°. **Cree una nueva columna en la tabla sintomas_df** llamada `tiene_fiebre` que contenga `TRUE` cuando tiene fiebre y `FALSE` en caso contrario. \n",
        "\n"
      ]
    },
    {
      "cell_type": "code",
      "metadata": {
        "trusted": true,
        "id": "HKt66rfow-lz"
      },
      "source": [
        "# P4\n",
        "#Respuestas:\n",
        "\n",
        "### 4a)\n",
        "sintomas_df <- sintomas %>% as.data.frame()\n",
        "\n",
        "### 4b)\n",
        "sintomas_df[\"id\"] <- sintomas_df %>% row.names.data.frame()\n",
        "\n",
        "### 4c)\n",
        "sintomas_df[sintomas[\"tiene_tos\"]==1]"
      ],
      "execution_count": 30,
      "outputs": []
    },
    {
      "cell_type": "code",
      "source": [
        "sintomas_df[sintomas_df[\"tiene_tos\"]==1]"
      ],
      "metadata": {
        "id": "vIX5PC2gBS3b",
        "outputId": "85b2bb0f-d16c-4d68-e5a9-a0efc81cb441",
        "colab": {
          "base_uri": "https://localhost:8080/",
          "height": 416
        }
      },
      "execution_count": 37,
      "outputs": [
        {
          "output_type": "display_data",
          "data": {
            "text/html": [
              "<style>\n",
              ".list-inline {list-style: none; margin:0; padding: 0}\n",
              ".list-inline>li {display: inline-block}\n",
              ".list-inline>li:not(:last-child)::after {content: \"\\00b7\"; padding: 0 .5ex}\n",
              "</style>\n",
              "<ol class=list-inline><li>'36.52849'</li><li>'39.26491'</li><li>'36.47809'</li><li>'38.39027'</li><li>'36.29565'</li><li>'38.18633'</li><li>'38.52378'</li><li>'41.06936'</li><li>'37.79450'</li><li>'38.00586'</li><li>'36.71711'</li><li>'35.70526'</li><li>'36.39534'</li><li>'37.64950'</li><li>'36.89740'</li><li>'38.02007'</li><li>'37.86498'</li><li>'38.86914'</li><li>'36.06418'</li><li>'37.76451'</li><li>'36.42847'</li><li>'36.19531'</li><li>'37.80371'</li><li>'37.87296'</li><li>'35.67396'</li><li>'36.45611'</li><li>'38.31086'</li><li>'36.68879'</li><li>'39.76958'</li><li>'37.52432'</li><li>'40.27869'</li><li>'37.48374'</li><li>'40.71403'</li><li>'37.50951'</li><li>'38.18224'</li><li>'38.42693'</li><li>'36.36186'</li><li>'37.53567'</li><li>'36.08655'</li><li>'38.28530'</li><li>'37.30190'</li><li>'38.03082'</li><li>'38.71755'</li><li>'36.44739'</li><li>'41.11949'</li><li>'36.39521'</li><li>'37.81169'</li><li>'37.65536'</li><li>'38.31248'</li><li>'35.79434'</li><li>'37.16606'</li><li>'40.77421'</li><li>'38.77720'</li><li>'38.71862'</li><li>'39.32535'</li><li>'37.74262'</li><li>'39.83995'</li><li>'37.76260'</li><li>'36.77410'</li><li>'37.92545'</li><li>'39.73631'</li><li>'37.86141'</li><li>'39.67140'</li><li>'37.38329'</li><li>'38.77527'</li><li>'35.79534'</li><li>'39.05138'</li><li>'39.17519'</li><li>'37.67516'</li><li>'36.78399'</li><li>'38.65935'</li><li>'37.76399'</li><li>'37.22603'</li><li>'38.54940'</li><li>'37.45842'</li><li>'35.73674'</li><li>'37.43248'</li><li>'37.70274'</li><li>'37.75164'</li><li>'38.96491'</li><li>'35.66458'</li><li>'37.30512'</li><li>'37.51467'</li><li>'39.00267'</li><li>'36.64600'</li><li>'38.42782'</li><li>'38.23185'</li><li>'37.71514'</li><li>'37.96135'</li><li>'38.34991'</li><li>'36.22754'</li><li>'39.32355'</li><li>'37.36678'</li><li>'37.31414'</li><li>'38.47369'</li><li>'35.91725'</li><li>'40.26658'</li><li>'39.74621'</li><li>'36.26832'</li><li>'38.24424'</li><li>'40.11297'</li><li>'37.39994'</li><li>'39.36490'</li><li>'37.49401'</li><li>'39.35833'</li><li>'36.22128'</li><li>'36.84060'</li><li>'38.24920'</li><li>'39.07550'</li><li>'41.93538'</li><li>'37.28505'</li><li>'37.58185'</li><li>'38.00209'</li><li>'40.84828'</li><li>'36.31848'</li><li>'40.00610'</li><li>'39.28755'</li><li>'37.50196'</li><li>'37.44765'</li><li>'37.53506'</li><li>'38.11782'</li><li>'37.42105'</li><li>'36.90878'</li><li>'39.78280'</li><li>'37.25382'</li><li>'38.36138'</li><li>'38.76915'</li><li>'36.51950'</li><li>'38.29978'</li><li>'36.44843'</li><li>'37.22530'</li><li>'36.88778'</li><li>'39.24061'</li><li>'36.48082'</li><li>'36.03674'</li><li>'38.78867'</li><li>'37.10115'</li><li>'38.43627'</li><li>'40.77840'</li><li>'38.98201'</li><li>'38.88784'</li><li>'38.70759'</li><li>'36.42922'</li><li>'37.73883'</li><li>'35.62004'</li><li>'37.25856'</li><li>'38.26525'</li><li>'37.99489'</li><li>'37.84099'</li><li>'35.89274'</li><li>'39.77099'</li><li>'38.66131'</li><li>'39.11667'</li><li>'37.61559'</li><li>'36.30821'</li><li>'38.73399'</li><li>'36.98409'</li><li>'38.47871'</li><li>'38.82302'</li><li>'38.06300'</li><li>'40.45367'</li><li>'38.90645'</li><li>'37.21519'</li><li>'36.98157'</li><li>'38.18241'</li><li>'36.92718'</li><li>'38.31080'</li><li>'40.31250'</li><li>'35.74600'</li><li>'39.81594'</li><li>'39.41226'</li><li>'38.62852'</li><li>'37.48762'</li><li>'36.45627'</li><li>'38.17931'</li><li>'39.30092'</li><li>'36.52471'</li><li>'39.87234'</li><li>'37.33507'</li><li>'36.68518'</li><li>'37.88249'</li><li>'41.82817'</li><li>'41.88432'</li><li>'36.26825'</li><li>'36.44816'</li><li>'38.21660'</li><li>'36.03790'</li><li>'40.04535'</li><li>'41.60445'</li><li>'39.07057'</li><li>'38.05086'</li><li>'41.99342'</li><li>'40.47002'</li><li>'35.67577'</li><li>'39.53802'</li><li>'36.16853'</li><li>'38.03082'</li><li>'37.41036'</li><li>'37.31334'</li><li>'37.74150'</li><li>⋯</li><li>'m_54'</li><li>'m_46'</li><li>'m_157'</li><li>'m_406'</li><li>'m_382'</li><li>'m_309'</li><li>'m_61'</li><li>'m_402'</li><li>'m_540'</li><li>'m_425'</li><li>'m_492'</li><li>'m_515'</li><li>'m_392'</li><li>'m_18'</li><li>'m_493'</li><li>'m_270'</li><li>'m_352'</li><li>'m_179'</li><li>'m_56'</li><li>'m_310'</li><li>'m_488'</li><li>'m_153'</li><li>'m_169'</li><li>'m_566'</li><li>'m_165'</li><li>'m_537'</li><li>'m_388'</li><li>'m_358'</li><li>'m_117'</li><li>'m_355'</li><li>'m_196'</li><li>'m_489'</li><li>'m_419'</li><li>'m_405'</li><li>'m_517'</li><li>'m_58'</li><li>'m_158'</li><li>'m_83'</li><li>'m_348'</li><li>'m_132'</li><li>'m_571'</li><li>'m_109'</li><li>'m_550'</li><li>'m_171'</li><li>'m_5'</li><li>'m_129'</li><li>'m_274'</li><li>'m_306'</li><li>'m_491'</li><li>'m_432'</li><li>'m_545'</li><li>'m_297'</li><li>'m_338'</li><li>'m_135'</li><li>'m_102'</li><li>'m_295'</li><li>'m_236'</li><li>'m_39'</li><li>'m_369'</li><li>'m_446'</li><li>'m_128'</li><li>'m_208'</li><li>'m_467'</li><li>'m_423'</li><li>'m_198'</li><li>'m_209'</li><li>'m_29'</li><li>'m_554'</li><li>'m_308'</li><li>'m_114'</li><li>'m_93'</li><li>'m_103'</li><li>'m_397'</li><li>'m_76'</li><li>'m_324'</li><li>'m_499'</li><li>'m_65'</li><li>'m_340'</li><li>'m_307'</li><li>'m_503'</li><li>'m_362'</li><li>'m_43'</li><li>'m_350'</li><li>'m_483'</li><li>'m_210'</li><li>'m_97'</li><li>'m_20'</li><li>'m_207'</li><li>'m_482'</li><li>'m_343'</li><li>'m_292'</li><li>'m_218'</li><li>'m_276'</li><li>'m_559'</li><li>'m_466'</li><li>'m_470'</li><li>'m_10'</li><li>'m_200'</li><li>'m_364'</li><li>'m_254'</li><li>'m_473'</li><li>'m_3'</li><li>'m_518'</li><li>'m_549'</li><li>'m_257'</li><li>'m_440'</li><li>'m_478'</li><li>'m_451'</li><li>'m_233'</li><li>'m_337'</li><li>'m_448'</li><li>'m_21'</li><li>'m_144'</li><li>'m_416'</li><li>'m_498'</li><li>'m_486'</li><li>'m_59'</li><li>'m_363'</li><li>'m_267'</li><li>'m_572'</li><li>'m_481'</li><li>'m_485'</li><li>'m_231'</li><li>'m_311'</li><li>'m_514'</li><li>'m_154'</li><li>'m_512'</li><li>'m_417'</li><li>'m_327'</li><li>'m_538'</li><li>'m_51'</li><li>'m_519'</li><li>'m_480'</li><li>'m_22'</li><li>'m_152'</li><li>'m_508'</li><li>'m_106'</li><li>'m_277'</li><li>'m_384'</li><li>'m_124'</li><li>'m_422'</li><li>'m_87'</li><li>'m_271'</li><li>'m_237'</li><li>'m_552'</li><li>'m_195'</li><li>'m_346'</li><li>'m_53'</li><li>'m_174'</li><li>'m_92'</li><li>'m_199'</li><li>'m_125'</li><li>'m_71'</li><li>'m_457'</li><li>'m_341'</li><li>'m_239'</li><li>'m_197'</li><li>'m_190'</li><li>'m_216'</li><li>'m_230'</li><li>'m_381'</li><li>'m_69'</li><li>'m_389'</li><li>'m_101'</li><li>'m_64'</li><li>'m_193'</li><li>'m_133'</li><li>'m_506'</li><li>'m_487'</li><li>'m_386'</li><li>'m_206'</li><li>'m_127'</li><li>'m_319'</li><li>'m_378'</li><li>'m_175'</li><li>'m_400'</li><li>'m_302'</li><li>'m_395'</li><li>'m_108'</li><li>'m_122'</li><li>'m_500'</li><li>'m_94'</li><li>'m_449'</li><li>'m_89'</li><li>'m_155'</li><li>'m_428'</li><li>'m_532'</li><li>'m_107'</li><li>'m_374'</li><li>'m_7'</li><li>'m_568'</li><li>'m_244'</li><li>'m_396'</li><li>'m_273'</li><li>'m_291'</li><li>'m_525'</li><li>'m_192'</li><li>'m_436'</li><li>'m_415'</li><li>'m_403'</li></ol>\n"
            ],
            "text/markdown": "1. '36.52849'\n2. '39.26491'\n3. '36.47809'\n4. '38.39027'\n5. '36.29565'\n6. '38.18633'\n7. '38.52378'\n8. '41.06936'\n9. '37.79450'\n10. '38.00586'\n11. '36.71711'\n12. '35.70526'\n13. '36.39534'\n14. '37.64950'\n15. '36.89740'\n16. '38.02007'\n17. '37.86498'\n18. '38.86914'\n19. '36.06418'\n20. '37.76451'\n21. '36.42847'\n22. '36.19531'\n23. '37.80371'\n24. '37.87296'\n25. '35.67396'\n26. '36.45611'\n27. '38.31086'\n28. '36.68879'\n29. '39.76958'\n30. '37.52432'\n31. '40.27869'\n32. '37.48374'\n33. '40.71403'\n34. '37.50951'\n35. '38.18224'\n36. '38.42693'\n37. '36.36186'\n38. '37.53567'\n39. '36.08655'\n40. '38.28530'\n41. '37.30190'\n42. '38.03082'\n43. '38.71755'\n44. '36.44739'\n45. '41.11949'\n46. '36.39521'\n47. '37.81169'\n48. '37.65536'\n49. '38.31248'\n50. '35.79434'\n51. '37.16606'\n52. '40.77421'\n53. '38.77720'\n54. '38.71862'\n55. '39.32535'\n56. '37.74262'\n57. '39.83995'\n58. '37.76260'\n59. '36.77410'\n60. '37.92545'\n61. '39.73631'\n62. '37.86141'\n63. '39.67140'\n64. '37.38329'\n65. '38.77527'\n66. '35.79534'\n67. '39.05138'\n68. '39.17519'\n69. '37.67516'\n70. '36.78399'\n71. '38.65935'\n72. '37.76399'\n73. '37.22603'\n74. '38.54940'\n75. '37.45842'\n76. '35.73674'\n77. '37.43248'\n78. '37.70274'\n79. '37.75164'\n80. '38.96491'\n81. '35.66458'\n82. '37.30512'\n83. '37.51467'\n84. '39.00267'\n85. '36.64600'\n86. '38.42782'\n87. '38.23185'\n88. '37.71514'\n89. '37.96135'\n90. '38.34991'\n91. '36.22754'\n92. '39.32355'\n93. '37.36678'\n94. '37.31414'\n95. '38.47369'\n96. '35.91725'\n97. '40.26658'\n98. '39.74621'\n99. '36.26832'\n100. '38.24424'\n101. '40.11297'\n102. '37.39994'\n103. '39.36490'\n104. '37.49401'\n105. '39.35833'\n106. '36.22128'\n107. '36.84060'\n108. '38.24920'\n109. '39.07550'\n110. '41.93538'\n111. '37.28505'\n112. '37.58185'\n113. '38.00209'\n114. '40.84828'\n115. '36.31848'\n116. '40.00610'\n117. '39.28755'\n118. '37.50196'\n119. '37.44765'\n120. '37.53506'\n121. '38.11782'\n122. '37.42105'\n123. '36.90878'\n124. '39.78280'\n125. '37.25382'\n126. '38.36138'\n127. '38.76915'\n128. '36.51950'\n129. '38.29978'\n130. '36.44843'\n131. '37.22530'\n132. '36.88778'\n133. '39.24061'\n134. '36.48082'\n135. '36.03674'\n136. '38.78867'\n137. '37.10115'\n138. '38.43627'\n139. '40.77840'\n140. '38.98201'\n141. '38.88784'\n142. '38.70759'\n143. '36.42922'\n144. '37.73883'\n145. '35.62004'\n146. '37.25856'\n147. '38.26525'\n148. '37.99489'\n149. '37.84099'\n150. '35.89274'\n151. '39.77099'\n152. '38.66131'\n153. '39.11667'\n154. '37.61559'\n155. '36.30821'\n156. '38.73399'\n157. '36.98409'\n158. '38.47871'\n159. '38.82302'\n160. '38.06300'\n161. '40.45367'\n162. '38.90645'\n163. '37.21519'\n164. '36.98157'\n165. '38.18241'\n166. '36.92718'\n167. '38.31080'\n168. '40.31250'\n169. '35.74600'\n170. '39.81594'\n171. '39.41226'\n172. '38.62852'\n173. '37.48762'\n174. '36.45627'\n175. '38.17931'\n176. '39.30092'\n177. '36.52471'\n178. '39.87234'\n179. '37.33507'\n180. '36.68518'\n181. '37.88249'\n182. '41.82817'\n183. '41.88432'\n184. '36.26825'\n185. '36.44816'\n186. '38.21660'\n187. '36.03790'\n188. '40.04535'\n189. '41.60445'\n190. '39.07057'\n191. '38.05086'\n192. '41.99342'\n193. '40.47002'\n194. '35.67577'\n195. '39.53802'\n196. '36.16853'\n197. '38.03082'\n198. '37.41036'\n199. '37.31334'\n200. '37.74150'\n201. ⋯\n202. 'm_54'\n203. 'm_46'\n204. 'm_157'\n205. 'm_406'\n206. 'm_382'\n207. 'm_309'\n208. 'm_61'\n209. 'm_402'\n210. 'm_540'\n211. 'm_425'\n212. 'm_492'\n213. 'm_515'\n214. 'm_392'\n215. 'm_18'\n216. 'm_493'\n217. 'm_270'\n218. 'm_352'\n219. 'm_179'\n220. 'm_56'\n221. 'm_310'\n222. 'm_488'\n223. 'm_153'\n224. 'm_169'\n225. 'm_566'\n226. 'm_165'\n227. 'm_537'\n228. 'm_388'\n229. 'm_358'\n230. 'm_117'\n231. 'm_355'\n232. 'm_196'\n233. 'm_489'\n234. 'm_419'\n235. 'm_405'\n236. 'm_517'\n237. 'm_58'\n238. 'm_158'\n239. 'm_83'\n240. 'm_348'\n241. 'm_132'\n242. 'm_571'\n243. 'm_109'\n244. 'm_550'\n245. 'm_171'\n246. 'm_5'\n247. 'm_129'\n248. 'm_274'\n249. 'm_306'\n250. 'm_491'\n251. 'm_432'\n252. 'm_545'\n253. 'm_297'\n254. 'm_338'\n255. 'm_135'\n256. 'm_102'\n257. 'm_295'\n258. 'm_236'\n259. 'm_39'\n260. 'm_369'\n261. 'm_446'\n262. 'm_128'\n263. 'm_208'\n264. 'm_467'\n265. 'm_423'\n266. 'm_198'\n267. 'm_209'\n268. 'm_29'\n269. 'm_554'\n270. 'm_308'\n271. 'm_114'\n272. 'm_93'\n273. 'm_103'\n274. 'm_397'\n275. 'm_76'\n276. 'm_324'\n277. 'm_499'\n278. 'm_65'\n279. 'm_340'\n280. 'm_307'\n281. 'm_503'\n282. 'm_362'\n283. 'm_43'\n284. 'm_350'\n285. 'm_483'\n286. 'm_210'\n287. 'm_97'\n288. 'm_20'\n289. 'm_207'\n290. 'm_482'\n291. 'm_343'\n292. 'm_292'\n293. 'm_218'\n294. 'm_276'\n295. 'm_559'\n296. 'm_466'\n297. 'm_470'\n298. 'm_10'\n299. 'm_200'\n300. 'm_364'\n301. 'm_254'\n302. 'm_473'\n303. 'm_3'\n304. 'm_518'\n305. 'm_549'\n306. 'm_257'\n307. 'm_440'\n308. 'm_478'\n309. 'm_451'\n310. 'm_233'\n311. 'm_337'\n312. 'm_448'\n313. 'm_21'\n314. 'm_144'\n315. 'm_416'\n316. 'm_498'\n317. 'm_486'\n318. 'm_59'\n319. 'm_363'\n320. 'm_267'\n321. 'm_572'\n322. 'm_481'\n323. 'm_485'\n324. 'm_231'\n325. 'm_311'\n326. 'm_514'\n327. 'm_154'\n328. 'm_512'\n329. 'm_417'\n330. 'm_327'\n331. 'm_538'\n332. 'm_51'\n333. 'm_519'\n334. 'm_480'\n335. 'm_22'\n336. 'm_152'\n337. 'm_508'\n338. 'm_106'\n339. 'm_277'\n340. 'm_384'\n341. 'm_124'\n342. 'm_422'\n343. 'm_87'\n344. 'm_271'\n345. 'm_237'\n346. 'm_552'\n347. 'm_195'\n348. 'm_346'\n349. 'm_53'\n350. 'm_174'\n351. 'm_92'\n352. 'm_199'\n353. 'm_125'\n354. 'm_71'\n355. 'm_457'\n356. 'm_341'\n357. 'm_239'\n358. 'm_197'\n359. 'm_190'\n360. 'm_216'\n361. 'm_230'\n362. 'm_381'\n363. 'm_69'\n364. 'm_389'\n365. 'm_101'\n366. 'm_64'\n367. 'm_193'\n368. 'm_133'\n369. 'm_506'\n370. 'm_487'\n371. 'm_386'\n372. 'm_206'\n373. 'm_127'\n374. 'm_319'\n375. 'm_378'\n376. 'm_175'\n377. 'm_400'\n378. 'm_302'\n379. 'm_395'\n380. 'm_108'\n381. 'm_122'\n382. 'm_500'\n383. 'm_94'\n384. 'm_449'\n385. 'm_89'\n386. 'm_155'\n387. 'm_428'\n388. 'm_532'\n389. 'm_107'\n390. 'm_374'\n391. 'm_7'\n392. 'm_568'\n393. 'm_244'\n394. 'm_396'\n395. 'm_273'\n396. 'm_291'\n397. 'm_525'\n398. 'm_192'\n399. 'm_436'\n400. 'm_415'\n401. 'm_403'\n\n\n",
            "text/latex": "\\begin{enumerate*}\n\\item '36.52849'\n\\item '39.26491'\n\\item '36.47809'\n\\item '38.39027'\n\\item '36.29565'\n\\item '38.18633'\n\\item '38.52378'\n\\item '41.06936'\n\\item '37.79450'\n\\item '38.00586'\n\\item '36.71711'\n\\item '35.70526'\n\\item '36.39534'\n\\item '37.64950'\n\\item '36.89740'\n\\item '38.02007'\n\\item '37.86498'\n\\item '38.86914'\n\\item '36.06418'\n\\item '37.76451'\n\\item '36.42847'\n\\item '36.19531'\n\\item '37.80371'\n\\item '37.87296'\n\\item '35.67396'\n\\item '36.45611'\n\\item '38.31086'\n\\item '36.68879'\n\\item '39.76958'\n\\item '37.52432'\n\\item '40.27869'\n\\item '37.48374'\n\\item '40.71403'\n\\item '37.50951'\n\\item '38.18224'\n\\item '38.42693'\n\\item '36.36186'\n\\item '37.53567'\n\\item '36.08655'\n\\item '38.28530'\n\\item '37.30190'\n\\item '38.03082'\n\\item '38.71755'\n\\item '36.44739'\n\\item '41.11949'\n\\item '36.39521'\n\\item '37.81169'\n\\item '37.65536'\n\\item '38.31248'\n\\item '35.79434'\n\\item '37.16606'\n\\item '40.77421'\n\\item '38.77720'\n\\item '38.71862'\n\\item '39.32535'\n\\item '37.74262'\n\\item '39.83995'\n\\item '37.76260'\n\\item '36.77410'\n\\item '37.92545'\n\\item '39.73631'\n\\item '37.86141'\n\\item '39.67140'\n\\item '37.38329'\n\\item '38.77527'\n\\item '35.79534'\n\\item '39.05138'\n\\item '39.17519'\n\\item '37.67516'\n\\item '36.78399'\n\\item '38.65935'\n\\item '37.76399'\n\\item '37.22603'\n\\item '38.54940'\n\\item '37.45842'\n\\item '35.73674'\n\\item '37.43248'\n\\item '37.70274'\n\\item '37.75164'\n\\item '38.96491'\n\\item '35.66458'\n\\item '37.30512'\n\\item '37.51467'\n\\item '39.00267'\n\\item '36.64600'\n\\item '38.42782'\n\\item '38.23185'\n\\item '37.71514'\n\\item '37.96135'\n\\item '38.34991'\n\\item '36.22754'\n\\item '39.32355'\n\\item '37.36678'\n\\item '37.31414'\n\\item '38.47369'\n\\item '35.91725'\n\\item '40.26658'\n\\item '39.74621'\n\\item '36.26832'\n\\item '38.24424'\n\\item '40.11297'\n\\item '37.39994'\n\\item '39.36490'\n\\item '37.49401'\n\\item '39.35833'\n\\item '36.22128'\n\\item '36.84060'\n\\item '38.24920'\n\\item '39.07550'\n\\item '41.93538'\n\\item '37.28505'\n\\item '37.58185'\n\\item '38.00209'\n\\item '40.84828'\n\\item '36.31848'\n\\item '40.00610'\n\\item '39.28755'\n\\item '37.50196'\n\\item '37.44765'\n\\item '37.53506'\n\\item '38.11782'\n\\item '37.42105'\n\\item '36.90878'\n\\item '39.78280'\n\\item '37.25382'\n\\item '38.36138'\n\\item '38.76915'\n\\item '36.51950'\n\\item '38.29978'\n\\item '36.44843'\n\\item '37.22530'\n\\item '36.88778'\n\\item '39.24061'\n\\item '36.48082'\n\\item '36.03674'\n\\item '38.78867'\n\\item '37.10115'\n\\item '38.43627'\n\\item '40.77840'\n\\item '38.98201'\n\\item '38.88784'\n\\item '38.70759'\n\\item '36.42922'\n\\item '37.73883'\n\\item '35.62004'\n\\item '37.25856'\n\\item '38.26525'\n\\item '37.99489'\n\\item '37.84099'\n\\item '35.89274'\n\\item '39.77099'\n\\item '38.66131'\n\\item '39.11667'\n\\item '37.61559'\n\\item '36.30821'\n\\item '38.73399'\n\\item '36.98409'\n\\item '38.47871'\n\\item '38.82302'\n\\item '38.06300'\n\\item '40.45367'\n\\item '38.90645'\n\\item '37.21519'\n\\item '36.98157'\n\\item '38.18241'\n\\item '36.92718'\n\\item '38.31080'\n\\item '40.31250'\n\\item '35.74600'\n\\item '39.81594'\n\\item '39.41226'\n\\item '38.62852'\n\\item '37.48762'\n\\item '36.45627'\n\\item '38.17931'\n\\item '39.30092'\n\\item '36.52471'\n\\item '39.87234'\n\\item '37.33507'\n\\item '36.68518'\n\\item '37.88249'\n\\item '41.82817'\n\\item '41.88432'\n\\item '36.26825'\n\\item '36.44816'\n\\item '38.21660'\n\\item '36.03790'\n\\item '40.04535'\n\\item '41.60445'\n\\item '39.07057'\n\\item '38.05086'\n\\item '41.99342'\n\\item '40.47002'\n\\item '35.67577'\n\\item '39.53802'\n\\item '36.16853'\n\\item '38.03082'\n\\item '37.41036'\n\\item '37.31334'\n\\item '37.74150'\n\\item ⋯\n\\item 'm\\_54'\n\\item 'm\\_46'\n\\item 'm\\_157'\n\\item 'm\\_406'\n\\item 'm\\_382'\n\\item 'm\\_309'\n\\item 'm\\_61'\n\\item 'm\\_402'\n\\item 'm\\_540'\n\\item 'm\\_425'\n\\item 'm\\_492'\n\\item 'm\\_515'\n\\item 'm\\_392'\n\\item 'm\\_18'\n\\item 'm\\_493'\n\\item 'm\\_270'\n\\item 'm\\_352'\n\\item 'm\\_179'\n\\item 'm\\_56'\n\\item 'm\\_310'\n\\item 'm\\_488'\n\\item 'm\\_153'\n\\item 'm\\_169'\n\\item 'm\\_566'\n\\item 'm\\_165'\n\\item 'm\\_537'\n\\item 'm\\_388'\n\\item 'm\\_358'\n\\item 'm\\_117'\n\\item 'm\\_355'\n\\item 'm\\_196'\n\\item 'm\\_489'\n\\item 'm\\_419'\n\\item 'm\\_405'\n\\item 'm\\_517'\n\\item 'm\\_58'\n\\item 'm\\_158'\n\\item 'm\\_83'\n\\item 'm\\_348'\n\\item 'm\\_132'\n\\item 'm\\_571'\n\\item 'm\\_109'\n\\item 'm\\_550'\n\\item 'm\\_171'\n\\item 'm\\_5'\n\\item 'm\\_129'\n\\item 'm\\_274'\n\\item 'm\\_306'\n\\item 'm\\_491'\n\\item 'm\\_432'\n\\item 'm\\_545'\n\\item 'm\\_297'\n\\item 'm\\_338'\n\\item 'm\\_135'\n\\item 'm\\_102'\n\\item 'm\\_295'\n\\item 'm\\_236'\n\\item 'm\\_39'\n\\item 'm\\_369'\n\\item 'm\\_446'\n\\item 'm\\_128'\n\\item 'm\\_208'\n\\item 'm\\_467'\n\\item 'm\\_423'\n\\item 'm\\_198'\n\\item 'm\\_209'\n\\item 'm\\_29'\n\\item 'm\\_554'\n\\item 'm\\_308'\n\\item 'm\\_114'\n\\item 'm\\_93'\n\\item 'm\\_103'\n\\item 'm\\_397'\n\\item 'm\\_76'\n\\item 'm\\_324'\n\\item 'm\\_499'\n\\item 'm\\_65'\n\\item 'm\\_340'\n\\item 'm\\_307'\n\\item 'm\\_503'\n\\item 'm\\_362'\n\\item 'm\\_43'\n\\item 'm\\_350'\n\\item 'm\\_483'\n\\item 'm\\_210'\n\\item 'm\\_97'\n\\item 'm\\_20'\n\\item 'm\\_207'\n\\item 'm\\_482'\n\\item 'm\\_343'\n\\item 'm\\_292'\n\\item 'm\\_218'\n\\item 'm\\_276'\n\\item 'm\\_559'\n\\item 'm\\_466'\n\\item 'm\\_470'\n\\item 'm\\_10'\n\\item 'm\\_200'\n\\item 'm\\_364'\n\\item 'm\\_254'\n\\item 'm\\_473'\n\\item 'm\\_3'\n\\item 'm\\_518'\n\\item 'm\\_549'\n\\item 'm\\_257'\n\\item 'm\\_440'\n\\item 'm\\_478'\n\\item 'm\\_451'\n\\item 'm\\_233'\n\\item 'm\\_337'\n\\item 'm\\_448'\n\\item 'm\\_21'\n\\item 'm\\_144'\n\\item 'm\\_416'\n\\item 'm\\_498'\n\\item 'm\\_486'\n\\item 'm\\_59'\n\\item 'm\\_363'\n\\item 'm\\_267'\n\\item 'm\\_572'\n\\item 'm\\_481'\n\\item 'm\\_485'\n\\item 'm\\_231'\n\\item 'm\\_311'\n\\item 'm\\_514'\n\\item 'm\\_154'\n\\item 'm\\_512'\n\\item 'm\\_417'\n\\item 'm\\_327'\n\\item 'm\\_538'\n\\item 'm\\_51'\n\\item 'm\\_519'\n\\item 'm\\_480'\n\\item 'm\\_22'\n\\item 'm\\_152'\n\\item 'm\\_508'\n\\item 'm\\_106'\n\\item 'm\\_277'\n\\item 'm\\_384'\n\\item 'm\\_124'\n\\item 'm\\_422'\n\\item 'm\\_87'\n\\item 'm\\_271'\n\\item 'm\\_237'\n\\item 'm\\_552'\n\\item 'm\\_195'\n\\item 'm\\_346'\n\\item 'm\\_53'\n\\item 'm\\_174'\n\\item 'm\\_92'\n\\item 'm\\_199'\n\\item 'm\\_125'\n\\item 'm\\_71'\n\\item 'm\\_457'\n\\item 'm\\_341'\n\\item 'm\\_239'\n\\item 'm\\_197'\n\\item 'm\\_190'\n\\item 'm\\_216'\n\\item 'm\\_230'\n\\item 'm\\_381'\n\\item 'm\\_69'\n\\item 'm\\_389'\n\\item 'm\\_101'\n\\item 'm\\_64'\n\\item 'm\\_193'\n\\item 'm\\_133'\n\\item 'm\\_506'\n\\item 'm\\_487'\n\\item 'm\\_386'\n\\item 'm\\_206'\n\\item 'm\\_127'\n\\item 'm\\_319'\n\\item 'm\\_378'\n\\item 'm\\_175'\n\\item 'm\\_400'\n\\item 'm\\_302'\n\\item 'm\\_395'\n\\item 'm\\_108'\n\\item 'm\\_122'\n\\item 'm\\_500'\n\\item 'm\\_94'\n\\item 'm\\_449'\n\\item 'm\\_89'\n\\item 'm\\_155'\n\\item 'm\\_428'\n\\item 'm\\_532'\n\\item 'm\\_107'\n\\item 'm\\_374'\n\\item 'm\\_7'\n\\item 'm\\_568'\n\\item 'm\\_244'\n\\item 'm\\_396'\n\\item 'm\\_273'\n\\item 'm\\_291'\n\\item 'm\\_525'\n\\item 'm\\_192'\n\\item 'm\\_436'\n\\item 'm\\_415'\n\\item 'm\\_403'\n\\end{enumerate*}\n",
            "text/plain": [
              "   [1] \"36.52849\" \"39.26491\" \"36.47809\" \"38.39027\" \"36.29565\" \"38.18633\"\n",
              "   [7] \"38.52378\" \"41.06936\" \"37.79450\" \"38.00586\" \"36.71711\" \"35.70526\"\n",
              "  [13] \"36.39534\" \"37.64950\" \"36.89740\" \"38.02007\" \"37.86498\" \"38.86914\"\n",
              "  [19] \"36.06418\" \"37.76451\" \"36.42847\" \"36.19531\" \"37.80371\" \"37.87296\"\n",
              "  [25] \"35.67396\" \"36.45611\" \"38.31086\" \"36.68879\" \"39.76958\" \"37.52432\"\n",
              "  [31] \"40.27869\" \"37.48374\" \"40.71403\" \"37.50951\" \"38.18224\" \"38.42693\"\n",
              "  [37] \"36.36186\" \"37.53567\" \"36.08655\" \"38.28530\" \"37.30190\" \"38.03082\"\n",
              "  [43] \"38.71755\" \"36.44739\" \"41.11949\" \"36.39521\" \"37.81169\" \"37.65536\"\n",
              "  [49] \"38.31248\" \"35.79434\" \"37.16606\" \"40.77421\" \"38.77720\" \"38.71862\"\n",
              "  [55] \"39.32535\" \"37.74262\" \"39.83995\" \"37.76260\" \"36.77410\" \"37.92545\"\n",
              "  [61] \"39.73631\" \"37.86141\" \"39.67140\" \"37.38329\" \"38.77527\" \"35.79534\"\n",
              "  [67] \"39.05138\" \"39.17519\" \"37.67516\" \"36.78399\" \"38.65935\" \"37.76399\"\n",
              "  [73] \"37.22603\" \"38.54940\" \"37.45842\" \"35.73674\" \"37.43248\" \"37.70274\"\n",
              "  [79] \"37.75164\" \"38.96491\" \"35.66458\" \"37.30512\" \"37.51467\" \"39.00267\"\n",
              "  [85] \"36.64600\" \"38.42782\" \"38.23185\" \"37.71514\" \"37.96135\" \"38.34991\"\n",
              "  [91] \"36.22754\" \"39.32355\" \"37.36678\" \"37.31414\" \"38.47369\" \"35.91725\"\n",
              "  [97] \"40.26658\" \"39.74621\" \"36.26832\" \"38.24424\" \"40.11297\" \"37.39994\"\n",
              " [103] \"39.36490\" \"37.49401\" \"39.35833\" \"36.22128\" \"36.84060\" \"38.24920\"\n",
              " [109] \"39.07550\" \"41.93538\" \"37.28505\" \"37.58185\" \"38.00209\" \"40.84828\"\n",
              " [115] \"36.31848\" \"40.00610\" \"39.28755\" \"37.50196\" \"37.44765\" \"37.53506\"\n",
              " [121] \"38.11782\" \"37.42105\" \"36.90878\" \"39.78280\" \"37.25382\" \"38.36138\"\n",
              " [127] \"38.76915\" \"36.51950\" \"38.29978\" \"36.44843\" \"37.22530\" \"36.88778\"\n",
              " [133] \"39.24061\" \"36.48082\" \"36.03674\" \"38.78867\" \"37.10115\" \"38.43627\"\n",
              " [139] \"40.77840\" \"38.98201\" \"38.88784\" \"38.70759\" \"36.42922\" \"37.73883\"\n",
              " [145] \"35.62004\" \"37.25856\" \"38.26525\" \"37.99489\" \"37.84099\" \"35.89274\"\n",
              " [151] \"39.77099\" \"38.66131\" \"39.11667\" \"37.61559\" \"36.30821\" \"38.73399\"\n",
              " [157] \"36.98409\" \"38.47871\" \"38.82302\" \"38.06300\" \"40.45367\" \"38.90645\"\n",
              " [163] \"37.21519\" \"36.98157\" \"38.18241\" \"36.92718\" \"38.31080\" \"40.31250\"\n",
              " [169] \"35.74600\" \"39.81594\" \"39.41226\" \"38.62852\" \"37.48762\" \"36.45627\"\n",
              " [175] \"38.17931\" \"39.30092\" \"36.52471\" \"39.87234\" \"37.33507\" \"36.68518\"\n",
              " [181] \"37.88249\" \"41.82817\" \"41.88432\" \"36.26825\" \"36.44816\" \"38.21660\"\n",
              " [187] \"36.03790\" \"40.04535\" \"41.60445\" \"39.07057\" \"38.05086\" \"41.99342\"\n",
              " [193] \"40.47002\" \"35.67577\" \"39.53802\" \"36.16853\" \"38.03082\" \"37.41036\"\n",
              " [199] \"37.31334\" \"37.74150\" \"39.66140\" \"39.48913\" \"36.80067\" \"37.21681\"\n",
              " [205] \"38.66632\" \"38.48900\" \"38.70535\" \"37.81544\" \"37.53341\" \"38.65396\"\n",
              " [211] \"41.51457\" \"40.50481\" \"37.43091\" \"37.21552\" \"37.66633\" \"35.76789\"\n",
              " [217] \"39.48867\" \"38.90124\" \"37.98341\" \"37.79495\" \"36.08166\" \"37.93629\"\n",
              " [223] \"37.91748\" \"37.08738\" \"36.55369\" \"39.62038\" \"38.99816\" \"39.54642\"\n",
              " [229] \"37.65899\" \"36.27943\" \"38.85178\" \"39.55182\" \"39.11031\" \"35.95800\"\n",
              " [235] \"41.08103\" \"36.37087\" \"37.33690\" \"37.85186\" \"36.00630\" \"39.39746\"\n",
              " [241] \"37.15357\" \"35.96755\" \"37.14814\" \"37.09837\" \"36.99238\" \"39.46999\"\n",
              " [247] \"39.07300\" \"37.06080\" \"39.50806\" \"41.40354\" \"37.83620\" \"37.96606\"\n",
              " [253] \"37.23295\" \"36.47451\" \"38.31847\" \"39.56908\" \"37.73911\" \"36.53975\"\n",
              " [259] \"36.68450\" \"37.41222\" \"36.50587\" \"39.11257\" \"36.46952\" \"37.69988\"\n",
              " [265] \"36.12777\" \"36.91529\" \"37.58506\" \"39.33771\" \"37.21934\" \"36.72522\"\n",
              " [271] \"38.96302\" \"37.48171\" \"38.09322\" \"36.43265\" \"37.44363\" \"35.82128\"\n",
              " [277] \"35.90939\" \"41.47627\" \"37.41155\" \"38.20621\" \"38.34570\" \"39.10976\"\n",
              " [283] \"37.42116\" \"35.62039\" \"37.43736\" \"40.91499\" \"40.41134\" \"36.21567\"\n",
              " [289] \"36.58927\" \"39.04406\" \"36.83795\" \"38.09098\" \"38.62363\" \"38.85050\"\n",
              " [295] \"38.06170\" \"37.90746\" \"43.27991\" \"38.96146\" \"36.86021\" \"36.64757\"\n",
              " [301] \"36.86692\" \"36.08181\" \"37.98482\" \"37.18278\" \"37.85958\" \"37.24427\"\n",
              " [307] \"41.29181\" \"37.31600\" \"35.62639\" \"38.52872\" \"37.60384\" \"37.73414\"\n",
              " [313] \"35.96198\" \"38.44849\" \"38.07080\" \"39.76415\" \"41.01239\" \"38.37379\"\n",
              " [319] \"38.83137\" \"37.83841\" \"37.45424\" \"38.68701\" \"38.46236\" \"38.46998\"\n",
              " [325] \"36.20828\" \"40.77710\" \"37.57796\" \"40.52078\" \"37.22974\" \"38.90832\"\n",
              " [331] \"36.34273\" \"38.81152\" \"38.28395\" \"38.08040\" \"41.05413\" \"37.71509\"\n",
              " [337] \"39.80723\" \"39.82728\" \"38.58349\" \"37.01769\" \"40.01713\" \"35.96257\"\n",
              " [343] \"36.04833\" \"36.41125\" \"38.12691\" \"36.44434\" \"36.14878\" \"36.12443\"\n",
              " [349] \"37.75737\" \"35.94075\" \"36.43835\" \"38.45887\" \"35.93509\" \"37.05658\"\n",
              " [355] \"37.33975\" \"37.25179\" \"36.92721\" \"37.64051\" \"37.93064\" \"37.32025\"\n",
              " [361] \"38.94007\" \"36.38557\" \"37.25381\" \"36.49725\" \"36.78093\" \"35.85686\"\n",
              " [367] \"37.92121\" \"38.47255\" \"37.17948\" \"36.38010\" \"36.26435\" \"37.66380\"\n",
              " [373] \"37.08868\" \"37.43438\" \"37.73510\" \"39.41274\" \"36.07637\" \"37.88261\"\n",
              " [379] \"35.64546\" \"35.60330\" \"38.88400\" \"38.33667\" \"36.27537\" \"38.20010\"\n",
              " [385] \"37.86927\" \"37.11713\" \"37.85183\" \"37.75368\" \"37.02213\" \"35.76389\"\n",
              " [391] \"38.47914\" \"37.55447\" \"37.92752\" \"37.43080\" \"38.18432\" \"35.76798\"\n",
              " [397] \"37.32915\" \"37.41717\" \"37.20263\" \"36.41820\" \"37.87054\" \"38.57455\"\n",
              " [403] \"37.95970\" \"37.45407\" \"35.84677\" \"37.05165\" \"35.72103\" \"37.52255\"\n",
              " [409] \"37.16138\" \"36.49143\" \"36.39267\" \"35.88954\" \"35.92997\" \"37.67111\"\n",
              " [415] \"35.93123\" \"36.60016\" \"37.69097\" \"37.66117\" \"37.34307\" \"36.55732\"\n",
              " [421] \"39.15490\" \"36.58324\" \"38.52880\" \"36.41744\" \"37.20601\" \"36.28057\"\n",
              " [427] \"36.40627\" \"37.49079\" \"37.35031\" \"37.22625\" \"39.99406\" \"36.72765\"\n",
              " [433] \"37.73689\" \"36.16706\" \"38.55614\" \"35.67014\" \"36.66452\" \"35.66693\"\n",
              " [439] \"36.19017\" \"36.21425\" \"36.54057\" \"37.34263\" \"37.04289\" \"37.43800\"\n",
              " [445] \"37.22629\" \"37.29746\" \"38.48491\" \"36.90263\" \"37.86337\" \"38.82254\"\n",
              " [451] \"37.98106\" \"38.24954\" \"35.87284\" \"37.70258\" \"38.23359\" \"38.10676\"\n",
              " [457] \"36.70716\" \"37.43206\" \"37.43259\" \"36.87254\" \"38.47310\" \"37.21297\"\n",
              " [463] \"36.33976\" \"38.27655\" \"38.68877\" \"37.47273\" \"36.20252\" \"37.36576\"\n",
              " [469] \"37.24392\" \"37.85538\" \"35.80346\" \"37.59406\" \"37.95695\" \"37.49490\"\n",
              " [475] \"38.03792\" \"36.15424\" \"37.58516\" \"38.16570\" \"37.22593\" \"35.75413\"\n",
              " [481] \"38.81265\" \"38.95570\" \"38.13409\" \"37.74166\" \"37.70484\" \"36.42407\"\n",
              " [487] \"37.72052\" \"38.44450\" \"38.88702\" \"38.02094\" \"37.83471\" \"37.43928\"\n",
              " [493] \"36.99295\" \"36.51813\" \"37.42681\" \"37.27694\" \"38.31379\" \"37.38449\"\n",
              " [499] \"36.95730\" \"36.22920\" \"38.07664\" \"36.88483\" \"37.52907\" \"37.83822\"\n",
              " [505] \"37.42317\" \"36.65091\" \"36.54335\" \"37.62095\" \"37.21929\" \"36.28548\"\n",
              " [511] \"37.88990\" \"37.31931\" \"37.80418\" \"38.82533\" \"37.03295\" \"36.35381\"\n",
              " [517] \"37.92875\" \"37.51193\" \"36.02956\" \"36.30920\" \"37.08601\" \"35.91918\"\n",
              " [523] \"37.29047\" \"37.44877\" \"38.46862\" \"36.77868\" \"36.54211\" \"39.31449\"\n",
              " [529] \"36.77446\" \"37.12413\" \"36.94908\" \"38.03605\" \"37.59133\" \"36.58533\"\n",
              " [535] \"36.17891\" \"37.72925\" \"38.58160\" \"37.07618\" \"37.77352\" \"36.90490\"\n",
              " [541] \"36.49632\" \"38.61102\" \"35.96526\" \"36.57478\" \"37.47096\" \"39.24966\"\n",
              " [547] \"37.08232\" \"37.46984\" \"37.45176\" \"38.48699\" \"37.20152\" \"37.47139\"\n",
              " [553] \"37.77384\" \"38.70737\" \"35.97924\" \"38.22416\" \"36.24850\" \"38.43985\"\n",
              " [559] \"36.41368\" \"37.50630\" \"38.22613\" \"38.46545\" \"37.86915\" \"37.82760\"\n",
              " [565] \"38.00527\" \"38.36976\" \"37.62966\" \"36.63075\" \"37.26235\" \"37.92944\"\n",
              " [571] \"36.98091\" \"37.84759\" \"37.33811\" \"37.18684\" \"37.42832\" \"35.69658\"\n",
              " [577] \"36.90456\" \"36.11947\" \"36.81082\" \"37.91756\" \"38.35305\" \"38.07340\"\n",
              " [583] \"37.26419\" \"35.96047\" \"36.52684\" \"36.08725\" \"37.70275\" \"36.22824\"\n",
              " [589] \"38.37530\" \"36.77647\" \"37.99831\" \"39.00079\" \"37.66127\" \"37.49363\"\n",
              " [595] \"37.47457\" \"38.20049\" \"37.56965\" \"37.83369\" \"36.52582\" \"37.88480\"\n",
              " [601] \"37.78936\" \"35.61317\" \"38.68882\" \"38.15172\" \"39.17966\" \"38.47477\"\n",
              " [607] \"36.80741\" \"37.40099\" \"1\"        \"1\"        \"1\"        \"1\"       \n",
              " [613] \"1\"        \"1\"        \"1\"        \"1\"        \"1\"        \"1\"       \n",
              " [619] \"1\"        \"1\"        \"1\"        \"1\"        \"1\"        \"1\"       \n",
              " [625] \"1\"        \"1\"        \"1\"        \"1\"        \"1\"        \"1\"       \n",
              " [631] \"1\"        \"1\"        \"1\"        \"1\"        \"1\"        \"1\"       \n",
              " [637] \"1\"        \"1\"        \"1\"        \"1\"        \"1\"        \"1\"       \n",
              " [643] \"1\"        \"1\"        \"1\"        \"1\"        \"1\"        \"1\"       \n",
              " [649] \"1\"        \"1\"        \"1\"        \"1\"        \"1\"        \"1\"       \n",
              " [655] \"1\"        \"1\"        \"1\"        \"1\"        \"1\"        \"1\"       \n",
              " [661] \"1\"        \"1\"        \"1\"        \"1\"        \"1\"        \"1\"       \n",
              " [667] \"1\"        \"1\"        \"1\"        \"1\"        \"1\"        \"1\"       \n",
              " [673] \"1\"        \"1\"        \"1\"        \"1\"        \"1\"        \"1\"       \n",
              " [679] \"1\"        \"1\"        \"1\"        \"1\"        \"1\"        \"1\"       \n",
              " [685] \"1\"        \"1\"        \"1\"        \"1\"        \"1\"        \"1\"       \n",
              " [691] \"1\"        \"1\"        \"1\"        \"1\"        \"1\"        \"1\"       \n",
              " [697] \"1\"        \"1\"        \"1\"        \"1\"        \"1\"        \"1\"       \n",
              " [703] \"1\"        \"1\"        \"1\"        \"1\"        \"1\"        \"1\"       \n",
              " [709] \"1\"        \"1\"        \"1\"        \"1\"        \"1\"        \"1\"       \n",
              " [715] \"1\"        \"1\"        \"1\"        \"1\"        \"1\"        \"1\"       \n",
              " [721] \"1\"        \"1\"        \"1\"        \"1\"        \"1\"        \"1\"       \n",
              " [727] \"1\"        \"1\"        \"1\"        \"1\"        \"1\"        \"1\"       \n",
              " [733] \"1\"        \"1\"        \"1\"        \"1\"        \"1\"        \"1\"       \n",
              " [739] \"1\"        \"1\"        \"1\"        \"1\"        \"1\"        \"1\"       \n",
              " [745] \"1\"        \"1\"        \"1\"        \"1\"        \"1\"        \"1\"       \n",
              " [751] \"1\"        \"1\"        \"1\"        \"1\"        \"1\"        \"1\"       \n",
              " [757] \"1\"        \"1\"        \"1\"        \"1\"        \"1\"        \"1\"       \n",
              " [763] \"1\"        \"1\"        \"1\"        \"1\"        \"1\"        \"1\"       \n",
              " [769] \"1\"        \"1\"        \"1\"        \"1\"        \"1\"        \"1\"       \n",
              " [775] \"1\"        \"1\"        \"1\"        \"1\"        \"1\"        \"1\"       \n",
              " [781] \"1\"        \"1\"        \"1\"        \"1\"        \"1\"        \"1\"       \n",
              " [787] \"1\"        \"1\"        \"1\"        \"1\"        \"1\"        \"1\"       \n",
              " [793] \"1\"        \"1\"        \"1\"        \"1\"        \"1\"        \"1\"       \n",
              " [799] \"1\"        \"1\"        \"1\"        \"1\"        \"1\"        \"1\"       \n",
              " [805] \"1\"        \"1\"        \"1\"        \"1\"        \"1\"        \"1\"       \n",
              " [811] \"1\"        \"1\"        \"1\"        \"1\"        \"1\"        \"1\"       \n",
              " [817] \"1\"        \"1\"        \"1\"        \"1\"        \"1\"        \"1\"       \n",
              " [823] \"1\"        \"1\"        \"1\"        \"1\"        \"1\"        \"1\"       \n",
              " [829] \"1\"        \"1\"        \"1\"        \"1\"        \"1\"        \"1\"       \n",
              " [835] \"1\"        \"1\"        \"1\"        \"1\"        \"1\"        \"1\"       \n",
              " [841] \"1\"        \"1\"        \"1\"        \"1\"        \"1\"        \"1\"       \n",
              " [847] \"1\"        \"1\"        \"1\"        \"1\"        \"1\"        \"1\"       \n",
              " [853] \"1\"        \"1\"        \"1\"        \"1\"        \"1\"        \"1\"       \n",
              " [859] \"1\"        \"1\"        \"1\"        \"1\"        \"1\"        \"1\"       \n",
              " [865] \"1\"        \"1\"        \"1\"        \"1\"        \"1\"        \"1\"       \n",
              " [871] \"1\"        \"1\"        \"1\"        \"1\"        \"1\"        \"1\"       \n",
              " [877] \"1\"        \"1\"        \"1\"        \"1\"        \"1\"        \"1\"       \n",
              " [883] \"1\"        \"1\"        \"1\"        \"1\"        \"1\"        \"1\"       \n",
              " [889] \"1\"        \"1\"        \"1\"        \"1\"        \"1\"        \"1\"       \n",
              " [895] \"1\"        \"1\"        \"1\"        \"1\"        \"1\"        \"1\"       \n",
              " [901] \"1\"        \"1\"        \"1\"        \"1\"        \"1\"        \"1\"       \n",
              " [907] \"1\"        \"1\"        \"1\"        \"1\"        \"1\"        \"1\"       \n",
              " [913] \"1\"        \"1\"        \"1\"        \"1\"        \"1\"        \"1\"       \n",
              " [919] \"1\"        \"1\"        \"1\"        \"1\"        \"1\"        \"1\"       \n",
              " [925] \"1\"        \"1\"        \"1\"        \"1\"        \"1\"        \"1\"       \n",
              " [931] \"1\"        \"1\"        \"1\"        \"1\"        \"1\"        \"1\"       \n",
              " [937] \"1\"        \"1\"        \"1\"        \"1\"        \"1\"        \"1\"       \n",
              " [943] \"1\"        \"1\"        \"1\"        \"1\"        \"1\"        \"1\"       \n",
              " [949] \"1\"        \"1\"        \"1\"        \"1\"        \"1\"        \"1\"       \n",
              " [955] \"1\"        \"1\"        \"1\"        \"1\"        \"1\"        \"1\"       \n",
              " [961] \"1\"        \"1\"        \"1\"        \"1\"        \"1\"        \"1\"       \n",
              " [967] \"1\"        \"1\"        \"1\"        \"1\"        \"1\"        \"1\"       \n",
              " [973] \"1\"        \"1\"        \"1\"        \"1\"        \"1\"        \"1\"       \n",
              " [979] \"1\"        \"1\"        \"1\"        \"1\"        \"1\"        \"1\"       \n",
              " [985] \"1\"        \"1\"        \"1\"        \"1\"        \"1\"        \"1\"       \n",
              " [991] \"1\"        \"1\"        \"1\"        \"1\"        \"1\"        \"1\"       \n",
              " [997] \"1\"        \"1\"        \"1\"        \"1\"        \"1\"        \"1\"       \n",
              "[1003] \"1\"        \"1\"        \"1\"        \"1\"        \"1\"        \"1\"       \n",
              "[1009] \"1\"        \"1\"        \"1\"        \"1\"        \"1\"        \"1\"       \n",
              "[1015] \"1\"        \"1\"        \"1\"        \"1\"        \"1\"        \"1\"       \n",
              "[1021] \"1\"        \"1\"        \"1\"        \"1\"        \"1\"        \"1\"       \n",
              "[1027] \"1\"        \"1\"        \"1\"        \"1\"        \"1\"        \"1\"       \n",
              "[1033] \"1\"        \"1\"        \"1\"        \"1\"        \"1\"        \"1\"       \n",
              "[1039] \"1\"        \"1\"        \"1\"        \"1\"        \"1\"        \"1\"       \n",
              "[1045] \"1\"        \"1\"        \"1\"        \"1\"        \"1\"        \"1\"       \n",
              "[1051] \"1\"        \"1\"        \"1\"        \"1\"        \"1\"        \"1\"       \n",
              "[1057] \"1\"        \"1\"        \"1\"        \"1\"        \"1\"        \"1\"       \n",
              "[1063] \"1\"        \"1\"        \"1\"        \"1\"        \"1\"        \"1\"       \n",
              "[1069] \"1\"        \"1\"        \"1\"        \"1\"        \"1\"        \"1\"       \n",
              "[1075] \"1\"        \"1\"        \"1\"        \"1\"        \"1\"        \"1\"       \n",
              "[1081] \"1\"        \"1\"        \"1\"        \"1\"        \"1\"        \"1\"       \n",
              "[1087] \"1\"        \"1\"        \"1\"        \"1\"        \"1\"        \"1\"       \n",
              "[1093] \"1\"        \"1\"        \"1\"        \"1\"        \"1\"        \"1\"       \n",
              "[1099] \"1\"        \"1\"        \"1\"        \"1\"        \"1\"        \"1\"       \n",
              "[1105] \"1\"        \"1\"        \"1\"        \"1\"        \"1\"        \"1\"       \n",
              "[1111] \"1\"        \"1\"        \"1\"        \"1\"        \"1\"        \"1\"       \n",
              "[1117] \"1\"        \"1\"        \"1\"        \"1\"        \"1\"        \"1\"       \n",
              "[1123] \"1\"        \"1\"        \"1\"        \"1\"        \"1\"        \"1\"       \n",
              "[1129] \"1\"        \"1\"        \"1\"        \"1\"        \"1\"        \"1\"       \n",
              "[1135] \"1\"        \"1\"        \"1\"        \"1\"        \"1\"        \"1\"       \n",
              "[1141] \"1\"        \"1\"        \"1\"        \"1\"        \"1\"        \"1\"       \n",
              "[1147] \"1\"        \"1\"        \"1\"        \"1\"        \"1\"        \"1\"       \n",
              "[1153] \"1\"        \"1\"        \"1\"        \"1\"        \"1\"        \"1\"       \n",
              "[1159] \"1\"        \"1\"        \"1\"        \"1\"        \"1\"        \"1\"       \n",
              "[1165] \"1\"        \"1\"        \"1\"        \"1\"        \"1\"        \"1\"       \n",
              "[1171] \"1\"        \"1\"        \"1\"        \"1\"        \"1\"        \"1\"       \n",
              "[1177] \"1\"        \"1\"        \"1\"        \"1\"        \"1\"        \"1\"       \n",
              "[1183] \"1\"        \"1\"        \"1\"        \"1\"        \"1\"        \"1\"       \n",
              "[1189] \"1\"        \"1\"        \"1\"        \"1\"        \"1\"        \"1\"       \n",
              "[1195] \"1\"        \"1\"        \"1\"        \"1\"        \"1\"        \"1\"       \n",
              "[1201] \"1\"        \"1\"        \"1\"        \"1\"        \"1\"        \"1\"       \n",
              "[1207] \"1\"        \"1\"        \"1\"        \"1\"        \"1\"        \"1\"       \n",
              "[1213] \"1\"        \"1\"        \"1\"        \"1\"        \"1\"        \"1\"       \n",
              "[1219] \"1\"        \"1\"        \"1\"        \"1\"        \"0\"        \"1\"       \n",
              "[1225] \"0\"        \"0\"        \"0\"        \"1\"        \"1\"        \"1\"       \n",
              "[1231] \"1\"        \"1\"        \"1\"        \"1\"        \"1\"        \"1\"       \n",
              "[1237] \"1\"        \"1\"        \"1\"        \"1\"        \"1\"        \"1\"       \n",
              "[1243] \"1\"        \"1\"        \"1\"        \"1\"        \"1\"        \"1\"       \n",
              "[1249] \"1\"        \"1\"        \"1\"        \"1\"        \"1\"        \"1\"       \n",
              "[1255] \"1\"        \"1\"        \"1\"        \"0\"        \"1\"        \"0\"       \n",
              "[1261] \"1\"        \"1\"        \"1\"        \"1\"        \"0\"        \"1\"       \n",
              "[1267] \"1\"        \"1\"        \"1\"        \"0\"        \"1\"        \"1\"       \n",
              "[1273] \"0\"        \"1\"        \"1\"        \"0\"        \"1\"        \"1\"       \n",
              "[1279] \"1\"        \"1\"        \"1\"        \"0\"        \"0\"        \"1\"       \n",
              "[1285] \"0\"        \"0\"        \"0\"        \"1\"        \"1\"        \"1\"       \n",
              "[1291] \"1\"        \"1\"        \"0\"        \"1\"        \"1\"        \"1\"       \n",
              "[1297] \"1\"        \"1\"        \"1\"        \"1\"        \"1\"        \"1\"       \n",
              "[1303] \"1\"        \"1\"        \"0\"        \"1\"        \"1\"        \"1\"       \n",
              "[1309] \"0\"        \"1\"        \"1\"        \"1\"        \"1\"        \"1\"       \n",
              "[1315] \"1\"        \"0\"        \"1\"        \"1\"        \"1\"        \"1\"       \n",
              "[1321] \"1\"        \"1\"        \"0\"        \"1\"        \"1\"        \"0\"       \n",
              "[1327] \"1\"        \"0\"        \"0\"        \"1\"        \"0\"        \"0\"       \n",
              "[1333] \"1\"        \"1\"        \"1\"        \"1\"        \"1\"        \"1\"       \n",
              "[1339] \"1\"        \"1\"        \"1\"        \"1\"        \"1\"        \"0\"       \n",
              "[1345] \"0\"        \"1\"        \"1\"        \"1\"        \"1\"        \"1\"       \n",
              "[1351] \"1\"        \"1\"        \"1\"        \"1\"        \"1\"        \"1\"       \n",
              "[1357] \"1\"        \"1\"        \"1\"        \"0\"        \"1\"        \"1\"       \n",
              "[1363] \"1\"        \"0\"        \"1\"        \"1\"        \"0\"        \"1\"       \n",
              "[1369] \"1\"        \"1\"        \"1\"        \"0\"        \"1\"        \"1\"       \n",
              "[1375] \"1\"        \"1\"        \"0\"        \"1\"        \"1\"        \"1\"       \n",
              "[1381] \"0\"        \"1\"        \"1\"        \"1\"        \"0\"        \"1\"       \n",
              "[1387] \"1\"        \"1\"        \"1\"        \"1\"        \"1\"        \"0\"       \n",
              "[1393] \"1\"        \"1\"        \"0\"        \"1\"        \"1\"        \"0\"       \n",
              "[1399] \"1\"        \"0\"        \"1\"        \"0\"        \"1\"        \"1\"       \n",
              "[1405] \"1\"        \"1\"        \"0\"        \"1\"        \"1\"        \"1\"       \n",
              "[1411] \"1\"        \"1\"        \"1\"        \"0\"        \"0\"        \"1\"       \n",
              "[1417] \"1\"        \"1\"        \"0\"        \"1\"        \"0\"        \"1\"       \n",
              "[1423] \"1\"        \"1\"        \"1\"        \"0\"        \"1\"        \"1\"       \n",
              "[1429] \"1\"        \"1\"        \"1\"        \"1\"        \"1\"        \"1\"       \n",
              "[1435] \"1\"        \"1\"        \"1\"        \"1\"        \"0\"        \"1\"       \n",
              "[1441] \"1\"        \"1\"        \"1\"        \"1\"        \"1\"        \"1\"       \n",
              "[1447] \"1\"        \"1\"        \"1\"        \"1\"        \"0\"        \"1\"       \n",
              "[1453] \"1\"        \"1\"        \"1\"        \"1\"        \"1\"        \"1\"       \n",
              "[1459] \"1\"        \"1\"        \"1\"        \"1\"        \"1\"        \"1\"       \n",
              "[1465] \"0\"        \"1\"        \"1\"        \"1\"        \"1\"        \"0\"       \n",
              "[1471] \"1\"        \"1\"        \"1\"        \"1\"        \"0\"        \"1\"       \n",
              "[1477] \"1\"        \"1\"        \"1\"        \"1\"        \"1\"        \"1\"       \n",
              "[1483] \"1\"        \"1\"        \"1\"        \"1\"        \"1\"        \"0\"       \n",
              "[1489] \"0\"        \"1\"        \"1\"        \"1\"        \"1\"        \"1\"       \n",
              "[1495] \"1\"        \"1\"        \"1\"        \"1\"        \"1\"        \"1\"       \n",
              "[1501] \"1\"        \"1\"        \"1\"        \"1\"        \"1\"        \"1\"       \n",
              "[1507] \"1\"        \"1\"        \"1\"        \"0\"        \"0\"        \"1\"       \n",
              "[1513] \"1\"        \"1\"        \"1\"        \"1\"        \"1\"        \"1\"       \n",
              "[1519] \"0\"        \"1\"        \"1\"        \"1\"        \"1\"        \"1\"       \n",
              "[1525] \"1\"        \"1\"        \"1\"        \"1\"        \"1\"        \"1\"       \n",
              "[1531] \"0\"        \"0\"        \"1\"        \"1\"        \"1\"        \"1\"       \n",
              "[1537] \"1\"        \"1\"        \"1\"        \"0\"        \"1\"        \"1\"       \n",
              "[1543] \"1\"        \"1\"        \"1\"        \"1\"        \"0\"        \"0\"       \n",
              "[1549] \"1\"        \"1\"        \"1\"        \"0\"        \"1\"        \"1\"       \n",
              "[1555] \"1\"        \"1\"        \"1\"        \"1\"        \"0\"        \"1\"       \n",
              "[1561] \"1\"        \"1\"        \"1\"        \"1\"        \"1\"        \"1\"       \n",
              "[1567] \"1\"        \"1\"        \"1\"        \"0\"        \"1\"        \"1\"       \n",
              "[1573] \"1\"        \"1\"        \"1\"        \"1\"        \"1\"        \"0\"       \n",
              "[1579] \"0\"        \"1\"        \"1\"        \"1\"        \"1\"        \"1\"       \n",
              "[1585] \"1\"        \"1\"        \"1\"        \"1\"        \"0\"        \"1\"       \n",
              "[1591] \"1\"        \"1\"        \"1\"        \"1\"        \"1\"        \"1\"       \n",
              "[1597] \"1\"        \"1\"        \"1\"        \"1\"        \"1\"        \"1\"       \n",
              "[1603] \"1\"        \"1\"        \"1\"        \"0\"        \"0\"        \"1\"       \n",
              "[1609] \"0\"        \"1\"        \"1\"        \"0\"        \"1\"        \"1\"       \n",
              "[1615] \"1\"        \"0\"        \"0\"        \"1\"        \"0\"        \"1\"       \n",
              "[1621] \"1\"        \"1\"        \"1\"        \"1\"        \"1\"        \"1\"       \n",
              "[1627] \"1\"        \"0\"        \"1\"        \"1\"        \"1\"        \"1\"       \n",
              "[1633] \"1\"        \"1\"        \"0\"        \"0\"        \"1\"        \"1\"       \n",
              "[1639] \"0\"        \"1\"        \"1\"        \"0\"        \"1\"        \"1\"       \n",
              "[1645] \"1\"        \"0\"        \"1\"        \"1\"        \"1\"        \"1\"       \n",
              "[1651] \"1\"        \"1\"        \"1\"        \"1\"        \"0\"        \"1\"       \n",
              "[1657] \"1\"        \"1\"        \"0\"        \"1\"        \"1\"        \"1\"       \n",
              "[1663] \"0\"        \"1\"        \"0\"        \"0\"        \"1\"        \"1\"       \n",
              "[1669] \"1\"        \"1\"        \"1\"        \"1\"        \"0\"        \"1\"       \n",
              "[1675] \"1\"        \"1\"        \"1\"        \"1\"        \"1\"        \"1\"       \n",
              "[1681] \"1\"        \"1\"        \"1\"        \"1\"        \"1\"        \"1\"       \n",
              "[1687] \"0\"        \"1\"        \"1\"        \"1\"        \"1\"        \"1\"       \n",
              "[1693] \"0\"        \"0\"        \"0\"        \"1\"        \"1\"        \"1\"       \n",
              "[1699] \"1\"        \"0\"        \"1\"        \"0\"        \"0\"        \"1\"       \n",
              "[1705] \"1\"        \"1\"        \"1\"        \"1\"        \"1\"        \"1\"       \n",
              "[1711] \"1\"        \"1\"        \"1\"        \"1\"        \"0\"        \"1\"       \n",
              "[1717] \"1\"        \"1\"        \"0\"        \"1\"        \"1\"        \"1\"       \n",
              "[1723] \"1\"        \"1\"        \"1\"        \"0\"        \"0\"        \"1\"       \n",
              "[1729] \"1\"        \"1\"        \"1\"        \"1\"        \"1\"        \"1\"       \n",
              "[1735] \"1\"        \"1\"        \"0\"        \"1\"        \"1\"        \"1\"       \n",
              "[1741] \"1\"        \"1\"        \"0\"        \"0\"        \"0\"        \"1\"       \n",
              "[1747] \"1\"        \"1\"        \"1\"        \"1\"        \"0\"        \"1\"       \n",
              "[1753] \"1\"        \"0\"        \"1\"        \"0\"        \"1\"        \"1\"       \n",
              "[1759] \"1\"        \"1\"        \"1\"        \"1\"        \"0\"        \"1\"       \n",
              "[1765] \"1\"        \"1\"        \"1\"        \"1\"        \"1\"        \"1\"       \n",
              "[1771] \"1\"        \"1\"        \"0\"        \"1\"        \"1\"        \"1\"       \n",
              "[1777] \"1\"        \"1\"        \"1\"        \"0\"        \"1\"        \"1\"       \n",
              "[1783] \"1\"        \"1\"        \"1\"        \"1\"        \"0\"        \"0\"       \n",
              "[1789] \"1\"        \"1\"        \"1\"        \"1\"        \"0\"        \"1\"       \n",
              "[1795] \"1\"        \"1\"        \"0\"        \"1\"        \"1\"        \"1\"       \n",
              "[1801] \"0\"        \"1\"        \"0\"        \"1\"        \"1\"        \"1\"       \n",
              "[1807] \"0\"        \"1\"        \"1\"        \"1\"        \"0\"        \"1\"       \n",
              "[1813] \"1\"        \"1\"        \"1\"        \"1\"        \"1\"        \"1\"       \n",
              "[1819] \"1\"        \"1\"        \"1\"        \"1\"        \"1\"        \"1\"       \n",
              "[1825] \"0\"        \"1\"        \"1\"        \"1\"        \"0\"        \"1\"       \n",
              "[1831] \"1\"        \"1\"        \"1\"        \"1\"        \"1\"        \"1\"       \n",
              "[1837] \"0\"        \"1\"        \"0\"        \"1\"        \"0\"        \"0\"       \n",
              "[1843] \"1\"        \"1\"        \"0\"        \"1\"        \"1\"        \"1\"       \n",
              "[1849] \"1\"        \"1\"        \"0\"        \"1\"        \"1\"        \"0\"       \n",
              "[1855] \"1\"        \"1\"        \"0\"        \"1\"        \"1\"        \"1\"       \n",
              "[1861] \"1\"        \"1\"        \"1\"        \"0\"        \"1\"        \"1\"       \n",
              "[1867] \"1\"        \"1\"        \"1\"        \"1\"        \"0\"        \"1\"       \n",
              "[1873] \"1\"        \"1\"        \"1\"        \"1\"        \"1\"        \"1\"       \n",
              "[1879] \"1\"        \"1\"        \"0\"        \"1\"        \"1\"        \"1\"       \n",
              "[1885] \"1\"        \"1\"        \"0\"        \"1\"        \"1\"        \"1\"       \n",
              "[1891] \"1\"        \"1\"        \"1\"        \"0\"        \"0\"        \"0\"       \n",
              "[1897] \"1\"        \"1\"        \"1\"        \"1\"        \"1\"        \"1\"       \n",
              "[1903] \"0\"        \"1\"        \"1\"        \"1\"        \"1\"        \"1\"       \n",
              "[1909] \"0\"        \"1\"        \"1\"        \"1\"        \"1\"        \"1\"       \n",
              "[1915] \"1\"        \"1\"        \"0\"        \"1\"        \"1\"        \"1\"       \n",
              "[1921] \"1\"        \"1\"        \"1\"        \"1\"        \"1\"        \"1\"       \n",
              "[1927] \"1\"        \"1\"        \"1\"        \"1\"        \"1\"        \"1\"       \n",
              "[1933] \"0\"        \"1\"        \"1\"        \"1\"        \"1\"        \"1\"       \n",
              "[1939] \"1\"        \"1\"        \"0\"        \"1\"        \"1\"        \"1\"       \n",
              "[1945] \"1\"        \"1\"        \"1\"        \"0\"        \"1\"        \"0\"       \n",
              "[1951] \"0\"        \"1\"        \"0\"        \"1\"        \"1\"        \"1\"       \n",
              "[1957] \"0\"        \"1\"        \"1\"        \"1\"        \"0\"        \"1\"       \n",
              "[1963] \"1\"        \"1\"        \"1\"        \"1\"        \"0\"        \"1\"       \n",
              "[1969] \"1\"        \"1\"        \"1\"        \"1\"        \"1\"        \"1\"       \n",
              "[1975] \"1\"        \"1\"        \"0\"        \"1\"        \"1\"        \"1\"       \n",
              "[1981] \"1\"        \"1\"        \"1\"        \"1\"        \"1\"        \"0\"       \n",
              "[1987] \"1\"        \"1\"        \"0\"        \"0\"        \"0\"        \"0\"       \n",
              "[1993] \"1\"        \"0\"        \"1\"        \"1\"        \"1\"        \"1\"       \n",
              "[1999] \"1\"        \"1\"        \"1\"        \"1\"        \"0\"        \"0\"       \n",
              "[2005] \"1\"        \"0\"        \"1\"        \"1\"        \"1\"        \"0\"       \n",
              "[2011] \"0\"        \"1\"        \"1\"        \"0\"        \"1\"        \"1\"       \n",
              "[2017] \"1\"        \"1\"        \"1\"        \"1\"        \"1\"        \"1\"       \n",
              "[2023] \"1\"        \"1\"        \"0\"        \"1\"        \"0\"        \"1\"       \n",
              "[2029] \"1\"        \"1\"        \"0\"        \"1\"        \"1\"        \"0\"       \n",
              "[2035] \"1\"        \"1\"        \"0\"        \"1\"        \"1\"        \"1\"       \n",
              "[2041] \"1\"        \"1\"        \"0\"        \"1\"        \"0\"        \"1\"       \n",
              "[2047] \"0\"        \"1\"        \"1\"        \"1\"        \"0\"        \"1\"       \n",
              "[2053] \"1\"        \"1\"        \"1\"        \"0\"        \"1\"        \"1\"       \n",
              "[2059] \"0\"        \"1\"        \"1\"        \"1\"        \"1\"        \"1\"       \n",
              "[2065] \"1\"        \"1\"        \"1\"        \"1\"        \"0\"        \"1\"       \n",
              "[2071] \"1\"        \"1\"        \"1\"        \"1\"        \"1\"        \"1\"       \n",
              "[2077] \"1\"        \"0\"        \"0\"        \"1\"        \"0\"        \"0\"       \n",
              "[2083] \"1\"        \"1\"        \"1\"        \"1\"        \"1\"        \"1\"       \n",
              "[2089] \"0\"        \"0\"        \"1\"        \"1\"        \"1\"        \"1\"       \n",
              "[2095] \"1\"        \"1\"        \"1\"        \"1\"        \"1\"        \"0\"       \n",
              "[2101] \"0\"        \"1\"        \"1\"        \"1\"        \"1\"        \"0\"       \n",
              "[2107] \"1\"        \"1\"        \"0\"        \"0\"        \"1\"        \"0\"       \n",
              "[2113] \"1\"        \"1\"        \"0\"        \"1\"        \"1\"        \"0\"       \n",
              "[2119] \"0\"        \"1\"        \"1\"        \"1\"        \"1\"        \"1\"       \n",
              "[2125] \"1\"        \"1\"        \"1\"        \"1\"        \"0\"        \"1\"       \n",
              "[2131] \"1\"        \"1\"        \"0\"        \"1\"        \"1\"        \"0\"       \n",
              "[2137] \"1\"        \"0\"        \"1\"        \"1\"        \"1\"        \"1\"       \n",
              "[2143] \"1\"        \"1\"        \"1\"        \"1\"        \"1\"        \"1\"       \n",
              "[2149] \"1\"        \"1\"        \"1\"        \"0\"        \"1\"        \"1\"       \n",
              "[2155] \"0\"        \"0\"        \"0\"        \"1\"        \"0\"        \"1\"       \n",
              "[2161] \"1\"        \"1\"        \"1\"        \"0\"        \"0\"        \"1\"       \n",
              "[2167] \"1\"        \"0\"        \"1\"        \"0\"        \"0\"        \"1\"       \n",
              "[2173] \"1\"        \"1\"        \"1\"        \"1\"        \"1\"        \"1\"       \n",
              "[2179] \"1\"        \"1\"        \"1\"        \"1\"        \"1\"        \"1\"       \n",
              "[2185] \"1\"        \"1\"        \"0\"        \"1\"        \"1\"        \"1\"       \n",
              "[2191] \"1\"        \"1\"        \"1\"        \"1\"        \"0\"        \"1\"       \n",
              "[2197] \"1\"        \"0\"        \"1\"        \"1\"        \"1\"        \"1\"       \n",
              "[2203] \"1\"        \"0\"        \"1\"        \"1\"        \"0\"        \"1\"       \n",
              "[2209] \"0\"        \"0\"        \"1\"        \"1\"        \"1\"        \"0\"       \n",
              "[2215] \"1\"        \"0\"        \"0\"        \"1\"        \"0\"        \"1\"       \n",
              "[2221] \"1\"        \"1\"        \"1\"        \"0\"        \"1\"        \"0\"       \n",
              "[2227] \"1\"        \"1\"        \"1\"        \"1\"        \"1\"        \"1\"       \n",
              "[2233] \"1\"        \"0\"        \"1\"        \"1\"        \"1\"        \"0\"       \n",
              "[2239] \"1\"        \"1\"        \"1\"        \"1\"        \"1\"        \"1\"       \n",
              "[2245] \"1\"        \"1\"        \"0\"        \"1\"        \"1\"        \"1\"       \n",
              "[2251] \"1\"        \"1\"        \"1\"        \"1\"        \"1\"        \"1\"       \n",
              "[2257] \"1\"        \"1\"        \"1\"        \"1\"        \"0\"        \"0\"       \n",
              "[2263] \"1\"        \"1\"        \"1\"        \"0\"        \"1\"        \"1\"       \n",
              "[2269] \"1\"        \"1\"        \"1\"        \"0\"        \"1\"        \"1\"       \n",
              "[2275] \"0\"        \"0\"        \"1\"        \"1\"        \"1\"        \"1\"       \n",
              "[2281] \"1\"        \"1\"        \"1\"        \"1\"        \"1\"        \"1\"       \n",
              "[2287] \"1\"        \"1\"        \"1\"        \"1\"        \"1\"        \"1\"       \n",
              "[2293] \"1\"        \"1\"        \"1\"        \"1\"        \"1\"        \"1\"       \n",
              "[2299] \"0\"        \"1\"        \"1\"        \"1\"        \"1\"        \"1\"       \n",
              "[2305] \"1\"        \"1\"        \"1\"        \"1\"        \"1\"        \"1\"       \n",
              "[2311] \"0\"        \"1\"        \"1\"        \"1\"        \"0\"        \"1\"       \n",
              "[2317] \"1\"        \"1\"        \"1\"        \"1\"        \"1\"        \"0\"       \n",
              "[2323] \"0\"        \"1\"        \"0\"        \"0\"        \"1\"        \"1\"       \n",
              "[2329] \"1\"        \"1\"        \"0\"        \"1\"        \"1\"        \"1\"       \n",
              "[2335] \"1\"        \"0\"        \"1\"        \"0\"        \"1\"        \"1\"       \n",
              "[2341] \"1\"        \"0\"        \"1\"        \"1\"        \"1\"        \"1\"       \n",
              "[2347] \"1\"        \"1\"        \"0\"        \"1\"        \"1\"        \"0\"       \n",
              "[2353] \"1\"        \"1\"        \"1\"        \"1\"        \"1\"        \"1\"       \n",
              "[2359] \"1\"        \"1\"        \"1\"        \"0\"        \"0\"        \"1\"       \n",
              "[2365] \"1\"        \"1\"        \"1\"        \"1\"        \"1\"        \"1\"       \n",
              "[2371] \"1\"        \"1\"        \"1\"        \"1\"        \"0\"        \"1\"       \n",
              "[2377] \"1\"        \"1\"        \"1\"        \"1\"        \"1\"        \"1\"       \n",
              "[2383] \"1\"        \"1\"        \"0\"        \"1\"        \"0\"        \"1\"       \n",
              "[2389] \"1\"        \"1\"        \"1\"        \"1\"        \"1\"        \"0\"       \n",
              "[2395] \"1\"        \"1\"        \"1\"        \"1\"        \"1\"        \"1\"       \n",
              "[2401] \"1\"        \"1\"        \"1\"        \"1\"        \"1\"        \"1\"       \n",
              "[2407] \"1\"        \"1\"        \"0\"        \"1\"        \"1\"        \"1\"       \n",
              "[2413] \"1\"        \"1\"        \"0\"        \"1\"        \"0\"        \"1\"       \n",
              "[2419] \"1\"        \"1\"        \"1\"        \"1\"        \"1\"        \"1\"       \n",
              "[2425] \"1\"        \"0\"        \"1\"        \"1\"        \"1\"        \"1\"       \n",
              "[2431] \"0\"        \"1\"        \"0\"        \"1\"        \"0\"        \"1\"       \n",
              "[2437] \"0\"        \"1\"        \"0\"        \"1\"        \"1\"        \"1\"       \n",
              "[2443] \"0\"        \"0\"        \"0\"        \"1\"        \"0\"        \"1\"       \n",
              "[2449] \"1\"        \"0\"        \"0\"        \"1\"        \"0\"        \"0\"       \n",
              "[2455] \"1\"        \"1\"        \"1\"        \"0\"        \"1\"        \"0\"       \n",
              "[2461] \"0\"        \"1\"        \"1\"        \"0\"        \"0\"        \"1\"       \n",
              "[2467] \"1\"        \"1\"        \"0\"        \"1\"        \"0\"        \"0\"       \n",
              "[2473] \"1\"        \"1\"        \"1\"        \"0\"        \"1\"        \"0\"       \n",
              "[2479] \"1\"        \"0\"        \"1\"        \"0\"        \"0\"        \"1\"       \n",
              "[2485] \"1\"        \"0\"        \"0\"        \"0\"        \"1\"        \"0\"       \n",
              "[2491] \"0\"        \"1\"        \"1\"        \"0\"        \"1\"        \"1\"       \n",
              "[2497] \"1\"        \"0\"        \"1\"        \"1\"        \"0\"        \"0\"       \n",
              "[2503] \"1\"        \"1\"        \"1\"        \"1\"        \"1\"        \"0\"       \n",
              "[2509] \"1\"        \"1\"        \"1\"        \"1\"        \"0\"        \"0\"       \n",
              "[2515] \"1\"        \"1\"        \"0\"        \"1\"        \"1\"        \"1\"       \n",
              "[2521] \"1\"        \"0\"        \"1\"        \"1\"        \"1\"        \"1\"       \n",
              "[2527] \"1\"        \"0\"        \"1\"        \"0\"        \"0\"        \"1\"       \n",
              "[2533] \"1\"        \"1\"        \"1\"        \"1\"        \"1\"        \"0\"       \n",
              "[2539] \"0\"        \"1\"        \"1\"        \"0\"        \"0\"        \"0\"       \n",
              "[2545] \"1\"        \"1\"        \"0\"        \"1\"        \"1\"        \"1\"       \n",
              "[2551] \"0\"        \"1\"        \"1\"        \"1\"        \"0\"        \"1\"       \n",
              "[2557] \"1\"        \"1\"        \"1\"        \"1\"        \"1\"        \"0\"       \n",
              "[2563] \"1\"        \"1\"        \"1\"        \"0\"        \"0\"        \"0\"       \n",
              "[2569] \"0\"        \"1\"        \"1\"        \"0\"        \"1\"        \"1\"       \n",
              "[2575] \"0\"        \"1\"        \"0\"        \"0\"        \"1\"        \"1\"       \n",
              "[2581] \"1\"        \"0\"        \"0\"        \"0\"        \"0\"        \"1\"       \n",
              "[2587] \"0\"        \"0\"        \"1\"        \"1\"        \"1\"        \"1\"       \n",
              "[2593] \"0\"        \"0\"        \"1\"        \"0\"        \"0\"        \"0\"       \n",
              "[2599] \"1\"        \"1\"        \"0\"        \"1\"        \"1\"        \"0\"       \n",
              "[2605] \"1\"        \"0\"        \"0\"        \"1\"        \"0\"        \"1\"       \n",
              "[2611] \"1\"        \"0\"        \"1\"        \"1\"        \"1\"        \"0\"       \n",
              "[2617] \"0\"        \"1\"        \"0\"        \"0\"        \"0\"        \"1\"       \n",
              "[2623] \"1\"        \"1\"        \"1\"        \"0\"        \"1\"        \"0\"       \n",
              "[2629] \"0\"        \"1\"        \"1\"        \"1\"        \"1\"        \"1\"       \n",
              "[2635] \"0\"        \"1\"        \"1\"        \"1\"        \"1\"        \"1\"       \n",
              "[2641] \"1\"        \"1\"        \"1\"        \"1\"        \"1\"        \"1\"       \n",
              "[2647] \"0\"        \"0\"        \"1\"        \"0\"        \"1\"        \"1\"       \n",
              "[2653] \"0\"        \"1\"        \"1\"        \"1\"        \"0\"        \"0\"       \n",
              "[2659] \"1\"        \"0\"        \"1\"        \"0\"        \"1\"        \"1\"       \n",
              "[2665] \"1\"        \"0\"        \"0\"        \"0\"        \"1\"        \"1\"       \n",
              "[2671] \"0\"        \"1\"        \"0\"        \"0\"        \"0\"        \"0\"       \n",
              "[2677] \"0\"        \"1\"        \"0\"        \"0\"        \"0\"        \"0\"       \n",
              "[2683] \"1\"        \"1\"        \"1\"        \"0\"        \"1\"        \"1\"       \n",
              "[2689] \"0\"        \"0\"        \"0\"        \"1\"        \"0\"        \"1\"       \n",
              "[2695] \"0\"        \"1\"        \"0\"        \"1\"        \"1\"        \"1\"       \n",
              "[2701] \"1\"        \"0\"        \"1\"        \"1\"        \"1\"        \"0\"       \n",
              "[2707] \"1\"        \"0\"        \"0\"        \"1\"        \"1\"        \"1\"       \n",
              "[2713] \"1\"        \"1\"        \"1\"        \"0\"        \"1\"        \"1\"       \n",
              "[2719] \"1\"        \"1\"        \"0\"        \"1\"        \"0\"        \"1\"       \n",
              "[2725] \"0\"        \"1\"        \"1\"        \"0\"        \"1\"        \"1\"       \n",
              "[2731] \"0\"        \"0\"        \"0\"        \"0\"        \"1\"        \"0\"       \n",
              "[2737] \"1\"        \"0\"        \"1\"        \"1\"        \"0\"        \"0\"       \n",
              "[2743] \"1\"        \"1\"        \"0\"        \"0\"        \"0\"        \"1\"       \n",
              "[2749] \"0\"        \"1\"        \"1\"        \"1\"        \"1\"        \"1\"       \n",
              "[2755] \"1\"        \"0\"        \"0\"        \"1\"        \"1\"        \"1\"       \n",
              "[2761] \"0\"        \"1\"        \"0\"        \"1\"        \"1\"        \"1\"       \n",
              "[2767] \"1\"        \"1\"        \"0\"        \"1\"        \"1\"        \"0\"       \n",
              "[2773] \"0\"        \"0\"        \"0\"        \"0\"        \"0\"        \"0\"       \n",
              "[2779] \"0\"        \"0\"        \"0\"        \"1\"        \"0\"        \"1\"       \n",
              "[2785] \"0\"        \"0\"        \"1\"        \"0\"        \"0\"        \"1\"       \n",
              "[2791] \"1\"        \"1\"        \"0\"        \"1\"        \"1\"        \"0\"       \n",
              "[2797] \"0\"        \"0\"        \"1\"        \"1\"        \"0\"        \"0\"       \n",
              "[2803] \"0\"        \"1\"        \"0\"        \"1\"        \"1\"        \"0\"       \n",
              "[2809] \"0\"        \"1\"        \"0\"        \"0\"        \"1\"        \"1\"       \n",
              "[2815] \"0\"        \"1\"        \"0\"        \"0\"        \"1\"        \"1\"       \n",
              "[2821] \"0\"        \"1\"        \"0\"        \"1\"        \"1\"        \"1\"       \n",
              "[2827] \"1\"        \"0\"        \"1\"        \"1\"        \"1\"        \"0\"       \n",
              "[2833] \"1\"        \"1\"        \"1\"        \"1\"        \"0\"        \"0\"       \n",
              "[2839] \"0\"        \"1\"        \"1\"        \"0\"        \"0\"        \"0\"       \n",
              "[2845] \"0\"        \"1\"        \"0\"        \"0\"        \"0\"        \"1\"       \n",
              "[2851] \"1\"        \"0\"        \"0\"        \"0\"        \"1\"        \"0\"       \n",
              "[2857] \"1\"        \"0\"        \"0\"        \"1\"        \"1\"        \"1\"       \n",
              "[2863] \"1\"        \"0\"        \"1\"        \"0\"        \"1\"        \"0\"       \n",
              "[2869] \"0\"        \"0\"        \"0\"        \"0\"        \"0\"        \"1\"       \n",
              "[2875] \"0\"        \"1\"        \"1\"        \"1\"        \"1\"        \"0\"       \n",
              "[2881] \"1\"        \"0\"        \"0\"        \"1\"        \"0\"        \"1\"       \n",
              "[2887] \"1\"        \"1\"        \"0\"        \"1\"        \"1\"        \"0\"       \n",
              "[2893] \"1\"        \"1\"        \"0\"        \"1\"        \"1\"        \"1\"       \n",
              "[2899] \"0\"        \"1\"        \"1\"        \"1\"        \"0\"        \"1\"       \n",
              "[2905] \"1\"        \"1\"        \"1\"        \"0\"        \"1\"        \"1\"       \n",
              "[2911] \"0\"        \"0\"        \"1\"        \"1\"        \"1\"        \"0\"       \n",
              "[2917] \"1\"        \"0\"        \"0\"        \"1\"        \"1\"        \"0\"       \n",
              "[2923] \"0\"        \"1\"        \"0\"        \"0\"        \"1\"        \"1\"       \n",
              "[2929] \"1\"        \"1\"        \"0\"        \"0\"        \"1\"        \"0\"       \n",
              "[2935] \"1\"        \"1\"        \"1\"        \"0\"        \"0\"        \"1\"       \n",
              "[2941] \"1\"        \"0\"        \"0\"        \"0\"        \"1\"        \"1\"       \n",
              "[2947] \"0\"        \"0\"        \"1\"        \"0\"        \"0\"        \"0\"       \n",
              "[2953] \"0\"        \"0\"        \"1\"        \"1\"        \"1\"        \"0\"       \n",
              "[2959] \"0\"        \"1\"        \"0\"        \"0\"        \"0\"        \"1\"       \n",
              "[2965] \"1\"        \"0\"        \"1\"        \"1\"        \"1\"        \"0\"       \n",
              "[2971] \"1\"        \"0\"        \"0\"        \"1\"        \"0\"        \"0\"       \n",
              "[2977] \"1\"        \"1\"        \"0\"        \"0\"        \"1\"        \"1\"       \n",
              "[2983] \"1\"        \"1\"        \"0\"        \"1\"        \"0\"        \"0\"       \n",
              "[2989] \"0\"        \"0\"        \"0\"        \"1\"        \"0\"        \"1\"       \n",
              "[2995] \"0\"        \"1\"        \"1\"        \"1\"        \"1\"        \"0\"       \n",
              "[3001] \"1\"        \"0\"        \"1\"        \"1\"        \"1\"        \"0\"       \n",
              "[3007] \"1\"        \"0\"        \"0\"        \"0\"        \"0\"        \"1\"       \n",
              "[3013] \"1\"        \"1\"        \"1\"        \"0\"        \"0\"        \"0\"       \n",
              "[3019] \"1\"        \"0\"        \"1\"        \"0\"        \"1\"        \"1\"       \n",
              "[3025] \"1\"        \"1\"        \"1\"        \"1\"        \"1\"        \"1\"       \n",
              "[3031] \"0\"        \"0\"        \"1\"        \"0\"        \"1\"        \"0\"       \n",
              "[3037] \"0\"        \"1\"        \"0\"        \"1\"        \"h_28\"     \"h_491\"   \n",
              "[3043] \"h_128\"    \"h_64\"     \"h_633\"    \"h_540\"    \"h_514\"    \"h_16\"    \n",
              "[3049] \"h_60\"     \"h_415\"    \"h_344\"    \"h_115\"    \"h_523\"    \"h_143\"   \n",
              "[3055] \"h_468\"    \"h_370\"    \"h_142\"    \"h_611\"    \"h_626\"    \"h_78\"    \n",
              "[3061] \"h_65\"     \"h_177\"    \"h_54\"     \"h_609\"    \"h_157\"    \"h_181\"   \n",
              "[3067] \"h_472\"    \"h_590\"    \"h_327\"    \"h_107\"    \"h_583\"    \"h_73\"    \n",
              "[3073] \"h_387\"    \"h_390\"    \"h_565\"    \"h_329\"    \"h_587\"    \"h_333\"   \n",
              "[3079] \"h_198\"    \"h_15\"     \"h_564\"    \"h_275\"    \"h_192\"    \"h_478\"   \n",
              "[3085] \"h_574\"    \"h_589\"    \"h_320\"    \"h_522\"    \"h_305\"    \"h_366\"   \n",
              "[3091] \"h_279\"    \"h_17\"     \"h_509\"    \"h_416\"    \"h_218\"    \"h_112\"   \n",
              "[3097] \"h_108\"    \"h_382\"    \"h_199\"    \"h_594\"    \"h_200\"    \"h_114\"   \n",
              "[3103] \"h_642\"    \"h_598\"    \"h_214\"    \"h_601\"    \"h_176\"    \"h_586\"   \n",
              "[3109] \"h_422\"    \"h_498\"    \"h_291\"    \"h_397\"    \"h_334\"    \"h_459\"   \n",
              "[3115] \"h_536\"    \"h_456\"    \"h_270\"    \"h_187\"    \"h_445\"    \"h_354\"   \n",
              "[3121] \"h_562\"    \"h_521\"    \"h_640\"    \"h_444\"    \"h_578\"    \"h_295\"   \n",
              "[3127] \"h_358\"    \"h_306\"    \"h_450\"    \"h_283\"    \"h_313\"    \"h_364\"   \n",
              "[3133] \"h_220\"    \"h_83\"     \"h_638\"    \"h_225\"    \"h_439\"    \"h_248\"   \n",
              "[3139] \"h_376\"    \"h_602\"    \"h_405\"    \"h_149\"    \"h_307\"    \"h_203\"   \n",
              "[3145] \"h_24\"     \"h_228\"    \"h_463\"    \"h_255\"    \"h_91\"     \"h_517\"   \n",
              "[3151] \"h_457\"    \"h_159\"    \"h_549\"    \"h_408\"    \"h_216\"    \"h_398\"   \n",
              "[3157] \"h_418\"    \"h_488\"    \"h_166\"    \"h_259\"    \"h_5\"      \"h_8\"     \n",
              "[3163] \"h_66\"     \"h_43\"     \"h_446\"    \"h_339\"    \"h_67\"     \"h_244\"   \n",
              "[3169] \"h_610\"    \"h_26\"     \"h_174\"    \"h_579\"    \"h_105\"    \"h_232\"   \n",
              "[3175] \"h_111\"    \"h_6\"      \"h_241\"    \"h_118\"    \"h_72\"     \"h_46\"    \n",
              "[3181] \"h_448\"    \"h_254\"    \"h_553\"    \"h_297\"    \"h_406\"    \"h_69\"    \n",
              "[3187] \"h_44\"     \"h_96\"     \"h_395\"    \"h_32\"     \"h_639\"    \"h_222\"   \n",
              "[3193] \"h_251\"    \"h_613\"    \"h_209\"    \"h_261\"    \"h_109\"    \"h_280\"   \n",
              "[3199] \"h_430\"    \"h_22\"     \"h_48\"     \"h_9\"      \"h_206\"    \"h_615\"   \n",
              "[3205] \"h_511\"    \"h_380\"    \"h_3\"      \"h_197\"    \"h_559\"    \"h_205\"   \n",
              "[3211] \"h_287\"    \"h_635\"    \"h_462\"    \"h_637\"    \"h_12\"     \"h_116\"   \n",
              "[3217] \"h_352\"    \"h_173\"    \"h_597\"    \"h_237\"    \"h_322\"    \"h_188\"   \n",
              "[3223] \"h_464\"    \"h_14\"     \"h_36\"     \"h_340\"    \"h_607\"    \"h_467\"   \n",
              "[3229] \"h_634\"    \"h_391\"    \"h_396\"    \"h_335\"    \"h_487\"    \"h_35\"    \n",
              "[3235] \"h_400\"    \"h_37\"     \"h_227\"    \"h_545\"    \"h_125\"    \"h_431\"   \n",
              "[3241] \"h_427\"    \"h_119\"    \"h_489\"    \"h_271\"    \"h_560\"    \"h_62\"    \n",
              "[3247] \"h_419\"    \"h_296\"    \"h_162\"    \"h_502\"    \"h_479\"    \"h_260\"   \n",
              "[3253] \"h_360\"    \"h_595\"    \"h_596\"    \"h_99\"     \"h_269\"    \"h_76\"    \n",
              "[3259] \"h_438\"    \"h_90\"     \"h_349\"    \"h_156\"    \"h_258\"    \"h_25\"    \n",
              "[3265] \"h_373\"    \"h_57\"     \"h_650\"    \"h_256\"    \"h_550\"    \"h_144\"   \n",
              "[3271] \"h_236\"    \"h_56\"     \"h_249\"    \"h_507\"    \"h_420\"    \"h_410\"   \n",
              "[3277] \"h_539\"    \"h_629\"    \"h_499\"    \"h_286\"    \"h_356\"    \"h_52\"    \n",
              "[3283] \"h_503\"    \"h_135\"    \"h_552\"    \"h_136\"    \"h_504\"    \"h_547\"   \n",
              "[3289] \"h_519\"    \"h_186\"    \"h_341\"    \"h_369\"    \"h_350\"    \"h_447\"   \n",
              "[3295] \"h_302\"    \"h_401\"    \"h_630\"    \"h_524\"    \"h_268\"    \"h_631\"   \n",
              "[3301] \"h_483\"    \"h_88\"     \"h_79\"     \"h_417\"    \"h_282\"    \"h_632\"   \n",
              "[3307] \"h_404\"    \"h_304\"    \"h_263\"    \"h_211\"    \"h_460\"    \"h_202\"   \n",
              "[3313] \"h_247\"    \"h_374\"    \"h_555\"    \"h_345\"    \"h_541\"    \"h_569\"   \n",
              "[3319] \"h_40\"     \"h_281\"    \"h_80\"     \"h_532\"    \"h_449\"    \"h_134\"   \n",
              "[3325] \"h_581\"    \"h_492\"    \"h_620\"    \"h_365\"    \"h_533\"    \"h_619\"   \n",
              "[3331] \"h_266\"    \"h_31\"     \"h_311\"    \"h_310\"    \"h_505\"    \"h_506\"   \n",
              "[3337] \"h_204\"    \"h_647\"    \"h_120\"    \"h_160\"    \"h_353\"    \"h_152\"   \n",
              "[3343] \"h_599\"    \"h_494\"    \"h_292\"    \"h_357\"    \"h_246\"    \"h_437\"   \n",
              "[3349] \"h_165\"    \"h_567\"    \"h_378\"    \"h_624\"    \"h_530\"    \"h_58\"    \n",
              "[3355] \"h_175\"    \"h_428\"    \"h_39\"     \"h_290\"    \"h_393\"    \"h_623\"   \n",
              "[3361] \"h_434\"    \"h_238\"    \"h_641\"    \"h_645\"    \"h_359\"    \"h_575\"   \n",
              "[3367] \"h_573\"    \"h_312\"    \"h_219\"    \"h_38\"     \"h_299\"    \"h_229\"   \n",
              "[3373] \"h_386\"    \"h_363\"    \"h_182\"    \"h_191\"    \"h_272\"    \"h_558\"   \n",
              "[3379] \"h_421\"    \"h_534\"    \"h_371\"    \"m_326\"    \"m_560\"    \"m_228\"   \n",
              "[3385] \"m_82\"     \"m_33\"     \"m_315\"    \"m_323\"    \"m_75\"     \"m_509\"   \n",
              "[3391] \"m_265\"    \"m_442\"    \"m_527\"    \"m_570\"    \"m_160\"    \"m_261\"   \n",
              "[3397] \"m_115\"    \"m_162\"    \"m_377\"    \"m_577\"    \"m_84\"     \"m_357\"   \n",
              "[3403] \"m_272\"    \"m_19\"     \"m_170\"    \"m_181\"    \"m_459\"    \"m_314\"   \n",
              "[3409] \"m_304\"    \"m_250\"    \"m_345\"    \"m_321\"    \"m_163\"    \"m_344\"   \n",
              "[3415] \"m_185\"    \"m_463\"    \"m_138\"    \"m_522\"    \"m_50\"     \"m_6\"     \n",
              "[3421] \"m_57\"     \"m_182\"    \"m_88\"     \"m_526\"    \"m_11\"     \"m_528\"   \n",
              "[3427] \"m_475\"    \"m_268\"    \"m_458\"    \"m_143\"    \"m_444\"    \"m_95\"    \n",
              "[3433] \"m_330\"    \"m_280\"    \"m_8\"      \"m_86\"     \"m_255\"    \"m_385\"   \n",
              "[3439] \"m_112\"    \"m_281\"    \"m_322\"    \"m_234\"    \"m_318\"    \"m_205\"   \n",
              "[3445] \"m_421\"    \"m_511\"    \"m_435\"    \"m_121\"    \"m_54\"     \"m_46\"    \n",
              "[3451] \"m_157\"    \"m_406\"    \"m_382\"    \"m_309\"    \"m_61\"     \"m_402\"   \n",
              "[3457] \"m_540\"    \"m_425\"    \"m_492\"    \"m_515\"    \"m_392\"    \"m_18\"    \n",
              "[3463] \"m_493\"    \"m_270\"    \"m_352\"    \"m_179\"    \"m_56\"     \"m_310\"   \n",
              "[3469] \"m_488\"    \"m_153\"    \"m_169\"    \"m_566\"    \"m_165\"    \"m_537\"   \n",
              "[3475] \"m_388\"    \"m_358\"    \"m_117\"    \"m_355\"    \"m_196\"    \"m_489\"   \n",
              "[3481] \"m_419\"    \"m_405\"    \"m_517\"    \"m_58\"     \"m_158\"    \"m_83\"    \n",
              "[3487] \"m_348\"    \"m_132\"    \"m_571\"    \"m_109\"    \"m_550\"    \"m_171\"   \n",
              "[3493] \"m_5\"      \"m_129\"    \"m_274\"    \"m_306\"    \"m_491\"    \"m_432\"   \n",
              "[3499] \"m_545\"    \"m_297\"    \"m_338\"    \"m_135\"    \"m_102\"    \"m_295\"   \n",
              "[3505] \"m_236\"    \"m_39\"     \"m_369\"    \"m_446\"    \"m_128\"    \"m_208\"   \n",
              "[3511] \"m_467\"    \"m_423\"    \"m_198\"    \"m_209\"    \"m_29\"     \"m_554\"   \n",
              "[3517] \"m_308\"    \"m_114\"    \"m_93\"     \"m_103\"    \"m_397\"    \"m_76\"    \n",
              "[3523] \"m_324\"    \"m_499\"    \"m_65\"     \"m_340\"    \"m_307\"    \"m_503\"   \n",
              "[3529] \"m_362\"    \"m_43\"     \"m_350\"    \"m_483\"    \"m_210\"    \"m_97\"    \n",
              "[3535] \"m_20\"     \"m_207\"    \"m_482\"    \"m_343\"    \"m_292\"    \"m_218\"   \n",
              "[3541] \"m_276\"    \"m_559\"    \"m_466\"    \"m_470\"    \"m_10\"     \"m_200\"   \n",
              "[3547] \"m_364\"    \"m_254\"    \"m_473\"    \"m_3\"      \"m_518\"    \"m_549\"   \n",
              "[3553] \"m_257\"    \"m_440\"    \"m_478\"    \"m_451\"    \"m_233\"    \"m_337\"   \n",
              "[3559] \"m_448\"    \"m_21\"     \"m_144\"    \"m_416\"    \"m_498\"    \"m_486\"   \n",
              "[3565] \"m_59\"     \"m_363\"    \"m_267\"    \"m_572\"    \"m_481\"    \"m_485\"   \n",
              "[3571] \"m_231\"    \"m_311\"    \"m_514\"    \"m_154\"    \"m_512\"    \"m_417\"   \n",
              "[3577] \"m_327\"    \"m_538\"    \"m_51\"     \"m_519\"    \"m_480\"    \"m_22\"    \n",
              "[3583] \"m_152\"    \"m_508\"    \"m_106\"    \"m_277\"    \"m_384\"    \"m_124\"   \n",
              "[3589] \"m_422\"    \"m_87\"     \"m_271\"    \"m_237\"    \"m_552\"    \"m_195\"   \n",
              "[3595] \"m_346\"    \"m_53\"     \"m_174\"    \"m_92\"     \"m_199\"    \"m_125\"   \n",
              "[3601] \"m_71\"     \"m_457\"    \"m_341\"    \"m_239\"    \"m_197\"    \"m_190\"   \n",
              "[3607] \"m_216\"    \"m_230\"    \"m_381\"    \"m_69\"     \"m_389\"    \"m_101\"   \n",
              "[3613] \"m_64\"     \"m_193\"    \"m_133\"    \"m_506\"    \"m_487\"    \"m_386\"   \n",
              "[3619] \"m_206\"    \"m_127\"    \"m_319\"    \"m_378\"    \"m_175\"    \"m_400\"   \n",
              "[3625] \"m_302\"    \"m_395\"    \"m_108\"    \"m_122\"    \"m_500\"    \"m_94\"    \n",
              "[3631] \"m_449\"    \"m_89\"     \"m_155\"    \"m_428\"    \"m_532\"    \"m_107\"   \n",
              "[3637] \"m_374\"    \"m_7\"      \"m_568\"    \"m_244\"    \"m_396\"    \"m_273\"   \n",
              "[3643] \"m_291\"    \"m_525\"    \"m_192\"    \"m_436\"    \"m_415\"    \"m_403\"   "
            ]
          },
          "metadata": {}
        }
      ]
    },
    {
      "cell_type": "code",
      "source": [
        ""
      ],
      "metadata": {
        "id": "bOfZkaoOBXDk"
      },
      "execution_count": null,
      "outputs": []
    }
  ]
}
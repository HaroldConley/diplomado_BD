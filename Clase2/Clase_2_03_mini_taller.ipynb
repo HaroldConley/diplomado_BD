{
  "nbformat": 4,
  "nbformat_minor": 0,
  "metadata": {
    "colab": {
      "name": "Clase 2_03_mini_taller.ipynb",
      "provenance": [],
      "collapsed_sections": [],
      "include_colab_link": true
    },
    "kernelspec": {
      "name": "ir",
      "display_name": "R"
    }
  },
  "cells": [
    {
      "cell_type": "markdown",
      "metadata": {
        "id": "view-in-github",
        "colab_type": "text"
      },
      "source": [
        "<a href=\"https://colab.research.google.com/github/HaroldConley/diplomado_BD/blob/main/Clase2/Clase_2_03_mini_taller.ipynb\" target=\"_parent\"><img src=\"https://colab.research.google.com/assets/colab-badge.svg\" alt=\"Open In Colab\"/></a>"
      ]
    },
    {
      "cell_type": "markdown",
      "metadata": {
        "id": "x-GJ_euMr-qr"
      },
      "source": [
        "#**Mini taller 1**\n",
        "**Autor:** Miguel Jorquera Viguera <br>\n",
        "**E-mail:** majorquev@gmail.com<br>\n",
        "**Ayudante:** Rodrigo Morales<br>\n",
        "**E-mail ayudante:**  rumorale1@gmail.com<br>"
      ]
    },
    {
      "cell_type": "markdown",
      "metadata": {
        "collapsed": true,
        "id": "EZ0yOlnfm5Zb"
      },
      "source": [
        "\n",
        "Los dataframes corresponden a uno de los objetos más utilizados en R para analizar datos tabulares,\n",
        "por lo que se hace necesario en muchos casos realizar consultas a los datos que contiene un dataframe,\n",
        "(filtros, cruces de tablas, creación de columnas, etc). Por ahora veremos una de las formas más \"primitivas\" para la manipulación de un data.frame.\n",
        "\n",
        "Para ello consideremos el siguiente ejercicio.\n",
        "\n",
        "**Paso 1**\n",
        "Mediante la función rnorm(), genere una muestra aleatoria de 100 datos , con media 21 y desviación estándar 8 (más adelante veremos esto con un poco más de detalle), y guárdela en una variable llamada temp.\n",
        "\n"
      ]
    },
    {
      "cell_type": "code",
      "metadata": {
        "trusted": true,
        "id": "9f6cXmN3m5Zc",
        "colab": {
          "base_uri": "https://localhost:8080/",
          "height": 156
        },
        "outputId": "2d52fe75-e155-4382-d59b-49cc014492db"
      },
      "source": [
        "# 5.3 Mini taller --------\n",
        "# Paso 1\n",
        "temp <- rnorm(n = 100, mean = 21, sd = 8)\n",
        "temp\n"
      ],
      "execution_count": null,
      "outputs": [
        {
          "output_type": "display_data",
          "data": {
            "text/html": [
              "<style>\n",
              ".list-inline {list-style: none; margin:0; padding: 0}\n",
              ".list-inline>li {display: inline-block}\n",
              ".list-inline>li:not(:last-child)::after {content: \"\\00b7\"; padding: 0 .5ex}\n",
              "</style>\n",
              "<ol class=list-inline><li>16.9098177829741</li><li>30.2529883051388</li><li>18.9775634576549</li><li>15.0891276553299</li><li>24.2443965794883</li><li>21.6329219540873</li><li>37.1053100752181</li><li>27.0812119168422</li><li>24.0281977675981</li><li>19.6214825599079</li><li>17.2813785280712</li><li>23.4068118371773</li><li>31.3384759023833</li><li>14.2275473453382</li><li>20.0721150833021</li><li>12.4453182413618</li><li>28.3834726684795</li><li>19.4181246571195</li><li>29.9777893440849</li><li>31.0625081446405</li><li>10.8428145872115</li><li>25.0922578905687</li><li>6.50198484842924</li><li>23.1012411262008</li><li>9.72225672899377</li><li>23.431994067098</li><li>4.10452140624421</li><li>34.496763544301</li><li>24.6721966723988</li><li>23.6923714122709</li><li>9.40803213225977</li><li>34.83099133573</li><li>7.48639584563985</li><li>23.9313021711292</li><li>12.318862180487</li><li>23.1613673661004</li><li>16.6272856064444</li><li>28.4350992791103</li><li>9.92326711237883</li><li>17.6859418261735</li><li>21.0867948328799</li><li>15.9804089973333</li><li>7.26745672714521</li><li>22.9261416049607</li><li>9.04195038373016</li><li>23.0668062910452</li><li>16.2344874628238</li><li>29.2977393817537</li><li>19.7748960452551</li><li>28.2138391882717</li><li>30.94466866901</li><li>22.3940602135882</li><li>28.8021392089919</li><li>29.7350884753947</li><li>36.9635890961645</li><li>19.6498109273803</li><li>16.9048819714412</li><li>5.65163386693669</li><li>8.3179066366287</li><li>30.8684676942337</li><li>21.1983113711517</li><li>27.0633614650005</li><li>34.4851485887261</li><li>25.6424723631618</li><li>13.0534566431867</li><li>22.7831299496549</li><li>28.0719296076706</li><li>30.8461707689817</li><li>19.5841316994086</li><li>21.4437125123021</li><li>21.5364132287757</li><li>13.5997659510759</li><li>30.906253727976</li><li>16.1539502452044</li><li>18.0820897160502</li><li>16.480086821957</li><li>35.26686986362</li><li>25.7799684183166</li><li>16.6545278953242</li><li>21.6579984425929</li><li>24.394757087635</li><li>16.4658611780652</li><li>32.410105676335</li><li>29.5103226879393</li><li>24.4432929132073</li><li>15.8021767622395</li><li>14.8508447139711</li><li>2.72025713736065</li><li>23.9679933079688</li><li>20.0437123055865</li><li>24.9613944934664</li><li>34.1005804438448</li><li>44.7581964908998</li><li>27.0703344400359</li><li>17.0442264565777</li><li>23.7907853045181</li><li>29.3956994281902</li><li>12.7206090784285</li><li>30.4425310318589</li><li>21.4964214456338</li></ol>\n"
            ],
            "text/markdown": "1. 16.9098177829741\n2. 30.2529883051388\n3. 18.9775634576549\n4. 15.0891276553299\n5. 24.2443965794883\n6. 21.6329219540873\n7. 37.1053100752181\n8. 27.0812119168422\n9. 24.0281977675981\n10. 19.6214825599079\n11. 17.2813785280712\n12. 23.4068118371773\n13. 31.3384759023833\n14. 14.2275473453382\n15. 20.0721150833021\n16. 12.4453182413618\n17. 28.3834726684795\n18. 19.4181246571195\n19. 29.9777893440849\n20. 31.0625081446405\n21. 10.8428145872115\n22. 25.0922578905687\n23. 6.50198484842924\n24. 23.1012411262008\n25. 9.72225672899377\n26. 23.431994067098\n27. 4.10452140624421\n28. 34.496763544301\n29. 24.6721966723988\n30. 23.6923714122709\n31. 9.40803213225977\n32. 34.83099133573\n33. 7.48639584563985\n34. 23.9313021711292\n35. 12.318862180487\n36. 23.1613673661004\n37. 16.6272856064444\n38. 28.4350992791103\n39. 9.92326711237883\n40. 17.6859418261735\n41. 21.0867948328799\n42. 15.9804089973333\n43. 7.26745672714521\n44. 22.9261416049607\n45. 9.04195038373016\n46. 23.0668062910452\n47. 16.2344874628238\n48. 29.2977393817537\n49. 19.7748960452551\n50. 28.2138391882717\n51. 30.94466866901\n52. 22.3940602135882\n53. 28.8021392089919\n54. 29.7350884753947\n55. 36.9635890961645\n56. 19.6498109273803\n57. 16.9048819714412\n58. 5.65163386693669\n59. 8.3179066366287\n60. 30.8684676942337\n61. 21.1983113711517\n62. 27.0633614650005\n63. 34.4851485887261\n64. 25.6424723631618\n65. 13.0534566431867\n66. 22.7831299496549\n67. 28.0719296076706\n68. 30.8461707689817\n69. 19.5841316994086\n70. 21.4437125123021\n71. 21.5364132287757\n72. 13.5997659510759\n73. 30.906253727976\n74. 16.1539502452044\n75. 18.0820897160502\n76. 16.480086821957\n77. 35.26686986362\n78. 25.7799684183166\n79. 16.6545278953242\n80. 21.6579984425929\n81. 24.394757087635\n82. 16.4658611780652\n83. 32.410105676335\n84. 29.5103226879393\n85. 24.4432929132073\n86. 15.8021767622395\n87. 14.8508447139711\n88. 2.72025713736065\n89. 23.9679933079688\n90. 20.0437123055865\n91. 24.9613944934664\n92. 34.1005804438448\n93. 44.7581964908998\n94. 27.0703344400359\n95. 17.0442264565777\n96. 23.7907853045181\n97. 29.3956994281902\n98. 12.7206090784285\n99. 30.4425310318589\n100. 21.4964214456338\n\n\n",
            "text/latex": "\\begin{enumerate*}\n\\item 16.9098177829741\n\\item 30.2529883051388\n\\item 18.9775634576549\n\\item 15.0891276553299\n\\item 24.2443965794883\n\\item 21.6329219540873\n\\item 37.1053100752181\n\\item 27.0812119168422\n\\item 24.0281977675981\n\\item 19.6214825599079\n\\item 17.2813785280712\n\\item 23.4068118371773\n\\item 31.3384759023833\n\\item 14.2275473453382\n\\item 20.0721150833021\n\\item 12.4453182413618\n\\item 28.3834726684795\n\\item 19.4181246571195\n\\item 29.9777893440849\n\\item 31.0625081446405\n\\item 10.8428145872115\n\\item 25.0922578905687\n\\item 6.50198484842924\n\\item 23.1012411262008\n\\item 9.72225672899377\n\\item 23.431994067098\n\\item 4.10452140624421\n\\item 34.496763544301\n\\item 24.6721966723988\n\\item 23.6923714122709\n\\item 9.40803213225977\n\\item 34.83099133573\n\\item 7.48639584563985\n\\item 23.9313021711292\n\\item 12.318862180487\n\\item 23.1613673661004\n\\item 16.6272856064444\n\\item 28.4350992791103\n\\item 9.92326711237883\n\\item 17.6859418261735\n\\item 21.0867948328799\n\\item 15.9804089973333\n\\item 7.26745672714521\n\\item 22.9261416049607\n\\item 9.04195038373016\n\\item 23.0668062910452\n\\item 16.2344874628238\n\\item 29.2977393817537\n\\item 19.7748960452551\n\\item 28.2138391882717\n\\item 30.94466866901\n\\item 22.3940602135882\n\\item 28.8021392089919\n\\item 29.7350884753947\n\\item 36.9635890961645\n\\item 19.6498109273803\n\\item 16.9048819714412\n\\item 5.65163386693669\n\\item 8.3179066366287\n\\item 30.8684676942337\n\\item 21.1983113711517\n\\item 27.0633614650005\n\\item 34.4851485887261\n\\item 25.6424723631618\n\\item 13.0534566431867\n\\item 22.7831299496549\n\\item 28.0719296076706\n\\item 30.8461707689817\n\\item 19.5841316994086\n\\item 21.4437125123021\n\\item 21.5364132287757\n\\item 13.5997659510759\n\\item 30.906253727976\n\\item 16.1539502452044\n\\item 18.0820897160502\n\\item 16.480086821957\n\\item 35.26686986362\n\\item 25.7799684183166\n\\item 16.6545278953242\n\\item 21.6579984425929\n\\item 24.394757087635\n\\item 16.4658611780652\n\\item 32.410105676335\n\\item 29.5103226879393\n\\item 24.4432929132073\n\\item 15.8021767622395\n\\item 14.8508447139711\n\\item 2.72025713736065\n\\item 23.9679933079688\n\\item 20.0437123055865\n\\item 24.9613944934664\n\\item 34.1005804438448\n\\item 44.7581964908998\n\\item 27.0703344400359\n\\item 17.0442264565777\n\\item 23.7907853045181\n\\item 29.3956994281902\n\\item 12.7206090784285\n\\item 30.4425310318589\n\\item 21.4964214456338\n\\end{enumerate*}\n",
            "text/plain": [
              "  [1] 16.909818 30.252988 18.977563 15.089128 24.244397 21.632922 37.105310\n",
              "  [8] 27.081212 24.028198 19.621483 17.281379 23.406812 31.338476 14.227547\n",
              " [15] 20.072115 12.445318 28.383473 19.418125 29.977789 31.062508 10.842815\n",
              " [22] 25.092258  6.501985 23.101241  9.722257 23.431994  4.104521 34.496764\n",
              " [29] 24.672197 23.692371  9.408032 34.830991  7.486396 23.931302 12.318862\n",
              " [36] 23.161367 16.627286 28.435099  9.923267 17.685942 21.086795 15.980409\n",
              " [43]  7.267457 22.926142  9.041950 23.066806 16.234487 29.297739 19.774896\n",
              " [50] 28.213839 30.944669 22.394060 28.802139 29.735088 36.963589 19.649811\n",
              " [57] 16.904882  5.651634  8.317907 30.868468 21.198311 27.063361 34.485149\n",
              " [64] 25.642472 13.053457 22.783130 28.071930 30.846171 19.584132 21.443713\n",
              " [71] 21.536413 13.599766 30.906254 16.153950 18.082090 16.480087 35.266870\n",
              " [78] 25.779968 16.654528 21.657998 24.394757 16.465861 32.410106 29.510323\n",
              " [85] 24.443293 15.802177 14.850845  2.720257 23.967993 20.043712 24.961394\n",
              " [92] 34.100580 44.758196 27.070334 17.044226 23.790785 29.395699 12.720609\n",
              " [99] 30.442531 21.496421"
            ]
          },
          "metadata": {}
        }
      ]
    },
    {
      "cell_type": "code",
      "metadata": {
        "trusted": true,
        "id": "Y6ILF-Szm5Zg",
        "colab": {
          "base_uri": "https://localhost:8080/",
          "height": 34
        },
        "outputId": "186a533e-820f-4e6b-e4fc-cb40f10fca7c"
      },
      "source": [
        "# Dejar como parámetro el largo del vector temp\n",
        "N <- length(temp)\n",
        "N"
      ],
      "execution_count": null,
      "outputs": [
        {
          "output_type": "display_data",
          "data": {
            "text/html": [
              "100"
            ],
            "text/markdown": "100",
            "text/latex": "100",
            "text/plain": [
              "[1] 100"
            ]
          },
          "metadata": {}
        }
      ]
    },
    {
      "cell_type": "markdown",
      "metadata": {
        "id": "C4MEJWjBm5Zi"
      },
      "source": [
        "**Paso 2**\n",
        "\n",
        "Genere un vector llamado _dia_ del mismo largo que que *temp*, que contenga los días consecutivos de la semana, partiendo del lunes. (utilice la función _rep()_ )"
      ]
    },
    {
      "cell_type": "code",
      "metadata": {
        "trusted": true,
        "id": "1PWK1DPXm5Zj",
        "colab": {
          "base_uri": "https://localhost:8080/",
          "height": 52
        },
        "outputId": "3d15618e-c36a-4413-9a3e-e8eca1562f68"
      },
      "source": [
        "# Paso 2\n",
        "#dia <- rep(c(\"L\",\"M\",\"W\",\"J\",\"V\",\"S\",\"D\"), 100 ) repite el vector de largo7, 100 veces. Genera un vector resultante de largo 700\n",
        "dia <- rep(c(\"L\",\"M\",\"W\",\"J\",\"V\",\"S\",\"D\"), length.out = N)\n",
        "dia\n"
      ],
      "execution_count": null,
      "outputs": [
        {
          "output_type": "display_data",
          "data": {
            "text/html": [
              "<style>\n",
              ".list-inline {list-style: none; margin:0; padding: 0}\n",
              ".list-inline>li {display: inline-block}\n",
              ".list-inline>li:not(:last-child)::after {content: \"\\00b7\"; padding: 0 .5ex}\n",
              "</style>\n",
              "<ol class=list-inline><li>'L'</li><li>'M'</li><li>'W'</li><li>'J'</li><li>'V'</li><li>'S'</li><li>'D'</li><li>'L'</li><li>'M'</li><li>'W'</li><li>'J'</li><li>'V'</li><li>'S'</li><li>'D'</li><li>'L'</li><li>'M'</li><li>'W'</li><li>'J'</li><li>'V'</li><li>'S'</li><li>'D'</li><li>'L'</li><li>'M'</li><li>'W'</li><li>'J'</li><li>'V'</li><li>'S'</li><li>'D'</li><li>'L'</li><li>'M'</li><li>'W'</li><li>'J'</li><li>'V'</li><li>'S'</li><li>'D'</li><li>'L'</li><li>'M'</li><li>'W'</li><li>'J'</li><li>'V'</li><li>'S'</li><li>'D'</li><li>'L'</li><li>'M'</li><li>'W'</li><li>'J'</li><li>'V'</li><li>'S'</li><li>'D'</li><li>'L'</li><li>'M'</li><li>'W'</li><li>'J'</li><li>'V'</li><li>'S'</li><li>'D'</li><li>'L'</li><li>'M'</li><li>'W'</li><li>'J'</li><li>'V'</li><li>'S'</li><li>'D'</li><li>'L'</li><li>'M'</li><li>'W'</li><li>'J'</li><li>'V'</li><li>'S'</li><li>'D'</li><li>'L'</li><li>'M'</li><li>'W'</li><li>'J'</li><li>'V'</li><li>'S'</li><li>'D'</li><li>'L'</li><li>'M'</li><li>'W'</li><li>'J'</li><li>'V'</li><li>'S'</li><li>'D'</li><li>'L'</li><li>'M'</li><li>'W'</li><li>'J'</li><li>'V'</li><li>'S'</li><li>'D'</li><li>'L'</li><li>'M'</li><li>'W'</li><li>'J'</li><li>'V'</li><li>'S'</li><li>'D'</li><li>'L'</li><li>'M'</li></ol>\n"
            ],
            "text/markdown": "1. 'L'\n2. 'M'\n3. 'W'\n4. 'J'\n5. 'V'\n6. 'S'\n7. 'D'\n8. 'L'\n9. 'M'\n10. 'W'\n11. 'J'\n12. 'V'\n13. 'S'\n14. 'D'\n15. 'L'\n16. 'M'\n17. 'W'\n18. 'J'\n19. 'V'\n20. 'S'\n21. 'D'\n22. 'L'\n23. 'M'\n24. 'W'\n25. 'J'\n26. 'V'\n27. 'S'\n28. 'D'\n29. 'L'\n30. 'M'\n31. 'W'\n32. 'J'\n33. 'V'\n34. 'S'\n35. 'D'\n36. 'L'\n37. 'M'\n38. 'W'\n39. 'J'\n40. 'V'\n41. 'S'\n42. 'D'\n43. 'L'\n44. 'M'\n45. 'W'\n46. 'J'\n47. 'V'\n48. 'S'\n49. 'D'\n50. 'L'\n51. 'M'\n52. 'W'\n53. 'J'\n54. 'V'\n55. 'S'\n56. 'D'\n57. 'L'\n58. 'M'\n59. 'W'\n60. 'J'\n61. 'V'\n62. 'S'\n63. 'D'\n64. 'L'\n65. 'M'\n66. 'W'\n67. 'J'\n68. 'V'\n69. 'S'\n70. 'D'\n71. 'L'\n72. 'M'\n73. 'W'\n74. 'J'\n75. 'V'\n76. 'S'\n77. 'D'\n78. 'L'\n79. 'M'\n80. 'W'\n81. 'J'\n82. 'V'\n83. 'S'\n84. 'D'\n85. 'L'\n86. 'M'\n87. 'W'\n88. 'J'\n89. 'V'\n90. 'S'\n91. 'D'\n92. 'L'\n93. 'M'\n94. 'W'\n95. 'J'\n96. 'V'\n97. 'S'\n98. 'D'\n99. 'L'\n100. 'M'\n\n\n",
            "text/latex": "\\begin{enumerate*}\n\\item 'L'\n\\item 'M'\n\\item 'W'\n\\item 'J'\n\\item 'V'\n\\item 'S'\n\\item 'D'\n\\item 'L'\n\\item 'M'\n\\item 'W'\n\\item 'J'\n\\item 'V'\n\\item 'S'\n\\item 'D'\n\\item 'L'\n\\item 'M'\n\\item 'W'\n\\item 'J'\n\\item 'V'\n\\item 'S'\n\\item 'D'\n\\item 'L'\n\\item 'M'\n\\item 'W'\n\\item 'J'\n\\item 'V'\n\\item 'S'\n\\item 'D'\n\\item 'L'\n\\item 'M'\n\\item 'W'\n\\item 'J'\n\\item 'V'\n\\item 'S'\n\\item 'D'\n\\item 'L'\n\\item 'M'\n\\item 'W'\n\\item 'J'\n\\item 'V'\n\\item 'S'\n\\item 'D'\n\\item 'L'\n\\item 'M'\n\\item 'W'\n\\item 'J'\n\\item 'V'\n\\item 'S'\n\\item 'D'\n\\item 'L'\n\\item 'M'\n\\item 'W'\n\\item 'J'\n\\item 'V'\n\\item 'S'\n\\item 'D'\n\\item 'L'\n\\item 'M'\n\\item 'W'\n\\item 'J'\n\\item 'V'\n\\item 'S'\n\\item 'D'\n\\item 'L'\n\\item 'M'\n\\item 'W'\n\\item 'J'\n\\item 'V'\n\\item 'S'\n\\item 'D'\n\\item 'L'\n\\item 'M'\n\\item 'W'\n\\item 'J'\n\\item 'V'\n\\item 'S'\n\\item 'D'\n\\item 'L'\n\\item 'M'\n\\item 'W'\n\\item 'J'\n\\item 'V'\n\\item 'S'\n\\item 'D'\n\\item 'L'\n\\item 'M'\n\\item 'W'\n\\item 'J'\n\\item 'V'\n\\item 'S'\n\\item 'D'\n\\item 'L'\n\\item 'M'\n\\item 'W'\n\\item 'J'\n\\item 'V'\n\\item 'S'\n\\item 'D'\n\\item 'L'\n\\item 'M'\n\\end{enumerate*}\n",
            "text/plain": [
              "  [1] \"L\" \"M\" \"W\" \"J\" \"V\" \"S\" \"D\" \"L\" \"M\" \"W\" \"J\" \"V\" \"S\" \"D\" \"L\" \"M\" \"W\" \"J\"\n",
              " [19] \"V\" \"S\" \"D\" \"L\" \"M\" \"W\" \"J\" \"V\" \"S\" \"D\" \"L\" \"M\" \"W\" \"J\" \"V\" \"S\" \"D\" \"L\"\n",
              " [37] \"M\" \"W\" \"J\" \"V\" \"S\" \"D\" \"L\" \"M\" \"W\" \"J\" \"V\" \"S\" \"D\" \"L\" \"M\" \"W\" \"J\" \"V\"\n",
              " [55] \"S\" \"D\" \"L\" \"M\" \"W\" \"J\" \"V\" \"S\" \"D\" \"L\" \"M\" \"W\" \"J\" \"V\" \"S\" \"D\" \"L\" \"M\"\n",
              " [73] \"W\" \"J\" \"V\" \"S\" \"D\" \"L\" \"M\" \"W\" \"J\" \"V\" \"S\" \"D\" \"L\" \"M\" \"W\" \"J\" \"V\" \"S\"\n",
              " [91] \"D\" \"L\" \"M\" \"W\" \"J\" \"V\" \"S\" \"D\" \"L\" \"M\""
            ]
          },
          "metadata": {}
        }
      ]
    },
    {
      "cell_type": "markdown",
      "metadata": {
        "id": "n1n3ptOIm5Zm"
      },
      "source": [
        "**Paso 3**\n",
        "\n",
        "Genere un vector llamado _est_, del mismo largo que _temp_, que en el primer tercio contenga el valor \"E1\", en el segundo tercio \"E2\", y en el tercer tercio \"E3\". Por ejemplo, si _temp_ tuviese 10 datos, el vector _est_ se vería como \n",
        "\n",
        "\n",
        "<center> _est_ = (E1,E1,E1,E2,E2,E2,E3,E3,E3,E3) </center>"
      ]
    },
    {
      "cell_type": "code",
      "metadata": {
        "trusted": true,
        "id": "eobMVmXxm5Zn",
        "colab": {
          "base_uri": "https://localhost:8080/",
          "height": 52
        },
        "outputId": "3015e519-f85c-4803-9018-77dedad5868c"
      },
      "source": [
        "# Paso 3\n",
        "est <- rep(c(\"E1\", \"E2\", \"E3\"), c(N/3, N/3, N/3+1))\n",
        "est\n"
      ],
      "execution_count": null,
      "outputs": [
        {
          "output_type": "display_data",
          "data": {
            "text/html": [
              "<style>\n",
              ".list-inline {list-style: none; margin:0; padding: 0}\n",
              ".list-inline>li {display: inline-block}\n",
              ".list-inline>li:not(:last-child)::after {content: \"\\00b7\"; padding: 0 .5ex}\n",
              "</style>\n",
              "<ol class=list-inline><li>'E1'</li><li>'E1'</li><li>'E1'</li><li>'E1'</li><li>'E1'</li><li>'E1'</li><li>'E1'</li><li>'E1'</li><li>'E1'</li><li>'E1'</li><li>'E1'</li><li>'E1'</li><li>'E1'</li><li>'E1'</li><li>'E1'</li><li>'E1'</li><li>'E1'</li><li>'E1'</li><li>'E1'</li><li>'E1'</li><li>'E1'</li><li>'E1'</li><li>'E1'</li><li>'E1'</li><li>'E1'</li><li>'E1'</li><li>'E1'</li><li>'E1'</li><li>'E1'</li><li>'E1'</li><li>'E1'</li><li>'E1'</li><li>'E1'</li><li>'E2'</li><li>'E2'</li><li>'E2'</li><li>'E2'</li><li>'E2'</li><li>'E2'</li><li>'E2'</li><li>'E2'</li><li>'E2'</li><li>'E2'</li><li>'E2'</li><li>'E2'</li><li>'E2'</li><li>'E2'</li><li>'E2'</li><li>'E2'</li><li>'E2'</li><li>'E2'</li><li>'E2'</li><li>'E2'</li><li>'E2'</li><li>'E2'</li><li>'E2'</li><li>'E2'</li><li>'E2'</li><li>'E2'</li><li>'E2'</li><li>'E2'</li><li>'E2'</li><li>'E2'</li><li>'E2'</li><li>'E2'</li><li>'E2'</li><li>'E3'</li><li>'E3'</li><li>'E3'</li><li>'E3'</li><li>'E3'</li><li>'E3'</li><li>'E3'</li><li>'E3'</li><li>'E3'</li><li>'E3'</li><li>'E3'</li><li>'E3'</li><li>'E3'</li><li>'E3'</li><li>'E3'</li><li>'E3'</li><li>'E3'</li><li>'E3'</li><li>'E3'</li><li>'E3'</li><li>'E3'</li><li>'E3'</li><li>'E3'</li><li>'E3'</li><li>'E3'</li><li>'E3'</li><li>'E3'</li><li>'E3'</li><li>'E3'</li><li>'E3'</li><li>'E3'</li><li>'E3'</li><li>'E3'</li><li>'E3'</li></ol>\n"
            ],
            "text/markdown": "1. 'E1'\n2. 'E1'\n3. 'E1'\n4. 'E1'\n5. 'E1'\n6. 'E1'\n7. 'E1'\n8. 'E1'\n9. 'E1'\n10. 'E1'\n11. 'E1'\n12. 'E1'\n13. 'E1'\n14. 'E1'\n15. 'E1'\n16. 'E1'\n17. 'E1'\n18. 'E1'\n19. 'E1'\n20. 'E1'\n21. 'E1'\n22. 'E1'\n23. 'E1'\n24. 'E1'\n25. 'E1'\n26. 'E1'\n27. 'E1'\n28. 'E1'\n29. 'E1'\n30. 'E1'\n31. 'E1'\n32. 'E1'\n33. 'E1'\n34. 'E2'\n35. 'E2'\n36. 'E2'\n37. 'E2'\n38. 'E2'\n39. 'E2'\n40. 'E2'\n41. 'E2'\n42. 'E2'\n43. 'E2'\n44. 'E2'\n45. 'E2'\n46. 'E2'\n47. 'E2'\n48. 'E2'\n49. 'E2'\n50. 'E2'\n51. 'E2'\n52. 'E2'\n53. 'E2'\n54. 'E2'\n55. 'E2'\n56. 'E2'\n57. 'E2'\n58. 'E2'\n59. 'E2'\n60. 'E2'\n61. 'E2'\n62. 'E2'\n63. 'E2'\n64. 'E2'\n65. 'E2'\n66. 'E2'\n67. 'E3'\n68. 'E3'\n69. 'E3'\n70. 'E3'\n71. 'E3'\n72. 'E3'\n73. 'E3'\n74. 'E3'\n75. 'E3'\n76. 'E3'\n77. 'E3'\n78. 'E3'\n79. 'E3'\n80. 'E3'\n81. 'E3'\n82. 'E3'\n83. 'E3'\n84. 'E3'\n85. 'E3'\n86. 'E3'\n87. 'E3'\n88. 'E3'\n89. 'E3'\n90. 'E3'\n91. 'E3'\n92. 'E3'\n93. 'E3'\n94. 'E3'\n95. 'E3'\n96. 'E3'\n97. 'E3'\n98. 'E3'\n99. 'E3'\n100. 'E3'\n\n\n",
            "text/latex": "\\begin{enumerate*}\n\\item 'E1'\n\\item 'E1'\n\\item 'E1'\n\\item 'E1'\n\\item 'E1'\n\\item 'E1'\n\\item 'E1'\n\\item 'E1'\n\\item 'E1'\n\\item 'E1'\n\\item 'E1'\n\\item 'E1'\n\\item 'E1'\n\\item 'E1'\n\\item 'E1'\n\\item 'E1'\n\\item 'E1'\n\\item 'E1'\n\\item 'E1'\n\\item 'E1'\n\\item 'E1'\n\\item 'E1'\n\\item 'E1'\n\\item 'E1'\n\\item 'E1'\n\\item 'E1'\n\\item 'E1'\n\\item 'E1'\n\\item 'E1'\n\\item 'E1'\n\\item 'E1'\n\\item 'E1'\n\\item 'E1'\n\\item 'E2'\n\\item 'E2'\n\\item 'E2'\n\\item 'E2'\n\\item 'E2'\n\\item 'E2'\n\\item 'E2'\n\\item 'E2'\n\\item 'E2'\n\\item 'E2'\n\\item 'E2'\n\\item 'E2'\n\\item 'E2'\n\\item 'E2'\n\\item 'E2'\n\\item 'E2'\n\\item 'E2'\n\\item 'E2'\n\\item 'E2'\n\\item 'E2'\n\\item 'E2'\n\\item 'E2'\n\\item 'E2'\n\\item 'E2'\n\\item 'E2'\n\\item 'E2'\n\\item 'E2'\n\\item 'E2'\n\\item 'E2'\n\\item 'E2'\n\\item 'E2'\n\\item 'E2'\n\\item 'E2'\n\\item 'E3'\n\\item 'E3'\n\\item 'E3'\n\\item 'E3'\n\\item 'E3'\n\\item 'E3'\n\\item 'E3'\n\\item 'E3'\n\\item 'E3'\n\\item 'E3'\n\\item 'E3'\n\\item 'E3'\n\\item 'E3'\n\\item 'E3'\n\\item 'E3'\n\\item 'E3'\n\\item 'E3'\n\\item 'E3'\n\\item 'E3'\n\\item 'E3'\n\\item 'E3'\n\\item 'E3'\n\\item 'E3'\n\\item 'E3'\n\\item 'E3'\n\\item 'E3'\n\\item 'E3'\n\\item 'E3'\n\\item 'E3'\n\\item 'E3'\n\\item 'E3'\n\\item 'E3'\n\\item 'E3'\n\\item 'E3'\n\\end{enumerate*}\n",
            "text/plain": [
              "  [1] \"E1\" \"E1\" \"E1\" \"E1\" \"E1\" \"E1\" \"E1\" \"E1\" \"E1\" \"E1\" \"E1\" \"E1\" \"E1\" \"E1\" \"E1\"\n",
              " [16] \"E1\" \"E1\" \"E1\" \"E1\" \"E1\" \"E1\" \"E1\" \"E1\" \"E1\" \"E1\" \"E1\" \"E1\" \"E1\" \"E1\" \"E1\"\n",
              " [31] \"E1\" \"E1\" \"E1\" \"E2\" \"E2\" \"E2\" \"E2\" \"E2\" \"E2\" \"E2\" \"E2\" \"E2\" \"E2\" \"E2\" \"E2\"\n",
              " [46] \"E2\" \"E2\" \"E2\" \"E2\" \"E2\" \"E2\" \"E2\" \"E2\" \"E2\" \"E2\" \"E2\" \"E2\" \"E2\" \"E2\" \"E2\"\n",
              " [61] \"E2\" \"E2\" \"E2\" \"E2\" \"E2\" \"E2\" \"E3\" \"E3\" \"E3\" \"E3\" \"E3\" \"E3\" \"E3\" \"E3\" \"E3\"\n",
              " [76] \"E3\" \"E3\" \"E3\" \"E3\" \"E3\" \"E3\" \"E3\" \"E3\" \"E3\" \"E3\" \"E3\" \"E3\" \"E3\" \"E3\" \"E3\"\n",
              " [91] \"E3\" \"E3\" \"E3\" \"E3\" \"E3\" \"E3\" \"E3\" \"E3\" \"E3\" \"E3\""
            ]
          },
          "metadata": {}
        }
      ]
    },
    {
      "cell_type": "markdown",
      "metadata": {
        "id": "bZZScNwUm5Zp"
      },
      "source": [
        "**Paso 4**\n",
        "\n",
        "Genere un vector llamado _lluvia_ del mismo largo que _temp_, que sea TRUE en las posiciones en que _temp_ sea menor que 20, y FALSE en caso contrario. "
      ]
    },
    {
      "cell_type": "code",
      "metadata": {
        "trusted": true,
        "id": "AbtOs123m5Zq",
        "colab": {
          "base_uri": "https://localhost:8080/",
          "height": 104
        },
        "outputId": "1e17f483-a8aa-4301-f425-490fee11309d"
      },
      "source": [
        "# Paso 4\n",
        "lluvia <- (temp < 20)\n",
        "lluvia\n",
        "length(lluvia)"
      ],
      "execution_count": null,
      "outputs": [
        {
          "output_type": "display_data",
          "data": {
            "text/html": [
              "<style>\n",
              ".list-inline {list-style: none; margin:0; padding: 0}\n",
              ".list-inline>li {display: inline-block}\n",
              ".list-inline>li:not(:last-child)::after {content: \"\\00b7\"; padding: 0 .5ex}\n",
              "</style>\n",
              "<ol class=list-inline><li>TRUE</li><li>FALSE</li><li>TRUE</li><li>TRUE</li><li>FALSE</li><li>FALSE</li><li>FALSE</li><li>FALSE</li><li>FALSE</li><li>TRUE</li><li>TRUE</li><li>FALSE</li><li>FALSE</li><li>TRUE</li><li>FALSE</li><li>TRUE</li><li>FALSE</li><li>TRUE</li><li>FALSE</li><li>FALSE</li><li>TRUE</li><li>FALSE</li><li>TRUE</li><li>FALSE</li><li>TRUE</li><li>FALSE</li><li>TRUE</li><li>FALSE</li><li>FALSE</li><li>FALSE</li><li>TRUE</li><li>FALSE</li><li>TRUE</li><li>FALSE</li><li>TRUE</li><li>FALSE</li><li>TRUE</li><li>FALSE</li><li>TRUE</li><li>TRUE</li><li>FALSE</li><li>TRUE</li><li>TRUE</li><li>FALSE</li><li>TRUE</li><li>FALSE</li><li>TRUE</li><li>FALSE</li><li>TRUE</li><li>FALSE</li><li>FALSE</li><li>FALSE</li><li>FALSE</li><li>FALSE</li><li>FALSE</li><li>TRUE</li><li>TRUE</li><li>TRUE</li><li>TRUE</li><li>FALSE</li><li>FALSE</li><li>FALSE</li><li>FALSE</li><li>FALSE</li><li>TRUE</li><li>FALSE</li><li>FALSE</li><li>FALSE</li><li>TRUE</li><li>FALSE</li><li>FALSE</li><li>TRUE</li><li>FALSE</li><li>TRUE</li><li>TRUE</li><li>TRUE</li><li>FALSE</li><li>FALSE</li><li>TRUE</li><li>FALSE</li><li>FALSE</li><li>TRUE</li><li>FALSE</li><li>FALSE</li><li>FALSE</li><li>TRUE</li><li>TRUE</li><li>TRUE</li><li>FALSE</li><li>FALSE</li><li>FALSE</li><li>FALSE</li><li>FALSE</li><li>FALSE</li><li>TRUE</li><li>FALSE</li><li>FALSE</li><li>TRUE</li><li>FALSE</li><li>FALSE</li></ol>\n"
            ],
            "text/markdown": "1. TRUE\n2. FALSE\n3. TRUE\n4. TRUE\n5. FALSE\n6. FALSE\n7. FALSE\n8. FALSE\n9. FALSE\n10. TRUE\n11. TRUE\n12. FALSE\n13. FALSE\n14. TRUE\n15. FALSE\n16. TRUE\n17. FALSE\n18. TRUE\n19. FALSE\n20. FALSE\n21. TRUE\n22. FALSE\n23. TRUE\n24. FALSE\n25. TRUE\n26. FALSE\n27. TRUE\n28. FALSE\n29. FALSE\n30. FALSE\n31. TRUE\n32. FALSE\n33. TRUE\n34. FALSE\n35. TRUE\n36. FALSE\n37. TRUE\n38. FALSE\n39. TRUE\n40. TRUE\n41. FALSE\n42. TRUE\n43. TRUE\n44. FALSE\n45. TRUE\n46. FALSE\n47. TRUE\n48. FALSE\n49. TRUE\n50. FALSE\n51. FALSE\n52. FALSE\n53. FALSE\n54. FALSE\n55. FALSE\n56. TRUE\n57. TRUE\n58. TRUE\n59. TRUE\n60. FALSE\n61. FALSE\n62. FALSE\n63. FALSE\n64. FALSE\n65. TRUE\n66. FALSE\n67. FALSE\n68. FALSE\n69. TRUE\n70. FALSE\n71. FALSE\n72. TRUE\n73. FALSE\n74. TRUE\n75. TRUE\n76. TRUE\n77. FALSE\n78. FALSE\n79. TRUE\n80. FALSE\n81. FALSE\n82. TRUE\n83. FALSE\n84. FALSE\n85. FALSE\n86. TRUE\n87. TRUE\n88. TRUE\n89. FALSE\n90. FALSE\n91. FALSE\n92. FALSE\n93. FALSE\n94. FALSE\n95. TRUE\n96. FALSE\n97. FALSE\n98. TRUE\n99. FALSE\n100. FALSE\n\n\n",
            "text/latex": "\\begin{enumerate*}\n\\item TRUE\n\\item FALSE\n\\item TRUE\n\\item TRUE\n\\item FALSE\n\\item FALSE\n\\item FALSE\n\\item FALSE\n\\item FALSE\n\\item TRUE\n\\item TRUE\n\\item FALSE\n\\item FALSE\n\\item TRUE\n\\item FALSE\n\\item TRUE\n\\item FALSE\n\\item TRUE\n\\item FALSE\n\\item FALSE\n\\item TRUE\n\\item FALSE\n\\item TRUE\n\\item FALSE\n\\item TRUE\n\\item FALSE\n\\item TRUE\n\\item FALSE\n\\item FALSE\n\\item FALSE\n\\item TRUE\n\\item FALSE\n\\item TRUE\n\\item FALSE\n\\item TRUE\n\\item FALSE\n\\item TRUE\n\\item FALSE\n\\item TRUE\n\\item TRUE\n\\item FALSE\n\\item TRUE\n\\item TRUE\n\\item FALSE\n\\item TRUE\n\\item FALSE\n\\item TRUE\n\\item FALSE\n\\item TRUE\n\\item FALSE\n\\item FALSE\n\\item FALSE\n\\item FALSE\n\\item FALSE\n\\item FALSE\n\\item TRUE\n\\item TRUE\n\\item TRUE\n\\item TRUE\n\\item FALSE\n\\item FALSE\n\\item FALSE\n\\item FALSE\n\\item FALSE\n\\item TRUE\n\\item FALSE\n\\item FALSE\n\\item FALSE\n\\item TRUE\n\\item FALSE\n\\item FALSE\n\\item TRUE\n\\item FALSE\n\\item TRUE\n\\item TRUE\n\\item TRUE\n\\item FALSE\n\\item FALSE\n\\item TRUE\n\\item FALSE\n\\item FALSE\n\\item TRUE\n\\item FALSE\n\\item FALSE\n\\item FALSE\n\\item TRUE\n\\item TRUE\n\\item TRUE\n\\item FALSE\n\\item FALSE\n\\item FALSE\n\\item FALSE\n\\item FALSE\n\\item FALSE\n\\item TRUE\n\\item FALSE\n\\item FALSE\n\\item TRUE\n\\item FALSE\n\\item FALSE\n\\end{enumerate*}\n",
            "text/plain": [
              "  [1]  TRUE FALSE  TRUE  TRUE FALSE FALSE FALSE FALSE FALSE  TRUE  TRUE FALSE\n",
              " [13] FALSE  TRUE FALSE  TRUE FALSE  TRUE FALSE FALSE  TRUE FALSE  TRUE FALSE\n",
              " [25]  TRUE FALSE  TRUE FALSE FALSE FALSE  TRUE FALSE  TRUE FALSE  TRUE FALSE\n",
              " [37]  TRUE FALSE  TRUE  TRUE FALSE  TRUE  TRUE FALSE  TRUE FALSE  TRUE FALSE\n",
              " [49]  TRUE FALSE FALSE FALSE FALSE FALSE FALSE  TRUE  TRUE  TRUE  TRUE FALSE\n",
              " [61] FALSE FALSE FALSE FALSE  TRUE FALSE FALSE FALSE  TRUE FALSE FALSE  TRUE\n",
              " [73] FALSE  TRUE  TRUE  TRUE FALSE FALSE  TRUE FALSE FALSE  TRUE FALSE FALSE\n",
              " [85] FALSE  TRUE  TRUE  TRUE FALSE FALSE FALSE FALSE FALSE FALSE  TRUE FALSE\n",
              " [97] FALSE  TRUE FALSE FALSE"
            ]
          },
          "metadata": {}
        },
        {
          "output_type": "display_data",
          "data": {
            "text/html": [
              "100"
            ],
            "text/markdown": "100",
            "text/latex": "100",
            "text/plain": [
              "[1] 100"
            ]
          },
          "metadata": {}
        }
      ]
    },
    {
      "cell_type": "markdown",
      "metadata": {
        "id": "i7p8FIdtm5Zs"
      },
      "source": [
        "**Paso 5**\n",
        "\n",
        "Finalmente cree un data frame llamado _precipitaciones_ con las siguientes columnas:<br>\n",
        "\n",
        "*Dia_semana* (con los valores del vector _dia_)<br>\n",
        "*Temperatura* (con los valores del vector _temp_)<br>\n",
        "*Llueve* (con los valores del vector _lluvia_)<br>\n",
        "*Estacion* (con los valores del vector _est_)<br>"
      ]
    },
    {
      "cell_type": "code",
      "metadata": {
        "trusted": true,
        "id": "o-TVm7uum5Zs",
        "colab": {
          "base_uri": "https://localhost:8080/",
          "height": 286
        },
        "outputId": "ecf0b1f5-62f6-4e18-b591-f1089232bd61"
      },
      "source": [
        "# Paso 5\n",
        "precipitaciones <- data.frame(Dia_semana = dia,\n",
        "                              Temperatura = temp,\n",
        "                              Llueve = lluvia,\n",
        "                              Estacion = est)\n",
        "head(precipitaciones)"
      ],
      "execution_count": null,
      "outputs": [
        {
          "output_type": "display_data",
          "data": {
            "text/html": [
              "<table class=\"dataframe\">\n",
              "<caption>A data.frame: 6 × 4</caption>\n",
              "<thead>\n",
              "\t<tr><th></th><th scope=col>Dia_semana</th><th scope=col>Temperatura</th><th scope=col>Llueve</th><th scope=col>Estacion</th></tr>\n",
              "\t<tr><th></th><th scope=col>&lt;chr&gt;</th><th scope=col>&lt;dbl&gt;</th><th scope=col>&lt;lgl&gt;</th><th scope=col>&lt;chr&gt;</th></tr>\n",
              "</thead>\n",
              "<tbody>\n",
              "\t<tr><th scope=row>1</th><td>L</td><td>16.90982</td><td> TRUE</td><td>E1</td></tr>\n",
              "\t<tr><th scope=row>2</th><td>M</td><td>30.25299</td><td>FALSE</td><td>E1</td></tr>\n",
              "\t<tr><th scope=row>3</th><td>W</td><td>18.97756</td><td> TRUE</td><td>E1</td></tr>\n",
              "\t<tr><th scope=row>4</th><td>J</td><td>15.08913</td><td> TRUE</td><td>E1</td></tr>\n",
              "\t<tr><th scope=row>5</th><td>V</td><td>24.24440</td><td>FALSE</td><td>E1</td></tr>\n",
              "\t<tr><th scope=row>6</th><td>S</td><td>21.63292</td><td>FALSE</td><td>E1</td></tr>\n",
              "</tbody>\n",
              "</table>\n"
            ],
            "text/markdown": "\nA data.frame: 6 × 4\n\n| <!--/--> | Dia_semana &lt;chr&gt; | Temperatura &lt;dbl&gt; | Llueve &lt;lgl&gt; | Estacion &lt;chr&gt; |\n|---|---|---|---|---|\n| 1 | L | 16.90982 |  TRUE | E1 |\n| 2 | M | 30.25299 | FALSE | E1 |\n| 3 | W | 18.97756 |  TRUE | E1 |\n| 4 | J | 15.08913 |  TRUE | E1 |\n| 5 | V | 24.24440 | FALSE | E1 |\n| 6 | S | 21.63292 | FALSE | E1 |\n\n",
            "text/latex": "A data.frame: 6 × 4\n\\begin{tabular}{r|llll}\n  & Dia\\_semana & Temperatura & Llueve & Estacion\\\\\n  & <chr> & <dbl> & <lgl> & <chr>\\\\\n\\hline\n\t1 & L & 16.90982 &  TRUE & E1\\\\\n\t2 & M & 30.25299 & FALSE & E1\\\\\n\t3 & W & 18.97756 &  TRUE & E1\\\\\n\t4 & J & 15.08913 &  TRUE & E1\\\\\n\t5 & V & 24.24440 & FALSE & E1\\\\\n\t6 & S & 21.63292 & FALSE & E1\\\\\n\\end{tabular}\n",
            "text/plain": [
              "  Dia_semana Temperatura Llueve Estacion\n",
              "1 L          16.90982     TRUE  E1      \n",
              "2 M          30.25299    FALSE  E1      \n",
              "3 W          18.97756     TRUE  E1      \n",
              "4 J          15.08913     TRUE  E1      \n",
              "5 V          24.24440    FALSE  E1      \n",
              "6 S          21.63292    FALSE  E1      "
            ]
          },
          "metadata": {}
        }
      ]
    },
    {
      "cell_type": "code",
      "source": [
        "summary(precipitaciones)"
      ],
      "metadata": {
        "id": "OXRmeDJ80nt-",
        "outputId": "00db0c3e-5385-4cd8-a19d-a6086e1fd4bf",
        "colab": {
          "base_uri": "https://localhost:8080/",
          "height": 139
        }
      },
      "execution_count": null,
      "outputs": [
        {
          "output_type": "display_data",
          "data": {
            "text/plain": [
              "  Dia_semana         Temperatura      Llueve          Estacion        \n",
              " Length:100         Min.   : 2.72   Mode :logical   Length:100        \n",
              " Class :character   1st Qu.:16.48   FALSE:60        Class :character  \n",
              " Mode  :character   Median :22.59   TRUE :40        Mode  :character  \n",
              "                    Mean   :21.86                                     \n",
              "                    3rd Qu.:28.26                                     \n",
              "                    Max.   :44.76                                     "
            ]
          },
          "metadata": {}
        }
      ]
    },
    {
      "cell_type": "markdown",
      "metadata": {
        "id": "kIjelA5sm5Zx"
      },
      "source": [
        "#### Strings como factores\n",
        "Cuando en R se declara una variable como factor, internamente se codifican sus categorías con valores 0 o 1. Por ejemplo, para las variables _Dia_ y _Estacion_ podemos generar sus matriz de diseño, indicando un 1 si el día (o estación) corresponde a la nueva columna generada, 0 si  no:\n",
        "\n",
        " |Dia |Temperatura    |Llueve| Estacion| | Dia.L|Dia.M|Dia.W|Dia.J|Dia.V|Dia.S|Dia.D|Est.1|Est.2|Est.3|\n",
        " |----|------------   |------|---------| |---   |---  |---  |---  |---  |---  |---  |---  |---  |---  |\n",
        " |L\t  |16.300201      |TRUE  |\tE1     | |1     |0    |0    |0    |0    |0    |0    |1    |0    |0    |\n",
        " |M   |21.042854      |FALSE |\tE1     | |0     |1    |0    |0    |0    |0    |0    |1    |0    |0    |\n",
        " |J\t  |31.256043      |FALSE |\tE3     | |0     |0    |0    |1    |0    |0    |0    |0    |0    |1    |\n",
        " |S\t  |40.083514      |FALSE |\tE3     | |0     |0    |0    |0    |0    |1    |0    |0    |0    |1    |\n",
        " \n",
        " Cuando se quiere generar un resumen de una variable categórica, o cuando se quiere incluir una variable de este tipo en el entrenamiento de un modelo será necesario declarar dicha variable como factor."
      ]
    },
    {
      "cell_type": "code",
      "metadata": {
        "trusted": true,
        "id": "UQN71LvGm5Z-",
        "colab": {
          "base_uri": "https://localhost:8080/",
          "height": 286
        },
        "outputId": "a61d6565-7bac-4e5d-cf34-df4792d8e063"
      },
      "source": [
        "#podemos volver a coercionar las columnas a clase factor,  con la función as.factor\n",
        "dias <- precipitaciones[[\"Dia_semana\"]]\n",
        "\n",
        "dia_l <- factor(x=dias, levels= c(\"L\", \"M\", \"W\", \"J\", \"V\", \"S\", \"D\"),\n",
        "                        labels = c(1, 0, 0, 0, 0, 0, 0))\n",
        "dia_l <- as.factor(dia_l)\n",
        "precipitaciones[[\"Dia.L\"]] <- dia_l\n",
        "\n",
        "\n",
        "dia_m <- factor(x=dias, levels= c(\"L\", \"M\", \"W\", \"J\", \"V\", \"S\", \"D\"),\n",
        "                        labels = c(0, 1, 0, 0, 0, 0, 0))\n",
        "dia_m <- as.factor(dia_m)\n",
        "precipitaciones[[\"Dia.M\"]] <- dia_m\n",
        "\n",
        "dia_w <- factor(x=dias, levels= c(\"L\", \"M\", \"W\", \"J\", \"V\", \"S\", \"D\"),\n",
        "                        labels = c(0, 0, 1, 0, 0, 0, 0))\n",
        "dia_w <- as.factor(dia_w)\n",
        "precipitaciones[[\"Dia.W\"]] <- dia_w\n",
        "\n",
        "dia_j <- factor(x=dias, levels= c(\"L\", \"M\", \"W\", \"J\", \"V\", \"S\", \"D\"),\n",
        "                        labels = c(0, 0, 0, 1, 0, 0, 0))\n",
        "dia_j <- as.factor(dia_j)\n",
        "precipitaciones[[\"Dia.J\"]] <- dia_j\n",
        "\n",
        "dia_v <- factor(x=dias, levels= c(\"L\", \"M\", \"W\", \"J\", \"V\", \"S\", \"D\"),\n",
        "                        labels = c(0, 0, 0, 0, 1, 0, 0))\n",
        "dia_v <- as.factor(dia_v)\n",
        "precipitaciones[[\"Dia.V\"]] <- dia_v\n",
        "\n",
        "dia_s <- factor(x=dias, levels= c(\"L\", \"M\", \"W\", \"J\", \"V\", \"S\", \"D\"),\n",
        "                        labels = c(0, 0, 0, 0, 0, 1, 0))\n",
        "dia_s <- as.factor(dia_s)\n",
        "precipitaciones[[\"Dia.S\"]] <- dia_s\n",
        "\n",
        "dia_d <- factor(x=dias, levels= c(\"L\", \"M\", \"W\", \"J\", \"V\", \"S\", \"D\"),\n",
        "                        labels = c(0, 0, 0, 0, 0, 0, 1))\n",
        "dia_d <- as.factor(dia_d)\n",
        "precipitaciones[[\"Dia.D\"]] <- dia_d\n",
        "\n",
        "\n",
        "estac <- precipitaciones[[\"Estacion\"]]\n",
        "\n",
        "est_e1 <- factor(x=estac,\n",
        "                levels = c(\"E1\", \"E2\", \"E3\"),\n",
        "                labels = c(1, 0, 0))\n",
        "est_e1 <- as.factor(est_e1)\n",
        "precipitaciones[[\"Est.1\"]] <- est_e1\n",
        "\n",
        "est_e2 <- factor(x=estac,\n",
        "                levels = c(\"E1\", \"E2\", \"E3\"),\n",
        "                labels = c(0, 1, 0))\n",
        "est_e2 <- as.factor(est_e2)\n",
        "precipitaciones[[\"Est.2\"]] <- est_e2\n",
        "\n",
        "est_e3 <- factor(x=estac,\n",
        "                levels = c(\"E1\", \"E2\", \"E3\"),\n",
        "                labels = c(0, 0, 1))\n",
        "est_e3 <- as.factor(est_e3)\n",
        "precipitaciones[[\"Est.3\"]] <- est_e3\n",
        "\n",
        "\n",
        "head(precipitaciones)\n"
      ],
      "execution_count": null,
      "outputs": [
        {
          "output_type": "display_data",
          "data": {
            "text/html": [
              "<table class=\"dataframe\">\n",
              "<caption>A data.frame: 6 × 14</caption>\n",
              "<thead>\n",
              "\t<tr><th></th><th scope=col>Dia_semana</th><th scope=col>Temperatura</th><th scope=col>Llueve</th><th scope=col>Estacion</th><th scope=col>Dia.L</th><th scope=col>Dia.M</th><th scope=col>Dia.W</th><th scope=col>Dia.J</th><th scope=col>Dia.V</th><th scope=col>Dia.S</th><th scope=col>Dia.D</th><th scope=col>Est.1</th><th scope=col>Est.2</th><th scope=col>Est.3</th></tr>\n",
              "\t<tr><th></th><th scope=col>&lt;chr&gt;</th><th scope=col>&lt;dbl&gt;</th><th scope=col>&lt;lgl&gt;</th><th scope=col>&lt;chr&gt;</th><th scope=col>&lt;fct&gt;</th><th scope=col>&lt;fct&gt;</th><th scope=col>&lt;fct&gt;</th><th scope=col>&lt;fct&gt;</th><th scope=col>&lt;fct&gt;</th><th scope=col>&lt;fct&gt;</th><th scope=col>&lt;fct&gt;</th><th scope=col>&lt;fct&gt;</th><th scope=col>&lt;fct&gt;</th><th scope=col>&lt;fct&gt;</th></tr>\n",
              "</thead>\n",
              "<tbody>\n",
              "\t<tr><th scope=row>1</th><td>L</td><td>16.90982</td><td> TRUE</td><td>E1</td><td>1</td><td>0</td><td>0</td><td>0</td><td>0</td><td>0</td><td>0</td><td>1</td><td>0</td><td>0</td></tr>\n",
              "\t<tr><th scope=row>2</th><td>M</td><td>30.25299</td><td>FALSE</td><td>E1</td><td>0</td><td>1</td><td>0</td><td>0</td><td>0</td><td>0</td><td>0</td><td>1</td><td>0</td><td>0</td></tr>\n",
              "\t<tr><th scope=row>3</th><td>W</td><td>18.97756</td><td> TRUE</td><td>E1</td><td>0</td><td>0</td><td>1</td><td>0</td><td>0</td><td>0</td><td>0</td><td>1</td><td>0</td><td>0</td></tr>\n",
              "\t<tr><th scope=row>4</th><td>J</td><td>15.08913</td><td> TRUE</td><td>E1</td><td>0</td><td>0</td><td>0</td><td>1</td><td>0</td><td>0</td><td>0</td><td>1</td><td>0</td><td>0</td></tr>\n",
              "\t<tr><th scope=row>5</th><td>V</td><td>24.24440</td><td>FALSE</td><td>E1</td><td>0</td><td>0</td><td>0</td><td>0</td><td>1</td><td>0</td><td>0</td><td>1</td><td>0</td><td>0</td></tr>\n",
              "\t<tr><th scope=row>6</th><td>S</td><td>21.63292</td><td>FALSE</td><td>E1</td><td>0</td><td>0</td><td>0</td><td>0</td><td>0</td><td>1</td><td>0</td><td>1</td><td>0</td><td>0</td></tr>\n",
              "</tbody>\n",
              "</table>\n"
            ],
            "text/markdown": "\nA data.frame: 6 × 14\n\n| <!--/--> | Dia_semana &lt;chr&gt; | Temperatura &lt;dbl&gt; | Llueve &lt;lgl&gt; | Estacion &lt;chr&gt; | Dia.L &lt;fct&gt; | Dia.M &lt;fct&gt; | Dia.W &lt;fct&gt; | Dia.J &lt;fct&gt; | Dia.V &lt;fct&gt; | Dia.S &lt;fct&gt; | Dia.D &lt;fct&gt; | Est.1 &lt;fct&gt; | Est.2 &lt;fct&gt; | Est.3 &lt;fct&gt; |\n|---|---|---|---|---|---|---|---|---|---|---|---|---|---|---|\n| 1 | L | 16.90982 |  TRUE | E1 | 1 | 0 | 0 | 0 | 0 | 0 | 0 | 1 | 0 | 0 |\n| 2 | M | 30.25299 | FALSE | E1 | 0 | 1 | 0 | 0 | 0 | 0 | 0 | 1 | 0 | 0 |\n| 3 | W | 18.97756 |  TRUE | E1 | 0 | 0 | 1 | 0 | 0 | 0 | 0 | 1 | 0 | 0 |\n| 4 | J | 15.08913 |  TRUE | E1 | 0 | 0 | 0 | 1 | 0 | 0 | 0 | 1 | 0 | 0 |\n| 5 | V | 24.24440 | FALSE | E1 | 0 | 0 | 0 | 0 | 1 | 0 | 0 | 1 | 0 | 0 |\n| 6 | S | 21.63292 | FALSE | E1 | 0 | 0 | 0 | 0 | 0 | 1 | 0 | 1 | 0 | 0 |\n\n",
            "text/latex": "A data.frame: 6 × 14\n\\begin{tabular}{r|llllllllllllll}\n  & Dia\\_semana & Temperatura & Llueve & Estacion & Dia.L & Dia.M & Dia.W & Dia.J & Dia.V & Dia.S & Dia.D & Est.1 & Est.2 & Est.3\\\\\n  & <chr> & <dbl> & <lgl> & <chr> & <fct> & <fct> & <fct> & <fct> & <fct> & <fct> & <fct> & <fct> & <fct> & <fct>\\\\\n\\hline\n\t1 & L & 16.90982 &  TRUE & E1 & 1 & 0 & 0 & 0 & 0 & 0 & 0 & 1 & 0 & 0\\\\\n\t2 & M & 30.25299 & FALSE & E1 & 0 & 1 & 0 & 0 & 0 & 0 & 0 & 1 & 0 & 0\\\\\n\t3 & W & 18.97756 &  TRUE & E1 & 0 & 0 & 1 & 0 & 0 & 0 & 0 & 1 & 0 & 0\\\\\n\t4 & J & 15.08913 &  TRUE & E1 & 0 & 0 & 0 & 1 & 0 & 0 & 0 & 1 & 0 & 0\\\\\n\t5 & V & 24.24440 & FALSE & E1 & 0 & 0 & 0 & 0 & 1 & 0 & 0 & 1 & 0 & 0\\\\\n\t6 & S & 21.63292 & FALSE & E1 & 0 & 0 & 0 & 0 & 0 & 1 & 0 & 1 & 0 & 0\\\\\n\\end{tabular}\n",
            "text/plain": [
              "  Dia_semana Temperatura Llueve Estacion Dia.L Dia.M Dia.W Dia.J Dia.V Dia.S\n",
              "1 L          16.90982     TRUE  E1       1     0     0     0     0     0    \n",
              "2 M          30.25299    FALSE  E1       0     1     0     0     0     0    \n",
              "3 W          18.97756     TRUE  E1       0     0     1     0     0     0    \n",
              "4 J          15.08913     TRUE  E1       0     0     0     1     0     0    \n",
              "5 V          24.24440    FALSE  E1       0     0     0     0     1     0    \n",
              "6 S          21.63292    FALSE  E1       0     0     0     0     0     1    \n",
              "  Dia.D Est.1 Est.2 Est.3\n",
              "1 0     1     0     0    \n",
              "2 0     1     0     0    \n",
              "3 0     1     0     0    \n",
              "4 0     1     0     0    \n",
              "5 0     1     0     0    \n",
              "6 0     1     0     0    "
            ]
          },
          "metadata": {}
        }
      ]
    },
    {
      "cell_type": "code",
      "source": [
        "precipitaciones$Dia_semana <- as.factor(precipitaciones$Dia_semana)\n",
        "precipitaciones$Estacion <- as.factor(precipitaciones$Estacion)\n",
        "\n",
        "head(precipitaciones)"
      ],
      "metadata": {
        "id": "0LVhhm_d1Vwv",
        "outputId": "748a4e94-ae38-4bde-cc28-d27f448c6ec2",
        "colab": {
          "base_uri": "https://localhost:8080/",
          "height": 286
        }
      },
      "execution_count": null,
      "outputs": [
        {
          "output_type": "display_data",
          "data": {
            "text/html": [
              "<table class=\"dataframe\">\n",
              "<caption>A data.frame: 6 × 14</caption>\n",
              "<thead>\n",
              "\t<tr><th></th><th scope=col>Dia_semana</th><th scope=col>Temperatura</th><th scope=col>Llueve</th><th scope=col>Estacion</th><th scope=col>Dia.L</th><th scope=col>Dia.M</th><th scope=col>Dia.W</th><th scope=col>Dia.J</th><th scope=col>Dia.V</th><th scope=col>Dia.S</th><th scope=col>Dia.D</th><th scope=col>Est.1</th><th scope=col>Est.2</th><th scope=col>Est.3</th></tr>\n",
              "\t<tr><th></th><th scope=col>&lt;fct&gt;</th><th scope=col>&lt;dbl&gt;</th><th scope=col>&lt;lgl&gt;</th><th scope=col>&lt;fct&gt;</th><th scope=col>&lt;fct&gt;</th><th scope=col>&lt;fct&gt;</th><th scope=col>&lt;fct&gt;</th><th scope=col>&lt;fct&gt;</th><th scope=col>&lt;fct&gt;</th><th scope=col>&lt;fct&gt;</th><th scope=col>&lt;fct&gt;</th><th scope=col>&lt;fct&gt;</th><th scope=col>&lt;fct&gt;</th><th scope=col>&lt;fct&gt;</th></tr>\n",
              "</thead>\n",
              "<tbody>\n",
              "\t<tr><th scope=row>1</th><td>L</td><td>16.90982</td><td> TRUE</td><td>E1</td><td>1</td><td>0</td><td>0</td><td>0</td><td>0</td><td>0</td><td>0</td><td>1</td><td>0</td><td>0</td></tr>\n",
              "\t<tr><th scope=row>2</th><td>M</td><td>30.25299</td><td>FALSE</td><td>E1</td><td>0</td><td>1</td><td>0</td><td>0</td><td>0</td><td>0</td><td>0</td><td>1</td><td>0</td><td>0</td></tr>\n",
              "\t<tr><th scope=row>3</th><td>W</td><td>18.97756</td><td> TRUE</td><td>E1</td><td>0</td><td>0</td><td>1</td><td>0</td><td>0</td><td>0</td><td>0</td><td>1</td><td>0</td><td>0</td></tr>\n",
              "\t<tr><th scope=row>4</th><td>J</td><td>15.08913</td><td> TRUE</td><td>E1</td><td>0</td><td>0</td><td>0</td><td>1</td><td>0</td><td>0</td><td>0</td><td>1</td><td>0</td><td>0</td></tr>\n",
              "\t<tr><th scope=row>5</th><td>V</td><td>24.24440</td><td>FALSE</td><td>E1</td><td>0</td><td>0</td><td>0</td><td>0</td><td>1</td><td>0</td><td>0</td><td>1</td><td>0</td><td>0</td></tr>\n",
              "\t<tr><th scope=row>6</th><td>S</td><td>21.63292</td><td>FALSE</td><td>E1</td><td>0</td><td>0</td><td>0</td><td>0</td><td>0</td><td>1</td><td>0</td><td>1</td><td>0</td><td>0</td></tr>\n",
              "</tbody>\n",
              "</table>\n"
            ],
            "text/markdown": "\nA data.frame: 6 × 14\n\n| <!--/--> | Dia_semana &lt;fct&gt; | Temperatura &lt;dbl&gt; | Llueve &lt;lgl&gt; | Estacion &lt;fct&gt; | Dia.L &lt;fct&gt; | Dia.M &lt;fct&gt; | Dia.W &lt;fct&gt; | Dia.J &lt;fct&gt; | Dia.V &lt;fct&gt; | Dia.S &lt;fct&gt; | Dia.D &lt;fct&gt; | Est.1 &lt;fct&gt; | Est.2 &lt;fct&gt; | Est.3 &lt;fct&gt; |\n|---|---|---|---|---|---|---|---|---|---|---|---|---|---|---|\n| 1 | L | 16.90982 |  TRUE | E1 | 1 | 0 | 0 | 0 | 0 | 0 | 0 | 1 | 0 | 0 |\n| 2 | M | 30.25299 | FALSE | E1 | 0 | 1 | 0 | 0 | 0 | 0 | 0 | 1 | 0 | 0 |\n| 3 | W | 18.97756 |  TRUE | E1 | 0 | 0 | 1 | 0 | 0 | 0 | 0 | 1 | 0 | 0 |\n| 4 | J | 15.08913 |  TRUE | E1 | 0 | 0 | 0 | 1 | 0 | 0 | 0 | 1 | 0 | 0 |\n| 5 | V | 24.24440 | FALSE | E1 | 0 | 0 | 0 | 0 | 1 | 0 | 0 | 1 | 0 | 0 |\n| 6 | S | 21.63292 | FALSE | E1 | 0 | 0 | 0 | 0 | 0 | 1 | 0 | 1 | 0 | 0 |\n\n",
            "text/latex": "A data.frame: 6 × 14\n\\begin{tabular}{r|llllllllllllll}\n  & Dia\\_semana & Temperatura & Llueve & Estacion & Dia.L & Dia.M & Dia.W & Dia.J & Dia.V & Dia.S & Dia.D & Est.1 & Est.2 & Est.3\\\\\n  & <fct> & <dbl> & <lgl> & <fct> & <fct> & <fct> & <fct> & <fct> & <fct> & <fct> & <fct> & <fct> & <fct> & <fct>\\\\\n\\hline\n\t1 & L & 16.90982 &  TRUE & E1 & 1 & 0 & 0 & 0 & 0 & 0 & 0 & 1 & 0 & 0\\\\\n\t2 & M & 30.25299 & FALSE & E1 & 0 & 1 & 0 & 0 & 0 & 0 & 0 & 1 & 0 & 0\\\\\n\t3 & W & 18.97756 &  TRUE & E1 & 0 & 0 & 1 & 0 & 0 & 0 & 0 & 1 & 0 & 0\\\\\n\t4 & J & 15.08913 &  TRUE & E1 & 0 & 0 & 0 & 1 & 0 & 0 & 0 & 1 & 0 & 0\\\\\n\t5 & V & 24.24440 & FALSE & E1 & 0 & 0 & 0 & 0 & 1 & 0 & 0 & 1 & 0 & 0\\\\\n\t6 & S & 21.63292 & FALSE & E1 & 0 & 0 & 0 & 0 & 0 & 1 & 0 & 1 & 0 & 0\\\\\n\\end{tabular}\n",
            "text/plain": [
              "  Dia_semana Temperatura Llueve Estacion Dia.L Dia.M Dia.W Dia.J Dia.V Dia.S\n",
              "1 L          16.90982     TRUE  E1       1     0     0     0     0     0    \n",
              "2 M          30.25299    FALSE  E1       0     1     0     0     0     0    \n",
              "3 W          18.97756     TRUE  E1       0     0     1     0     0     0    \n",
              "4 J          15.08913     TRUE  E1       0     0     0     1     0     0    \n",
              "5 V          24.24440    FALSE  E1       0     0     0     0     1     0    \n",
              "6 S          21.63292    FALSE  E1       0     0     0     0     0     1    \n",
              "  Dia.D Est.1 Est.2 Est.3\n",
              "1 0     1     0     0    \n",
              "2 0     1     0     0    \n",
              "3 0     1     0     0    \n",
              "4 0     1     0     0    \n",
              "5 0     1     0     0    \n",
              "6 0     1     0     0    "
            ]
          },
          "metadata": {}
        }
      ]
    },
    {
      "cell_type": "code",
      "source": [
        "summary(precipitaciones)"
      ],
      "metadata": {
        "id": "DHiCGTQR28AV",
        "outputId": "a35a6384-7563-4610-f6ee-d750f2edf2ca",
        "colab": {
          "base_uri": "https://localhost:8080/",
          "height": 295
        }
      },
      "execution_count": null,
      "outputs": [
        {
          "output_type": "display_data",
          "data": {
            "text/plain": [
              " Dia_semana  Temperatura      Llueve        Estacion Dia.L  Dia.M  Dia.W \n",
              " D:14       Min.   : 2.72   Mode :logical   E1:33    1:15   0:85   0:86  \n",
              " J:14       1st Qu.:16.48   FALSE:60        E2:33    0:85   1:15   1:14  \n",
              " L:15       Median :22.59   TRUE :40        E3:34                        \n",
              " M:15       Mean   :21.86                                                \n",
              " S:14       3rd Qu.:28.26                                                \n",
              " V:14       Max.   :44.76                                                \n",
              " W:14                                                                    \n",
              " Dia.J  Dia.V  Dia.S  Dia.D  Est.1  Est.2  Est.3 \n",
              " 0:86   0:86   0:86   0:86   1:33   0:67   0:66  \n",
              " 1:14   1:14   1:14   1:14   0:67   1:33   1:34  \n",
              "                                                 \n",
              "                                                 \n",
              "                                                 \n",
              "                                                 \n",
              "                                                 "
            ]
          },
          "metadata": {}
        }
      ]
    },
    {
      "cell_type": "code",
      "metadata": {
        "trusted": true,
        "id": "5kjmwaOUm5aA",
        "colab": {
          "base_uri": "https://localhost:8080/",
          "height": 208
        },
        "outputId": "bc3cac1b-a50f-476e-8a30-96108c180862"
      },
      "source": [
        "# Un poco de exploración --------------------------------\n",
        "# ¿Cuál es la temperatura promedio cuando llovió?\n",
        "\"La temperatura promedio cuando llovió fue: \"\n",
        "mean(precipitaciones[precipitaciones[[\"Llueve\"]],][[\"Temperatura\"]])\n",
        "\" \"\n",
        "\n",
        "# ¿Cuál es la temperatura promedio cuando NO llovió?\n",
        "\"La temperatura promedio cuando NO llovió fue: \"\n",
        "mean(precipitaciones[!precipitaciones[[\"Llueve\"]],][[\"Temperatura\"]])\n",
        "\" \"\n",
        "\n",
        "#Lo mismo pero sólo de los registros de E1\n",
        "precip_E1 <- precipitaciones[precipitaciones[\"Estacion\"] == \"E1\",]\n",
        "\n",
        "\"La temperatura promedio en E1 cuando llovió fue: \"\n",
        "mean(precip_E1[precip_E1[[\"Llueve\"]],][[\"Temperatura\"]])\n",
        "\" \"\n",
        "\"La temperatura promedio en E1 cuando NO llovió fue: \"\n",
        "mean(precip_E1[!precip_E1[[\"Llueve\"]],][[\"Temperatura\"]])"
      ],
      "execution_count": null,
      "outputs": [
        {
          "output_type": "display_data",
          "data": {
            "text/html": [
              "'La temperatura promedio cuando llovió fue: '"
            ],
            "text/markdown": "'La temperatura promedio cuando llovió fue: '",
            "text/latex": "'La temperatura promedio cuando llovió fue: '",
            "text/plain": [
              "[1] \"La temperatura promedio cuando llovió fue: \""
            ]
          },
          "metadata": {}
        },
        {
          "output_type": "display_data",
          "data": {
            "text/html": [
              "13.7656784954886"
            ],
            "text/markdown": "13.7656784954886",
            "text/latex": "13.7656784954886",
            "text/plain": [
              "[1] 13.76568"
            ]
          },
          "metadata": {}
        },
        {
          "output_type": "display_data",
          "data": {
            "text/html": [
              "' '"
            ],
            "text/markdown": "' '",
            "text/latex": "' '",
            "text/plain": [
              "[1] \" \""
            ]
          },
          "metadata": {}
        },
        {
          "output_type": "display_data",
          "data": {
            "text/html": [
              "'La temperatura promedio cuando NO llovió fue: '"
            ],
            "text/markdown": "'La temperatura promedio cuando NO llovió fue: '",
            "text/latex": "'La temperatura promedio cuando NO llovió fue: '",
            "text/plain": [
              "[1] \"La temperatura promedio cuando NO llovió fue: \""
            ]
          },
          "metadata": {}
        },
        {
          "output_type": "display_data",
          "data": {
            "text/html": [
              "27.2533164410782"
            ],
            "text/markdown": "27.2533164410782",
            "text/latex": "27.2533164410782",
            "text/plain": [
              "[1] 27.25332"
            ]
          },
          "metadata": {}
        },
        {
          "output_type": "display_data",
          "data": {
            "text/html": [
              "' '"
            ],
            "text/markdown": "' '",
            "text/latex": "' '",
            "text/plain": [
              "[1] \" \""
            ]
          },
          "metadata": {}
        },
        {
          "output_type": "display_data",
          "data": {
            "text/html": [
              "'La temperatura promedio en E1 cuando llovió fue: '"
            ],
            "text/markdown": "'La temperatura promedio en E1 cuando llovió fue: '",
            "text/latex": "'La temperatura promedio en E1 cuando llovió fue: '",
            "text/plain": [
              "[1] \"La temperatura promedio en E1 cuando llovió fue: \""
            ]
          },
          "metadata": {}
        },
        {
          "output_type": "display_data",
          "data": {
            "text/html": [
              "13.0025975554668"
            ],
            "text/markdown": "13.0025975554668",
            "text/latex": "13.0025975554668",
            "text/plain": [
              "[1] 13.0026"
            ]
          },
          "metadata": {}
        },
        {
          "output_type": "display_data",
          "data": {
            "text/html": [
              "' '"
            ],
            "text/markdown": "' '",
            "text/latex": "' '",
            "text/plain": [
              "[1] \" \""
            ]
          },
          "metadata": {}
        },
        {
          "output_type": "display_data",
          "data": {
            "text/html": [
              "'La temperatura promedio en E1 cuando NO llovió fue: '"
            ],
            "text/markdown": "'La temperatura promedio en E1 cuando NO llovió fue: '",
            "text/latex": "'La temperatura promedio en E1 cuando NO llovió fue: '",
            "text/plain": [
              "[1] \"La temperatura promedio en E1 cuando NO llovió fue: \""
            ]
          },
          "metadata": {}
        },
        {
          "output_type": "display_data",
          "data": {
            "text/html": [
              "27.258106085632"
            ],
            "text/markdown": "27.258106085632",
            "text/latex": "27.258106085632",
            "text/plain": [
              "[1] 27.25811"
            ]
          },
          "metadata": {}
        }
      ]
    },
    {
      "cell_type": "code",
      "metadata": {
        "trusted": true,
        "id": "TJuAlpPxm5aC",
        "colab": {
          "base_uri": "https://localhost:8080/",
          "height": 139
        },
        "outputId": "612169b8-cd54-4035-dc7a-ef2676a7c25e"
      },
      "source": [
        "# ¿Qué día era cuando se alcanzó la mínima temperatura?¿y la ,máxima?\n",
        "#La función which.min #o .max . retorna la posición donde se alcanza el min/max de un vector.\n",
        "\n",
        "# opcion 1\n",
        "fila_min <- which.min(precipitaciones[[\"Temperatura\"]])\n",
        "\"El día con la menor temperatura fue un: \"\n",
        "precipitaciones[fila_min,][[\"Dia_semana\"]]\n",
        "\" \"\n",
        "# opcion 2\n",
        "fila_max <- which.max(precipitaciones[[\"Temperatura\"]])\n",
        "\"El día con la máxima temperatura fue un: \"\n",
        "precipitaciones[fila_max,][[\"Dia_semana\"]]"
      ],
      "execution_count": null,
      "outputs": [
        {
          "output_type": "display_data",
          "data": {
            "text/html": [
              "'El día con la menor temperatura fue un: '"
            ],
            "text/markdown": "'El día con la menor temperatura fue un: '",
            "text/latex": "'El día con la menor temperatura fue un: '",
            "text/plain": [
              "[1] \"El día con la menor temperatura fue un: \""
            ]
          },
          "metadata": {}
        },
        {
          "output_type": "display_data",
          "data": {
            "text/html": [
              "J\n",
              "<details>\n",
              "\t<summary style=display:list-item;cursor:pointer>\n",
              "\t\t<strong>Levels</strong>:\n",
              "\t</summary>\n",
              "\t<style>\n",
              "\t.list-inline {list-style: none; margin:0; padding: 0}\n",
              "\t.list-inline>li {display: inline-block}\n",
              "\t.list-inline>li:not(:last-child)::after {content: \"\\00b7\"; padding: 0 .5ex}\n",
              "\t</style>\n",
              "\t<ol class=list-inline><li>'D'</li><li>'J'</li><li>'L'</li><li>'M'</li><li>'S'</li><li>'V'</li><li>'W'</li></ol>\n",
              "</details>"
            ],
            "text/markdown": "J\n**Levels**: 1. 'D'\n2. 'J'\n3. 'L'\n4. 'M'\n5. 'S'\n6. 'V'\n7. 'W'\n\n\n",
            "text/latex": "J\n\\emph{Levels}: \\begin{enumerate*}\n\\item 'D'\n\\item 'J'\n\\item 'L'\n\\item 'M'\n\\item 'S'\n\\item 'V'\n\\item 'W'\n\\end{enumerate*}\n",
            "text/plain": [
              "[1] J\n",
              "Levels: D J L M S V W"
            ]
          },
          "metadata": {}
        },
        {
          "output_type": "display_data",
          "data": {
            "text/html": [
              "' '"
            ],
            "text/markdown": "' '",
            "text/latex": "' '",
            "text/plain": [
              "[1] \" \""
            ]
          },
          "metadata": {}
        },
        {
          "output_type": "display_data",
          "data": {
            "text/html": [
              "'El día con la máxima temperatura fue un: '"
            ],
            "text/markdown": "'El día con la máxima temperatura fue un: '",
            "text/latex": "'El día con la máxima temperatura fue un: '",
            "text/plain": [
              "[1] \"El día con la máxima temperatura fue un: \""
            ]
          },
          "metadata": {}
        },
        {
          "output_type": "display_data",
          "data": {
            "text/html": [
              "M\n",
              "<details>\n",
              "\t<summary style=display:list-item;cursor:pointer>\n",
              "\t\t<strong>Levels</strong>:\n",
              "\t</summary>\n",
              "\t<style>\n",
              "\t.list-inline {list-style: none; margin:0; padding: 0}\n",
              "\t.list-inline>li {display: inline-block}\n",
              "\t.list-inline>li:not(:last-child)::after {content: \"\\00b7\"; padding: 0 .5ex}\n",
              "\t</style>\n",
              "\t<ol class=list-inline><li>'D'</li><li>'J'</li><li>'L'</li><li>'M'</li><li>'S'</li><li>'V'</li><li>'W'</li></ol>\n",
              "</details>"
            ],
            "text/markdown": "M\n**Levels**: 1. 'D'\n2. 'J'\n3. 'L'\n4. 'M'\n5. 'S'\n6. 'V'\n7. 'W'\n\n\n",
            "text/latex": "M\n\\emph{Levels}: \\begin{enumerate*}\n\\item 'D'\n\\item 'J'\n\\item 'L'\n\\item 'M'\n\\item 'S'\n\\item 'V'\n\\item 'W'\n\\end{enumerate*}\n",
            "text/plain": [
              "[1] M\n",
              "Levels: D J L M S V W"
            ]
          },
          "metadata": {}
        }
      ]
    },
    {
      "cell_type": "code",
      "metadata": {
        "trusted": true,
        "id": "WHf5YnPWm5aF",
        "outputId": "e4a7f743-e224-4a08-bfa4-d644ca19aa87",
        "colab": {
          "base_uri": "https://localhost:8080/",
          "height": 69
        }
      },
      "source": [
        "# Una forma de eliminar registros en vector\n",
        "ej <- c(7,8,9)\n",
        "ej\n",
        "ej[-2]\n",
        "ej[-c(1,3)]\n",
        "\n",
        "\n"
      ],
      "execution_count": null,
      "outputs": [
        {
          "output_type": "display_data",
          "data": {
            "text/html": [
              "<style>\n",
              ".list-inline {list-style: none; margin:0; padding: 0}\n",
              ".list-inline>li {display: inline-block}\n",
              ".list-inline>li:not(:last-child)::after {content: \"\\00b7\"; padding: 0 .5ex}\n",
              "</style>\n",
              "<ol class=list-inline><li>7</li><li>8</li><li>9</li></ol>\n"
            ],
            "text/markdown": "1. 7\n2. 8\n3. 9\n\n\n",
            "text/latex": "\\begin{enumerate*}\n\\item 7\n\\item 8\n\\item 9\n\\end{enumerate*}\n",
            "text/plain": [
              "[1] 7 8 9"
            ]
          },
          "metadata": {}
        },
        {
          "output_type": "display_data",
          "data": {
            "text/html": [
              "<style>\n",
              ".list-inline {list-style: none; margin:0; padding: 0}\n",
              ".list-inline>li {display: inline-block}\n",
              ".list-inline>li:not(:last-child)::after {content: \"\\00b7\"; padding: 0 .5ex}\n",
              "</style>\n",
              "<ol class=list-inline><li>7</li><li>9</li></ol>\n"
            ],
            "text/markdown": "1. 7\n2. 9\n\n\n",
            "text/latex": "\\begin{enumerate*}\n\\item 7\n\\item 9\n\\end{enumerate*}\n",
            "text/plain": [
              "[1] 7 9"
            ]
          },
          "metadata": {}
        },
        {
          "output_type": "display_data",
          "data": {
            "text/html": [
              "8"
            ],
            "text/markdown": "8",
            "text/latex": "8",
            "text/plain": [
              "[1] 8"
            ]
          },
          "metadata": {}
        }
      ]
    },
    {
      "cell_type": "code",
      "metadata": {
        "trusted": true,
        "id": "6Vx1ojnAm5aH"
      },
      "source": [
        "# Podemos eliminar los registros de posición 3 y 4\n"
      ],
      "execution_count": null,
      "outputs": []
    },
    {
      "cell_type": "code",
      "metadata": {
        "trusted": true,
        "id": "K9Qv9n_nm5aJ",
        "colab": {
          "base_uri": "https://localhost:8080/",
          "height": 255
        },
        "outputId": "e5ed5e5e-e00d-478c-da19-af2eebb368bb"
      },
      "source": [
        "# Si queremos ver esa misma fila de la tabla precipitaciones.\n",
        "\n",
        "\n",
        "# Se sabe que la Estación E3 falla todos los días domingo, por lo que se quiere eliminar tales registros de la tabla. Elimínelos!\n",
        "precipitaciones[(precipitaciones[\"Estacion\"] == \"E3\" & precipitaciones[\"Dia_semana\"] == \"D\"),] \n",
        "precipitaciones <- precipitaciones[- which(precipitaciones[\"Estacion\"] == \"E3\" & precipitaciones[\"Dia_semana\"] == \"D\"),]\n"
      ],
      "execution_count": null,
      "outputs": [
        {
          "output_type": "display_data",
          "data": {
            "text/html": [
              "<table class=\"dataframe\">\n",
              "<caption>A data.frame: 5 × 14</caption>\n",
              "<thead>\n",
              "\t<tr><th></th><th scope=col>Dia_semana</th><th scope=col>Temperatura</th><th scope=col>Llueve</th><th scope=col>Estacion</th><th scope=col>Dia.L</th><th scope=col>Dia.M</th><th scope=col>Dia.W</th><th scope=col>Dia.J</th><th scope=col>Dia.V</th><th scope=col>Dia.S</th><th scope=col>Dia.D</th><th scope=col>Est.1</th><th scope=col>Est.2</th><th scope=col>Est.3</th></tr>\n",
              "\t<tr><th></th><th scope=col>&lt;chr&gt;</th><th scope=col>&lt;dbl&gt;</th><th scope=col>&lt;lgl&gt;</th><th scope=col>&lt;chr&gt;</th><th scope=col>&lt;fct&gt;</th><th scope=col>&lt;fct&gt;</th><th scope=col>&lt;fct&gt;</th><th scope=col>&lt;fct&gt;</th><th scope=col>&lt;fct&gt;</th><th scope=col>&lt;fct&gt;</th><th scope=col>&lt;fct&gt;</th><th scope=col>&lt;fct&gt;</th><th scope=col>&lt;fct&gt;</th><th scope=col>&lt;fct&gt;</th></tr>\n",
              "</thead>\n",
              "<tbody>\n",
              "\t<tr><th scope=row>70</th><td>D</td><td>24.772045</td><td> TRUE</td><td>E3</td><td>0</td><td>0</td><td>0</td><td>0</td><td>0</td><td>0</td><td>1</td><td>0</td><td>0</td><td>1</td></tr>\n",
              "\t<tr><th scope=row>77</th><td>D</td><td> 4.811036</td><td>FALSE</td><td>E3</td><td>0</td><td>0</td><td>0</td><td>0</td><td>0</td><td>0</td><td>1</td><td>0</td><td>0</td><td>1</td></tr>\n",
              "\t<tr><th scope=row>84</th><td>D</td><td>29.928115</td><td> TRUE</td><td>E3</td><td>0</td><td>0</td><td>0</td><td>0</td><td>0</td><td>0</td><td>1</td><td>0</td><td>0</td><td>1</td></tr>\n",
              "\t<tr><th scope=row>91</th><td>D</td><td> 8.985922</td><td>FALSE</td><td>E3</td><td>0</td><td>0</td><td>0</td><td>0</td><td>0</td><td>0</td><td>1</td><td>0</td><td>0</td><td>1</td></tr>\n",
              "\t<tr><th scope=row>98</th><td>D</td><td>20.431146</td><td> TRUE</td><td>E3</td><td>0</td><td>0</td><td>0</td><td>0</td><td>0</td><td>0</td><td>1</td><td>0</td><td>0</td><td>1</td></tr>\n",
              "</tbody>\n",
              "</table>\n"
            ],
            "text/markdown": "\nA data.frame: 5 × 14\n\n| <!--/--> | Dia_semana &lt;chr&gt; | Temperatura &lt;dbl&gt; | Llueve &lt;lgl&gt; | Estacion &lt;chr&gt; | Dia.L &lt;fct&gt; | Dia.M &lt;fct&gt; | Dia.W &lt;fct&gt; | Dia.J &lt;fct&gt; | Dia.V &lt;fct&gt; | Dia.S &lt;fct&gt; | Dia.D &lt;fct&gt; | Est.1 &lt;fct&gt; | Est.2 &lt;fct&gt; | Est.3 &lt;fct&gt; |\n|---|---|---|---|---|---|---|---|---|---|---|---|---|---|---|\n| 70 | D | 24.772045 |  TRUE | E3 | 0 | 0 | 0 | 0 | 0 | 0 | 1 | 0 | 0 | 1 |\n| 77 | D |  4.811036 | FALSE | E3 | 0 | 0 | 0 | 0 | 0 | 0 | 1 | 0 | 0 | 1 |\n| 84 | D | 29.928115 |  TRUE | E3 | 0 | 0 | 0 | 0 | 0 | 0 | 1 | 0 | 0 | 1 |\n| 91 | D |  8.985922 | FALSE | E3 | 0 | 0 | 0 | 0 | 0 | 0 | 1 | 0 | 0 | 1 |\n| 98 | D | 20.431146 |  TRUE | E3 | 0 | 0 | 0 | 0 | 0 | 0 | 1 | 0 | 0 | 1 |\n\n",
            "text/latex": "A data.frame: 5 × 14\n\\begin{tabular}{r|llllllllllllll}\n  & Dia\\_semana & Temperatura & Llueve & Estacion & Dia.L & Dia.M & Dia.W & Dia.J & Dia.V & Dia.S & Dia.D & Est.1 & Est.2 & Est.3\\\\\n  & <chr> & <dbl> & <lgl> & <chr> & <fct> & <fct> & <fct> & <fct> & <fct> & <fct> & <fct> & <fct> & <fct> & <fct>\\\\\n\\hline\n\t70 & D & 24.772045 &  TRUE & E3 & 0 & 0 & 0 & 0 & 0 & 0 & 1 & 0 & 0 & 1\\\\\n\t77 & D &  4.811036 & FALSE & E3 & 0 & 0 & 0 & 0 & 0 & 0 & 1 & 0 & 0 & 1\\\\\n\t84 & D & 29.928115 &  TRUE & E3 & 0 & 0 & 0 & 0 & 0 & 0 & 1 & 0 & 0 & 1\\\\\n\t91 & D &  8.985922 & FALSE & E3 & 0 & 0 & 0 & 0 & 0 & 0 & 1 & 0 & 0 & 1\\\\\n\t98 & D & 20.431146 &  TRUE & E3 & 0 & 0 & 0 & 0 & 0 & 0 & 1 & 0 & 0 & 1\\\\\n\\end{tabular}\n",
            "text/plain": [
              "   Dia_semana Temperatura Llueve Estacion Dia.L Dia.M Dia.W Dia.J Dia.V Dia.S\n",
              "70 D          24.772045    TRUE  E3       0     0     0     0     0     0    \n",
              "77 D           4.811036   FALSE  E3       0     0     0     0     0     0    \n",
              "84 D          29.928115    TRUE  E3       0     0     0     0     0     0    \n",
              "91 D           8.985922   FALSE  E3       0     0     0     0     0     0    \n",
              "98 D          20.431146    TRUE  E3       0     0     0     0     0     0    \n",
              "   Dia.D Est.1 Est.2 Est.3\n",
              "70 1     0     0     1    \n",
              "77 1     0     0     1    \n",
              "84 1     0     0     1    \n",
              "91 1     0     0     1    \n",
              "98 1     0     0     1    "
            ]
          },
          "metadata": {}
        }
      ]
    },
    {
      "cell_type": "code",
      "metadata": {
        "trusted": true,
        "id": "nuW7ux65m5aL",
        "colab": {
          "base_uri": "https://localhost:8080/",
          "height": 34
        },
        "outputId": "83484cd5-4b73-4425-9324-cccfa7edb15a"
      },
      "source": [
        "dim(precipitaciones)"
      ],
      "execution_count": null,
      "outputs": [
        {
          "output_type": "display_data",
          "data": {
            "text/html": [
              "<style>\n",
              ".list-inline {list-style: none; margin:0; padding: 0}\n",
              ".list-inline>li {display: inline-block}\n",
              ".list-inline>li:not(:last-child)::after {content: \"\\00b7\"; padding: 0 .5ex}\n",
              "</style>\n",
              "<ol class=list-inline><li>95</li><li>14</li></ol>\n"
            ],
            "text/markdown": "1. 95\n2. 14\n\n\n",
            "text/latex": "\\begin{enumerate*}\n\\item 95\n\\item 14\n\\end{enumerate*}\n",
            "text/plain": [
              "[1] 95 14"
            ]
          },
          "metadata": {}
        }
      ]
    },
    {
      "cell_type": "markdown",
      "metadata": {
        "id": "5fmGF0Qam5aN"
      },
      "source": [
        "## 5.4 Cómo guardar ambiente de trabajo o variables definidas en el\n",
        "\n",
        "### Directorio de trabajo\n",
        "\n",
        "El directorio de trabajo corresponde a la ubicación en el sistema de archivos, desde donde la sesión de R podrá acceder directamente para guardar o cargar datos.\n"
      ]
    },
    {
      "cell_type": "code",
      "metadata": {
        "trusted": true,
        "id": "OfyO5MKOm5aO",
        "outputId": "ac865895-d3f8-4b1f-8993-fa5d1769de0c",
        "colab": {
          "base_uri": "https://localhost:8080/",
          "height": 34
        }
      },
      "source": [
        "# para saber en qué directorio se está trabajando\n",
        "getwd()"
      ],
      "execution_count": 36,
      "outputs": [
        {
          "output_type": "display_data",
          "data": {
            "text/html": [
              "'/content'"
            ],
            "text/markdown": "'/content'",
            "text/latex": "'/content'",
            "text/plain": [
              "[1] \"/content\""
            ]
          },
          "metadata": {}
        }
      ]
    },
    {
      "cell_type": "code",
      "metadata": {
        "trusted": true,
        "id": "fHZIjYhRm5aQ"
      },
      "source": [
        "# para cambiar el directorio de trabajo\n",
        "setwd(\"./sample_data\")\n",
        "\n"
      ],
      "execution_count": 37,
      "outputs": []
    },
    {
      "cell_type": "markdown",
      "metadata": {
        "id": "_M-D6sgRm5aU"
      },
      "source": [
        "### Formato rds \n",
        "\n",
        "Una manera de guardar variables creadas en el ambiente de la sessión de R, es mediante la utilización del formato *.rds. Este formato permite guardar los objetos declarados y leerlos rápidamente en cualquier otra sesión que se inicie posteriormente. Es últil por ejemplo para guardar en disco modelos entrenados para ser utilizados para predicciones futuras.\n"
      ]
    },
    {
      "cell_type": "code",
      "metadata": {
        "trusted": true,
        "id": "11jJ5B50m5aV"
      },
      "source": [
        "# Función saveRDS() # Guardar\n",
        "# guarde en el directorio actual el dataframe _precipitaciones_\n",
        "saveRDS(precipitaciones,\"prep_data.rds\")\n",
        "\n",
        "write.csv(precipitaciones,\"prep_data.csv\")"
      ],
      "execution_count": 39,
      "outputs": []
    },
    {
      "cell_type": "code",
      "metadata": {
        "trusted": true,
        "id": "DixES_Kjm5ah"
      },
      "source": [
        "# readRDS()  Leer, pero ojo que es necesario asignar  a una variable\n",
        "prep2 <- readRDS(\"prep_data.rds\")"
      ],
      "execution_count": 42,
      "outputs": []
    },
    {
      "cell_type": "markdown",
      "metadata": {
        "id": "_4pmC4cBm5as"
      },
      "source": [
        "### Formato RData\n",
        "\n",
        "Cuando se quiere guardar el ambiente de trabajo completo, o bien un mayor número de objetos ya creados, se puede utilizar la función _save_\n"
      ]
    },
    {
      "cell_type": "code",
      "metadata": {
        "trusted": true,
        "id": "M5yFyJ27m5at"
      },
      "source": [
        "# Función save para guardar uno o más objetos del ambiente.\n",
        "save(temp,precipitaciones,dia, file = \"ambiente1.RData\")\n"
      ],
      "execution_count": 43,
      "outputs": []
    },
    {
      "cell_type": "code",
      "metadata": {
        "trusted": true,
        "id": "YDmd1Npmm5ay"
      },
      "source": [
        "# Eventualmente podemos \"cargar \" a sesión, con la función load()\n",
        "load(\"ambiente1.RData\")"
      ],
      "execution_count": 44,
      "outputs": []
    },
    {
      "cell_type": "code",
      "source": [
        ""
      ],
      "metadata": {
        "id": "41853QxxAH2m"
      },
      "execution_count": null,
      "outputs": []
    }
  ]
}